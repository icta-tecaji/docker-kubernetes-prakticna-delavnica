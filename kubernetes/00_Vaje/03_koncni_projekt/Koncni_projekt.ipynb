{
 "cells": [
  {
   "cell_type": "markdown",
   "metadata": {},
   "source": [
    "# Končni projekt"
   ]
  },
  {
   "cell_type": "markdown",
   "metadata": {},
   "source": [
    "Izdelali bomo komplicirano aplikacijo za izračun fibbocacijevega zaporedja. \n",
    "\n",
    "- Multikontejnerska aplikacija\n",
    "- Ni pomembna logika apliakicje"
   ]
  },
  {
   "cell_type": "markdown",
   "metadata": {},
   "source": [
    "## Arhitektura"
   ]
  },
  {
   "cell_type": "markdown",
   "metadata": {},
   "source": [
    "- NGINX, React Server, Express Server, Postgress, Redis, Worker"
   ]
  },
  {
   "cell_type": "markdown",
   "metadata": {},
   "source": [
    "## Komponente"
   ]
  },
  {
   "cell_type": "markdown",
   "metadata": {},
   "source": [
    "### Worker"
   ]
  },
  {
   "cell_type": "markdown",
   "metadata": {},
   "source": [
    "Mapa `worker`"
   ]
  },
  {
   "cell_type": "markdown",
   "metadata": {},
   "source": [
    "- `index.js` -> logika (počasna verzija, da lažje prikažemo obremenitve)\n",
    "- `keys.js` -> preberemo podatke za se povezat na redis\n",
    "- `package.json`"
   ]
  },
  {
   "cell_type": "markdown",
   "metadata": {},
   "source": [
    "#### Dev Dockerfiles"
   ]
  },
  {
   "cell_type": "markdown",
   "metadata": {},
   "source": [
    "- naredimo Dockerfile.dev\n",
    "- Build: `docker build -f Dockerfile.dev .` \n",
    "- Zaženemo: `docker run 8e0aa51ba18a`"
   ]
  },
  {
   "cell_type": "markdown",
   "metadata": {},
   "source": [
    "#### Dockerfiles"
   ]
  },
  {
   "cell_type": "markdown",
   "metadata": {},
   "source": [
    "Dodamo Dockerfile"
   ]
  },
  {
   "cell_type": "code",
   "execution_count": null,
   "metadata": {},
   "outputs": [],
   "source": []
  },
  {
   "cell_type": "code",
   "execution_count": null,
   "metadata": {},
   "outputs": [],
   "source": []
  },
  {
   "cell_type": "markdown",
   "metadata": {},
   "source": [
    "### API Server (Express server)"
   ]
  },
  {
   "cell_type": "markdown",
   "metadata": {},
   "source": [
    "Mapa `server`"
   ]
  },
  {
   "cell_type": "markdown",
   "metadata": {},
   "source": [
    "- `index.js` -> logika\n",
    "    - povezava na redis\n",
    "    - povezava na postgres (shranjuje že vstavljene vrednosti)\n",
    "    - odgovor na API klice\n",
    "- `keys.js` -> preberemo podatke za se povezat na redis, postgres\n",
    "- `package.json`"
   ]
  },
  {
   "cell_type": "markdown",
   "metadata": {},
   "source": [
    "#### Dev Dockerfiles"
   ]
  },
  {
   "cell_type": "markdown",
   "metadata": {},
   "source": [
    "- naredimo Dockerfile.dev\n",
    "- Build: `docker build -f Dockerfile.dev .` \n",
    "- Zaženemo: `docker run 0847fc503335`"
   ]
  },
  {
   "cell_type": "markdown",
   "metadata": {},
   "source": [
    "#### Dockerfiles"
   ]
  },
  {
   "cell_type": "markdown",
   "metadata": {},
   "source": [
    "Dodamo Dockerfile"
   ]
  },
  {
   "cell_type": "code",
   "execution_count": null,
   "metadata": {},
   "outputs": [],
   "source": []
  },
  {
   "cell_type": "code",
   "execution_count": null,
   "metadata": {},
   "outputs": [],
   "source": []
  },
  {
   "cell_type": "code",
   "execution_count": null,
   "metadata": {},
   "outputs": [],
   "source": []
  },
  {
   "cell_type": "markdown",
   "metadata": {},
   "source": [
    "### Frontend (React App)"
   ]
  },
  {
   "cell_type": "markdown",
   "metadata": {},
   "source": [
    "Mapa `client`"
   ]
  },
  {
   "cell_type": "markdown",
   "metadata": {},
   "source": [
    "Frontend za naš projekt"
   ]
  },
  {
   "cell_type": "markdown",
   "metadata": {},
   "source": [
    "#### Dev Dockerfiles"
   ]
  },
  {
   "cell_type": "markdown",
   "metadata": {},
   "source": [
    "- naredimo Dockerfile.dev\n",
    "- Build: `docker build -f Dockerfile.dev .` \n",
    "- Zaženemo: `docker run -p 3000:3000 b88389f464f2`"
   ]
  },
  {
   "cell_type": "markdown",
   "metadata": {},
   "source": [
    "#### Dockerfiles"
   ]
  },
  {
   "cell_type": "markdown",
   "metadata": {},
   "source": [
    "Dodamo Dockerfile"
   ]
  },
  {
   "cell_type": "markdown",
   "metadata": {},
   "source": [
    "    docker build -t leon11sj/multi-client:v1 .\n",
    "    docker push leon11sj/multi-client:v1"
   ]
  },
  {
   "cell_type": "markdown",
   "metadata": {},
   "source": [
    "## docker-compose za vse datoteke"
   ]
  },
  {
   "cell_type": "markdown",
   "metadata": {},
   "source": [
    "Ustvarimo `docker-compose.yml` za lokalni test vseh storitev."
   ]
  },
  {
   "cell_type": "markdown",
   "metadata": {},
   "source": [
    "Dodajamo po vrsti:\n",
    "- postgres\n",
    "- redis\n",
    "- server\n",
    "- worker & client"
   ]
  },
  {
   "cell_type": "markdown",
   "metadata": {},
   "source": [
    "Dodati moramo še NGINX, da bomo lahko dostopali do storitev. -> Določa nam pathe za dostop do določene storitve.\n",
    "- kar se začne `/api/` -> presumerimo na express server\n",
    "- ostalo na react server"
   ]
  },
  {
   "cell_type": "markdown",
   "metadata": {},
   "source": [
    "Nardimo mapo `nginx`\n",
    "- default.conf\n",
    "- Dockerfile.dev\n",
    "- Dockerfile"
   ]
  },
  {
   "cell_type": "markdown",
   "metadata": {},
   "source": [
    "V produkcijski verziji odstranimo del z socketi v nginx config."
   ]
  },
  {
   "cell_type": "markdown",
   "metadata": {},
   "source": [
    "## Kubernetes"
   ]
  },
  {
   "cell_type": "markdown",
   "metadata": {},
   "source": [
    "## CLIENT"
   ]
  },
  {
   "cell_type": "markdown",
   "metadata": {},
   "source": [
    "### client-deployment (DONE)"
   ]
  },
  {
   "cell_type": "markdown",
   "metadata": {},
   "source": [
    "```yml\n",
    "apiVersion: apps/v1\n",
    "kind: Deployment\n",
    "metadata:\n",
    "  name: client-deployment\n",
    "spec:\n",
    "  replicas: 3\n",
    "  selector:\n",
    "    matchLabels:\n",
    "      component: web\n",
    "  template:\n",
    "    metadata:\n",
    "      labels:\n",
    "        component: web\n",
    "    spec:\n",
    "      containers:\n",
    "        - name: client\n",
    "          image: stephengrider/multi-client\n",
    "          ports:\n",
    "            - containerPort: 3000\n",
    "```"
   ]
  },
  {
   "cell_type": "markdown",
   "metadata": {},
   "source": [
    "    kubectl apply -f client-deployment.yaml"
   ]
  },
  {
   "cell_type": "markdown",
   "metadata": {},
   "source": [
    "### client-cluster-ip-service (DONE)"
   ]
  },
  {
   "cell_type": "markdown",
   "metadata": {},
   "source": [
    "```yml\n",
    "apiVersion: v1\n",
    "kind: Service\n",
    "metadata:\n",
    "  name: client-cluster-ip-service\n",
    "spec:\n",
    "  type: NodePort\n",
    "  selector:\n",
    "    component: web\n",
    "  ports:\n",
    "    - port: 3000\n",
    "      targetPort: 3000\n",
    "\n",
    "```"
   ]
  },
  {
   "cell_type": "markdown",
   "metadata": {},
   "source": [
    "    kubectl apply -f client-cluster-ip-service.yaml"
   ]
  },
  {
   "cell_type": "markdown",
   "metadata": {},
   "source": [
    "## REDIS "
   ]
  },
  {
   "cell_type": "markdown",
   "metadata": {},
   "source": [
    "### redis-deployment (DONE)\n",
    "\n"
   ]
  },
  {
   "cell_type": "markdown",
   "metadata": {},
   "source": [
    "```yml\n",
    "apiVersion: apps/v1\n",
    "kind: Deployment\n",
    "metadata:\n",
    "  name: redis-deployment\n",
    "spec:\n",
    "  replicas: 1\n",
    "  selector:\n",
    "    matchLabels:\n",
    "      component: redis\n",
    "  template:\n",
    "    metadata:\n",
    "      labels:\n",
    "        component: redis\n",
    "    spec:\n",
    "      containers:\n",
    "        - name: redis\n",
    "          image: redis\n",
    "          ports:\n",
    "            - containerPort: 6379\n",
    "```"
   ]
  },
  {
   "cell_type": "markdown",
   "metadata": {},
   "source": [
    "    kubectl apply -f redis-deployment.yaml"
   ]
  },
  {
   "cell_type": "markdown",
   "metadata": {},
   "source": [
    "### redis-cluster-ip-service (DONE)"
   ]
  },
  {
   "cell_type": "markdown",
   "metadata": {},
   "source": [
    "```yml\n",
    "apiVersion: v1\n",
    "kind: Service\n",
    "metadata:\n",
    "  name: redis-cluster-ip-service\n",
    "spec:\n",
    "  type: ClusterIP\n",
    "  selector:\n",
    "    component: redis\n",
    "  ports:\n",
    "    - port: 6379\n",
    "      targetPort: 6379\n",
    "\n",
    "```"
   ]
  },
  {
   "cell_type": "markdown",
   "metadata": {},
   "source": [
    "    kubectl apply -f redis-cluster-ip-service.yaml"
   ]
  },
  {
   "cell_type": "markdown",
   "metadata": {},
   "source": [
    "## POSTGRES"
   ]
  },
  {
   "cell_type": "markdown",
   "metadata": {},
   "source": [
    "### database-persistent-volume-claim.yaml (DONE)"
   ]
  },
  {
   "cell_type": "markdown",
   "metadata": {},
   "source": [
    "```yml        \n",
    "apiVersion: v1\n",
    "kind: PersistentVolumeClaim\n",
    "metadata:\n",
    "  name: database-persistent-volume-claim\n",
    "spec:\n",
    "  storageClassName: fast\n",
    "  resources:\n",
    "    requests:\n",
    "      storage: 2Gi\n",
    "  accessModes:\n",
    "    - ReadWriteOnce\n",
    "```"
   ]
  },
  {
   "cell_type": "markdown",
   "metadata": {},
   "source": [
    "    kubectl apply -f database-persistent-volume-claim.yaml"
   ]
  },
  {
   "cell_type": "markdown",
   "metadata": {},
   "source": [
    "### postgres-deployment.yaml (DONE)"
   ]
  },
  {
   "cell_type": "markdown",
   "metadata": {},
   "source": [
    "    kubectl create secret generic pgpassword --from-literal POSTGRES_PASSWORD=test123"
   ]
  },
  {
   "cell_type": "markdown",
   "metadata": {},
   "source": [
    "```yml\n",
    "apiVersion: apps/v1\n",
    "kind: Deployment\n",
    "metadata:\n",
    "  name: postgres-deployment\n",
    "spec:\n",
    "  replicas: 1\n",
    "  selector:\n",
    "    matchLabels:\n",
    "      component: postgres\n",
    "  template:\n",
    "    metadata:\n",
    "      labels:\n",
    "        component: postgres\n",
    "    spec:\n",
    "      volumes:\n",
    "        - name: postgres-storage\n",
    "          persistentVolumeClaim:\n",
    "            claimName: database-persistent-volume-claim\n",
    "      containers:\n",
    "        - name: postgres\n",
    "          image: postgres\n",
    "          ports:\n",
    "            - containerPort: 5432\n",
    "          volumeMounts:\n",
    "            - name: postgres-storage\n",
    "              mountPath: /var/lib/postgresql/data\n",
    "              subPath: postgres\n",
    "          env:\n",
    "            - name: POSTGRES_PASSWORD\n",
    "              valueFrom:\n",
    "                secretKeyRef:\n",
    "                  name: pgpassword\n",
    "                  key: PGPASSWORD\n",
    "```"
   ]
  },
  {
   "cell_type": "markdown",
   "metadata": {},
   "source": [
    "    kubectl apply -f postgres-deployment.yaml"
   ]
  },
  {
   "cell_type": "markdown",
   "metadata": {},
   "source": [
    "### postgres-cluster-ip-service (DONE)"
   ]
  },
  {
   "cell_type": "markdown",
   "metadata": {},
   "source": [
    "```yml\n",
    "apiVersion: v1\n",
    "kind: Service\n",
    "metadata:\n",
    "  name: postgres-cluster-ip-service\n",
    "spec:\n",
    "  type: ClusterIP\n",
    "  selector:\n",
    "    component: postgres\n",
    "  ports:\n",
    "    - port: 5432\n",
    "      targetPort: 5432\n",
    "```"
   ]
  },
  {
   "cell_type": "markdown",
   "metadata": {},
   "source": [
    "    kubectl apply -f postgres-cluster-ip-service.yaml"
   ]
  },
  {
   "cell_type": "markdown",
   "metadata": {},
   "source": [
    "## SERVER"
   ]
  },
  {
   "cell_type": "markdown",
   "metadata": {},
   "source": [
    "### server-deployment (DONE)"
   ]
  },
  {
   "cell_type": "markdown",
   "metadata": {},
   "source": [
    "```yml\n",
    "apiVersion: apps/v1\n",
    "kind: Deployment\n",
    "metadata:\n",
    "  name: server-deployment\n",
    "spec:\n",
    "  replicas: 3\n",
    "  selector:\n",
    "    matchLabels:\n",
    "      component: server\n",
    "  template:\n",
    "    metadata:\n",
    "      labels:\n",
    "        component: server\n",
    "    spec:\n",
    "      containers:\n",
    "        - name: server\n",
    "          image: stephengrider/multi-server\n",
    "          ports:\n",
    "            - containerPort: 5000\n",
    "          env:\n",
    "            - name: REDIS_HOST\n",
    "              value: redis-cluster-ip-service\n",
    "            - name: REDIS_PORT\n",
    "              value: '6379'\n",
    "            - name: PGUSER\n",
    "              value: postgres\n",
    "            - name: PGHOST\n",
    "              value: postgres-cluster-ip-service\n",
    "            - name: PGPORT\n",
    "              value: '5432'\n",
    "            - name: PGDATABASE\n",
    "              value: postgres\n",
    "            - name: PGPASSWORD\n",
    "              valueFrom:\n",
    "                secretKeyRef:\n",
    "                  name: pgpassword\n",
    "                  key: PGPASSWORD\n",
    "                    \n",
    "```"
   ]
  },
  {
   "cell_type": "markdown",
   "metadata": {},
   "source": [
    "    kubectl apply -f server-deployment.yaml"
   ]
  },
  {
   "cell_type": "markdown",
   "metadata": {},
   "source": [
    "### server-cluster-ip-service (DONE)"
   ]
  },
  {
   "cell_type": "markdown",
   "metadata": {},
   "source": [
    "```yml\n",
    "apiVersion: v1\n",
    "kind: Service\n",
    "metadata:\n",
    "  name: server-cluster-ip-service\n",
    "spec:\n",
    "  type: ClusterIP\n",
    "  selector:\n",
    "    component: server\n",
    "  ports:\n",
    "    - port: 5000\n",
    "      targetPort: 5000\n",
    "```"
   ]
  },
  {
   "cell_type": "markdown",
   "metadata": {},
   "source": [
    "    kubectl apply -f server-cluster-ip-service.yaml"
   ]
  },
  {
   "cell_type": "markdown",
   "metadata": {},
   "source": [
    "## WORKER"
   ]
  },
  {
   "cell_type": "markdown",
   "metadata": {},
   "source": [
    "### worker-deployment (DONE)"
   ]
  },
  {
   "cell_type": "markdown",
   "metadata": {},
   "source": [
    "```yml\n",
    "apiVersion: apps/v1\n",
    "kind: Deployment\n",
    "metadata:\n",
    "  name: worker-deployment\n",
    "spec:\n",
    "  replicas: 1\n",
    "  selector:\n",
    "    matchLabels:\n",
    "      component: worker\n",
    "  template:\n",
    "    metadata:\n",
    "      labels:\n",
    "        component: worker\n",
    "    spec:\n",
    "      containers:\n",
    "        - name: worker\n",
    "          image: stephengrider/multi-worker\n",
    "          env:\n",
    "            - name: REDIS_HOST\n",
    "              value: redis-cluster-ip-service\n",
    "            - name: REDIS_PORT\n",
    "              value: '6379'\n",
    "```"
   ]
  },
  {
   "cell_type": "markdown",
   "metadata": {},
   "source": [
    "    kubectl apply -f worker-deployment.yaml"
   ]
  },
  {
   "cell_type": "markdown",
   "metadata": {},
   "source": [
    "## INGRESS"
   ]
  },
  {
   "cell_type": "markdown",
   "metadata": {},
   "source": [
    "```yml\n",
    "apiVersion: extensions/v1beta1\n",
    "kind: Ingress\n",
    "metadata:\n",
    "  name: ingress-service\n",
    "  annotations:\n",
    "    kubernetes.io/ingress.class: alb\n",
    "    alb.ingress.kubernetes.io/scheme: internet-facing\n",
    "spec:\n",
    "  rules:\n",
    "    - http:\n",
    "        paths:\n",
    "          - path: /\n",
    "            backend:\n",
    "              serviceName: client-cluster-ip-service\n",
    "              servicePort: 3000\n",
    "```"
   ]
  },
  {
   "cell_type": "markdown",
   "metadata": {},
   "source": [
    "    kubectl apply -f ingress-service.yaml"
   ]
  },
  {
   "cell_type": "markdown",
   "metadata": {},
   "source": [
    "## TEST"
   ]
  },
  {
   "cell_type": "markdown",
   "metadata": {},
   "source": [
    "    kubectl run -it --rm --restart=Never test --image=ubuntu -- /bin/bash"
   ]
  },
  {
   "cell_type": "markdown",
   "metadata": {},
   "source": [
    "    apt update && apt install curl -y"
   ]
  },
  {
   "cell_type": "markdown",
   "metadata": {},
   "source": [
    "    curl server-cluster-ip-service:5000\n",
    "    curl server-cluster-ip-service:5000/values/current\n",
    "    curl server-cluster-ip-service:5000/values/all\n",
    "    \n",
    "    "
   ]
  },
  {
   "cell_type": "markdown",
   "metadata": {},
   "source": [
    "    curl --header \"Content-Type: application/json\" --request POST --data '{\"index\": 21}' server-cluster-ip-service:5000/values"
   ]
  },
  {
   "cell_type": "markdown",
   "metadata": {},
   "source": [
    "    kubectl exec -it postgres-deployment-7494d7cf55-xnjk6 -- psql -U postgres\n",
    "    "
   ]
  }
 ],
 "metadata": {
  "kernelspec": {
   "display_name": "Python 3",
   "language": "python",
   "name": "python3"
  },
  "language_info": {
   "codemirror_mode": {
    "name": "ipython",
    "version": 3
   },
   "file_extension": ".py",
   "mimetype": "text/x-python",
   "name": "python",
   "nbconvert_exporter": "python",
   "pygments_lexer": "ipython3",
   "version": "3.8.5"
  }
 },
 "nbformat": 4,
 "nbformat_minor": 2
}
