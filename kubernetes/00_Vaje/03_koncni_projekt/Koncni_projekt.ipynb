{
 "cells": [
  {
   "cell_type": "markdown",
   "metadata": {},
   "source": [
    "# Končni projekt"
   ]
  },
  {
   "cell_type": "markdown",
   "metadata": {},
   "source": [
    "Izdelali bomo komplicirano aplikacijo za izračun fibbocacijevega zaporedja. \n",
    "\n",
    "- Multikontejnerska aplikacija\n",
    "- Ni pomembna logika apliakicje"
   ]
  },
  {
   "cell_type": "markdown",
   "metadata": {},
   "source": [
    "## Arhitektura"
   ]
  },
  {
   "cell_type": "markdown",
   "metadata": {},
   "source": [
    "- NGINX, React Server, Express Server, Postgress, Redis, Worker"
   ]
  },
  {
   "cell_type": "markdown",
   "metadata": {},
   "source": [
    "## Komponente"
   ]
  },
  {
   "cell_type": "markdown",
   "metadata": {},
   "source": [
    "### Worker"
   ]
  },
  {
   "cell_type": "markdown",
   "metadata": {},
   "source": [
    "Mapa `worker`"
   ]
  },
  {
   "cell_type": "markdown",
   "metadata": {},
   "source": [
    "- `index.js` -> logika (počasna verzija, da lažje prikažemo obremenitve)\n",
    "- `keys.js` -> preberemo podatke za se povezat na redis\n",
    "- `package.json`"
   ]
  },
  {
   "cell_type": "markdown",
   "metadata": {},
   "source": [
    "#### Dev Dockerfiles"
   ]
  },
  {
   "cell_type": "markdown",
   "metadata": {},
   "source": [
    "- naredimo Dockerfile.dev\n",
    "- Build: `docker build -f Dockerfile.dev .` \n",
    "- Zaženemo: `docker run 8e0aa51ba18a`"
   ]
  },
  {
   "cell_type": "markdown",
   "metadata": {},
   "source": [
    "#### Dockerfiles"
   ]
  },
  {
   "cell_type": "markdown",
   "metadata": {},
   "source": [
    "Dodamo Dockerfile"
   ]
  },
  {
   "cell_type": "code",
   "execution_count": null,
   "metadata": {},
   "outputs": [],
   "source": []
  },
  {
   "cell_type": "code",
   "execution_count": null,
   "metadata": {},
   "outputs": [],
   "source": []
  },
  {
   "cell_type": "markdown",
   "metadata": {},
   "source": [
    "### API Server (Express server)"
   ]
  },
  {
   "cell_type": "markdown",
   "metadata": {},
   "source": [
    "Mapa `server`"
   ]
  },
  {
   "cell_type": "markdown",
   "metadata": {},
   "source": [
    "- `index.js` -> logika\n",
    "    - povezava na redis\n",
    "    - povezava na postgres (shranjuje že vstavljene vrednosti)\n",
    "    - odgovor na API klice\n",
    "- `keys.js` -> preberemo podatke za se povezat na redis, postgres\n",
    "- `package.json`"
   ]
  },
  {
   "cell_type": "markdown",
   "metadata": {},
   "source": [
    "#### Dev Dockerfiles"
   ]
  },
  {
   "cell_type": "markdown",
   "metadata": {},
   "source": [
    "- naredimo Dockerfile.dev\n",
    "- Build: `docker build -f Dockerfile.dev .` \n",
    "- Zaženemo: `docker run 0847fc503335`"
   ]
  },
  {
   "cell_type": "markdown",
   "metadata": {},
   "source": [
    "#### Dockerfiles"
   ]
  },
  {
   "cell_type": "markdown",
   "metadata": {},
   "source": [
    "Dodamo Dockerfile"
   ]
  },
  {
   "cell_type": "code",
   "execution_count": null,
   "metadata": {},
   "outputs": [],
   "source": []
  },
  {
   "cell_type": "code",
   "execution_count": null,
   "metadata": {},
   "outputs": [],
   "source": []
  },
  {
   "cell_type": "code",
   "execution_count": null,
   "metadata": {},
   "outputs": [],
   "source": []
  },
  {
   "cell_type": "markdown",
   "metadata": {},
   "source": [
    "### Frontend (React App)"
   ]
  },
  {
   "cell_type": "markdown",
   "metadata": {},
   "source": [
    "Mapa `client`"
   ]
  },
  {
   "cell_type": "markdown",
   "metadata": {},
   "source": [
    "Frontend za naš projekt"
   ]
  },
  {
   "cell_type": "markdown",
   "metadata": {},
   "source": [
    "#### Dev Dockerfiles"
   ]
  },
  {
   "cell_type": "markdown",
   "metadata": {},
   "source": [
    "- naredimo Dockerfile.dev\n",
    "- Build: `docker build -f Dockerfile.dev .` \n",
    "- Zaženemo: `docker run -p 3000:3000 b88389f464f2`"
   ]
  },
  {
   "cell_type": "markdown",
   "metadata": {},
   "source": [
    "#### Dockerfiles"
   ]
  },
  {
   "cell_type": "markdown",
   "metadata": {},
   "source": [
    "Dodamo Dockerfile"
   ]
  },
  {
   "cell_type": "markdown",
   "metadata": {},
   "source": [
    "    docker build -t leon11sj/multi-client:v1 .\n",
    "    docker push leon11sj/multi-client:v1"
   ]
  },
  {
   "cell_type": "markdown",
   "metadata": {},
   "source": [
    "## docker-compose za vse datoteke"
   ]
  },
  {
   "cell_type": "markdown",
   "metadata": {},
   "source": [
    "Ustvarimo `docker-compose.yml` za lokalni test vseh storitev."
   ]
  },
  {
   "cell_type": "markdown",
   "metadata": {},
   "source": [
    "Dodajamo po vrsti:\n",
    "- postgres\n",
    "- redis\n",
    "- server\n",
    "- worker & client"
   ]
  },
  {
   "cell_type": "markdown",
   "metadata": {},
   "source": [
    "Dodati moramo še NGINX, da bomo lahko dostopali do storitev. -> Določa nam pathe za dostop do določene storitve.\n",
    "- kar se začne `/api/` -> presumerimo na express server\n",
    "- ostalo na react server"
   ]
  },
  {
   "cell_type": "markdown",
   "metadata": {},
   "source": [
    "Nardimo mapo `nginx`\n",
    "- default.conf\n",
    "- Dockerfile.dev\n",
    "- Dockerfile"
   ]
  },
  {
   "cell_type": "markdown",
   "metadata": {},
   "source": [
    "V produkcijski verziji odstranimo del z socketi v nginx config."
   ]
  },
  {
   "cell_type": "markdown",
   "metadata": {},
   "source": [
    "## Kubernetes"
   ]
  },
  {
   "cell_type": "markdown",
   "metadata": {},
   "source": [
    "### client-deployment"
   ]
  },
  {
   "cell_type": "markdown",
   "metadata": {},
   "source": [
    "```yml\n",
    "apiVersion: apps/v1\n",
    "kind: Deployment\n",
    "metadata:\n",
    "  name: client-deployment\n",
    "spec:\n",
    "  replicas: 3\n",
    "  selector:\n",
    "    matchLabels:\n",
    "      component: web\n",
    "  template:\n",
    "    metadata:\n",
    "      labels:\n",
    "        component: web\n",
    "    spec:\n",
    "      containers:\n",
    "        - name: client\n",
    "          image: leon11sj/multi-client:v1\n",
    "          ports:\n",
    "            - containerPort: 3000\n",
    "```"
   ]
  },
  {
   "cell_type": "markdown",
   "metadata": {},
   "source": [
    "    kubectl apply -f client-deployment.yaml"
   ]
  },
  {
   "cell_type": "markdown",
   "metadata": {},
   "source": [
    "### client-cluster-ip-service"
   ]
  },
  {
   "cell_type": "markdown",
   "metadata": {},
   "source": [
    "```yml\n",
    "apiVersion: v1\n",
    "kind: Service\n",
    "metadata:\n",
    "  name: client-cluster-ip-service\n",
    "spec:\n",
    "  type: ClusterIP\n",
    "  selector:\n",
    "    component: web\n",
    "  ports:\n",
    "    - port: 3000\n",
    "      targetPort: 3000\n",
    "\n",
    "```"
   ]
  },
  {
   "cell_type": "markdown",
   "metadata": {},
   "source": [
    "    kubectl apply -f client-cluster-ip-service.yaml"
   ]
  },
  {
   "cell_type": "markdown",
   "metadata": {},
   "source": [
    "### redis-deployment\n",
    "\n"
   ]
  },
  {
   "cell_type": "markdown",
   "metadata": {},
   "source": [
    "```yml\n",
    "apiVersion: apps/v1\n",
    "kind: Deployment\n",
    "metadata:\n",
    "  name: redis-deployment\n",
    "spec:\n",
    "  replicas: 1\n",
    "  selector:\n",
    "    matchLabels:\n",
    "      component: redis\n",
    "  template:\n",
    "    metadata:\n",
    "      labels:\n",
    "        component: redis\n",
    "    spec:\n",
    "      containers:\n",
    "        - name: redis\n",
    "          image: redis\n",
    "          ports:\n",
    "            - containerPort: 6379\n",
    "```"
   ]
  },
  {
   "cell_type": "markdown",
   "metadata": {},
   "source": [
    "    kubectl apply -f redis-deployment.yaml"
   ]
  },
  {
   "cell_type": "markdown",
   "metadata": {},
   "source": [
    "### redis-cluster-ip-service"
   ]
  },
  {
   "cell_type": "markdown",
   "metadata": {},
   "source": [
    "```yml\n",
    "apiVersion: v1\n",
    "kind: Service\n",
    "metadata:\n",
    "  name: redis-cluster-ip-service\n",
    "spec:\n",
    "  type: ClusterIP\n",
    "  selector:\n",
    "    component: redis\n",
    "  ports:\n",
    "    - port: 6379\n",
    "      targetPort: 6379\n",
    "\n",
    "```"
   ]
  },
  {
   "cell_type": "markdown",
   "metadata": {},
   "source": [
    "    kubectl apply -f redis-cluster-ip-service.yaml"
   ]
  },
  {
   "cell_type": "code",
   "execution_count": null,
   "metadata": {},
   "outputs": [],
   "source": []
  },
  {
   "cell_type": "code",
   "execution_count": null,
   "metadata": {},
   "outputs": [],
   "source": []
  },
  {
   "cell_type": "code",
   "execution_count": null,
   "metadata": {},
   "outputs": [],
   "source": [
    "pvc"
   ]
  },
  {
   "cell_type": "code",
   "execution_count": null,
   "metadata": {},
   "outputs": [],
   "source": []
  },
  {
   "cell_type": "code",
   "execution_count": null,
   "metadata": {},
   "outputs": [],
   "source": [
    "secret"
   ]
  },
  {
   "cell_type": "code",
   "execution_count": null,
   "metadata": {},
   "outputs": [],
   "source": []
  },
  {
   "cell_type": "markdown",
   "metadata": {},
   "source": [
    "### postgres-deployment.yaml"
   ]
  },
  {
   "cell_type": "markdown",
   "metadata": {},
   "source": [
    "```yml\n",
    "apiVersion: apps/v1\n",
    "kind: Deployment\n",
    "metadata:\n",
    "  name: postgres-deployment\n",
    "spec:\n",
    "  replicas: 1\n",
    "  selector:\n",
    "    matchLabels:\n",
    "      component: postgres\n",
    "  template:\n",
    "    metadata:\n",
    "      labels:\n",
    "        component: postgres\n",
    "    spec:\n",
    "      volumes:\n",
    "        - name: postgres-storage\n",
    "          persistentVolumeClaim:\n",
    "            claimName: database-persistent-volume-claim\n",
    "      containers:\n",
    "        - name: postgres\n",
    "          image: postgres\n",
    "          ports:\n",
    "            - containerPort: 5432\n",
    "          volumeMounts:\n",
    "            - name: postgres-storage\n",
    "              mountPath: /var/lib/postgresql/data\n",
    "              subPath: postgres\n",
    "          env:\n",
    "            - name: PGPASSWORD\n",
    "              valueFrom:\n",
    "                secretKeyRef:\n",
    "                  name: pgpassword\n",
    "                  key: PGPASSWORD\n",
    "```"
   ]
  },
  {
   "cell_type": "code",
   "execution_count": null,
   "metadata": {},
   "outputs": [],
   "source": []
  },
  {
   "cell_type": "code",
   "execution_count": null,
   "metadata": {},
   "outputs": [],
   "source": []
  },
  {
   "cell_type": "markdown",
   "metadata": {},
   "source": [
    "### postgres-cluster-ip-service"
   ]
  },
  {
   "cell_type": "markdown",
   "metadata": {},
   "source": [
    "```yml\n",
    "apiVersion: v1\n",
    "kind: Service\n",
    "metadata:\n",
    "  name: postgres-cluster-ip-service\n",
    "spec:\n",
    "  type: ClusterIP\n",
    "  selector:\n",
    "    component: postgres\n",
    "  ports:\n",
    "    - port: 5432\n",
    "      targetPort: 5432\n",
    "```"
   ]
  },
  {
   "cell_type": "code",
   "execution_count": null,
   "metadata": {},
   "outputs": [],
   "source": []
  },
  {
   "cell_type": "code",
   "execution_count": null,
   "metadata": {},
   "outputs": [],
   "source": []
  },
  {
   "cell_type": "code",
   "execution_count": null,
   "metadata": {},
   "outputs": [],
   "source": []
  },
  {
   "cell_type": "code",
   "execution_count": null,
   "metadata": {},
   "outputs": [],
   "source": []
  },
  {
   "cell_type": "markdown",
   "metadata": {},
   "source": [
    "### server-deployment"
   ]
  },
  {
   "cell_type": "markdown",
   "metadata": {},
   "source": [
    "```yml\n",
    "apiVersion: apps/v1\n",
    "kind: Deployment\n",
    "metadata:\n",
    "  name: server-deployment\n",
    "spec:\n",
    "  replicas: 3\n",
    "  selector:\n",
    "    matchLabels:\n",
    "      component: server\n",
    "  template:\n",
    "    metadata:\n",
    "      labels:\n",
    "        component: server\n",
    "    spec:\n",
    "      containers:\n",
    "        - name: server\n",
    "          image: stephengrider/multi-server\n",
    "          ports:\n",
    "            - containerPort: 5000\n",
    "          env:\n",
    "            - name: REDIS_HOST\n",
    "              value: redis-cluster-ip-service\n",
    "            - name: REDIS_PORT\n",
    "              value: '6379'\n",
    "            - name: PGUSER\n",
    "              value: postgres\n",
    "            - name: PGHOST\n",
    "              value: postgres-cluster-ip-service\n",
    "            - name: PGPORT\n",
    "              value: '5432'\n",
    "            - name: PGDATABASE\n",
    "              value: postgres\n",
    "            - name: PGPASSWORD\n",
    "              valueFrom:\n",
    "                secretKeyRef:\n",
    "                  name: pgpassword\n",
    "                  key: PGPASSWORD\n",
    "                    \n",
    "```"
   ]
  },
  {
   "cell_type": "code",
   "execution_count": null,
   "metadata": {},
   "outputs": [],
   "source": []
  },
  {
   "cell_type": "code",
   "execution_count": null,
   "metadata": {},
   "outputs": [],
   "source": []
  },
  {
   "cell_type": "code",
   "execution_count": null,
   "metadata": {},
   "outputs": [],
   "source": []
  },
  {
   "cell_type": "code",
   "execution_count": null,
   "metadata": {},
   "outputs": [],
   "source": []
  },
  {
   "cell_type": "markdown",
   "metadata": {},
   "source": [
    "### server-cluster-ip-service"
   ]
  },
  {
   "cell_type": "markdown",
   "metadata": {},
   "source": [
    "```yml\n",
    "apiVersion: v1\n",
    "kind: Service\n",
    "metadata:\n",
    "  name: server-cluster-ip-service\n",
    "spec:\n",
    "  type: ClusterIP\n",
    "  selector:\n",
    "    component: server\n",
    "  ports:\n",
    "    - port: 5000\n",
    "      targetPort: 5000\n",
    "```"
   ]
  },
  {
   "cell_type": "code",
   "execution_count": null,
   "metadata": {},
   "outputs": [],
   "source": []
  },
  {
   "cell_type": "markdown",
   "metadata": {},
   "source": [
    "### worker-deployment"
   ]
  },
  {
   "cell_type": "markdown",
   "metadata": {},
   "source": [
    "```yml\n",
    "apiVersion: apps/v1\n",
    "kind: Deployment\n",
    "metadata:\n",
    "  name: worker-deployment\n",
    "spec:\n",
    "  replicas: 1\n",
    "  selector:\n",
    "    matchLabels:\n",
    "      component: worker\n",
    "  template:\n",
    "    metadata:\n",
    "      labels:\n",
    "        component: worker\n",
    "    spec:\n",
    "      containers:\n",
    "        - name: worker\n",
    "          image: stephengrider/multi-worker\n",
    "          env:\n",
    "            - name: REDIS_HOST\n",
    "              value: redis-cluster-ip-service\n",
    "            - name: REDIS_PORT\n",
    "              value: '6379'\n",
    "```"
   ]
  },
  {
   "cell_type": "code",
   "execution_count": null,
   "metadata": {},
   "outputs": [],
   "source": []
  },
  {
   "cell_type": "code",
   "execution_count": null,
   "metadata": {},
   "outputs": [],
   "source": []
  },
  {
   "cell_type": "code",
   "execution_count": null,
   "metadata": {},
   "outputs": [],
   "source": []
  },
  {
   "cell_type": "code",
   "execution_count": null,
   "metadata": {},
   "outputs": [],
   "source": []
  },
  {
   "cell_type": "code",
   "execution_count": null,
   "metadata": {},
   "outputs": [],
   "source": []
  },
  {
   "cell_type": "code",
   "execution_count": null,
   "metadata": {},
   "outputs": [],
   "source": []
  },
  {
   "cell_type": "code",
   "execution_count": null,
   "metadata": {},
   "outputs": [],
   "source": []
  },
  {
   "cell_type": "code",
   "execution_count": null,
   "metadata": {},
   "outputs": [],
   "source": []
  },
  {
   "cell_type": "code",
   "execution_count": null,
   "metadata": {},
   "outputs": [],
   "source": []
  },
  {
   "cell_type": "code",
   "execution_count": null,
   "metadata": {},
   "outputs": [],
   "source": []
  },
  {
   "cell_type": "code",
   "execution_count": null,
   "metadata": {},
   "outputs": [],
   "source": []
  }
 ],
 "metadata": {
  "kernelspec": {
   "display_name": "Python 3",
   "language": "python",
   "name": "python3"
  },
  "language_info": {
   "codemirror_mode": {
    "name": "ipython",
    "version": 3
   },
   "file_extension": ".py",
   "mimetype": "text/x-python",
   "name": "python",
   "nbconvert_exporter": "python",
   "pygments_lexer": "ipython3",
   "version": "3.8.5"
  }
 },
 "nbformat": 4,
 "nbformat_minor": 2
}
