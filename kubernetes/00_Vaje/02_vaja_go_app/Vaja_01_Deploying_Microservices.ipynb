{
 "cells": [
  {
   "cell_type": "markdown",
   "metadata": {},
   "source": [
    "# Vaja 2: Go App"
   ]
  },
  {
   "cell_type": "markdown",
   "metadata": {},
   "source": [
    "- včasih velike aplikacije v enem kosu, veliko časa potrebnega za release\n",
    "- zdaj pa želimo imeti aplikacije na več neodvisnih manjših koščkov in hitre release\n",
    "- miscroservices -> hitrejši razvoj\n",
    "- kako se je spreminjalo od zgodovine do danes"
   ]
  },
  {
   "cell_type": "markdown",
   "metadata": {},
   "source": [
    "## Priprava"
   ]
  },
  {
   "cell_type": "markdown",
   "metadata": {},
   "source": [
    "Prenesemo gradiva z Git-a in se premaknemo v mapo `02_vaja_go_app`"
   ]
  },
  {
   "cell_type": "markdown",
   "metadata": {},
   "source": [
    "## Del 1:  Primer monolitske aplikacije"
   ]
  },
  {
   "cell_type": "markdown",
   "metadata": {},
   "source": [
    "Se premaknemo v mapo `part01_monolith/monolith`"
   ]
  },
  {
   "cell_type": "markdown",
   "metadata": {},
   "source": [
    "    cd part01_monolith/\n",
    "\n",
    "Pogledamo `monolith/main.go`"
   ]
  },
  {
   "cell_type": "markdown",
   "metadata": {},
   "source": [
    "Run the monolith container and get it's IP:\n",
    "\n",
    "    CID=$(docker run -d leon11sj/icta-monolith:v1)\n",
    "    echo $CID"
   ]
  },
  {
   "cell_type": "markdown",
   "metadata": {},
   "source": [
    "    docker ps\n",
    "\n"
   ]
  },
  {
   "cell_type": "markdown",
   "metadata": {},
   "source": [
    "List the monolith image:\n",
    "\n",
    "    docker images leon11sj/icta-monolith:v1\n",
    "\n"
   ]
  },
  {
   "cell_type": "markdown",
   "metadata": {},
   "source": [
    "    docker inspect $CID"
   ]
  },
  {
   "cell_type": "markdown",
   "metadata": {},
   "source": [
    "    CIP=$(docker inspect --format '{{ .NetworkSettings.IPAddress }}' ${CID})\n",
    "    echo $CIP"
   ]
  },
  {
   "cell_type": "markdown",
   "metadata": {},
   "source": [
    "Test the container\n",
    "    \n",
    "    curl $CIP"
   ]
  },
  {
   "cell_type": "markdown",
   "metadata": {},
   "source": [
    "**Prikaz delovanja**"
   ]
  },
  {
   "cell_type": "markdown",
   "metadata": {},
   "source": [
    "Verzija:\n",
    "\n",
    "    curl $CIP/version"
   ]
  },
  {
   "cell_type": "markdown",
   "metadata": {},
   "source": [
    "Testiramo secure:"
   ]
  },
  {
   "cell_type": "markdown",
   "metadata": {},
   "source": [
    "    curl $CIP/secure"
   ]
  },
  {
   "cell_type": "markdown",
   "metadata": {},
   "source": [
    "Authenticate (password is password):\n",
    "    \n",
    "    curl $CIP/login -u user"
   ]
  },
  {
   "cell_type": "markdown",
   "metadata": {},
   "source": [
    "It prints out the token.\n",
    "\n",
    "You can copy and paste the long token in to the next command manually, but copying long, wrapped lines in cloud shell is broken. To work around this, you can either copy the JWT token in pieces, or - more easily - by assigning the token to a shell variable as follows"
   ]
  },
  {
   "cell_type": "markdown",
   "metadata": {},
   "source": [
    "> `sudo apt  install jq` v primeru da ni nameščeno"
   ]
  },
  {
   "cell_type": "markdown",
   "metadata": {},
   "source": [
    "    TOKEN=$(curl $CIP/login -u user | jq -r '.token')\n",
    "    echo $TOKEN"
   ]
  },
  {
   "cell_type": "markdown",
   "metadata": {},
   "source": [
    "Access the secure endpoint using the JWT:\n",
    "    \n",
    "    curl -H \"Authorization: Bearer $TOKEN\" $CIP/secure"
   ]
  },
  {
   "cell_type": "markdown",
   "metadata": {},
   "source": [
    "**Dodajanje slike na lasten DockerHub**"
   ]
  },
  {
   "cell_type": "markdown",
   "metadata": {},
   "source": [
    "Add your own tag:\n",
    "\n",
    "    docker tag leon11sj/icta-monolith:v1 <your username>/icta-monolith:v1\n",
    "    sudo docker login\n",
    "    sudo docker push <your username>/icta-monolith:v1"
   ]
  },
  {
   "cell_type": "markdown",
   "metadata": {},
   "source": [
    "**Pospravljanje**"
   ]
  },
  {
   "cell_type": "markdown",
   "metadata": {},
   "source": [
    "Ugasnemo kontejner in zbrišemo:\n",
    "\n",
    "    docker rm -f $CID\n",
    "    docker image rm leon11sj/icta-monolith:v1"
   ]
  },
  {
   "cell_type": "markdown",
   "metadata": {},
   "source": [
    "### Namestitev na Kubernetes"
   ]
  },
  {
   "cell_type": "markdown",
   "metadata": {},
   "source": [
    "```yml\n",
    "apiVersion: apps/v1\n",
    "kind: Deployment\n",
    "metadata:\n",
    "  name: monolith\n",
    "  labels:\n",
    "    app: monolith\n",
    "spec:\n",
    "  replicas: 2\n",
    "  selector:\n",
    "    matchLabels:\n",
    "      app: monolith\n",
    "  template:\n",
    "    metadata:\n",
    "      labels:\n",
    "        app: monolith\n",
    "    spec:  \n",
    "      containers:\n",
    "        - name: monolith\n",
    "          image: leon11sj/icta-monolith:v1\n",
    "          args:\n",
    "            - \"-http=0.0.0.0:80\"\n",
    "            - \"-health=0.0.0.0:81\"\n",
    "            - \"-secret=secret\"\n",
    "          ports:\n",
    "            - name: http\n",
    "              containerPort: 80\n",
    "            - name: health\n",
    "              containerPort: 81\n",
    "          resources:\n",
    "            limits:\n",
    "              cpu: 0.2\n",
    "              memory: \"10Mi\"\n",
    "          livenessProbe:\n",
    "            httpGet:\n",
    "              path: /healthz\n",
    "              port: 81\n",
    "              scheme: HTTP\n",
    "            initialDelaySeconds: 5\n",
    "            periodSeconds: 15\n",
    "            timeoutSeconds: 5\n",
    "          readinessProbe:\n",
    "            httpGet:\n",
    "              path: /readiness\n",
    "              port: 81\n",
    "              scheme: HTTP\n",
    "            initialDelaySeconds: 5\n",
    "            timeoutSeconds: 1\n",
    "                \n",
    "                ```"
   ]
  },
  {
   "cell_type": "markdown",
   "metadata": {},
   "source": [
    "Namestimo monolith aplikacijo:    \n",
    "    \n",
    "    kubectl apply -f kubernetes/monolith-deployment.yaml"
   ]
  },
  {
   "cell_type": "markdown",
   "metadata": {},
   "source": [
    "    kubectl get pods\n",
    "    kubectl get deployments monolith\n",
    "    kubectl describe deployments monolith"
   ]
  },
  {
   "cell_type": "markdown",
   "metadata": {},
   "source": [
    "#### Preverimo delovanje"
   ]
  },
  {
   "cell_type": "markdown",
   "metadata": {},
   "source": [
    "**Cloud shell 1: set up port-forwarding**\n",
    "\n",
    "    kubectl port-forward <POD_NAME> 8080:80\n",
    "\n",
    "**Open new Cloud Shell session 2**\n",
    "\n",
    "    curl http://127.0.0.1:8080\n",
    "\n",
    "    curl http://127.0.0.1:8080/secure\n",
    "\n",
    "**Cloud shell 2 - log in**\n",
    "\n",
    "    curl -u user http://127.0.0.1:8080/login\n",
    "\n",
    "    curl -H \"Authorization: Bearer <token>\" http://127.0.0.1:8080/secure\n",
    "\n",
    "**View logs**\n",
    "\n",
    "    kubectl logs <POD_NAME>\n",
    "    kubectl logs -f <POD_NAME>\n"
   ]
  },
  {
   "cell_type": "markdown",
   "metadata": {},
   "source": [
    "### Dodamo LoadBalancer"
   ]
  },
  {
   "cell_type": "markdown",
   "metadata": {},
   "source": [
    "```yml\n",
    "apiVersion: v1\n",
    "kind: Service\n",
    "metadata:\n",
    "  name: monolith\n",
    "spec:\n",
    "  type: LoadBalancer\n",
    "  selector:\n",
    "    app: monolith\n",
    "  ports:\n",
    "  - port: 80\n",
    "    targetPort: 80\n",
    "\n",
    "```"
   ]
  },
  {
   "cell_type": "markdown",
   "metadata": {},
   "source": [
    "    kubectl apply -f kubernetes/monolith-service.yml\n",
    "    kubectl get svc"
   ]
  },
  {
   "cell_type": "markdown",
   "metadata": {},
   "source": [
    "#### Preverimo delovanje"
   ]
  },
  {
   "cell_type": "markdown",
   "metadata": {},
   "source": [
    "    curl http://35.246.197.19"
   ]
  },
  {
   "cell_type": "markdown",
   "metadata": {},
   "source": [
    "### Odstranimo vse"
   ]
  },
  {
   "cell_type": "markdown",
   "metadata": {},
   "source": [
    "    kubectl delete svc monolith\n",
    "    kubectl delete deployment monolith"
   ]
  },
  {
   "cell_type": "markdown",
   "metadata": {},
   "source": [
    "## Primer mikrostoritvene aplikacije"
   ]
  },
  {
   "cell_type": "markdown",
   "metadata": {},
   "source": [
    "Glavne prednosti:\n",
    "- modularne\n",
    "- enostaven deploy\n",
    "- samostojna skalabilnost"
   ]
  },
  {
   "cell_type": "markdown",
   "metadata": {},
   "source": [
    "### Ustvarimo konfiguracijo"
   ]
  },
  {
   "cell_type": "markdown",
   "metadata": {},
   "source": [
    "Next we need to create a configmap entry for the proxy.conf nginx configuration file using the kubectl create configmap command:\n",
    "\n",
    "    kubectl create configmap nginx-conf --from-file=conf/frontend.conf\n",
    "\n",
    "Use the kubectl describe configmap command to get more details about the nginx-proxy-conf configmap entry:\n",
    "\n",
    "    kubectl describe configmap nginx-conf\n"
   ]
  },
  {
   "cell_type": "markdown",
   "metadata": {},
   "source": [
    "### Namestimo deployments"
   ]
  },
  {
   "cell_type": "markdown",
   "metadata": {},
   "source": [
    "    kubectl apply -f kubernetes/deployments/hello.yaml\n",
    "    kubectl apply -f kubernetes/deployments/auth.yaml\n",
    "\n",
    "Namestimo services:"
   ]
  },
  {
   "cell_type": "markdown",
   "metadata": {},
   "source": [
    "    kubectl apply -f kubernetes/services/auth.yaml\n",
    "    kubectl apply -f kubernetes/services/hello.yaml"
   ]
  },
  {
   "cell_type": "markdown",
   "metadata": {},
   "source": [
    "Namestimo NGINX:"
   ]
  },
  {
   "cell_type": "markdown",
   "metadata": {},
   "source": [
    "    kubectl apply -f kubernetes/deployments/frontend.yaml"
   ]
  },
  {
   "cell_type": "markdown",
   "metadata": {},
   "source": [
    "Namestimo LoadBlanacer:"
   ]
  },
  {
   "cell_type": "markdown",
   "metadata": {},
   "source": [
    "    kubectl apply -f kubernetes/services/frontend.yaml"
   ]
  },
  {
   "cell_type": "markdown",
   "metadata": {},
   "source": [
    "**Preverimo delovanje**"
   ]
  },
  {
   "cell_type": "markdown",
   "metadata": {},
   "source": [
    "    kubectl get svc\n",
    "    export CIP=35.246.197.19\n",
    "    echo $CIP\n",
    "    \n",
    "\n"
   ]
  },
  {
   "cell_type": "markdown",
   "metadata": {},
   "source": [
    "```bash\n",
    "curl $CIP/version\n",
    "curl $CIP/secure\n",
    "TOKEN=$(curl $CIP/login -u user | jq -r '.token')\n",
    "echo $TOKEN    \n",
    "curl -H \"Authorization: Bearer $TOKEN\" $CIP/secure\n",
    "    \n",
    "```"
   ]
  },
  {
   "cell_type": "markdown",
   "metadata": {},
   "source": [
    "**Odstranimo vse**"
   ]
  },
  {
   "cell_type": "markdown",
   "metadata": {},
   "source": [
    "    kubectl delete svc frontend\n",
    "    kubectl delete svc auth\n",
    "    kubectl delete svc hello\n",
    "    \n",
    "    kubectl delete deployments frontend auth hello\n",
    "    \n",
    "    kubectl delete configmaps nginx-conf"
   ]
  }
 ],
 "metadata": {
  "kernelspec": {
   "display_name": "Python 3",
   "language": "python",
   "name": "python3"
  },
  "language_info": {
   "codemirror_mode": {
    "name": "ipython",
    "version": 3
   },
   "file_extension": ".py",
   "mimetype": "text/x-python",
   "name": "python",
   "nbconvert_exporter": "python",
   "pygments_lexer": "ipython3",
   "version": "3.7.3"
  }
 },
 "nbformat": 4,
 "nbformat_minor": 2
}
