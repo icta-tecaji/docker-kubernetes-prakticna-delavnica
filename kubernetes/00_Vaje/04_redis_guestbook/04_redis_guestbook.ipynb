{
 "cells": [
  {
   "cell_type": "markdown",
   "metadata": {},
   "source": [
    "# Example: Deploying PHP Guestbook application with Redis"
   ]
  },
  {
   "cell_type": "markdown",
   "metadata": {},
   "source": [
    "https://kubernetes.io/docs/tutorials/stateless-application/guestbook/"
   ]
  },
  {
   "cell_type": "markdown",
   "metadata": {},
   "source": [
    "This tutorial shows you how to build and deploy a simple, multi-tier web application using Kubernetes and Docker. This example consists of the following components:\n",
    "- A single-instance Redis master to store guestbook entries\n",
    "- Multiple replicated Redis instances to serve reads\n",
    "- Multiple web frontend instances"
   ]
  },
  {
   "cell_type": "markdown",
   "metadata": {},
   "source": [
    "## Start up the Redis Master "
   ]
  },
  {
   "cell_type": "markdown",
   "metadata": {},
   "source": [
    "The guestbook application uses Redis to store its data. It writes its data to a Redis master instance and reads data from multiple Redis slave instances.\n",
    "\n",
    "### Creating the Redis Master Deployment\n",
    "\n",
    "The manifest file, included below, specifies a Deployment controller that runs a single replica Redis master Pod."
   ]
  },
  {
   "cell_type": "markdown",
   "metadata": {},
   "source": [
    "`redis-master-deployment.yaml`"
   ]
  },
  {
   "cell_type": "markdown",
   "metadata": {},
   "source": [
    "```yml\n",
    "apiVersion: apps/v1\n",
    "kind: Deployment\n",
    "metadata:\n",
    "  name: redis-master\n",
    "  labels:\n",
    "    app: redis\n",
    "spec:\n",
    "  selector:\n",
    "    matchLabels:\n",
    "      app: redis\n",
    "      role: master\n",
    "      tier: backend\n",
    "  replicas: 1\n",
    "  template:\n",
    "    metadata:\n",
    "      labels:\n",
    "        app: redis\n",
    "        role: master\n",
    "        tier: backend\n",
    "    spec:\n",
    "      containers:\n",
    "      - name: master\n",
    "        image: redis\n",
    "        resources:\n",
    "          requests:\n",
    "            cpu: 100m\n",
    "            memory: 100Mi\n",
    "        ports:\n",
    "        - containerPort: 6379\n",
    "```"
   ]
  },
  {
   "cell_type": "markdown",
   "metadata": {},
   "source": [
    "Launch a terminal window in the directory you downloaded the manifest files.\n",
    "\n",
    "Apply the Redis Master Deployment from the redis-master-deployment.yaml file:\n",
    "\n",
    "    kubectl apply -f redis-master-deployment.yaml\n",
    "\n",
    "Query the list of Pods to verify that the Redis Master Pod is running:\n",
    "\n",
    "    kubectl get pods\n",
    "    \n",
    "The response should be similar to this:\n",
    "\n",
    "    NAME                            READY     STATUS    RESTARTS   AGE\n",
    "    redis-master-1068406935-3lswp   1/1       Running   0          28s\n",
    "\n",
    "Run the following command to view the logs from the Redis Master Pod:\n",
    "\n",
    "    kubectl logs -f POD-NAME\n",
    "    \n",
    "> Note: Replace POD-NAME with the name of your Pod."
   ]
  },
  {
   "cell_type": "markdown",
   "metadata": {},
   "source": [
    "### Creating the Redis Master Service"
   ]
  },
  {
   "cell_type": "markdown",
   "metadata": {},
   "source": [
    "The guestbook application needs to communicate to the Redis master to write its data. You need to apply a Service to proxy the traffic to the Redis master Pod. A Service defines a policy to access the Pods."
   ]
  },
  {
   "cell_type": "markdown",
   "metadata": {},
   "source": [
    "```yml\n",
    "apiVersion: v1\n",
    "kind: Service\n",
    "metadata:\n",
    "  name: redis-master\n",
    "  labels:\n",
    "    app: redis\n",
    "    role: master\n",
    "    tier: backend\n",
    "spec:\n",
    "  ports:\n",
    "  - port: 6379\n",
    "    targetPort: 6379\n",
    "  selector:\n",
    "    app: redis\n",
    "    role: master\n",
    "    tier: backend\n",
    "```"
   ]
  },
  {
   "cell_type": "markdown",
   "metadata": {},
   "source": [
    "Apply the Redis Master Service from the following redis-master-service.yaml file:"
   ]
  },
  {
   "cell_type": "markdown",
   "metadata": {},
   "source": [
    "    kubectl apply -f redis-master-service.yaml"
   ]
  },
  {
   "cell_type": "markdown",
   "metadata": {},
   "source": [
    "Query the list of Services to verify that the Redis Master Service is running:"
   ]
  },
  {
   "cell_type": "markdown",
   "metadata": {},
   "source": [
    "    kubectl get service"
   ]
  },
  {
   "cell_type": "markdown",
   "metadata": {},
   "source": [
    "> Note: This manifest file creates a Service named redis-master with a set of labels that match the labels previously defined, so the Service routes network traffic to the Redis master Pod."
   ]
  },
  {
   "cell_type": "markdown",
   "metadata": {},
   "source": [
    "## Start up the Redis Slaves "
   ]
  },
  {
   "cell_type": "markdown",
   "metadata": {},
   "source": [
    "Although the Redis master is a single pod, you can make it highly available to meet traffic demands by adding replica Redis slaves."
   ]
  },
  {
   "cell_type": "markdown",
   "metadata": {},
   "source": [
    "### Creating the Redis Slave Deployment\n",
    "\n",
    "Deployments scale based off of the configurations set in the manifest file. In this case, the Deployment object specifies two replicas.\n",
    "\n",
    "If there are not any replicas running, this Deployment would start the two replicas on your container cluster. Conversely, if there are more than two replicas running, it would scale down until two replicas are running."
   ]
  },
  {
   "cell_type": "markdown",
   "metadata": {},
   "source": [
    "```yml\n",
    "apiVersion: apps/v1 \n",
    "kind: Deployment\n",
    "metadata:\n",
    "  name: redis-slave\n",
    "  labels:\n",
    "    app: redis\n",
    "spec:\n",
    "  selector:\n",
    "    matchLabels:\n",
    "      app: redis\n",
    "      role: slave\n",
    "      tier: backend\n",
    "  replicas: 2\n",
    "  template:\n",
    "    metadata:\n",
    "      labels:\n",
    "        app: redis\n",
    "        role: slave\n",
    "        tier: backend\n",
    "    spec:\n",
    "      containers:\n",
    "      - name: slave\n",
    "        image: gcr.io/google_samples/gb-redisslave:v3\n",
    "        resources:\n",
    "          requests:\n",
    "            cpu: 100m\n",
    "            memory: 100Mi\n",
    "        env:\n",
    "        - name: GET_HOSTS_FROM\n",
    "          value: dns\n",
    "          # Using `GET_HOSTS_FROM=dns` requires your cluster to\n",
    "          # provide a dns service. As of Kubernetes 1.3, DNS is a built-in\n",
    "          # service launched automatically. However, if the cluster you are using\n",
    "          # does not have a built-in DNS service, you can instead\n",
    "          # access an environment variable to find the master\n",
    "          # service's host. To do so, comment out the 'value: dns' line above, and\n",
    "          # uncomment the line below:\n",
    "          # value: env\n",
    "        ports:\n",
    "        - containerPort: 6379\n",
    "\n",
    "```"
   ]
  },
  {
   "cell_type": "markdown",
   "metadata": {},
   "source": [
    "Apply the Redis Slave Deployment from the redis-slave-deployment.yaml file:\n",
    "\n",
    "\n",
    "    kubectl apply -f redis-slave-deployment.yaml\n",
    "\n",
    "Query the list of Pods to verify that the Redis Slave Pods are running:\n",
    "\n",
    "    kubectl get pods"
   ]
  },
  {
   "cell_type": "markdown",
   "metadata": {},
   "source": [
    "### Creating the Redis Slave Service"
   ]
  },
  {
   "cell_type": "markdown",
   "metadata": {},
   "source": [
    "The guestbook application needs to communicate to Redis slaves to read data. To make the Redis slaves discoverable, you need to set up a Service. A Service provides transparent load balancing to a set of Pods."
   ]
  },
  {
   "cell_type": "markdown",
   "metadata": {},
   "source": [
    "```yml\n",
    "apiVersion: v1\n",
    "kind: Service\n",
    "metadata:\n",
    "  name: redis-slave\n",
    "  labels:\n",
    "    app: redis\n",
    "    role: slave\n",
    "    tier: backend\n",
    "spec:\n",
    "  ports:\n",
    "  - port: 6379\n",
    "  selector:\n",
    "    app: redis\n",
    "    role: slave\n",
    "    tier: backend\n",
    "```"
   ]
  },
  {
   "cell_type": "markdown",
   "metadata": {},
   "source": [
    "Apply the Redis Slave Service from the following redis-slave-service.yaml file:"
   ]
  },
  {
   "cell_type": "markdown",
   "metadata": {},
   "source": [
    "    kubectl apply -f redis-slave-service.yaml"
   ]
  },
  {
   "cell_type": "markdown",
   "metadata": {},
   "source": [
    "Query the list of Services to verify that the Redis slave service is running:\n",
    "\n",
    "    kubectl get services"
   ]
  },
  {
   "cell_type": "markdown",
   "metadata": {},
   "source": [
    "## Set up and Expose the Guestbook Frontend"
   ]
  },
  {
   "cell_type": "markdown",
   "metadata": {},
   "source": [
    "The guestbook application has a web frontend serving the HTTP requests written in PHP. It is configured to connect to the redis-master Service for write requests and the redis-slave service for Read requests."
   ]
  },
  {
   "cell_type": "markdown",
   "metadata": {},
   "source": [
    "### Creating the Guestbook Frontend Deployment"
   ]
  },
  {
   "cell_type": "markdown",
   "metadata": {},
   "source": [
    "`frontend-deployment.yaml`"
   ]
  },
  {
   "cell_type": "markdown",
   "metadata": {},
   "source": [
    "```yml\n",
    "apiVersion: apps/v1 # for versions before 1.9.0 use apps/v1beta2\n",
    "kind: Deployment\n",
    "metadata:\n",
    "  name: frontend\n",
    "  labels:\n",
    "    app: guestbook\n",
    "spec:\n",
    "  selector:\n",
    "    matchLabels:\n",
    "      app: guestbook\n",
    "      tier: frontend\n",
    "  replicas: 3\n",
    "  template:\n",
    "    metadata:\n",
    "      labels:\n",
    "        app: guestbook\n",
    "        tier: frontend\n",
    "    spec:\n",
    "      containers:\n",
    "      - name: php-redis\n",
    "        image: gcr.io/google-samples/gb-frontend:v4\n",
    "        resources:\n",
    "          requests:\n",
    "            cpu: 100m\n",
    "            memory: 100Mi\n",
    "        env:\n",
    "        - name: GET_HOSTS_FROM\n",
    "          value: dns\n",
    "          # Using `GET_HOSTS_FROM=dns` requires your cluster to\n",
    "          # provide a dns service. As of Kubernetes 1.3, DNS is a built-in\n",
    "          # service launched automatically. However, if the cluster you are using\n",
    "          # does not have a built-in DNS service, you can instead\n",
    "          # access an environment variable to find the master\n",
    "          # service's host. To do so, comment out the 'value: dns' line above, and\n",
    "          # uncomment the line below:\n",
    "          # value: env\n",
    "        ports:\n",
    "        - containerPort: 80\n",
    "```"
   ]
  },
  {
   "cell_type": "markdown",
   "metadata": {},
   "source": [
    "Apply the frontend Deployment from the frontend-deployment.yaml file:"
   ]
  },
  {
   "cell_type": "markdown",
   "metadata": {},
   "source": [
    "    kubectl apply -f frontend-deployment.yaml"
   ]
  },
  {
   "cell_type": "markdown",
   "metadata": {},
   "source": [
    "Query the list of Pods to verify that the three frontend replicas are running:\n",
    "\n",
    "    kubectl get pods -l app=guestbook -l tier=frontend"
   ]
  },
  {
   "cell_type": "markdown",
   "metadata": {},
   "source": [
    "### Creating the Frontend Service"
   ]
  },
  {
   "cell_type": "markdown",
   "metadata": {},
   "source": [
    "The redis-slave and redis-master Services you applied are only accessible within the container cluster because the default type for a Service is ClusterIP. ClusterIP provides a single IP address for the set of Pods the Service is pointing to. This IP address is accessible only within the cluster.\n",
    "\n",
    "If you want guests to be able to access your guestbook, you must configure the frontend Service to be externally visible, so a client can request the Service from outside the container cluster."
   ]
  },
  {
   "cell_type": "markdown",
   "metadata": {},
   "source": [
    "`frontend-service.yaml`"
   ]
  },
  {
   "cell_type": "markdown",
   "metadata": {},
   "source": [
    "```yml\n",
    "apiVersion: v1\n",
    "kind: Service\n",
    "metadata:\n",
    "  name: frontend\n",
    "  labels:\n",
    "    app: guestbook\n",
    "    tier: frontend\n",
    "spec:\n",
    "  # comment or delete the following line if you want to use a LoadBalancer\n",
    "  #type: NodePort \n",
    "  # if your cluster supports it, uncomment the following to automatically create\n",
    "  # an external load-balanced IP for the frontend service.\n",
    "  type: LoadBalancer\n",
    "  ports:\n",
    "  - port: 80\n",
    "  selector:\n",
    "    app: guestbook\n",
    "    tier: frontend\n",
    "```"
   ]
  },
  {
   "cell_type": "markdown",
   "metadata": {},
   "source": [
    "Apply the frontend Service from the frontend-service.yaml file:\n",
    "\n",
    "    kubectl apply -f frontend-service.yaml\n",
    "\n",
    "Query the list of Services to verify that the frontend Service is running:\n",
    "\n",
    "    kubectl get services"
   ]
  },
  {
   "cell_type": "markdown",
   "metadata": {},
   "source": [
    "## Cleaning up"
   ]
  },
  {
   "cell_type": "markdown",
   "metadata": {},
   "source": [
    "Deleting the Deployments and Services also deletes any running Pods. Use labels to delete multiple resources with one command."
   ]
  },
  {
   "cell_type": "markdown",
   "metadata": {},
   "source": [
    "    kubectl delete deployment -l app=redis\n",
    "    kubectl delete service -l app=redis\n",
    "    kubectl delete deployment -l app=guestbook\n",
    "    kubectl delete service -l app=guestbook"
   ]
  }
 ],
 "metadata": {
  "kernelspec": {
   "display_name": "Python 3",
   "language": "python",
   "name": "python3"
  },
  "language_info": {
   "codemirror_mode": {
    "name": "ipython",
    "version": 3
   },
   "file_extension": ".py",
   "mimetype": "text/x-python",
   "name": "python",
   "nbconvert_exporter": "python",
   "pygments_lexer": "ipython3",
   "version": "3.8.5"
  }
 },
 "nbformat": 4,
 "nbformat_minor": 4
}
