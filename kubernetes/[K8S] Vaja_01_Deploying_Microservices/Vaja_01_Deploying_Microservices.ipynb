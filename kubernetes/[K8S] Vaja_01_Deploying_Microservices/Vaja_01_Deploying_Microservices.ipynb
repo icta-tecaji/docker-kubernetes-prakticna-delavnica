{
 "cells": [
  {
   "cell_type": "markdown",
   "metadata": {},
   "source": [
    "# Vaja 1: Deploying Microservices"
   ]
  },
  {
   "cell_type": "markdown",
   "metadata": {},
   "source": [
    "## Setting up Kubernetes for this course\n"
   ]
  },
  {
   "cell_type": "markdown",
   "metadata": {},
   "source": [
    "- Prenesemo github podatke na server."
   ]
  },
  {
   "cell_type": "markdown",
   "metadata": {},
   "source": [
    "**Use project directory**\n",
    "\n",
    "    cd $GOPATH/src/github.com/udacity/ud615/kubernetes\n",
    "\n",
    "or if you are in the course repository:\n",
    "\n",
    "    cd kubernetes\n",
    "\n",
    "> Note: At any time you can clean up by running the cleanup.sh script\n",
    "\n",
    "**Provision a Kubernetes Cluster with GKE using gcloud** \n",
    "\n",
    "To complete the work in this course you going to need some tools. Kubernetes can be configured with many options and add-ons, but can be time consuming to bootstrap from the ground up. In this section you will bootstrap Kubernetes using Google Container Engine (GKE).\n",
    "\n",
    "GKE is a hosted Kubernetes by Google. GKE clusters can be customized and supports different machine types, number of nodes, and network settings.\n",
    "\n",
    "Use the following command to create your cluster for use for the rest of this course.\n",
    "\n",
    "- Ustvarimo cluster GUI"
   ]
  },
  {
   "cell_type": "markdown",
   "metadata": {},
   "source": [
    "https://cloud.google.com/sdk/gcloud/reference/container/clusters/create"
   ]
  },
  {
   "cell_type": "markdown",
   "metadata": {},
   "source": [
    "    gcloud container clusters get-credentials cluster-1 --region europe-west1-b"
   ]
  },
  {
   "cell_type": "markdown",
   "metadata": {},
   "source": [
    "https://cloud.google.com/kubernetes-engine/docs/how-to/cluster-access-for-kubectl#generate_kubeconfig_entry"
   ]
  },
  {
   "cell_type": "markdown",
   "metadata": {},
   "source": [
    "## Kubernetes Intro Demo\n"
   ]
  },
  {
   "cell_type": "markdown",
   "metadata": {},
   "source": [
    "**Launch a single instance:**\n",
    "    \n",
    "    kubectl run nginx --image=nginx:1.19.0\n",
    "        \n",
    "**Get pods**\n",
    "\n",
    "    kubectl get pods\n",
    "\n",
    "**Expose nginx**\n",
    "\n",
    "    kubectl expose pod nginx --port 80 --type LoadBalancer\n",
    "\n",
    "**List services**\n",
    "\n",
    "    kubectl get services\n",
    "\n",
    "**Kubernetes cheat sheet**\n",
    "\n",
    "We just went over a lot and we know you’re probably a little overwhelmed. Fear not! We’ll be going over each of these concepts, over the next two lessons. And you can always come back to this demo -- if you need to watch it again.\n",
    "\n",
    "To help out, here’s a Kubernetes command cheat sheet. http://kubernetes.io/docs/user-guide/kubectl-cheatsheet/"
   ]
  },
  {
   "cell_type": "markdown",
   "metadata": {},
   "source": [
    "## Pods"
   ]
  },
  {
   "cell_type": "markdown",
   "metadata": {},
   "source": [
    "Well, Kelsey says it’s a lot like tetris: https://www.youtube.com/watch?v=Po_MEdnUVDE\n",
    "\n",
    "Also, it’s probably a good idea to read up on Pods, my friend: http://kubernetes.io/docs/user-guide/pods/"
   ]
  },
  {
   "cell_type": "markdown",
   "metadata": {},
   "source": [
    "**Explore config file**\n",
    "\n",
    "    cat pods/monolith.yaml\n",
    "\n",
    "**Create the monolith pod**\n",
    "\n",
    "    kubectl create -f pods/monolith.yaml\n",
    "\n",
    "**Examine pods**\n",
    "\n",
    "    kubectl get pods\n",
    "\n",
    "It may take a few seconds before the monolith pod is up and running as the monolith container image needs to be pulled from the Docker Hub before we can run it.\n",
    "\n",
    "Use the kubectl describe command to get more information about the monolith pod.\n",
    "\n",
    "    kubectl describe pods monolith"
   ]
  },
  {
   "cell_type": "markdown",
   "metadata": {},
   "source": [
    "**Cloud shell 1: set up port-forwarding**\n",
    "\n",
    "    kubectl port-forward monolith 10080:80\n",
    "\n",
    "**Open new Cloud Shell session 2**\n",
    "\n",
    "    curl http://127.0.0.1:10080\n",
    "\n",
    "    curl http://127.0.0.1:10080/secure\n",
    "\n",
    "**Cloud shell 2 - log in**\n",
    "\n",
    "    curl -u user http://127.0.0.1:10080/login\n",
    "\n",
    "    curl -H \"Authorization: Bearer <token>\" http://127.0.0.1:10080/secure\n",
    "\n",
    "**View logs**\n",
    "\n",
    "    kubectl logs monolith\n",
    "    kubectl logs -f monolith\n",
    "\n",
    "**In Cloud Shell 3**\n",
    "    \n",
    "    curl http://127.0.0.1:10080\n",
    "\n",
    "**In Cloud Shell 2**\n",
    "\n",
    "Exit log watching (Ctrl-C)\n",
    "\n",
    "You can use the kubectl exec command to run an interactive shell inside the monolith Pod. This can come in handy when you want to troubleshoot from within a container:\n",
    "\n",
    "    kubectl exec monolith --stdin --tty -c monolith /bin/sh\n",
    "\n",
    "For example, once we have a shell into the monolith container we can test external connectivity using the ping command.\n",
    "\n",
    "    ping -c 3 google.com\n",
    "\n",
    "When you’re done with the interactive shell be sure to logout.\n",
    "\n",
    "    exit"
   ]
  },
  {
   "cell_type": "markdown",
   "metadata": {},
   "source": [
    "## Creating Secrets\n"
   ]
  },
  {
   "cell_type": "markdown",
   "metadata": {},
   "source": [
    "    ls tls\n",
    "\n",
    "The cert.pem and key.pem files will be used to secure traffic on the monolith server and the ca.pem will be used by HTTP clients as the CA to trust. Since the certs being used by the monolith server where signed by the CA represented by ca.pem, HTTP clients that trust ca.pem will be able to validate the SSL connection to the monolith server.\n",
    "\n",
    "**Use kubectl**\n",
    "\n",
    "to create the tls-certs secret from the TLS certificates stored under the tls directory:\n",
    "\n",
    "    kubectl create secret generic tls-certs --from-file=tls/\n",
    "\n",
    "kubectl will create a key for each file in the tls directory under the tls-certs secret bucket. Use the kubectl describe command to verify that:\n",
    "\n",
    "    kubectl describe secrets tls-certs\n",
    "\n",
    "Next we need to create a configmap entry for the proxy.conf nginx configuration file using the kubectl create configmap command:\n",
    "\n",
    "    kubectl create configmap nginx-proxy-conf --from-file=nginx/proxy.conf\n",
    "\n",
    "Use the kubectl describe configmap command to get more details about the nginx-proxy-conf configmap entry:\n",
    "\n",
    "    kubectl describe configmap nginx-proxy-conf\n",
    "\n",
    "**TLS and SSL**\n",
    "\n",
    "TLS and SSL can be confusing topics. Here’s a good primer for understanding the basics: https://en.wikipedia.org/wiki/Transport_Layer_Security"
   ]
  },
  {
   "cell_type": "markdown",
   "metadata": {},
   "source": [
    "## Accessing a Secure HTTPS Endpoint\n"
   ]
  },
  {
   "cell_type": "markdown",
   "metadata": {},
   "source": [
    "    cat pods/secure-monolith.yaml\n",
    "\n",
    "Create the secure-monolith Pod using kubectl.\n",
    "    \n",
    "    kubectl create -f pods/secure-monolith.yaml\n",
    "\n",
    "    kubectl get pods secure-monolith\n",
    "\n",
    "    kubectl port-forward secure-monolith 10443:443\n",
    "\n",
    "    curl --cacert tls/ca.pem https://127.0.0.1:10443\n",
    "\n",
    "    kubectl logs -c nginx secure-monolith"
   ]
  },
  {
   "cell_type": "markdown",
   "metadata": {},
   "source": [
    "## Creating a Service\n"
   ]
  },
  {
   "cell_type": "markdown",
   "metadata": {},
   "source": [
    "nodePort:\n",
    "\n",
    "    cat services/monolith.yaml\n",
    "    kubectl create -f services/monolith.yaml\n",
    "    gcloud compute firewall-rules create allow-monolith-nodeport --allow=tcp:31000\n",
    "    \n",
    "    \n",
    "Pridobimo IP za naš node:\n",
    "\n",
    "    gcloud compute instances list\n",
    "    \n",
    "Če se povežemo na IPje, naša stran ni dostopna. Preverimo:\n",
    "\n",
    "    kubectl get pods -l \"app=monolith\"\n",
    "    kubectl get pods -l \"app=monolith,secure=enabled\"\n",
    "    kubectl describe pods secure-monolith | grep Labels\n",
    "    kubectl label pods secure-monolith \"secure=enabled\"\n",
    "    kubectl describe pods secure-monolith | grep Labels\n",
    "    kubectl describe services monolith | grep Endpoints\n",
    "    \n",
    "Preverimo delovanje."
   ]
  },
  {
   "cell_type": "markdown",
   "metadata": {},
   "source": [
    "## Creating Deployments"
   ]
  },
  {
   "cell_type": "markdown",
   "metadata": {},
   "source": [
    "auth:\n",
    "\n",
    "    kubectl create -f deployments/auth.yaml\n",
    "    kubectl describe deployments auth\n",
    "    kubectl create -f services/auth.yaml"
   ]
  },
  {
   "cell_type": "markdown",
   "metadata": {},
   "source": [
    "hello:\n",
    "    \n",
    "    kubectl create -f deployments/hello.yaml\n",
    "    kubectl describe deployments hello\n",
    "    kubectl create -f services/hello.yaml"
   ]
  },
  {
   "cell_type": "markdown",
   "metadata": {},
   "source": [
    "frontend:\n",
    "    \n",
    "    kubectl create configmap nginx-frontend-conf --from-file=nginx/frontend.conf\n",
    "    kubectl create secret generic tls-certs --from-file=tls/\n",
    "    kubectl create -f deployments/frontend.yaml\n",
    "    kubectl describe deployments frontend\n",
    "    kubectl create -f services/frontend.yaml\n",
    "    "
   ]
  }
 ],
 "metadata": {
  "kernelspec": {
   "display_name": "Python 3",
   "language": "python",
   "name": "python3"
  },
  "language_info": {
   "codemirror_mode": {
    "name": "ipython",
    "version": 3
   },
   "file_extension": ".py",
   "mimetype": "text/x-python",
   "name": "python",
   "nbconvert_exporter": "python",
   "pygments_lexer": "ipython3",
   "version": "3.7.3"
  }
 },
 "nbformat": 4,
 "nbformat_minor": 2
}
