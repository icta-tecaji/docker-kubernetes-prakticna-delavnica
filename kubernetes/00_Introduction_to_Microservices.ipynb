{
 "cells": [
  {
   "cell_type": "markdown",
   "metadata": {},
   "source": [
    "# Introduction to Microservices"
   ]
  },
  {
   "cell_type": "markdown",
   "metadata": {},
   "source": [
    "## Evolucija aplikaciji"
   ]
  },
  {
   "cell_type": "markdown",
   "metadata": {},
   "source": [
    "- včasih velike aplikacije v enem kosu, veliko časa potrebnega za release\n",
    "- zdaj pa želimo imeti aplikacije na več neodvisnih manjših koščkov in hitre release"
   ]
  },
  {
   "cell_type": "markdown",
   "metadata": {},
   "source": [
    "- miscroservices -> hitrejši razvoj\n",
    "- kako se je spreminjalo od zgodovine do danes"
   ]
  },
  {
   "cell_type": "markdown",
   "metadata": {},
   "source": [
    "## Arhitektura Mikrostoritev"
   ]
  },
  {
   "cell_type": "markdown",
   "metadata": {},
   "source": [
    "Glavne prednosti:\n",
    "- modularne\n",
    "- enostaven deploy\n",
    "- samostojna skalabilnost"
   ]
  },
  {
   "cell_type": "markdown",
   "metadata": {},
   "source": [
    "aplikacija sledi 12 Fractured Apps pravilom"
   ]
  },
  {
   "cell_type": "markdown",
   "metadata": {},
   "source": [
    "## 12 Factor Apps"
   ]
  },
  {
   "cell_type": "markdown",
   "metadata": {},
   "source": [
    "- najboljše prakse za gradnjo modernih aplikaicji"
   ]
  },
  {
   "cell_type": "markdown",
   "metadata": {},
   "source": [
    "https://12factor.net/"
   ]
  },
  {
   "cell_type": "code",
   "execution_count": null,
   "metadata": {},
   "outputs": [],
   "source": []
  },
  {
   "cell_type": "code",
   "execution_count": null,
   "metadata": {},
   "outputs": [],
   "source": []
  },
  {
   "cell_type": "code",
   "execution_count": null,
   "metadata": {},
   "outputs": [],
   "source": []
  },
  {
   "cell_type": "code",
   "execution_count": null,
   "metadata": {},
   "outputs": [],
   "source": []
  },
  {
   "cell_type": "code",
   "execution_count": null,
   "metadata": {},
   "outputs": [],
   "source": []
  },
  {
   "cell_type": "code",
   "execution_count": null,
   "metadata": {},
   "outputs": [],
   "source": []
  }
 ],
 "metadata": {
  "kernelspec": {
   "display_name": "Python 3",
   "language": "python",
   "name": "python3"
  },
  "language_info": {
   "codemirror_mode": {
    "name": "ipython",
    "version": 3
   },
   "file_extension": ".py",
   "mimetype": "text/x-python",
   "name": "python",
   "nbconvert_exporter": "python",
   "pygments_lexer": "ipython3",
   "version": "3.7.3"
  }
 },
 "nbformat": 4,
 "nbformat_minor": 2
}
