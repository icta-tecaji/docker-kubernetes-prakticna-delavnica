{
 "cells": [
  {
   "cell_type": "markdown",
   "metadata": {},
   "source": [
    "# First steps with Docker and Kubernetes"
   ]
  },
  {
   "cell_type": "markdown",
   "metadata": {},
   "source": [
    "Before you start learning about Kubernetes concepts in detail, let’s see how to create\n",
    "a simple application, package it into a container image, and run it in a managed\n",
    "Kubernetes cluster (in Google Kubernetes Engine) or in a local single-node cluster.\n",
    "This should give you a slightly better overview of the whole Kubernetes system and\n",
    "will make it easier to follow the next few chapters, where we’ll go over the basic\n",
    "building blocks and concepts in Kubernetes."
   ]
  },
  {
   "cell_type": "code",
   "execution_count": null,
   "metadata": {},
   "outputs": [],
   "source": []
  },
  {
   "cell_type": "markdown",
   "metadata": {},
   "source": [
    "## Running your first app on Kubernetes"
   ]
  },
  {
   "cell_type": "markdown",
   "metadata": {},
   "source": [
    "Because this may be your first time, you’ll use the simplest possible way of running an\n",
    "app on Kubernetes. Usually, you’d prepare a JSON or YAML manifest, containing a\n",
    "description of all the components you want to deploy, but because we haven’t talked\n",
    "about the types of components you can create in Kubernetes yet, you’ll use a simple\n",
    "one-line command to get something running."
   ]
  },
  {
   "cell_type": "markdown",
   "metadata": {},
   "source": [
    "### Deploying your Node.js app"
   ]
  },
  {
   "cell_type": "markdown",
   "metadata": {},
   "source": [
    "The simplest way to deploy your app is to use the kubectl run command, which will\n",
    "create all the necessary components without having to deal with JSON or YAML. This\n",
    "way, we don’t need to dive into the structure of each object yet. Try to run the image\n",
    "you created and pushed to Docker Hub earlier. Here’s how to run it in Kubernetes:"
   ]
  },
  {
   "cell_type": "markdown",
   "metadata": {},
   "source": [
    "    $ kubectl run kubia --image=luksa/kubia --port=8080 --generator=run-pod/v1"
   ]
  },
  {
   "cell_type": "code",
   "execution_count": null,
   "metadata": {},
   "outputs": [],
   "source": []
  },
  {
   "cell_type": "code",
   "execution_count": null,
   "metadata": {},
   "outputs": [],
   "source": []
  }
 ],
 "metadata": {
  "kernelspec": {
   "display_name": "Python 3",
   "language": "python",
   "name": "python3"
  },
  "language_info": {
   "codemirror_mode": {
    "name": "ipython",
    "version": 3
   },
   "file_extension": ".py",
   "mimetype": "text/x-python",
   "name": "python",
   "nbconvert_exporter": "python",
   "pygments_lexer": "ipython3",
   "version": "3.7.3"
  }
 },
 "nbformat": 4,
 "nbformat_minor": 2
}
