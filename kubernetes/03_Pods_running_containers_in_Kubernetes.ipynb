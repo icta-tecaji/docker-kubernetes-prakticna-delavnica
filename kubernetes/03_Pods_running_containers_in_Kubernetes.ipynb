{
 "cells": [
  {
   "cell_type": "markdown",
   "metadata": {},
   "source": [
    "# Pods: running containers in Kubernetes"
   ]
  },
  {
   "cell_type": "markdown",
   "metadata": {},
   "source": [
    "Now, we’ll\n",
    "start reviewing all types of Kubernetes objects (or resources) in greater detail, so\n",
    "you’ll understand when, how, and why to use each of them. We’ll start with pods,\n",
    "because they’re the central, most important, concept in Kubernetes. Everything\n",
    "else either manages, exposes, or is used by pods."
   ]
  },
  {
   "cell_type": "markdown",
   "metadata": {},
   "source": [
    "## Introducing pods"
   ]
  },
  {
   "cell_type": "markdown",
   "metadata": {},
   "source": [
    "You’ve already learned that a pod is a co-located group of containers and represents\n",
    "the basic building block in Kubernetes. Instead of deploying containers individually,\n",
    "you always deploy and operate on a pod of containers. We’re not implying that a pod\n",
    "always includes more than one container—it’s common for pods to contain only a single\n",
    "container. The key thing about pods is that when a pod does contain multiple containers,\n",
    "all of them are always run on a single worker node—it never spans multiple\n",
    "worker nodes. "
   ]
  },
  {
   "cell_type": "code",
   "execution_count": null,
   "metadata": {},
   "outputs": [],
   "source": []
  },
  {
   "cell_type": "code",
   "execution_count": null,
   "metadata": {},
   "outputs": [],
   "source": []
  },
  {
   "cell_type": "markdown",
   "metadata": {},
   "source": [
    "> **UNDERSTANDING WHY MULTIPLE CONTAINERS ARE BETTER THAN ONE CONTAINER RUNNING MULTIPLE PROCESSES**  Imagine an app consisting of multiple processes that either communicate through\n",
    "IPC (Inter-Process Communication) or through locally stored files, which requires\n",
    "them to run on the same machine. Because in Kubernetes you always run processes in\n",
    "containers and each container is much like an isolated machine, you may think it\n",
    "makes sense to run multiple processes in a single container, but you shouldn’t do that.\n",
    "Containers are designed to run only a single process per container (unless the\n",
    "process itself spawns child processes). If you run multiple unrelated processes in a\n",
    "single container, it is your responsibility to keep all those processes running, manage\n",
    "their logs, and so on. For example, you’d have to include a mechanism for automatically\n",
    "restarting individual processes if they crash. Also, all those processes would\n",
    "log to the same standard output, so you’d have a hard time figuring out what process\n",
    "logged what. Therefore, you need to run each process in its own container. That’s how Docker\n",
    "and Kubernetes are meant to be used.\n"
   ]
  },
  {
   "cell_type": "markdown",
   "metadata": {},
   "source": [
    "## Understanding Pods"
   ]
  },
  {
   "cell_type": "markdown",
   "metadata": {},
   "source": [
    "A Pod is the basic execution unit of a Kubernetes application–the smallest and simplest unit in the Kubernetes object model that you create or deploy. A Pod represents processes running on your Cluster.\n",
    "\n",
    "A Pod encapsulates an application’s container (or, in some cases, multiple containers), storage resources, a unique network IP, and options that govern how the container(s) should run. A Pod represents a unit of deployment: a single instance of an application in Kubernetes, which might consist of either a single container or a small number of containers that are tightly coupled and that share resources.\n",
    "\n",
    "Docker is the most common container runtime used in a Kubernetes Pod, but Pods support other container runtimes as well.\n",
    "\n",
    "Pods in a Kubernetes cluster can be used in two main ways:"
   ]
  },
  {
   "cell_type": "markdown",
   "metadata": {},
   "source": [
    "<ul><li><strong>Pods that run a single container</strong>. The “one-container-per-Pod” model is the most common Kubernetes use case; in this case, you can think of a Pod as a wrapper around a single container, and Kubernetes manages the Pods rather than the containers directly.</li><li><p><strong>Pods that run multiple containers that need to work together</strong>. A Pod might encapsulate an application composed of multiple co-located containers that are tightly coupled and need to share resources. These co-located containers might form a single cohesive unit of service–one container serving files from a shared volume to the public, while a separate “sidecar” container refreshes or updates those files. The Pod wraps these containers and storage resources together as a single manageable entity.\n"
   ]
  },
  {
   "cell_type": "markdown",
   "metadata": {},
   "source": [
    "Each Pod is meant to run a single instance of a given application. If you want to scale your application horizontally (e.g., run multiple instances), you should use multiple Pods, one for each instance. In Kubernetes, this is generally referred to as replication. Replicated Pods are usually created and managed as a group by an abstraction called a Controller."
   ]
  },
  {
   "cell_type": "code",
   "execution_count": null,
   "metadata": {},
   "outputs": [],
   "source": []
  },
  {
   "cell_type": "code",
   "execution_count": null,
   "metadata": {},
   "outputs": [],
   "source": []
  },
  {
   "cell_type": "code",
   "execution_count": null,
   "metadata": {},
   "outputs": [],
   "source": []
  }
 ],
 "metadata": {
  "kernelspec": {
   "display_name": "Python 3",
   "language": "python",
   "name": "python3"
  },
  "language_info": {
   "codemirror_mode": {
    "name": "ipython",
    "version": 3
   },
   "file_extension": ".py",
   "mimetype": "text/x-python",
   "name": "python",
   "nbconvert_exporter": "python",
   "pygments_lexer": "ipython3",
   "version": "3.7.3"
  }
 },
 "nbformat": 4,
 "nbformat_minor": 2
}
