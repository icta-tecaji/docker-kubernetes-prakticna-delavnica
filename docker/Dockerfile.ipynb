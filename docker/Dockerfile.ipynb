{
 "cells": [
  {
   "cell_type": "markdown",
   "metadata": {},
   "source": [
    "# Dockerfile"
   ]
  },
  {
   "cell_type": "code",
   "execution_count": null,
   "metadata": {},
   "outputs": [],
   "source": []
  },
  {
   "cell_type": "code",
   "execution_count": null,
   "metadata": {},
   "outputs": [],
   "source": []
  },
  {
   "cell_type": "code",
   "execution_count": null,
   "metadata": {},
   "outputs": [],
   "source": []
  },
  {
   "cell_type": "code",
   "execution_count": null,
   "metadata": {},
   "outputs": [],
   "source": []
  },
  {
   "cell_type": "markdown",
   "metadata": {},
   "source": [
    "## Commands"
   ]
  },
  {
   "cell_type": "markdown",
   "metadata": {},
   "source": [
    "### FROM"
   ]
  },
  {
   "cell_type": "markdown",
   "metadata": {},
   "source": [
    "- baseimages"
   ]
  },
  {
   "cell_type": "code",
   "execution_count": null,
   "metadata": {},
   "outputs": [],
   "source": []
  },
  {
   "cell_type": "markdown",
   "metadata": {},
   "source": [
    "### MAINTAINER"
   ]
  },
  {
   "cell_type": "code",
   "execution_count": null,
   "metadata": {},
   "outputs": [],
   "source": []
  },
  {
   "cell_type": "code",
   "execution_count": null,
   "metadata": {},
   "outputs": [],
   "source": []
  },
  {
   "cell_type": "markdown",
   "metadata": {},
   "source": [
    "### ADD"
   ]
  },
  {
   "cell_type": "code",
   "execution_count": null,
   "metadata": {},
   "outputs": [],
   "source": []
  },
  {
   "cell_type": "code",
   "execution_count": null,
   "metadata": {},
   "outputs": [],
   "source": []
  },
  {
   "cell_type": "code",
   "execution_count": null,
   "metadata": {},
   "outputs": [],
   "source": []
  },
  {
   "cell_type": "code",
   "execution_count": null,
   "metadata": {},
   "outputs": [],
   "source": []
  },
  {
   "cell_type": "code",
   "execution_count": null,
   "metadata": {},
   "outputs": [],
   "source": []
  },
  {
   "cell_type": "code",
   "execution_count": null,
   "metadata": {},
   "outputs": [],
   "source": [
    "primeri coursera"
   ]
  },
  {
   "cell_type": "markdown",
   "metadata": {},
   "source": [
    "\n",
    "\n",
    "\n",
    "\n",
    "**Connect to the nginx using the internal IP**\n",
    "\n",
    "Get the internal IP address either copying from the full inspect file or by assigning it to a shell variable:\n",
    "\n",
    "    CN=\"sharp_bartik\"\n",
    "    CIP=$(sudo docker inspect --format '{{ .NetworkSettings.IPAddress }}' $CN)\n",
    "    curl  http://$CIP\n",
    "\n",
    "You can also get all instance IDs and their corresponding IP addresses by doing this:\n",
    "\n",
    "    sudo docker inspect -f '{{.Name}} - {{.NetworkSettings.IPAddress }}' $(sudo docker ps -aq)\n",
    "\n",
    "**Stop an instance**\n",
    "\n",
    "    sudo docker stop <cid>\n",
    "    \n",
    "or sudo docker stop $(sudo docker ps -aq)\n",
    "\n",
    "**Verify no more instances running**\n",
    "    \n",
    "    sudo docker ps\n",
    "\n",
    "**Remove the docker containers from the system**\n",
    "\n",
    "    sudo docker rm <cid>\n",
    "or sudo docker rm $(sudo docker ps -aq)"
   ]
  },
  {
   "cell_type": "markdown",
   "metadata": {},
   "source": [
    "## Create an image\n",
    "\n",
    "Commands to run on the VM Instance\n",
    "\n",
    "Install Go"
   ]
  },
  {
   "cell_type": "markdown",
   "metadata": {},
   "source": [
    "    wget https://storage.googleapis.com/golang/go1.6.2.linux-amd64.tar.gz\n",
    "    rm -rf /usr/local/bin/go\n",
    "    sudo tar -C /usr/local -xzf go1.6.2.linux-amd64.tar.gz\n",
    "    export PATH=$PATH:/usr/local/go/bin\n",
    "    export GOPATH=~/go"
   ]
  },
  {
   "cell_type": "markdown",
   "metadata": {},
   "source": [
    "Get the app code\n",
    "\n",
    "    mkdir -p $GOPATH/src/github.com/udacity\n",
    "    cd $GOPATH/src/github.com/udacity\n",
    "    git clone https://github.com/udacity/ud615.git"
   ]
  },
  {
   "cell_type": "markdown",
   "metadata": {},
   "source": [
    "Build a static binary of the monolith app\n",
    "\n",
    "    cd ud615/app/monolith\n",
    "    go get -u\n",
    "    go build --tags netgo --ldflags '-extldflags \"-lm -lstdc++ -static\"'"
   ]
  },
  {
   "cell_type": "markdown",
   "metadata": {},
   "source": [
    "Why did you have to build the binary with such an ugly command line?\n",
    "\n",
    "You have to explicitly make the binary static. This is really important in the Docker community right now because alpine has a different implementation of libc. So your go binary wouldn't have had the lib it needed if it wasn't static. You created a static binary so that your application could be self-contained."
   ]
  },
  {
   "cell_type": "markdown",
   "metadata": {},
   "source": [
    "**Create a container for the app**\n",
    "\n",
    "Look at the Dockerfile\n",
    "\n",
    "    cat Dockerfile\n",
    "    \n",
    "Build the app container\n",
    "\n",
    "    sudo docker build -t monolith:1.0.0 .\n",
    "    \n",
    "List the monolith image\n",
    "\n",
    "    sudo docker images monolith:1.0.0"
   ]
  },
  {
   "cell_type": "markdown",
   "metadata": {},
   "source": [
    "Run the monolith container and get it's IP\n",
    "\n",
    "    sudo docker run -d monolith:1.0.0\n",
    "    sudo docker inspect <container name or cid>\n",
    "    \n",
    "or\n",
    "\n",
    "    CID=$(sudo docker run -d monolith:1.0.0)\n",
    "    CIP=$(sudo docker inspect --format '{{ .NetworkSettings.IPAddress }}' ${CID})"
   ]
  },
  {
   "cell_type": "markdown",
   "metadata": {},
   "source": [
    "Test the container\n",
    "    curl <the container IP>\n",
    "    \n",
    "or\n",
    "\n",
    "    curl $CIP\n",
    "\n",
    "Important note on security\n",
    "\n",
    "If you are tired of typing \"sudo\" in front of all Docker commands, and confused why a lot of examples don't have that, please read the following article about implications on security - Why we don't let non-root users run Docker in CentOS, Fedora, or RHEL"
   ]
  },
  {
   "cell_type": "markdown",
   "metadata": {},
   "source": [
    "http://www.projectatomic.io/blog/2015/08/why-we-dont-let-non-root-users-run-docker-in-centos-fedora-or-rhel/"
   ]
  },
  {
   "cell_type": "markdown",
   "metadata": {},
   "source": [
    "Create docker images for the remaining microservices - auth and hello.\n",
    "Repeat the steps you took for monolith.\n",
    "\n",
    "Build the auth app\n",
    "\n",
    "    cd $GOPATH/src/github.com/udacity/ud615/app\n",
    "    cd auth\n",
    "    go build --tags netgo --ldflags '-extldflags \"-lm -lstdc++ -static\"'\n",
    "    sudo docker build -t auth:1.0.0 .\n",
    "    CID2=$(sudo docker run -d auth:1.0.0)\n",
    "    \n",
    "Build the hello app\n",
    "\n",
    "    cd $GOPATH/src/github.com/udacity/ud615/app\n",
    "    cd hello\n",
    "    go build --tags netgo --ldflags '-extldflags \"-lm -lstdc++ -static\"'\n",
    "    sudo docker build -t hello:1.0.0 .\n",
    "    CID3=$(sudo docker run -d hello:1.0.0)\n",
    "    \n",
    "See the running containers\n",
    "\n",
    "    sudo docker ps -a"
   ]
  },
  {
   "cell_type": "code",
   "execution_count": null,
   "metadata": {},
   "outputs": [],
   "source": []
  },
  {
   "cell_type": "code",
   "execution_count": null,
   "metadata": {},
   "outputs": [],
   "source": []
  },
  {
   "cell_type": "code",
   "execution_count": null,
   "metadata": {},
   "outputs": [],
   "source": [
    "   sudo dpkg -l | grep nginx"
   ]
  },
  {
   "cell_type": "markdown",
   "metadata": {},
   "source": [
    "## Docker registers"
   ]
  },
  {
   "cell_type": "markdown",
   "metadata": {},
   "source": [
    "See all images\n",
    "\n",
    "    sudo docker images\n",
    "\n",
    "Docker tag command help\n",
    "\n",
    "    docker tag -h\n",
    "\n",
    "    \n",
    "Add your own tag\n",
    "    \n",
    "    sudo docker tag monolith:1.0.0 <your username>/monolith:1.0.0\n",
    "\n",
    "For example (you can rename too!)\n",
    "    \n",
    "    sudo docker tag monolith:1.0.0 udacity/example-monolith:1.0.0\n",
    "\n",
    "            \n",
    "Create account on Dockerhub\n",
    "\n",
    "To be able to push images to Dockerhub you need to create an account there - https://hub.docker.com/register/\n",
    "\n",
    "Login and use the docker push command\n",
    "\n",
    "    sudo docker login\n",
    "    sudo docker push udacity/example-monolith:1.0.0\n",
    "\n",
    "Repeat for all images you created - monolith, auth and hello!"
   ]
  },
  {
   "cell_type": "code",
   "execution_count": null,
   "metadata": {},
   "outputs": [],
   "source": []
  },
  {
   "cell_type": "code",
   "execution_count": null,
   "metadata": {},
   "outputs": [],
   "source": []
  },
  {
   "cell_type": "code",
   "execution_count": null,
   "metadata": {},
   "outputs": [],
   "source": []
  }
 ],
 "metadata": {
  "kernelspec": {
   "display_name": "Python 3",
   "language": "python",
   "name": "python3"
  },
  "language_info": {
   "codemirror_mode": {
    "name": "ipython",
    "version": 3
   },
   "file_extension": ".py",
   "mimetype": "text/x-python",
   "name": "python",
   "nbconvert_exporter": "python",
   "pygments_lexer": "ipython3",
   "version": "3.7.3"
  }
 },
 "nbformat": 4,
 "nbformat_minor": 2
}
