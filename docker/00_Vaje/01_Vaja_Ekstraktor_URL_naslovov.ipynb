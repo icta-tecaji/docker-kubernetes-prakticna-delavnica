{
 "cells": [
  {
   "cell_type": "markdown",
   "metadata": {},
   "source": [
    "# Vaja: Ekstraktor URL naslovov"
   ]
  },
  {
   "cell_type": "markdown",
   "metadata": {},
   "source": [
    "We will start from a basic Python script that scrapes links from a given web page and gradually evolve it into a multi-service application stack. The demo code is available in the Link Extractor repo. The code is organized in steps that incrementally introduce changes and new concepts. After completion, the application stack will contain the following microservices:\n",
    "- A web application written in PHP and served using Apache that takes a URL as the input and summarizes extracted links from it\n",
    "- The web application talks to an API server written in Python (and Ruby) that takes care of the link extraction and returns a JSON response\n",
    "- A Redis cache that is used by the API server to avoid repeated fetch and link extraction for pages that are already scraped\n",
    "\n",
    "The API server will only load the page of the input link from the web if it is not in the cache. The stack will eventually look like the figure below:"
   ]
  },
  {
   "cell_type": "markdown",
   "metadata": {},
   "source": [
    "<img src=\"https://training.play-with-docker.com/images/linkextractor-microservice-diagram.png\" alt=\"A Microservice Architecture of the Link Extractor Application\">"
   ]
  },
  {
   "cell_type": "markdown",
   "metadata": {},
   "source": [
    "## Stage Setup"
   ]
  },
  {
   "cell_type": "markdown",
   "metadata": {},
   "source": [
    "Let’s get started by first cloning the demo code repository, changing the working directory:"
   ]
  },
  {
   "cell_type": "markdown",
   "metadata": {},
   "source": [
    "    git clone https://github.com/leon11s/docker-k8s-public.git\n",
    "    cd ./docker-k8s-public/vaje/01_Vaja_Ekstraktor_URL_naslovov"
   ]
  },
  {
   "cell_type": "markdown",
   "metadata": {},
   "source": [
    "## Step 0: Basic Link Extractor Script"
   ]
  },
  {
   "cell_type": "markdown",
   "metadata": {},
   "source": [
    "    cd step0\n",
    "    tree"
   ]
  },
  {
   "cell_type": "markdown",
   "metadata": {},
   "source": [
    "The linkextractor.py file is the interesting one here, so let’s look at its contents:"
   ]
  },
  {
   "cell_type": "markdown",
   "metadata": {},
   "source": [
    "    cat linkextractor.py"
   ]
  },
  {
   "cell_type": "markdown",
   "metadata": {},
   "source": [
    "```python\n",
    "#!/usr/bin/env python\n",
    "\n",
    "import sys\n",
    "import requests\n",
    "from bs4 import BeautifulSoup\n",
    "\n",
    "res = requests.get(sys.argv[-1])\n",
    "soup = BeautifulSoup(res.text, \"html.parser\")\n",
    "for link in soup.find_all(\"a\"):\n",
    "    print(link.get(\"href\"))\n",
    "```"
   ]
  },
  {
   "cell_type": "markdown",
   "metadata": {},
   "source": [
    "This is a simple Python script that imports three packages: sys from the standard library and two popular third-party packages requests and bs4. User-supplied command line argument (which is expected to be a URL to an HTML page) is used to fetch the page using the requests package, then parsed using the BeautifulSoup. The parsed object is then iterated over to find all the anchor elements (i.e., `<a>` tags) and print the value of their href attribute that contains the hyperlink.\n",
    "\n",
    "However, this seemingly simple script might not be the easiest one to run on a machine that does not meet its requirements. The README.md file suggests how to run it, so let’s give it a try:"
   ]
  },
  {
   "cell_type": "markdown",
   "metadata": {},
   "source": [
    "    ./linkextractor.py http://example.com/"
   ]
  },
  {
   "cell_type": "markdown",
   "metadata": {},
   "source": [
    "    bash: ./linkextractor.py: Permission denied"
   ]
  },
  {
   "cell_type": "markdown",
   "metadata": {},
   "source": [
    "When we tried to execute it as a script, we got the Permission denied error. Let’s check the current permissions on this file:"
   ]
  },
  {
   "cell_type": "markdown",
   "metadata": {},
   "source": [
    "    ls -l linkextractor.py"
   ]
  },
  {
   "cell_type": "markdown",
   "metadata": {},
   "source": [
    "This current permission `-rw-r--r--` indicates that the script is not set to be executable. We can either change it by running `chmod a+x` linkextractor.py or run it as a Python program instead of a self-executing script as illustrated below:"
   ]
  },
  {
   "cell_type": "markdown",
   "metadata": {},
   "source": [
    "    python linkextractor.py"
   ]
  },
  {
   "cell_type": "markdown",
   "metadata": {},
   "source": [
    "Here we got the first ImportError message because we are missing the third-party package needed by the script. We can install that Python package (and potentially other missing packages) using one of the many techniques to make it work, but it is too much work for such a simple script, which might not be obvious for those who are not familiar with Python’s ecosystem.\n",
    "\n",
    "Depending on which machine and operating system you are trying to run this script on, what software is already installed, and how much access you have, you might face some of these potential difficulties:\n",
    "- Is the script executable?\n",
    "- Is Python installed on the machine?\n",
    "- Can you install software on the machine?\n",
    "- Is pip installed?\n",
    "- Are requests and beautifulsoup4 Python libraries installed?\n",
    "\n",
    "This is where application containerization tools like Docker come in handy. In the next step we will try to containerize this script and make it easier to execute."
   ]
  },
  {
   "cell_type": "markdown",
   "metadata": {},
   "source": [
    "## Step 1: Containerized Link Extractor Script"
   ]
  },
  {
   "cell_type": "markdown",
   "metadata": {},
   "source": [
    "    cd step1\n",
    "    tree"
   ]
  },
  {
   "cell_type": "markdown",
   "metadata": {},
   "source": [
    "We have added one new file (i.e., Dockerfile) in this step. Let’s look into its contents:"
   ]
  },
  {
   "cell_type": "markdown",
   "metadata": {},
   "source": [
    "    cat Dockerfile"
   ]
  },
  {
   "cell_type": "markdown",
   "metadata": {},
   "source": [
    "```Dockerfile\n",
    "FROM       python:3\n",
    "LABEL      maintainer=\"leon@ltfe.org\"\n",
    "\n",
    "RUN        pip install beautifulsoup4\n",
    "RUN        pip install requests\n",
    "\n",
    "WORKDIR    /app\n",
    "COPY       linkextractor.py /app/\n",
    "RUN        chmod a+x linkextractor.py\n",
    "\n",
    "ENTRYPOINT [\"./linkextractor.py\"]\n",
    "```"
   ]
  },
  {
   "cell_type": "markdown",
   "metadata": {},
   "source": [
    "Using this Dockerfile we can prepare a Docker image for this script. We start from the official python Docker image that contains Python’s run-time environment as well as necessary tools to install Python packages and dependencies. We then add some metadata as labels (this step is not essential, but is a good practice nonetheless). Next two instructions run the pip install command to install the two third-party packages needed for the script to function properly. We then create a working directory /app, copy the linkextractor.py file in it, and change its permissions to make it an executable script. Finally, we set the script as the entrypoint for the image."
   ]
  },
  {
   "cell_type": "markdown",
   "metadata": {},
   "source": [
    "So far, we have just described how we want our Docker image to be like, but didn’t really build one. So let’s do just that:"
   ]
  },
  {
   "cell_type": "markdown",
   "metadata": {},
   "source": [
    "    docker image build -t linkextractor:step1 ."
   ]
  },
  {
   "cell_type": "markdown",
   "metadata": {},
   "source": [
    "We have created a Docker image named linkextractor:step1 based on the Dockerfile illustrated above. If the build was successful, we should be able to see it in the list of image:"
   ]
  },
  {
   "cell_type": "markdown",
   "metadata": {},
   "source": [
    "    docker image ls"
   ]
  },
  {
   "cell_type": "markdown",
   "metadata": {},
   "source": [
    "This image should have all the necessary ingredients packaged in it to run the script anywhere on a machine that supports Docker. Now, let’s run a one-off container with this image and extract links from some live web pages:"
   ]
  },
  {
   "cell_type": "markdown",
   "metadata": {},
   "source": [
    "    docker container run -it --rm linkextractor:step1 http://example.com/"
   ]
  },
  {
   "cell_type": "markdown",
   "metadata": {},
   "source": [
    "Let’s try it on a web page with more links in it:"
   ]
  },
  {
   "cell_type": "markdown",
   "metadata": {},
   "source": [
    "    docker container run -it --rm linkextractor:step1 https://training.play-with-docker.com/"
   ]
  },
  {
   "cell_type": "markdown",
   "metadata": {},
   "source": [
    "This looks good, but we can improve the output. For example, some links are relative, we can convert them into full URLs and also provide the anchor text they are linked to. In the next step we will make these changes and some other improvements to the script."
   ]
  },
  {
   "cell_type": "markdown",
   "metadata": {},
   "source": [
    "## Step 2: Link Extractor Module with Full URI and Anchor Text"
   ]
  },
  {
   "cell_type": "markdown",
   "metadata": {},
   "source": [
    "    cd step2\n",
    "    tree"
   ]
  },
  {
   "cell_type": "markdown",
   "metadata": {},
   "source": [
    "In this step the linkextractor.py script is updated with the following functional changes:\n",
    "- Paths are normalized to full URLs\n",
    "- Reporting both links and anchor texts\n",
    "- Usable as a module in other scripts\n",
    "\n",
    "Let’s have a look at the updated script:"
   ]
  },
  {
   "cell_type": "markdown",
   "metadata": {},
   "source": [
    "    cat linkextractor.py"
   ]
  },
  {
   "cell_type": "markdown",
   "metadata": {},
   "source": [
    "```python\n",
    "#!/usr/bin/env python\n",
    "\n",
    "import sys\n",
    "import requests\n",
    "from bs4 import BeautifulSoup\n",
    "from urllib.parse import urljoin\n",
    "\n",
    "def extract_links(url):\n",
    "    res = requests.get(url)\n",
    "    soup = BeautifulSoup(res.text, \"html.parser\")\n",
    "    base = url\n",
    "    # TODO: Update base if a <base> element is present with the href attribute\n",
    "    links = []\n",
    "    for link in soup.find_all(\"a\"):\n",
    "        links.append({\n",
    "            \"text\": \" \".join(link.text.split()) or \"[IMG]\",\n",
    "            \"href\": urljoin(base, link.get(\"href\"))\n",
    "        })\n",
    "    return links\n",
    "\n",
    "if __name__ == \"__main__\":\n",
    "    if len(sys.argv) != 2:\n",
    "        print(\"\\nUsage:\\n\\t{} <URL>\\n\".format(sys.argv[0]))\n",
    "        sys.exit(1)\n",
    "    for link in extract_links(sys.argv[-1]):\n",
    "        print(\"[{}]({})\".format(link[\"text\"], link[\"href\"]))\n",
    "\n",
    "```"
   ]
  },
  {
   "cell_type": "markdown",
   "metadata": {},
   "source": [
    "The link extraction logic is abstracted into a function extract_links that accepts a URL as a parameter and returns a list of objects containing anchor texts and normalized hyperlinks. This functionality can now be imported into other scripts as a module (which we will utilize in the next step).\n",
    "\n",
    "Now, let’s build a new image and see these changes in effect:"
   ]
  },
  {
   "cell_type": "markdown",
   "metadata": {},
   "source": [
    "    docker image build -t linkextractor:step2 ."
   ]
  },
  {
   "cell_type": "markdown",
   "metadata": {},
   "source": [
    "We have used a new tag linkextractor:step2 for this image so that we don’t overwrite the image from the step0 to illustrate that they can co-exist and containers can be run using either of these images."
   ]
  },
  {
   "cell_type": "markdown",
   "metadata": {},
   "source": [
    "    docker image ls"
   ]
  },
  {
   "cell_type": "markdown",
   "metadata": {},
   "source": [
    "Running a one-off container using the linkextractor:step2 image should now yield an improved output:"
   ]
  },
  {
   "cell_type": "markdown",
   "metadata": {},
   "source": [
    "    docker container run -it --rm linkextractor:step2 https://training.play-with-docker.com/"
   ]
  },
  {
   "cell_type": "markdown",
   "metadata": {},
   "source": [
    "Running a container using the previous image linkextractor:step1 should still result in the old output:"
   ]
  },
  {
   "cell_type": "markdown",
   "metadata": {},
   "source": [
    "    docker container run -it --rm linkextractor:step1 https://training.play-with-docker.com/"
   ]
  },
  {
   "cell_type": "markdown",
   "metadata": {},
   "source": [
    "So far, we have learned how to containerize a script with its necessary dependencies to make it more portable. We have also learned how to make changes in the application and build different variants of Docker images that can co-exist. In the next step we will build a web service that will utilize this script and will make the service run inside a Docker container."
   ]
  },
  {
   "cell_type": "markdown",
   "metadata": {},
   "source": [
    "## Step 3: Link Extractor API Service"
   ]
  },
  {
   "cell_type": "markdown",
   "metadata": {},
   "source": [
    "    cd step3\n",
    "    tree"
   ]
  },
  {
   "cell_type": "markdown",
   "metadata": {},
   "source": [
    "The following changes have been made in this step:\n",
    "- Added a server script main.py that utilizes the link extraction module written in the last step\n",
    "- The Dockerfile is updated to refer to the main.py file instead\n",
    "- Server is accessible as a WEB API at http://<hostname>[:<prt>]/api/<url>\n",
    "- Dependencies are moved to the requirements.txt file\n",
    "- Needs port mapping to make the service accessible outside of the container (the Flask server used here listens on port 5000 by default)\n",
    "\n",
    "Let’s first look at the Dockerfile for changes:"
   ]
  },
  {
   "cell_type": "markdown",
   "metadata": {},
   "source": [
    "    cat Dockerfile"
   ]
  },
  {
   "cell_type": "markdown",
   "metadata": {},
   "source": [
    "```Dockerfile\n",
    "FROM       python:3\n",
    "LABEL      maintainer=\"Sawood Alam <@ibnesayeed>\"\n",
    "\n",
    "WORKDIR    /app\n",
    "COPY       requirements.txt /app/\n",
    "RUN        pip install -r requirements.txt\n",
    "\n",
    "COPY       *.py /app/\n",
    "RUN        chmod a+x *.py\n",
    "\n",
    "CMD        [\"./main.py\"]\n",
    "```"
   ]
  },
  {
   "cell_type": "markdown",
   "metadata": {},
   "source": [
    "Since we have started using requirements.txt for dependencies, we no longer need to run pip install command for individual packages. The ENTRYPOINT directive is replaced with the CMD and it is referring to the main.py script that has the server code it because we do not want to use this image for one-off commands now.\n",
    "\n",
    "The linkextractor.py module remains unchanged in this step, so let’s look into the newly added main.py file:"
   ]
  },
  {
   "cell_type": "markdown",
   "metadata": {},
   "source": [
    "    cat main.py"
   ]
  },
  {
   "cell_type": "markdown",
   "metadata": {},
   "source": [
    "```python\n",
    "#!/usr/bin/env python\n",
    "\n",
    "from flask import Flask\n",
    "from flask import request\n",
    "from flask import jsonify\n",
    "from linkextractor import extract_links\n",
    "\n",
    "app = Flask(__name__)\n",
    "\n",
    "@app.route(\"/\")\n",
    "def index():\n",
    "    return \"Usage: http://<hostname>[:<prt>]/api/<url>\"\n",
    "\n",
    "@app.route(\"/api/<path:url>\")\n",
    "def api(url):\n",
    "    qs = request.query_string.decode(\"utf-8\")\n",
    "    if qs != \"\":\n",
    "        url += \"?\" + qs\n",
    "    links = extract_links(url)\n",
    "    return jsonify(links)\n",
    "\n",
    "app.run(host=\"0.0.0.0\")\n",
    "```"
   ]
  },
  {
   "cell_type": "markdown",
   "metadata": {},
   "source": [
    "Here, we are importing extract_links function from the linkextractor module and converting the returned list of objects into a JSON response.\n",
    "\n",
    "It’s time to build a new image with these changes in place:"
   ]
  },
  {
   "cell_type": "markdown",
   "metadata": {},
   "source": [
    "    docker image build -t linkextractor:step3 ."
   ]
  },
  {
   "cell_type": "markdown",
   "metadata": {},
   "source": [
    "Then run the container in detached mode (-d flag) so that the terminal is available for other commands while the container is still running. Note that we are mapping the port 5000 of the container with the 5000 of the host (using -p 5000:5000 argument) to make it accessible from the host. We are also assigning a name (--name=linkextractor) to the container to make it easier to see logs and kill or remove the container."
   ]
  },
  {
   "cell_type": "markdown",
   "metadata": {},
   "source": [
    "    docker container run -d -p 5000:5000 --name=linkextractor linkextractor:step3"
   ]
  },
  {
   "cell_type": "markdown",
   "metadata": {},
   "source": [
    "If things go well, we should be able to see the container being listed in Up condition:"
   ]
  },
  {
   "cell_type": "markdown",
   "metadata": {},
   "source": [
    "    docker container ls"
   ]
  },
  {
   "cell_type": "markdown",
   "metadata": {},
   "source": [
    "We can now make an HTTP request in the form /api/<url> to talk to this server and fetch the response containing extracted links:"
   ]
  },
  {
   "cell_type": "markdown",
   "metadata": {},
   "source": [
    "    curl -i http://localhost:5000/api/http://example.com/"
   ]
  },
  {
   "cell_type": "markdown",
   "metadata": {},
   "source": [
    "Now, we have the API service running that accepts requests in the form /api/<url> and responds with a JSON containing hyperlinks and anchor texts of all the links present in the web page at give <url>.\n",
    "\n",
    "Since the container is running in detached mode, so we can’t see what’s happening inside, but we can see logs using the name linkextractor we assigned to our container:\n",
    "\n"
   ]
  },
  {
   "cell_type": "markdown",
   "metadata": {},
   "source": [
    "    docker container logs linkextractor"
   ]
  },
  {
   "cell_type": "markdown",
   "metadata": {},
   "source": [
    "In this step we have successfully ran an API service listening on port 5000. This is great, but APIs and JSON responses are for machines, so in the next step we will run a web service with a human-friendly web interface in addition to this API service."
   ]
  },
  {
   "cell_type": "markdown",
   "metadata": {},
   "source": [
    "## Step 4: Link Extractor API and Web Front End Services"
   ]
  },
  {
   "cell_type": "markdown",
   "metadata": {},
   "source": [
    "    cd step4\n",
    "    tree"
   ]
  },
  {
   "cell_type": "markdown",
   "metadata": {},
   "source": [
    "In this step the following changes have been made since the last step:\n",
    "- The link extractor JSON API service (written in Python) is moved in a separate `./api` folder that has the exact same code as in the previous step\n",
    "- A web front-end application is written in PHP under `./www` folder that talks to the JSON API\n",
    "- The PHP application is mounted inside the official `php:7-apache` Docker image for easier modification during the development\n",
    "- The web application is made accessible at `http://<hostname>[:<prt>]/?url=<url-encoded-url>`\n",
    "- An environment variable `API_ENDPOINT` is used inside the PHP application to configure it to talk to the JSON API server\n",
    "- A `docker-compose.yml` file is written to build various components and glue them together\n",
    "\n",
    "In this step we are planning to run two separate containers, one for the API and the other for the web interface. The latter needs a way to talk to the API server. For the two containers to be able to talk to each other, we can either map their ports on the host machine and use that for request routing or we can place the containers in a single private network and access directly. Docker has an excellent support of networking and provides helpful commands to deal with networks. Additionally, in a Docker network containers identify themselves using their names as hostnames to avoid hunting for their IP addresses in the private network. However, we are not going to do any of this manually, instead we will be using Docker Compose to automate many of these tasks.\n",
    "\n",
    "So let’s look at the docker-compose.yml file we have:"
   ]
  },
  {
   "cell_type": "markdown",
   "metadata": {},
   "source": [
    "    cat docker-compose.yml"
   ]
  },
  {
   "cell_type": "markdown",
   "metadata": {},
   "source": [
    "```yml\n",
    "version: '3'\n",
    "\n",
    "services:\n",
    "  api:\n",
    "    image: linkextractor-api:step4-python\n",
    "    build: ./api\n",
    "    ports:\n",
    "      - \"5000:5000\"\n",
    "  web:\n",
    "    image: php:7-apache\n",
    "    ports:\n",
    "      - \"80:80\"\n",
    "    environment:\n",
    "      - API_ENDPOINT=http://api:5000/api/\n",
    "    volumes:\n",
    "      - ./www:/var/www/html\n",
    "```"
   ]
  },
  {
   "cell_type": "markdown",
   "metadata": {},
   "source": [
    "This is a simple YAML file that describes the two services api and web. The api service will use the linkextractor-api:step4-python image that is not built yet, but will be built on-demand using the Dockerfile from the ./api directory. This service will be exposed on the port 5000 of the host.\n",
    "\n",
    "The second service named web will use official php:7-apache image directly from the DockerHub, that’s why we do not have a Dockerfile for it. The service will be exposed on the default HTTP port (i.e., 80). We will supply an environment variable named API_ENDPOINT with the value http://api:5000/api/ to tell the PHP script where to connect to for the API access. Notice that we are not using an IP address here, instead, api:5000 is being used because we will have a dynamic hostname entry in the private network for the API service matching its service name. Finally, we will bind mount the ./www folder to make the index.php file available inside of the web service container at /var/www/html, which is the default web root for the Apache web server.\n",
    "\n",
    "Now, let’s have a look at the user-facing www/index.php file:"
   ]
  },
  {
   "cell_type": "markdown",
   "metadata": {},
   "source": [
    "    cat www/index.php    "
   ]
  },
  {
   "cell_type": "markdown",
   "metadata": {},
   "source": [
    "This is a long file that mainly contains all the markup and styles of the page. However, the important block of code is in the beginning of the file as illustrated below:"
   ]
  },
  {
   "cell_type": "markdown",
   "metadata": {},
   "source": [
    "```php\n",
    "$api_endpoint = $_ENV[\"API_ENDPOINT\"] ?: \"http://localhost:5000/api/\";\n",
    "$url = \"\";\n",
    "if(isset($_GET[\"url\"]) && $_GET[\"url\"] != \"\") {\n",
    "  $url = $_GET[\"url\"];\n",
    "  $json = @file_get_contents($api_endpoint . $url);\n",
    "  if($json == false) {\n",
    "    $err = \"Something is wrong with the URL: \" . $url;\n",
    "  } else {\n",
    "    $links = json_decode($json, true);\n",
    "    $domains = [];\n",
    "    foreach($links as $link) {\n",
    "      array_push($domains, parse_url($link[\"href\"], PHP_URL_HOST));\n",
    "    }\n",
    "    $domainct = @array_count_values($domains);\n",
    "    arsort($domainct);\n",
    "  }\n",
    "}\n",
    "```"
   ]
  },
  {
   "cell_type": "markdown",
   "metadata": {},
   "source": [
    "The `$api_endpoint` variable is initialized with the value of the environment variable supplied from the docker-compose.yml file as `$_ENV[\"API_ENDPOINT\"]`(otherwise falls back to a default value of http://localhost:5000/api/). The request is made using `file_get_contents` function that uses the `$api_endpoint` variable and user supplied URL from `$_GET[\"url\"]`. Some analysis and transformations are performed on the received response that are later used in the markup to populate the page.\n",
    "\n",
    "Let’s bring these services up in detached mode using docker-compose utility:"
   ]
  },
  {
   "cell_type": "markdown",
   "metadata": {},
   "source": [
    "    docker-compose up -d --build"
   ]
  },
  {
   "cell_type": "markdown",
   "metadata": {},
   "source": [
    "This output shows that Docker Compose automatically created a network named linkextractor_default, pulled php:7-apache image from DockerHub, built api:python image using our local Dockerfile, and finally, spun two containers linkextractor_web_1 and linkextractor_api_1 that correspond to the two services we have defined in the YAML file above.\n",
    "\n",
    "Checking for the list of running containers confirms that the two services are indeed running:"
   ]
  },
  {
   "cell_type": "markdown",
   "metadata": {},
   "source": [
    "    docker container ls"
   ]
  },
  {
   "cell_type": "markdown",
   "metadata": {},
   "source": [
    "We should now be able to talk to the API service as before:"
   ]
  },
  {
   "cell_type": "markdown",
   "metadata": {},
   "source": [
    "    curl -i http://localhost:5000/api/http://example.com/"
   ]
  },
  {
   "cell_type": "markdown",
   "metadata": {},
   "source": [
    "To access the web interface click to open the Link Extractor. Then fill the form with https://training.play-with-docker.com/ (or any HTML page URL of your choice) and submit to extract links from it.\n",
    "\n",
    "    http://192.168.56.101/\n",
    "\n",
    "\n",
    "We have just created an application with microservice architecture, isolating individual tasks in separate services as opposed to monolithic applications where everything is put together in a single unit. Microservice applications are relatively easier to scale, maintains, and move around. They also allow easy swapping of components with an equivalent service. More on that later.\n",
    "\n",
    "Now, let’s modify the www/index.php file to replace all occurrences of Link Extractor with Super Link Extractor:"
   ]
  },
  {
   "cell_type": "markdown",
   "metadata": {},
   "source": [
    "    sed -i 's/Link Extractor/Super Link Extractor/g' www/index.php"
   ]
  },
  {
   "cell_type": "markdown",
   "metadata": {},
   "source": [
    "Reloading the web interface of the application (or clicking here) should now reflect this change in the title, header, and footer. This is happening because the ./www folder is bind mounted inside of the container, so any changes made outside will reflect inside the container or the vice versa. This approach is very helpful in development, but in the production environment we would prefer our Docker images to be self-contained.\n",
    "\n",
    "> Revert: `sed -i 's/Super Link Extractor/Link Extractor/g' www/index.php`"
   ]
  },
  {
   "cell_type": "markdown",
   "metadata": {},
   "source": [
    "Before we move on to the next step we need to shut these services down, but Docker Compose can help us take care of it very easily:"
   ]
  },
  {
   "cell_type": "markdown",
   "metadata": {},
   "source": [
    "    docker-compose down"
   ]
  },
  {
   "cell_type": "markdown",
   "metadata": {},
   "source": [
    "In the next step we will add one more service to our stack and will build a self-contained custom image for our web interface service."
   ]
  },
  {
   "cell_type": "markdown",
   "metadata": {},
   "source": [
    "## Step 5: Redis Service for Caching"
   ]
  },
  {
   "cell_type": "markdown",
   "metadata": {},
   "source": [
    "    cd step5\n",
    "    tree"
   ]
  },
  {
   "cell_type": "markdown",
   "metadata": {},
   "source": [
    "Some noticeable changes from the previous step are as following:\n",
    "- Another Dockerfile is added in the ./www folder for the PHP web application to build a self-contained image and avoid live file mounting\n",
    "- A Redis container is added for caching using the official Redis Docker image\n",
    "- The API service talks to the Redis service to avoid downloading and parsing pages that were already scraped before\n",
    "- A REDIS_URL environment variable is added to the API service to allow it to connect to the Redis cache\n",
    "\n",
    "Let’s first inspect the newly added Dockerfile under the ./www folder:"
   ]
  },
  {
   "cell_type": "markdown",
   "metadata": {},
   "source": [
    "    cat www/Dockerfile"
   ]
  },
  {
   "cell_type": "markdown",
   "metadata": {},
   "source": [
    "```Dockerfile\n",
    "FROM       php:7-apache\n",
    "LABEL      maintainer=\"Sawood Alam <@ibnesayeed>\"\n",
    "\n",
    "ENV        API_ENDPOINT=\"http://localhost:5000/api/\"\n",
    "\n",
    "COPY       . /var/www/html/\n",
    "```"
   ]
  },
  {
   "cell_type": "markdown",
   "metadata": {},
   "source": [
    "This is a rather simple Dockerfile that uses the official php:7-apache image as the base and copies all the files from the ./www folder into the /var/www/html/ folder of the image. This is exactly what was happening in the previous step, but that was bind mounted using a volume, while here we are making the code part of the self-contained image. We have also added the API_ENDPOINT environment variable here with a default value, which implicitly suggests that this is an important information that needs to be present in order for the service to function properly (and should be customized at run time with an appropriate value).\n",
    "\n",
    "Next, we will look at the API server’s api/main.py file where we are utilizing the Redis cache:"
   ]
  },
  {
   "cell_type": "markdown",
   "metadata": {},
   "source": [
    "    cat api/main.py"
   ]
  },
  {
   "cell_type": "markdown",
   "metadata": {},
   "source": [
    "The file has many lines, but the important bits are as illustrated below:"
   ]
  },
  {
   "cell_type": "markdown",
   "metadata": {},
   "source": [
    "```python\n",
    "redis_conn = redis.from_url(os.getenv(\"REDIS_URL\", \"redis://localhost:6379\"))\n",
    "# ...\n",
    "    jsonlinks = redis.get(url)\n",
    "    if not jsonlinks:\n",
    "        links = extract_links(url)\n",
    "        jsonlinks = json.dumps(links, indent=2)\n",
    "        redis.set(url, jsonlinks)\n",
    "```"
   ]
  },
  {
   "cell_type": "markdown",
   "metadata": {},
   "source": [
    "This time the API service needs to know how to connect to the Redis instance as it is going to use it for caching. This information can be made available at run time using the REDIS_URL environment variable. A corresponding ENV entry is also added in the Dockerfile of the API service with a default value.\n",
    "\n",
    "A redis client instance is created using the hostname redis (same as the name of the service as we will see later) and the default Redis port 6379. We are first trying to see if a cache is present in the Redis store for a given URL, if not then we use the extract_links function as before and populate the cache for future attempts.\n"
   ]
  },
  {
   "cell_type": "markdown",
   "metadata": {},
   "source": [
    "    cat docker-compose.yml"
   ]
  },
  {
   "cell_type": "markdown",
   "metadata": {},
   "source": [
    "```yml\n",
    "version: '3'\n",
    "\n",
    "services:\n",
    "  api:\n",
    "    image: linkextractor-api:step5-python\n",
    "    build: ./api\n",
    "    ports:\n",
    "      - \"5000:5000\"\n",
    "    environment:\n",
    "      - REDIS_URL=redis://redis:6379\n",
    "  web:\n",
    "    image: linkextractor-web:step5-php\n",
    "    build: ./www\n",
    "    ports:\n",
    "      - \"80:80\"\n",
    "    environment:\n",
    "      - API_ENDPOINT=http://api:5000/api/\n",
    "  redis:\n",
    "    image: redis\n",
    "```"
   ]
  },
  {
   "cell_type": "markdown",
   "metadata": {},
   "source": [
    "The api service configuration largely remains the same as before, except the updated image tag and added environment variable `REDIS_URL` that points to the Redis service. For the web service, we are using the custom `linkextractor-web:step5-php` image that will be built using the newly added Dockerfile in the `./www` folder. We are no longer mounting the `./www` folder using the volumes config. Finally, a new service named redis is added that will use the official image from DockerHub and needs no specific configurations for now. This service is accessible to the Python API using its service name, the same way the API service is accessible to the PHP front-end service.\n",
    "\n",
    "Let’s boot these services up:"
   ]
  },
  {
   "cell_type": "markdown",
   "metadata": {},
   "source": [
    "    docker-compose up -d --build"
   ]
  },
  {
   "cell_type": "markdown",
   "metadata": {},
   "source": [
    "Now, that all three services are up, access the web interface by clicking the Link Extractor. There should be no visual difference from the previous step. However, if you extract links from a page with a lot of links, the first time it should take longer, but the successive attempts to the same page should return the response fairly quickly. To check whether or not the Redis service is being utilized, we can use docker-compose exec followed by the redis service name and the Redis CLI’s monitor command:"
   ]
  },
  {
   "cell_type": "markdown",
   "metadata": {},
   "source": [
    "    docker-compose exec redis redis-cli monitor"
   ]
  },
  {
   "cell_type": "markdown",
   "metadata": {},
   "source": [
    "Now, try to extract links from some web pages using the web interface and see the difference in Redis log entries for pages that are scraped the first time and those that are repeated. Before continuing further with the tutorial, stop the interactive monitor stream as a result of the above redis-cli command by pressing Ctrl + C keys while the interactive terminal is in focus.\n",
    "\n",
    "Now that we are not mounting the /www folder inside the container, local changes should not reflect in the running service:"
   ]
  },
  {
   "cell_type": "markdown",
   "metadata": {},
   "source": [
    "    sed -i 's/Link Extractor/Super Link Extractor/g' www/index.php"
   ]
  },
  {
   "cell_type": "markdown",
   "metadata": {},
   "source": [
    "Now, shut these services down and get ready for the next step:"
   ]
  },
  {
   "cell_type": "markdown",
   "metadata": {},
   "source": [
    "    docker-compose down"
   ]
  },
  {
   "cell_type": "markdown",
   "metadata": {},
   "source": [
    "We have successfully orchestrated three microservices to compose our Link Extractor application. We now have an application stack that represents the architecture illustrated in the figure shown in the introduction of this tutorial. In the next step we will explore how easy it is to swap components from an application with the microservice architecture."
   ]
  },
  {
   "cell_type": "markdown",
   "metadata": {},
   "source": [
    "So far, we have used docker-compose utility to orchestrate the application stack, which is good for development environment, but for production environment we use docker stack deploy command to run the application in a Docker Swarm Cluster. It is left for you as an assignment to deploy this application in a Docker Swarm Cluster."
   ]
  },
  {
   "cell_type": "markdown",
   "metadata": {},
   "source": [
    "> Polubno mikrostoritev bi lahko zamenjali z implementacijo v drugem jeziku."
   ]
  },
  {
   "cell_type": "markdown",
   "metadata": {},
   "source": [
    "We started this tutorial with a simple Python script that scrapes links from a give web page URL. We demonstrated various difficulties in running the script. We then illustrated how easy to run and portable the script becomes onces it is containerized. In the later steps we gradually evolved the script into a multi-service application stack. In the process we explored various concepts of microservice architecture and how Docker tools can be helpful in orchestrating a multi-service stack. Finally, we demonstrated the ease of microservice component swapping and data persistence."
   ]
  },
  {
   "cell_type": "markdown",
   "metadata": {},
   "source": [
    "## More improvements"
   ]
  },
  {
   "cell_type": "markdown",
   "metadata": {},
   "source": [
    "- dodajanje volumes za redis\n",
    "- dodajanje networka\n",
    "- buildanje slik in dodajanje na DockerHub\n",
    "- varnost na redisu\n",
    "- https na glavni instanci\n",
    "- flask dodat production server"
   ]
  }
 ],
 "metadata": {
  "kernelspec": {
   "display_name": "Python 3",
   "language": "python",
   "name": "python3"
  },
  "language_info": {
   "codemirror_mode": {
    "name": "ipython",
    "version": 3
   },
   "file_extension": ".py",
   "mimetype": "text/x-python",
   "name": "python",
   "nbconvert_exporter": "python",
   "pygments_lexer": "ipython3",
   "version": "3.7.3"
  }
 },
 "nbformat": 4,
 "nbformat_minor": 2
}
