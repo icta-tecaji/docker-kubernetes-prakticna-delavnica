{
 "cells": [
  {
   "attachments": {},
   "cell_type": "markdown",
   "metadata": {},
   "source": [
    "# 4) Vaja: Dockerizacija Flask s Postgres, Gunicorn in Nginx"
   ]
  },
  {
   "cell_type": "markdown",
   "metadata": {},
   "source": [
    "This is a step-by-step tutorial that details how to configure Flask to run on Docker with Postgres. For production environments, we'll add on Nginx and Gunicorn. We'll also take a look at how to serve static and user-uploaded media files via Nginx."
   ]
  },
  {
   "cell_type": "markdown",
   "metadata": {},
   "source": [
    "## Project Setup"
   ]
  },
  {
   "cell_type": "markdown",
   "metadata": {},
   "source": [
    "    mkdir services && cd services\n",
    "    mkdir web && cd web\n",
    "    mkdir project"
   ]
  },
  {
   "cell_type": "markdown",
   "metadata": {},
   "source": [
    "Next, let's create a new Flask app.\n",
    "\n",
    "Add an `__init__.py` file to the \"project\" directory and configure the first route:"
   ]
  },
  {
   "cell_type": "code",
   "execution_count": null,
   "metadata": {},
   "outputs": [],
   "source": [
    "from flask import Flask, jsonify\n",
    "\n",
    "\n",
    "app = Flask(__name__)\n",
    "\n",
    "\n",
    "@app.route(\"/\")\n",
    "def hello_world():\n",
    "    return jsonify(hello=\"world\")"
   ]
  },
  {
   "cell_type": "markdown",
   "metadata": {},
   "source": [
    "Then, to configure the Flask CLI tool to run and manage the app from the command line, add a manage.py file to the \"web\" directory:"
   ]
  },
  {
   "cell_type": "code",
   "execution_count": null,
   "metadata": {},
   "outputs": [],
   "source": [
    "from flask.cli import FlaskGroup\n",
    "\n",
    "from project import app\n",
    "\n",
    "\n",
    "cli = FlaskGroup(app)\n",
    "\n",
    "\n",
    "if __name__ == \"__main__\":\n",
    "    cli()"
   ]
  },
  {
   "cell_type": "markdown",
   "metadata": {},
   "source": [
    "Create a requirements.txt file in the \"web\" directory and add Flask as a dependency:\n",
    "\n",
    "    Flask==1.1.1"
   ]
  },
  {
   "cell_type": "markdown",
   "metadata": {},
   "source": [
    "Your project structure should look like:"
   ]
  },
  {
   "cell_type": "markdown",
   "metadata": {},
   "source": [
    "    └── web\n",
    "        ├── manage.py\n",
    "        ├── project\n",
    "        │   └── __init__.py\n",
    "        └── requirements.txt"
   ]
  },
  {
   "cell_type": "markdown",
   "metadata": {},
   "source": [
    "## Docker - del01"
   ]
  },
  {
   "cell_type": "markdown",
   "metadata": {},
   "source": [
    "Install Docker, if you don't already have it, then add a Dockerfile to the \"web\" directory:"
   ]
  },
  {
   "cell_type": "markdown",
   "metadata": {},
   "source": [
    "```Dockerfile\n",
    "# pull official base image\n",
    "FROM python:3.8.1-slim-buster\n",
    "\n",
    "# set work directory\n",
    "WORKDIR /usr/src/app\n",
    "\n",
    "# set environment variables\n",
    "ENV PYTHONDONTWRITEBYTECODE 1\n",
    "ENV PYTHONUNBUFFERED 1\n",
    "\n",
    "# install dependencies\n",
    "RUN pip install --upgrade pip\n",
    "COPY ./requirements.txt /usr/src/app/requirements.txt\n",
    "RUN pip install -r requirements.txt\n",
    "\n",
    "# copy project\n",
    "COPY . /usr/src/app/\n",
    "```"
   ]
  },
  {
   "cell_type": "markdown",
   "metadata": {},
   "source": [
    "So, we started with a slim-buster-based Docker image for Python 3.8.1. We then set a working directory along with two environment variables:\n",
    "\n",
    "1. PYTHONDONTWRITEBYTECODE: Prevents Python from writing pyc files to disc (equivalent to python -B option)\n",
    "2. PYTHONUNBUFFERED: Prevents Python from buffering stdout and stderr (equivalent to python -u option)\n",
    "\n",
    "Finally, we updated Pip, copied over the requirements.txt file, installed the dependencies, and copied over the Flask app itself.\n",
    "\n",
    "> Review Docker for Python Developers for more on structuring Dockerfiles as well as some best practices for configuring Docker for Python-based development.\n",
    "\n",
    "Next, add a docker-compose.yml file to the project root:"
   ]
  },
  {
   "cell_type": "markdown",
   "metadata": {},
   "source": [
    "```yml\n",
    "version: '3.7'\n",
    "\n",
    "services:\n",
    "  web:\n",
    "    build: ./services/web\n",
    "    command: python manage.py run -h 0.0.0.0\n",
    "    volumes:\n",
    "      - ./services/web/:/usr/src/app/\n",
    "    ports:\n",
    "      - 5000:5000\n",
    "    env_file:\n",
    "      - ./.env.dev\n",
    "```"
   ]
  },
  {
   "cell_type": "markdown",
   "metadata": {},
   "source": [
    "Then, create a `.env.dev` file in the project root to store environment variables for developmen"
   ]
  },
  {
   "cell_type": "markdown",
   "metadata": {},
   "source": [
    "    FLASK_APP=project/__init__.py\n",
    "    FLASK_ENV=development"
   ]
  },
  {
   "cell_type": "markdown",
   "metadata": {},
   "source": [
    "Build the image:\n",
    "\n",
    "    docker-compose build\n",
    "\n",
    "Once the image is built, run the container:\n",
    "\n",
    "    docker-compose up -d\n",
    "\n",
    "Navigate to http://localhost:5000/ to again view the hello world sanity check.\n",
    "\n",
    "> Check for errors in the logs if this doesn't work via docker-compose logs -f."
   ]
  },
  {
   "cell_type": "markdown",
   "metadata": {},
   "source": [
    "## Postgres - del02"
   ]
  },
  {
   "cell_type": "markdown",
   "metadata": {},
   "source": [
    "To configure Postgres, we need to add a new service to the docker-compose.yml file, set up Flask-SQLAlchemy, and install Psycopg2.\n",
    "\n",
    "First, add a new service called db to docker-compose.yml:"
   ]
  },
  {
   "cell_type": "markdown",
   "metadata": {},
   "source": [
    "    version: '3.7'\n",
    "\n",
    "    services:\n",
    "      web:\n",
    "        build: ./services/web\n",
    "        command: python manage.py run -h 0.0.0.0\n",
    "        volumes:\n",
    "          - ./services/web/:/usr/src/app/\n",
    "        ports:\n",
    "          - 5000:5000\n",
    "        env_file:\n",
    "          - ./.env.dev\n",
    "        depends_on:\n",
    "          - db\n",
    "      db:\n",
    "        image: postgres:12-alpine\n",
    "        volumes:\n",
    "          - postgres_data:/var/lib/postgresql/data/\n",
    "        environment:\n",
    "          - POSTGRES_USER=hello_flask\n",
    "          - POSTGRES_PASSWORD=hello_flask\n",
    "          - POSTGRES_DB=hello_flask_dev\n",
    "\n",
    "    volumes:\n",
    "      postgres_data:"
   ]
  },
  {
   "cell_type": "markdown",
   "metadata": {},
   "source": [
    "To persist the data beyond the life of the container we configured a volume. This config will bind postgres_data to the \"/var/lib/postgresql/data/\" directory in the container.\n",
    "\n",
    "We also added an environment key to define a name for the default database and set a username and password.\n",
    "\n",
    "> Review the \"Environment Variables\" section of the Postgres Docker Hub page for more info.\n",
    "\n",
    "Add a DATABASE_URL environment variable to .env.dev as well:"
   ]
  },
  {
   "cell_type": "markdown",
   "metadata": {},
   "source": [
    "    FLASK_APP=project/__init__.py\n",
    "    FLASK_ENV=development\n",
    "    DATABASE_URL=postgresql://hello_flask:hello_flask@db:5432/hello_flask_dev"
   ]
  },
  {
   "cell_type": "markdown",
   "metadata": {},
   "source": [
    "Then, add a new file called config.py to the \"project\" directory, where we'll define environment-specific configuration variables:"
   ]
  },
  {
   "cell_type": "code",
   "execution_count": null,
   "metadata": {},
   "outputs": [],
   "source": [
    "import os\n",
    "\n",
    "\n",
    "basedir = os.path.abspath(os.path.dirname(__file__))\n",
    "\n",
    "\n",
    "class Config(object):\n",
    "    SQLALCHEMY_DATABASE_URI = os.getenv(\"DATABASE_URL\", \"sqlite://\")\n",
    "    SQLALCHEMY_TRACK_MODIFICATIONS = False"
   ]
  },
  {
   "cell_type": "markdown",
   "metadata": {},
   "source": [
    "Here, the database is configured based on the DATABASE_URL environment variable that we just defined. Take note of the default value.\n",
    "\n",
    "Update `__init__.py` to pull in the config on init:"
   ]
  },
  {
   "cell_type": "code",
   "execution_count": null,
   "metadata": {},
   "outputs": [],
   "source": [
    "from flask import Flask, jsonify\n",
    "\n",
    "\n",
    "app = Flask(__name__)\n",
    "app.config.from_object(\"project.config.Config\")\n",
    "\n",
    "\n",
    "@app.route(\"/\")\n",
    "def hello_world():\n",
    "    return jsonify(hello=\"world\")"
   ]
  },
  {
   "cell_type": "markdown",
   "metadata": {},
   "source": [
    "Add Flask-SQLAlchemy and Psycopg2 to requirements.txt:\n",
    "\n",
    "    Flask==1.1.1\n",
    "    Flask-SQLAlchemy==2.4.1\n",
    "    psycopg2-binary==2.8.4"
   ]
  },
  {
   "cell_type": "markdown",
   "metadata": {},
   "source": [
    "Update `__init__.py` again to create a new SQLAlchemy instance and define a database model:"
   ]
  },
  {
   "cell_type": "code",
   "execution_count": null,
   "metadata": {},
   "outputs": [],
   "source": [
    "from flask import Flask, jsonify\n",
    "from flask_sqlalchemy import SQLAlchemy\n",
    "\n",
    "\n",
    "app = Flask(__name__)\n",
    "app.config.from_object(\"project.config.Config\")\n",
    "db = SQLAlchemy(app)\n",
    "\n",
    "\n",
    "class User(db.Model):\n",
    "    __tablename__ = \"users\"\n",
    "\n",
    "    id = db.Column(db.Integer, primary_key=True)\n",
    "    email = db.Column(db.String(128), unique=True, nullable=False)\n",
    "    active = db.Column(db.Boolean(), default=True, nullable=False)\n",
    "\n",
    "    def __init__(self, email):\n",
    "        self.email = email\n",
    "\n",
    "\n",
    "@app.route(\"/\")\n",
    "def hello_world():\n",
    "    return jsonify(hello=\"world\")"
   ]
  },
  {
   "cell_type": "markdown",
   "metadata": {},
   "source": [
    "Finally, update manage.py:"
   ]
  },
  {
   "cell_type": "code",
   "execution_count": null,
   "metadata": {},
   "outputs": [],
   "source": [
    "from flask.cli import FlaskGroup\n",
    "\n",
    "from project import app, db\n",
    "\n",
    "\n",
    "cli = FlaskGroup(app)\n",
    "\n",
    "\n",
    "@cli.command(\"create_db\")\n",
    "def create_db():\n",
    "    db.drop_all()\n",
    "    db.create_all()\n",
    "    db.session.commit()\n",
    "\n",
    "\n",
    "if __name__ == \"__main__\":\n",
    "    cli()"
   ]
  },
  {
   "cell_type": "markdown",
   "metadata": {},
   "source": [
    "This registers a new command, create_db, to the CLI so that we can run it from the command line, which we'll use shortly to apply the model to the database.\n",
    "\n",
    "Build the new image and spin up the two containers:"
   ]
  },
  {
   "cell_type": "markdown",
   "metadata": {},
   "source": [
    "    docker-compose up -d --build"
   ]
  },
  {
   "cell_type": "markdown",
   "metadata": {},
   "source": [
    "Create the table:\n",
    "\n",
    "    docker-compose exec web python manage.py create_db"
   ]
  },
  {
   "cell_type": "markdown",
   "metadata": {},
   "source": [
    "> Get the following error? `sqlalchemy.exc.OperationalError: (psycopg2.OperationalError) FATAL:  database \"hello_flask_dev\" does not exist`.  Run docker-compose down -v to remove the volumes along with the containers. Then, re-build the images, run the containers, and apply the migrations."
   ]
  },
  {
   "cell_type": "markdown",
   "metadata": {},
   "source": [
    "Ensure the users table was created:"
   ]
  },
  {
   "cell_type": "markdown",
   "metadata": {},
   "source": [
    "    docker-compose exec db psql --username=hello_flask --dbname=hello_flask_dev\n",
    "    hello_flask_dev=# \\l\n",
    "    hello_flask_dev=# \\c hello_flask_dev\n",
    "    hello_flask_dev=# \\dt\n",
    "    hello_flask_dev=# \\q"
   ]
  },
  {
   "cell_type": "markdown",
   "metadata": {},
   "source": [
    "You can check that the volume was created as well by running:\n",
    "\n",
    "    docker volume inspect project_postgres_data"
   ]
  },
  {
   "cell_type": "markdown",
   "metadata": {},
   "source": [
    "Next, add an entrypoint.sh file to the \"web\" directory to verify that Postgres is up and healthy before creating the database table and running the Flask development server:"
   ]
  },
  {
   "cell_type": "markdown",
   "metadata": {},
   "source": [
    "    #!/bin/sh\n",
    "\n",
    "    if [ \"$DATABASE\" = \"postgres\" ]\n",
    "    then\n",
    "        echo \"Waiting for postgres...\"\n",
    "\n",
    "        while ! nc -z $SQL_HOST $SQL_PORT; do\n",
    "          sleep 0.1\n",
    "        done\n",
    "\n",
    "        echo \"PostgreSQL started\"\n",
    "    fi\n",
    "\n",
    "    python manage.py create_db\n",
    "\n",
    "    exec \"$@\""
   ]
  },
  {
   "cell_type": "markdown",
   "metadata": {},
   "source": [
    "Take note of the environment variables.\n",
    "\n",
    "Update the file permissions locally:"
   ]
  },
  {
   "cell_type": "markdown",
   "metadata": {},
   "source": [
    "    chmod +x services/web/entrypoint.sh"
   ]
  },
  {
   "cell_type": "markdown",
   "metadata": {},
   "source": [
    "Then, update the Dockerfile to install Netcat, copy over the entrypoint.sh file, and run the file as the Docker entrypoint command:"
   ]
  },
  {
   "cell_type": "markdown",
   "metadata": {},
   "source": [
    "    # pull official base image\n",
    "    FROM python:3.8.1-slim-buster\n",
    "\n",
    "    # set work directory\n",
    "    WORKDIR /usr/src/app\n",
    "\n",
    "    # set environment variables\n",
    "    ENV PYTHONDONTWRITEBYTECODE 1\n",
    "    ENV PYTHONUNBUFFERED 1\n",
    "\n",
    "    # install system dependencies\n",
    "    RUN apt-get update && apt-get install -y netcat\n",
    "\n",
    "    # install dependencies\n",
    "    RUN pip install --upgrade pip\n",
    "    COPY ./requirements.txt /usr/src/app/requirements.txt\n",
    "    RUN pip install -r requirements.txt\n",
    "\n",
    "    # copy project\n",
    "    COPY . /usr/src/app/\n",
    "\n",
    "    # run entrypoint.sh\n",
    "    ENTRYPOINT [\"/usr/src/app/entrypoint.sh\"]"
   ]
  },
  {
   "cell_type": "markdown",
   "metadata": {},
   "source": [
    "Add the SQL_HOST, SQL_PORT, and DATABASE environment variables, for the entrypoint.sh script, to .env.dev:"
   ]
  },
  {
   "cell_type": "markdown",
   "metadata": {},
   "source": [
    "    FLASK_APP=project/__init__.py\n",
    "    FLASK_ENV=development\n",
    "    DATABASE_URL=postgresql://hello_flask:hello_flask@db:5432/hello_flask_dev\n",
    "    SQL_HOST=db\n",
    "    SQL_PORT=5432\n",
    "    DATABASE=postgres"
   ]
  },
  {
   "cell_type": "markdown",
   "metadata": {},
   "source": [
    "Test it out again:\n",
    "- Re-build the images\n",
    "- Run the containers\n",
    "- Try http://localhost:5000/"
   ]
  },
  {
   "cell_type": "markdown",
   "metadata": {},
   "source": [
    "Let's also add a CLI seed command for adding sample users to the users table in manage.py:"
   ]
  },
  {
   "cell_type": "code",
   "execution_count": null,
   "metadata": {},
   "outputs": [],
   "source": [
    "from flask.cli import FlaskGroup\n",
    "\n",
    "from project import app, db, User\n",
    "\n",
    "\n",
    "cli = FlaskGroup(app)\n",
    "\n",
    "\n",
    "@cli.command(\"create_db\")\n",
    "def create_db():\n",
    "    db.drop_all()\n",
    "    db.create_all()\n",
    "    db.session.commit()\n",
    "\n",
    "\n",
    "@cli.command(\"seed_db\")\n",
    "def seed_db():\n",
    "    db.session.add(User(email=\"michael@mherman.org\"))\n",
    "    db.session.commit()\n",
    "\n",
    "\n",
    "if __name__ == \"__main__\":\n",
    "    cli()"
   ]
  },
  {
   "cell_type": "markdown",
   "metadata": {},
   "source": [
    "Try it out:"
   ]
  },
  {
   "cell_type": "markdown",
   "metadata": {},
   "source": [
    "    docker-compose exec web python manage.py seed_db\n",
    "    docker-compose exec db psql --username=hello_flask --dbname=hello_flask_dev\n",
    "    hello_flask_dev=# \\c hello_flask_dev\n",
    "    hello_flask_dev=# select * from users;\n",
    "    hello_flask_dev=# \\q"
   ]
  },
  {
   "cell_type": "markdown",
   "metadata": {},
   "source": [
    "Despite adding Postgres, we can still create an independent Docker image for Flask by not setting the DATABASE_URL environment variable. To test, build a new image and then run a new container:"
   ]
  },
  {
   "cell_type": "markdown",
   "metadata": {},
   "source": [
    "    docker build -f ./services/web/Dockerfile -t hello_flask:latest ./services/web\n",
    "    docker run -p 5001:5000 \\\n",
    "        -e \"FLASK_APP=project/__init__.py\" -e \"FLASK_ENV=development\" \\\n",
    "        hello_flask python /usr/src/app/manage.py run -h 0.0.0.0"
   ]
  },
  {
   "cell_type": "markdown",
   "metadata": {},
   "source": [
    "You should be able to view the hello world sanity check at http://localhost:5001."
   ]
  },
  {
   "cell_type": "markdown",
   "metadata": {},
   "source": [
    "## Gunicorn - del03"
   ]
  },
  {
   "cell_type": "markdown",
   "metadata": {},
   "source": [
    "Moving along, for production environments, let's add Gunicorn, a production-grade WSGI server, to the requirements file:"
   ]
  },
  {
   "cell_type": "markdown",
   "metadata": {},
   "source": [
    "    Flask==1.1.1\n",
    "    Flask-SQLAlchemy==2.4.1\n",
    "    gunicorn==20.0.4\n",
    "    psycopg2-binary==2.8.4"
   ]
  },
  {
   "cell_type": "markdown",
   "metadata": {},
   "source": [
    "Since we still want to use Flask's built-in server in development, create a new compose file called docker-compose.prod.yml for production:"
   ]
  },
  {
   "cell_type": "markdown",
   "metadata": {},
   "source": [
    "Take note of the default command. We're running Gunicorn rather than the Flask development server. We also removed the volume from the web service since we don't need it in production. Finally, we're using separate environment variable files to define environment variables for both services that will be passed to the container at runtime."
   ]
  },
  {
   "cell_type": "markdown",
   "metadata": {},
   "source": [
    ".env.prod:\n",
    "    \n",
    "    FLASK_APP=project/__init__.py\n",
    "    FLASK_ENV=production\n",
    "    DATABASE_URL=postgresql://hello_flask:hello_flask@db:5432/hello_flask_prod\n",
    "    SQL_HOST=db\n",
    "    SQL_PORT=5432\n",
    "    DATABASE=postgres"
   ]
  },
  {
   "cell_type": "markdown",
   "metadata": {},
   "source": [
    ".env.prod.db:\n",
    "\n",
    "    POSTGRES_USER=hello_flask\n",
    "    POSTGRES_PASSWORD=hello_flask\n",
    "    POSTGRES_DB=hello_flask_prod"
   ]
  },
  {
   "cell_type": "markdown",
   "metadata": {},
   "source": [
    "Add the two files to the project root. You'll probably want to keep them out of version control, so add them to a .gitignore file.\n",
    "\n",
    "Bring down the development containers (and the associated volumes with the -v flag):"
   ]
  },
  {
   "cell_type": "markdown",
   "metadata": {},
   "source": [
    "    docker-compose down -v"
   ]
  },
  {
   "cell_type": "markdown",
   "metadata": {},
   "source": [
    "Then, build the production images and spin up the containers:\n",
    "\n",
    "    docker-compose -f docker-compose.prod.yml up -d --build"
   ]
  },
  {
   "cell_type": "markdown",
   "metadata": {},
   "source": [
    "Verify that the hello_flask_prod database was created along with the users table. Test out http://localhost:5000/."
   ]
  },
  {
   "cell_type": "markdown",
   "metadata": {},
   "source": [
    "## Production Dockerfile - del04"
   ]
  },
  {
   "cell_type": "markdown",
   "metadata": {},
   "source": [
    "Did you notice that we're still running the create_db command, which drops all existing tables and then creates the tables from the models, every time the container is run? This is fine in development, but let's create a new entrypoint file for production.\n",
    "\n",
    "entrypoint.prod.sh:"
   ]
  },
  {
   "cell_type": "markdown",
   "metadata": {},
   "source": [
    "    #!/bin/sh\n",
    "\n",
    "    if [ \"$DATABASE\" = \"postgres\" ]\n",
    "    then\n",
    "        echo \"Waiting for postgres...\"\n",
    "\n",
    "        while ! nc -z $SQL_HOST $SQL_PORT; do\n",
    "          sleep 0.1\n",
    "        done\n",
    "\n",
    "        echo \"PostgreSQL started\"\n",
    "    fi\n",
    "\n",
    "    exec \"$@\""
   ]
  },
  {
   "cell_type": "markdown",
   "metadata": {},
   "source": [
    "Update the file permissions locally:\n",
    "\n",
    "    chmod +x services/web/entrypoint.prod.sh\n",
    "\n",
    "To use this file, create a new Dockerfile called Dockerfile.prod for use with production builds:"
   ]
  },
  {
   "cell_type": "markdown",
   "metadata": {},
   "source": [
    "```Dockerfile\n",
    "###########\n",
    "# BUILDER #\n",
    "###########\n",
    "\n",
    "# pull official base image\n",
    "FROM python:3.8.1-slim-buster as builder\n",
    "\n",
    "# set work directory\n",
    "WORKDIR /usr/src/app\n",
    "\n",
    "# set environment variables\n",
    "ENV PYTHONDONTWRITEBYTECODE 1\n",
    "ENV PYTHONUNBUFFERED 1\n",
    "\n",
    "# install system dependencies\n",
    "RUN apt-get update && \\\n",
    "    apt-get install -y --no-install-recommends gcc\n",
    "\n",
    "# lint\n",
    "RUN pip install --upgrade pip\n",
    "RUN pip install flake8\n",
    "COPY . /usr/src/app/\n",
    "RUN flake8 --ignore=E501,F401 .\n",
    "\n",
    "# install python dependencies\n",
    "COPY ./requirements.txt .\n",
    "RUN pip wheel --no-cache-dir --no-deps --wheel-dir /usr/src/app/wheels -r requirements.txt\n",
    "\n",
    "\n",
    "#########\n",
    "# FINAL #\n",
    "#########\n",
    "\n",
    "# pull official base image\n",
    "FROM python:3.8.1-slim-buster\n",
    "\n",
    "# create directory for the app user\n",
    "RUN mkdir -p /home/app\n",
    "\n",
    "# create the app user\n",
    "RUN addgroup -S app && adduser -S app -G app\n",
    "\n",
    "# create the appropriate directories\n",
    "ENV HOME=/home/app\n",
    "ENV APP_HOME=/home/app/web\n",
    "RUN mkdir $APP_HOME\n",
    "WORKDIR $APP_HOME\n",
    "\n",
    "# install dependencies\n",
    "RUN apt-get update && apt-get install -y --no-install-recommends netcat\n",
    "COPY --from=builder /usr/src/app/wheels /wheels\n",
    "COPY --from=builder /usr/src/app/requirements.txt .\n",
    "RUN pip install --upgrade pip\n",
    "RUN pip install --no-cache /wheels/*\n",
    "\n",
    "# copy entrypoint-prod.sh\n",
    "COPY ./entrypoint.prod.sh $APP_HOME\n",
    "\n",
    "# copy project\n",
    "COPY . $APP_HOME\n",
    "\n",
    "# chown all the files to the app user\n",
    "RUN chown -R app:app $APP_HOME\n",
    "\n",
    "# change to the app user\n",
    "USER app\n",
    "\n",
    "# run entrypoint.prod.sh\n",
    "ENTRYPOINT [\"/home/app/web/entrypoint.prod.sh\"]\n",
    "```"
   ]
  },
  {
   "cell_type": "markdown",
   "metadata": {},
   "source": [
    "Here, we used a Docker multi-stage build to reduce the final image size. Essentially, builder is a temporary image that's used for building the Python wheels. The wheels are then copied over to the final production image and the builder image is discarded.\n",
    "\n",
    "> You could take the multi-stage build approach a step further and use a single Dockerfile instead of creating two Dockerfiles. Think of the pros and cons of using this approach over two different files.\n",
    "\n",
    "Did you notice that we created a non-root user? By default, Docker runs container processes as root inside of a container. This is a bad practice since attackers can gain root access to the Docker host if they manage to break out of the container. If you're root in the container, you'll be root on the host.\n",
    "\n",
    "Update the web service within the docker-compose.prod.yml file to build with Dockerfile.prod:"
   ]
  },
  {
   "cell_type": "markdown",
   "metadata": {},
   "source": [
    "    web:\n",
    "      build:\n",
    "        context: ./services/web\n",
    "        dockerfile: Dockerfile.prod\n",
    "      command: gunicorn --bind 0.0.0.0:5000 manage:app\n",
    "      ports:\n",
    "        - 5000:5000\n",
    "      env_file:\n",
    "        - ./.env.prod\n",
    "      depends_on:\n",
    "        - db"
   ]
  },
  {
   "cell_type": "markdown",
   "metadata": {},
   "source": [
    "Try it out:\n",
    "\n",
    "    docker-compose -f docker-compose.prod.yml down -v\n",
    "    docker-compose -f docker-compose.prod.yml up -d --build\n",
    "    docker-compose -f docker-compose.prod.yml exec web python manage.py create_db"
   ]
  },
  {
   "cell_type": "markdown",
   "metadata": {},
   "source": [
    "## Nginx - del05"
   ]
  },
  {
   "cell_type": "code",
   "execution_count": null,
   "metadata": {},
   "outputs": [],
   "source": []
  },
  {
   "cell_type": "code",
   "execution_count": null,
   "metadata": {},
   "outputs": [],
   "source": []
  },
  {
   "cell_type": "code",
   "execution_count": null,
   "metadata": {},
   "outputs": [],
   "source": []
  },
  {
   "cell_type": "code",
   "execution_count": null,
   "metadata": {},
   "outputs": [],
   "source": []
  },
  {
   "cell_type": "code",
   "execution_count": null,
   "metadata": {},
   "outputs": [],
   "source": []
  },
  {
   "cell_type": "code",
   "execution_count": null,
   "metadata": {},
   "outputs": [],
   "source": []
  },
  {
   "cell_type": "code",
   "execution_count": null,
   "metadata": {},
   "outputs": [],
   "source": []
  },
  {
   "cell_type": "code",
   "execution_count": null,
   "metadata": {},
   "outputs": [],
   "source": []
  },
  {
   "cell_type": "code",
   "execution_count": null,
   "metadata": {},
   "outputs": [],
   "source": []
  },
  {
   "cell_type": "code",
   "execution_count": null,
   "metadata": {},
   "outputs": [],
   "source": []
  },
  {
   "cell_type": "code",
   "execution_count": null,
   "metadata": {},
   "outputs": [],
   "source": []
  }
 ],
 "metadata": {
  "kernelspec": {
   "display_name": "Python 3",
   "language": "python",
   "name": "python3"
  },
  "language_info": {
   "codemirror_mode": {
    "name": "ipython",
    "version": 3
   },
   "file_extension": ".py",
   "mimetype": "text/x-python",
   "name": "python",
   "nbconvert_exporter": "python",
   "pygments_lexer": "ipython3",
   "version": "3.7.3"
  }
 },
 "nbformat": 4,
 "nbformat_minor": 2
}
