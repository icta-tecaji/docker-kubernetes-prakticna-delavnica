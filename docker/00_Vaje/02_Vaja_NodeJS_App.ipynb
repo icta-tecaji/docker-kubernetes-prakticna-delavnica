{
 "cells": [
  {
   "cell_type": "markdown",
   "metadata": {},
   "source": [
    "# 2) Vaja: NodeJSApp"
   ]
  },
  {
   "cell_type": "markdown",
   "metadata": {},
   "source": [
    "Naredimo mapo `simpleweb`"
   ]
  },
  {
   "cell_type": "markdown",
   "metadata": {},
   "source": [
    "- Naredimo package.json in index.js"
   ]
  },
  {
   "cell_type": "markdown",
   "metadata": {},
   "source": [
    "```json\n",
    "{\n",
    "  \"dependencies\": {\n",
    "    \"express\": \"*\"\n",
    "  },\n",
    "  \"scripts\": {\n",
    "    \"start\": \"node index.js\"\n",
    "  }\n",
    "}\n",
    "\n",
    "```"
   ]
  },
  {
   "cell_type": "markdown",
   "metadata": {},
   "source": [
    "```javascript\n",
    "const express = require(\"express\");\n",
    "\n",
    "const app = express();\n",
    "\n",
    "app.get(\"/\", (req, res) => {\n",
    "  res.send(\"How are you doing\");\n",
    "});\n",
    "\n",
    "app.listen(8080, () => {\n",
    "  console.log(\"Listening on port 8080\");\n",
    "});\n",
    "\n",
    "\n",
    "\n",
    "```"
   ]
  },
  {
   "cell_type": "markdown",
   "metadata": {},
   "source": [
    "Začnemo delat Dockerfile"
   ]
  },
  {
   "cell_type": "markdown",
   "metadata": {},
   "source": [
    "```Dockerfile\n",
    "# Specify a base image\n",
    "FROM node:alpine\n",
    "\n",
    "WORKDIR /usr/app\n",
    "\n",
    "# Install some depenendencies\n",
    "COPY ./package.json ./\n",
    "RUN npm install\n",
    "COPY ./ ./\n",
    "\n",
    "# Default command\n",
    "CMD [\"npm\", \"start\"]\n",
    "```"
   ]
  },
  {
   "cell_type": "markdown",
   "metadata": {},
   "source": [
    "- pokažemo kako dobimo node:alpine sliko, pa tage razložimo\n",
    "- napišemo ukaz za zagon\n",
    "- pokažemo najprej brez kopiranja datotek, pa vidimo da manjkajo\n",
    "- workdir -> da ne bo v rootu, da ne overwrita kakšne druge sistemske mape\n",
    "- dva copy-ja da ni potrebno rebildat vsega vsakič ko spremenimo aplikaicjo, če ne spremnimo odvisnosti"
   ]
  },
  {
   "cell_type": "markdown",
   "metadata": {},
   "source": [
    "https://docs.docker.com/engine/reference/builder/#understand-how-cmd-and-entrypoint-interact"
   ]
  },
  {
   "cell_type": "markdown",
   "metadata": {},
   "source": [
    "Zgradimo sliko:\n",
    "    \n",
    "    docker build -t leon11sj/simpleweb . \n",
    "    docker run leon11sj/simpleweb"
   ]
  },
  {
   "cell_type": "markdown",
   "metadata": {},
   "source": [
    "Zaženemo brskalnik, probamo ugotoviti zakaj ne dela?"
   ]
  },
  {
   "cell_type": "markdown",
   "metadata": {},
   "source": [
    "Ponovimo z port mappingom"
   ]
  },
  {
   "cell_type": "markdown",
   "metadata": {},
   "source": [
    "    docker run --rm -p 5000:8080 leon11sj/simpleweb"
   ]
  }
 ],
 "metadata": {
  "kernelspec": {
   "display_name": "Python 3",
   "language": "python",
   "name": "python3"
  },
  "language_info": {
   "codemirror_mode": {
    "name": "ipython",
    "version": 3
   },
   "file_extension": ".py",
   "mimetype": "text/x-python",
   "name": "python",
   "nbconvert_exporter": "python",
   "pygments_lexer": "ipython3",
   "version": "3.7.3"
  }
 },
 "nbformat": 4,
 "nbformat_minor": 2
}
