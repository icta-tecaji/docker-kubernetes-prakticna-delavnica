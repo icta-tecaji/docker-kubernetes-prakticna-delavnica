{
 "cells": [
  {
   "cell_type": "markdown",
   "metadata": {},
   "source": [
    "# 3) Vaja: NodeJS, Redis, docker-compose"
   ]
  },
  {
   "cell_type": "markdown",
   "metadata": {},
   "source": [
    "Naredimo mapo `visits`"
   ]
  },
  {
   "cell_type": "markdown",
   "metadata": {},
   "source": [
    "- Naredimo package.json in index.js"
   ]
  },
  {
   "cell_type": "markdown",
   "metadata": {},
   "source": [
    "```json\n",
    "{\n",
    "  \"dependencies\": {\n",
    "    \"express\": \"*\",\n",
    "    \"redis\": \"2.8.0\"\n",
    "  },\n",
    "  \"scripts\": {\n",
    "    \"start\": \"node index.js\"\n",
    "  }\n",
    "}\n",
    "\n",
    "\n",
    "```"
   ]
  },
  {
   "cell_type": "markdown",
   "metadata": {},
   "source": [
    "```javascript\n",
    "const express = require(\"express\");\n",
    "const redis = require(\"redis\");\n",
    "const process = require(\"process\");\n",
    "\n",
    "const app = express();\n",
    "const client = redis.createClient({\n",
    "  host: \"redis-server\",\n",
    "  port: 6379\n",
    "});\n",
    "client.set(\"visits\", 0);\n",
    "\n",
    "app.get(\"/\", (req, res) => {\n",
    "  //process.exit(0)\n",
    "  client.get(\"visits\", (err, visits) => {\n",
    "    res.send(\"Number of visits \" + visits);\n",
    "    client.set(\"visits\", parseInt(visits) + 1);\n",
    "  });\n",
    "});\n",
    "\n",
    "app.listen(8081, () => {\n",
    "  console.log(\"listening on port 8081\");\n",
    "});\n",
    "```"
   ]
  },
  {
   "cell_type": "markdown",
   "metadata": {},
   "source": [
    "Naredimo Dockerfile:"
   ]
  },
  {
   "cell_type": "markdown",
   "metadata": {},
   "source": [
    "```Dockerfile\n",
    "FROM node:alpine\n",
    "\n",
    "WORKDIR '/app'\n",
    "\n",
    "COPY package.json .\n",
    "RUN npm install\n",
    "COPY . .\n",
    "\n",
    "CMD [\"npm\",\"start\"]\n",
    "```"
   ]
  },
  {
   "cell_type": "markdown",
   "metadata": {},
   "source": [
    "Zgradimo sliko:\n",
    "    \n",
    "    docker build -t leon11sj/visits . "
   ]
  },
  {
   "cell_type": "markdown",
   "metadata": {},
   "source": [
    "Pokažemo na roko kako lahko zaženemo 2 kontejnerja."
   ]
  },
  {
   "cell_type": "markdown",
   "metadata": {},
   "source": [
    "    docker run redis\n",
    "    docker run leon11sj/visits\n",
    "    \n",
    "Morali bi ročno narediti omrežje, kar ni najboljša praksa."
   ]
  },
  {
   "cell_type": "markdown",
   "metadata": {},
   "source": [
    "Boljša praksa pri več storitvah je uporabiti docker-compose."
   ]
  },
  {
   "cell_type": "markdown",
   "metadata": {},
   "source": [
    "```yml\n",
    "version: \"3\"\n",
    "services:\n",
    "  redis-server:\n",
    "    image: \"redis\"\n",
    "  node-app:\n",
    "    restart: on-failure\n",
    "    build: .\n",
    "    ports:\n",
    "      - \"4001:8081\"\n",
    "```"
   ]
  },
  {
   "cell_type": "markdown",
   "metadata": {},
   "source": [
    "    docker-compose up\n",
    "    \n",
    "Rebuild the image\n",
    "\n",
    "    docker-compose up --build "
   ]
  },
  {
   "cell_type": "markdown",
   "metadata": {},
   "source": [
    "Pokažemo da compose nardi novi network, da združi naše kontejnerje skupaj"
   ]
  },
  {
   "cell_type": "markdown",
   "metadata": {},
   "source": [
    "Zaženemo kontejnerje v ozadju:\n",
    "    \n",
    "    docker-compose up -d "
   ]
  },
  {
   "cell_type": "markdown",
   "metadata": {},
   "source": [
    "Ustavimo:\n",
    "    \n",
    "    docker-compose down"
   ]
  },
  {
   "cell_type": "markdown",
   "metadata": {},
   "source": [
    "Pokažemo kako kontejner pade, in kako ga lahko resetiramo\n",
    "- odkomentiramo //process.exit(0)\n",
    "- dodamao v docker-compose  restart: on-failure\n",
    "- pokažemo različne stop kode (npr, 1,2)"
   ]
  },
  {
   "cell_type": "markdown",
   "metadata": {},
   "source": [
    "<table>\n",
    "  <thead>\n",
    "    <tr>\n",
    "      <th style=\"text-align: left\">Flag</th>\n",
    "      <th style=\"text-align: left\">Description</th>\n",
    "    </tr>\n",
    "  </thead>\n",
    "  <tbody>\n",
    "    <tr>\n",
    "      <td style=\"text-align: left\"><code class=\"highlighter-rouge\">no</code></td>\n",
    "      <td style=\"text-align: left\">Do not automatically restart the container. (the default)</td>\n",
    "    </tr>\n",
    "    <tr>\n",
    "      <td style=\"text-align: left\"><code class=\"highlighter-rouge\">on-failure</code></td>\n",
    "      <td style=\"text-align: left\">Restart the container if it exits due to an error, which manifests as a non-zero exit code.</td>\n",
    "    </tr>\n",
    "    <tr>\n",
    "      <td style=\"text-align: left\"><code class=\"highlighter-rouge\">always</code></td>\n",
    "      <td style=\"text-align: left\">Always restart the container if it stops. If it is manually stopped, it is restarted only when Docker daemon restarts or the container itself is manually restarted. (See the second bullet listed in <a href=\"#restart-policy-details\">restart policy details</a>)</td>\n",
    "    </tr>\n",
    "    <tr>\n",
    "      <td style=\"text-align: left\"><code class=\"highlighter-rouge\">unless-stopped</code></td>\n",
    "      <td style=\"text-align: left\">Similar to <code class=\"highlighter-rouge\">always</code>, except that when the container is stopped (manually or otherwise), it is not restarted even after Docker daemon restarts.</td>\n",
    "    </tr>\n",
    "  </tbody>\n",
    "</table>"
   ]
  },
  {
   "cell_type": "markdown",
   "metadata": {},
   "source": [
    "Pokaže samo kontejnerje, ki so zraven datoteke katero zaganjamo\n",
    "\n",
    "    docker-compose ps"
   ]
  }
 ],
 "metadata": {
  "kernelspec": {
   "display_name": "Python 3",
   "language": "python",
   "name": "python3"
  },
  "language_info": {
   "codemirror_mode": {
    "name": "ipython",
    "version": 3
   },
   "file_extension": ".py",
   "mimetype": "text/x-python",
   "name": "python",
   "nbconvert_exporter": "python",
   "pygments_lexer": "ipython3",
   "version": "3.7.3"
  }
 },
 "nbformat": 4,
 "nbformat_minor": 2
}
