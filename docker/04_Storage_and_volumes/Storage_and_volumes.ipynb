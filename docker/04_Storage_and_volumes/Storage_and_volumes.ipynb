{
 "cells": [
  {
   "cell_type": "markdown",
   "metadata": {},
   "source": [
    "\n",
    "# Storage and volumes"
   ]
  },
  {
   "cell_type": "markdown",
   "metadata": {},
   "source": [
    "## Bind mounts"
   ]
  },
  {
   "cell_type": "markdown",
   "metadata": {},
   "source": [
    "Consider the example in figure 4.3. Suppose you’re running a web server that\n",
    "depends on sensitive configuration on the host and emits access logs that need to be\n",
    "forwarded by your log-shipping system. You could use Docker to launch the web\n",
    "server in a container and bind-mount the configuration location as well as the location\n",
    "where you want the web server to write logs."
   ]
  },
  {
   "cell_type": "markdown",
   "metadata": {},
   "source": [
    "You can try this for yourself. Create a placeholder log file and create a special NGINX\n",
    "configuration file named example.conf. Run the following commands to create and\n",
    "populate the files:"
   ]
  },
  {
   "cell_type": "markdown",
   "metadata": {},
   "source": [
    "`gradiva/vaja01`\n",
    "\n",
    "    touch ./example.log\n",
    "    cat >./example.conf <<EOF\n",
    "    server {\n",
    "        listen 80;\n",
    "        server_name localhost;\n",
    "        access_log /var/log/nginx/custom.host.access.log main;\n",
    "        location / {\n",
    "            root /usr/share/nginx/html;\n",
    "            index index.html index.htm;\n",
    "        }\n",
    "    }\n",
    "    EOF"
   ]
  },
  {
   "cell_type": "markdown",
   "metadata": {},
   "source": [
    "Once a server is started with this configuration file, it will offer the NGINX default site\n",
    "at `http://localhost/`, and access logs for that site will be written to a file in the container\n",
    "at `/var/log/nginx/custom.host.access.log`. The following command will start\n",
    "an NGINX HTTP server in a container where your new configuration is bind-mounted\n",
    "to the server’s configuration root:"
   ]
  },
  {
   "cell_type": "markdown",
   "metadata": {},
   "source": [
    "    MAIN_PATH=${PWD}/gradiva/vaja01; \\\n",
    "    CONF_SRC=${MAIN_PATH}/example.conf; \\\n",
    "    CONF_DST=/etc/nginx/conf.d/default.conf; \\\n",
    "    LOG_SRC=${MAIN_PATH}/example.log; \\\n",
    "    LOG_DST=/var/log/nginx/custom.host.access.log; \\\n",
    "    docker run -d --name diaweb \\\n",
    "        --mount type=bind,src=${CONF_SRC},dst=${CONF_DST} \\\n",
    "        --mount type=bind,src=${LOG_SRC},dst=${LOG_DST} \\\n",
    "        -p 80:80 \\\n",
    "        nginx:latest"
   ]
  },
  {
   "cell_type": "markdown",
   "metadata": {},
   "source": [
    "With this container running, you should be able to point your web browser at\n",
    "`http://localhost/` and see the NGINX hello-world page, and you will not see any\n",
    "access logs in the container log stream: docker logs diaweb. However, you will be\n",
    "able to see those logs if you examine the example.log file in your home directory:\n",
    "`cat ./example.log`."
   ]
  },
  {
   "cell_type": "markdown",
   "metadata": {},
   "source": [
    "This example touches on an important feature of volumes. When you mount a volume\n",
    "on a container filesystem, it replaces the content that the image provides at that\n",
    "location. By default, the `nginx:latest` image provides some default configuration at\n",
    "`/etc/nginx/conf.d/default.conf`, but when you created the bind mount with a destination\n",
    "at that path, the content provided by the image was overridden by the content\n",
    "on the host. This behavior is the basis for the polymorphic container pattern discussed\n",
    "later in the chapter."
   ]
  },
  {
   "cell_type": "markdown",
   "metadata": {},
   "source": [
    "Expanding on this use case, suppose you want to make sure that the NGINX web\n",
    "server can’t change the contents of the configuration volume. Even the most trusted\n",
    "software can contain vulnerabilities, and it’s best to minimize the impact of an attack on\n",
    "your website. Fortunately, Linux provides a mechanism to make mount points read-only.\n",
    "You can do this by adding the `readonly=true` argument to the mount specification. In\n",
    "the example, you should change the run command to something like the following:"
   ]
  },
  {
   "cell_type": "markdown",
   "metadata": {},
   "source": [
    "    docker rm -f diaweb\n",
    "\n",
    "    MAIN_PATH=/home/leon11/docker-k8s/docker/Storage_and_volumes/gradiva/vaja01; \\\n",
    "    CONF_SRC=${MAIN_PATH}/example.conf; \\\n",
    "        CONF_DST=/etc/nginx/conf.d/default.conf; \\\n",
    "        LOG_SRC=${MAIN_PATH}/example.log; \\\n",
    "    LOG_DST=/var/log/nginx/custom.host.access.log; \\\n",
    "    docker run -d --name diaweb \\\n",
    "        --mount type=bind,src=${CONF_SRC},dst=${CONF_DST},readonly=true \\\n",
    "        --mount type=bind,src=${LOG_SRC},dst=${LOG_DST} \\\n",
    "        -p 80:80 \\\n",
    "        nginx:latest"
   ]
  },
  {
   "cell_type": "markdown",
   "metadata": {},
   "source": [
    "By creating the read-only mount, you can prevent any process inside the container from\n",
    "modifying the content of the volume. You can see this in action by running a quick test:"
   ]
  },
  {
   "cell_type": "markdown",
   "metadata": {},
   "source": [
    "    docker exec diaweb \\\n",
    "    sed -i \"s/listen 80/listen 8080/\" /etc/nginx/conf.d/default.conf"
   ]
  },
  {
   "cell_type": "markdown",
   "metadata": {},
   "source": [
    "This command executes a sed command inside the diaweb container and attempts\n",
    "to modify the configuration file. The command fails because the file is mounted as\n",
    "read-only."
   ]
  },
  {
   "cell_type": "markdown",
   "metadata": {},
   "source": [
    "The first problem with bind mounts is that they tie otherwise portable container\n",
    "descriptions to the filesystem of a specific host. If a container description depends on\n",
    "content at a specific location on the host filesystem, that description isn’t portable to\n",
    "hosts where the content is unavailable or available in some other location.\n",
    "\n",
    "The next big problem is that they create an opportunity for conflict with other\n",
    "containers. It would be a bad idea to start multiple instances of Cassandra that all use\n",
    "the same host location as a bind mount for data storage. In that case, each of the\n",
    "instances would compete for the same set of files. Without other tools such as file\n",
    "locks, that would likely result in corruption of the database.\n",
    "\n",
    "Bind mounts are appropriate tools for workstations, machines with specialized\n",
    "concerns, or in systems combined with more traditional configuration management\n",
    "tooling. It’s better to avoid these kinds of specific bindings in generalized platforms or\n",
    "hardware pools."
   ]
  }
 ],
 "metadata": {
  "kernelspec": {
   "display_name": "Python 3.9.0 64-bit ('3.9.0')",
   "language": "python",
   "name": "python3"
  },
  "language_info": {
   "codemirror_mode": {
    "name": "ipython",
    "version": 3
   },
   "file_extension": ".py",
   "mimetype": "text/x-python",
   "name": "python",
   "nbconvert_exporter": "python",
   "pygments_lexer": "ipython3",
   "version": "3.9.0"
  },
  "vscode": {
   "interpreter": {
    "hash": "49295d7be20e15a65a7ead1eee80289bbf09f3482fe4d303cdf9f84b66666c7d"
   }
  }
 },
 "nbformat": 4,
 "nbformat_minor": 2
}
