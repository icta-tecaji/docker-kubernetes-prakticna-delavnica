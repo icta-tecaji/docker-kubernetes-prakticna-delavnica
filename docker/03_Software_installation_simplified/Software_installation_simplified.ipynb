{
 "cells": [
  {
   "cell_type": "markdown",
   "metadata": {},
   "source": [
    "# Software installation simplified"
   ]
  },
  {
   "cell_type": "markdown",
   "metadata": {},
   "source": [
    "The first step in installing any software is identifying the software you want to\n",
    "install. You know that software is distributed using images, but you need to know\n",
    "how to tell Docker exactly which image you want to install. We’ve already mentioned\n",
    "that repositories hold images, but this chapter shows how repositories and tags are\n",
    "used to identify images in order to install the software you want."
   ]
  },
  {
   "cell_type": "markdown",
   "metadata": {},
   "source": [
    "In the course of reading this material, you’ll learn how Docker isolates installed software\n",
    "and you’ll be exposed to a new term, layer. Layers, an important concept when\n",
    "dealing with images, provide multiple important features. This chapter closes with a\n",
    "section about how images work."
   ]
  },
  {
   "cell_type": "markdown",
   "metadata": {},
   "source": [
    "## Identifying software"
   ]
  },
  {
   "cell_type": "markdown",
   "metadata": {},
   "source": [
    "Suppose you want to install a program called TotallyAwesomeBlog 2.0. How would you\n",
    "tell Docker what you want to install? You would need a way to name the program, specify\n",
    "the version that you want to use, and specify the source that you want to install it\n",
    "from. Learning how to identify specific software is the first step in software installation."
   ]
  },
  {
   "cell_type": "markdown",
   "metadata": {},
   "source": [
    "You’ve learned that Docker creates containers from images. An image is a file. It holds\n",
    "files that will be available to containers created from it and metadata about the image.\n",
    "This metadata contains labels, environment variables, default execution context, the\n",
    "command history for an image, and more."
   ]
  },
  {
   "cell_type": "markdown",
   "metadata": {},
   "source": [
    "Every image has a globally unique identifier. You can use that identifier with image\n",
    "and container commands, but in practice it’s rare to actually work with raw image\n",
    "identifiers. They are long, unique sequences of letters and numbers. Each time a\n",
    "change is made to an image, the image identifier changes. Image identifiers are difficult\n",
    "to work with because they’re unpredictable. Instead, users work with named\n",
    "repositories."
   ]
  },
  {
   "cell_type": "markdown",
   "metadata": {},
   "source": [
    "### What is a named repository?"
   ]
  },
  {
   "cell_type": "markdown",
   "metadata": {},
   "source": [
    "A named repository is a named bucket of images. The name is similar to a URL. A\n",
    "repository’s name is made up of the name of the host where the image is located,\n",
    "the user account that owns the image, and a short name, as shown in figure 3.3. For\n",
    "example, later in this chapter you will install an image from the repository named\n",
    "docker.io/dockerinaction/ch3_hello_registry."
   ]
  },
  {
   "cell_type": "markdown",
   "metadata": {},
   "source": [
    "<img alt=\"\" src=\"https://dpzbhybb2pdcj.cloudfront.net/nickoloff2/Figures/03fig03.jpg\" image-src=\"https://dpzbhybb2pdcj.cloudfront.net/nickoloff2/Figures/03fig03.jpg\" onerror=\"fallbackToImageSrcPlaceholder(this)\" data-action=\"zoom\" data-zoom-src=\"https://dpzbhybb2pdcj.cloudfront.net/nickoloff2/HighResolutionFigures/figure_3-3.png\" class=\"medium-zoom-image\">"
   ]
  },
  {
   "cell_type": "markdown",
   "metadata": {},
   "source": [
    "Just as there can be several versions of software, a repository can hold several images.\n",
    "Each image in a repository is identified uniquely with tags. If you were to release a new\n",
    "version of docker.io/dockerinaction/ch3_hello_registry, you might tag it v2\n",
    "while tagging the old version with v1. If you wanted to download the old version, you\n",
    "could specifically identify that image by its v1 tag."
   ]
  },
  {
   "cell_type": "markdown",
   "metadata": {},
   "source": [
    "In chapter 2, you installed an image from the NGINX repository on Docker Hub\n",
    "that was identified with the latest tag. A repository name and tag form a composite key,\n",
    "or a unique reference made up of a combination of nonunique components. In that\n",
    "example, the image was identified by nginx:latest. Although identifiers built in this\n",
    "fashion may occasionally be longer than raw image identifiers, they’re predictable and\n",
    "communicate the intention of the image."
   ]
  },
  {
   "cell_type": "markdown",
   "metadata": {},
   "source": [
    "### Using tags"
   ]
  },
  {
   "cell_type": "markdown",
   "metadata": {},
   "source": [
    "Tags are both an important way to uniquely identify an image and a convenient way to\n",
    "create useful aliases. Whereas a tag can be applied to only a single image in a repository,\n",
    "a single image can have several tags. This allows repository owners to create useful\n",
    "versioning or feature tags."
   ]
  },
  {
   "cell_type": "markdown",
   "metadata": {},
   "source": [
    "For example, the Java repository on Docker Hub maintains the following tags:\n",
    "11-stretch, 11-jdk-stretch, 11.0-stretch, 11.0-jdk-stretch, 11.0.4-stretch,\n",
    "and 11.0.4-jdk-stretch. All these tags are applied to the same image. This image is\n",
    "built by installing the current Java 11 Development Kit (JDK) into a Debian Stretch\n",
    "base image. As the current patch version of Java 11 increases, and the maintainers\n",
    "release Java 11.0.5, the 11.0.4 tag will be replaced in this set with 11.0.5. If you care\n",
    "about which minor or patch version of Java 11 you’re running, you have to keep up\n",
    "with those tag changes. If you just want to make sure you’re always running the most\n",
    "recent version of Java 11, use the image tagged with 11-stretch. It should always be\n",
    "assigned to the newest release of Java 11. These tags give users great flexibility."
   ]
  },
  {
   "cell_type": "markdown",
   "metadata": {},
   "source": [
    "It’s also common to see different tags for images with different software configurations.\n",
    "For example, we’ve released two images for an open source program called\n",
    "freegeoip. It’s a web application that can be used to get the rough geographical\n",
    "location associated with a network address. One image is configured to use the\n",
    "default configuration for the software. It’s meant to run by itself with a direct link to\n",
    "the world. The second is configured to run behind a web load balancer. Each image\n",
    "has a distinct tag that allows the user to easily identify the image with the features\n",
    "required."
   ]
  },
  {
   "cell_type": "markdown",
   "metadata": {},
   "source": [
    "> When you’re looking for software to install, always pay careful attention\n",
    "to the tags offered in a repository. Many repositories publish multiple\n",
    "releases of their software, sometimes on multiple operating systems or in full\n",
    "or slim versions to support different use cases. Consult the repository's documentation\n",
    "for specifics of what the repository's tags mean and the image\n",
    "release practices."
   ]
  },
  {
   "cell_type": "markdown",
   "metadata": {},
   "source": [
    "## Finding and installing software"
   ]
  },
  {
   "cell_type": "markdown",
   "metadata": {},
   "source": [
    "The easiest way to find images is to use an index. Indexes are search engines that catalog\n",
    "repositories. There are several public Docker indexes, but by default docker is\n",
    "integrated with an index named Docker Hub."
   ]
  },
  {
   "cell_type": "markdown",
   "metadata": {},
   "source": [
    "Docker Hub is a registry and index with a web user interface run by Docker Inc. It’s\n",
    "the default registry and index used by docker and is located at the host docker.io.\n",
    "When you issue a docker pull or docker run command without specifying an alternative\n",
    "registry, Docker will default to looking for the repository on Docker Hub. Docker\n",
    "Hub makes Docker more useful out of the box."
   ]
  },
  {
   "cell_type": "markdown",
   "metadata": {},
   "source": [
    "Docker Inc. has made efforts to ensure that Docker is an open ecosystem. It publishes\n",
    "a public image to run your own registry, and the docker command-line tool\n",
    "can be easily configured to use alternative registries. Later in this chapter, we cover\n",
    "alternative image installation and distribution tools included with Docker. But first,\n",
    "the next section covers how to use Docker Hub so you can get the most from the\n",
    "default toolset."
   ]
  },
  {
   "cell_type": "markdown",
   "metadata": {},
   "source": [
    "### Working with Docker registries from the command line"
   ]
  },
  {
   "cell_type": "code",
   "execution_count": null,
   "metadata": {},
   "outputs": [],
   "source": []
  },
  {
   "cell_type": "code",
   "execution_count": null,
   "metadata": {},
   "outputs": [],
   "source": []
  },
  {
   "cell_type": "code",
   "execution_count": null,
   "metadata": {},
   "outputs": [],
   "source": []
  },
  {
   "cell_type": "code",
   "execution_count": null,
   "metadata": {},
   "outputs": [],
   "source": []
  },
  {
   "cell_type": "code",
   "execution_count": null,
   "metadata": {},
   "outputs": [],
   "source": []
  },
  {
   "cell_type": "code",
   "execution_count": null,
   "metadata": {},
   "outputs": [],
   "source": []
  },
  {
   "cell_type": "code",
   "execution_count": null,
   "metadata": {},
   "outputs": [],
   "source": []
  },
  {
   "cell_type": "code",
   "execution_count": null,
   "metadata": {},
   "outputs": [],
   "source": []
  },
  {
   "cell_type": "code",
   "execution_count": null,
   "metadata": {},
   "outputs": [],
   "source": []
  },
  {
   "cell_type": "code",
   "execution_count": null,
   "metadata": {},
   "outputs": [],
   "source": []
  }
 ],
 "metadata": {
  "kernelspec": {
   "display_name": "Python 3",
   "language": "python",
   "name": "python3"
  },
  "language_info": {
   "codemirror_mode": {
    "name": "ipython",
    "version": 3
   },
   "file_extension": ".py",
   "mimetype": "text/x-python",
   "name": "python",
   "nbconvert_exporter": "python",
   "pygments_lexer": "ipython3",
   "version": "3.7.3"
  }
 },
 "nbformat": 4,
 "nbformat_minor": 2
}
