{
 "cells": [
  {
   "cell_type": "markdown",
   "metadata": {},
   "source": [
    "# Uvod v Docker"
   ]
  },
  {
   "cell_type": "code",
   "execution_count": null,
   "metadata": {},
   "outputs": [],
   "source": [
    "- kaj je docker\n",
    "- kontejnerji"
   ]
  },
  {
   "cell_type": "code",
   "execution_count": null,
   "metadata": {},
   "outputs": [],
   "source": []
  },
  {
   "cell_type": "markdown",
   "metadata": {},
   "source": [
    "### Primer brez dockerja na gcloudu"
   ]
  },
  {
   "cell_type": "markdown",
   "metadata": {},
   "source": [
    "Shell: nastavimo projekt: "
   ]
  },
  {
   "cell_type": "markdown",
   "metadata": {},
   "source": [
    "    gcloud config set project icta-279313"
   ]
  },
  {
   "cell_type": "markdown",
   "metadata": {},
   "source": [
    "- ustvarimo ubuntu virutalko na cloudu\n",
    "    - pazimo da nardimo v pravi zoni"
   ]
  },
  {
   "cell_type": "markdown",
   "metadata": {},
   "source": [
    "    gcloud compute instances list"
   ]
  },
  {
   "cell_type": "markdown",
   "metadata": {},
   "source": [
    "    gcloud compute ssh ubuntu-test"
   ]
  },
  {
   "cell_type": "markdown",
   "metadata": {},
   "source": [
    "Želimo namesti in stestorati delovanje nginx:\n",
    "    - sudo apt-get update \n",
    "    - sudo apt-get install nginx\n",
    "    - nginx -v\n",
    "    - sudo systemctl start nginx\n",
    "    - sudo systemctl status nginx\n",
    "    - curl http://127.0.0.1"
   ]
  },
  {
   "cell_type": "markdown",
   "metadata": {},
   "source": [
    "Kaj pa če želimo namestiti dve instance nginx"
   ]
  },
  {
   "cell_type": "markdown",
   "metadata": {},
   "source": [
    "sudo apt-get install nginx - > že obstaja"
   ]
  },
  {
   "cell_type": "markdown",
   "metadata": {},
   "source": [
    "sudo systemctl start nginx -> vidmo da še vedno samo ena instanca je delujoča"
   ]
  },
  {
   "cell_type": "markdown",
   "metadata": {},
   "source": [
    "    sudo ps aux | grep nginx"
   ]
  },
  {
   "cell_type": "markdown",
   "metadata": {},
   "source": [
    "Če želimo namestit dve instance moramo spremeniti init scripte "
   ]
  },
  {
   "cell_type": "markdown",
   "metadata": {},
   "source": [
    "    cat /etc/init/nginx.conf"
   ]
  },
  {
   "cell_type": "markdown",
   "metadata": {},
   "source": [
    "To je komplicirani delo, pa še skoraj nemogoče za dve različne verzije"
   ]
  },
  {
   "cell_type": "markdown",
   "metadata": {},
   "source": [
    "    sudo systemctl stop nginx"
   ]
  },
  {
   "cell_type": "markdown",
   "metadata": {},
   "source": [
    "Problem da ko namestimo mi eno verzijo spodaj imamo dependencije ki sorazlični odvisno od verzije"
   ]
  },
  {
   "cell_type": "markdown",
   "metadata": {},
   "source": [
    "To nam kontejnerji poenostavijo"
   ]
  },
  {
   "cell_type": "markdown",
   "metadata": {},
   "source": [
    "## Kontejnerji"
   ]
  },
  {
   "cell_type": "markdown",
   "metadata": {},
   "source": [
    "- neodvini sistemi "
   ]
  },
  {
   "cell_type": "code",
   "execution_count": null,
   "metadata": {},
   "outputs": [],
   "source": []
  },
  {
   "cell_type": "code",
   "execution_count": null,
   "metadata": {},
   "outputs": [],
   "source": []
  },
  {
   "cell_type": "code",
   "execution_count": null,
   "metadata": {},
   "outputs": [],
   "source": []
  },
  {
   "cell_type": "markdown",
   "metadata": {},
   "source": [
    "## Docker"
   ]
  },
  {
   "cell_type": "code",
   "execution_count": null,
   "metadata": {},
   "outputs": [],
   "source": []
  },
  {
   "cell_type": "code",
   "execution_count": null,
   "metadata": {},
   "outputs": [],
   "source": []
  },
  {
   "cell_type": "code",
   "execution_count": null,
   "metadata": {},
   "outputs": [],
   "source": []
  },
  {
   "cell_type": "code",
   "execution_count": null,
   "metadata": {},
   "outputs": [],
   "source": []
  },
  {
   "cell_type": "code",
   "execution_count": null,
   "metadata": {},
   "outputs": [],
   "source": []
  },
  {
   "cell_type": "code",
   "execution_count": null,
   "metadata": {},
   "outputs": [],
   "source": []
  },
  {
   "cell_type": "markdown",
   "metadata": {},
   "source": [
    "## Namestiev dockerja"
   ]
  },
  {
   "cell_type": "markdown",
   "metadata": {},
   "source": [
    "https://docs.docker.com/engine/install/ubuntu/"
   ]
  },
  {
   "cell_type": "markdown",
   "metadata": {},
   "source": [
    "    sudo apt-get install docker.io"
   ]
  },
  {
   "cell_type": "markdown",
   "metadata": {},
   "source": [
    "    sudo dpkg -l | grep nginx"
   ]
  },
  {
   "cell_type": "code",
   "execution_count": null,
   "metadata": {},
   "outputs": [],
   "source": []
  },
  {
   "cell_type": "code",
   "execution_count": null,
   "metadata": {},
   "outputs": [],
   "source": []
  },
  {
   "cell_type": "code",
   "execution_count": null,
   "metadata": {},
   "outputs": [],
   "source": []
  },
  {
   "cell_type": "markdown",
   "metadata": {},
   "source": [
    "## PRVa vaja -> premaknemo drugam"
   ]
  },
  {
   "cell_type": "markdown",
   "metadata": {},
   "source": [
    "    sudo docker images\n",
    "    - pokažemo docker hub kako zberemo image\n",
    "    sudo docker pull nginx\n",
    "    "
   ]
  },
  {
   "cell_type": "markdown",
   "metadata": {},
   "source": [
    "<div class=\"index-module--markdown--2MdcR ureact-markdown \"><h2 id=\"commands-to-run-on-the-vm-instance-\">Commands to run (on the VM Instance)</h2>\n",
    "<h3 id=\"install-docker\">Install Docker</h3>\n",
    "<pre><code>sudo apt-<span class=\"hljs-keyword\">get</span> install docker.io\n",
    "</code></pre><h3 id=\"check-docker-images\">Check Docker images</h3>\n",
    "<pre><code><span class=\"hljs-title\">sudo</span> docker images\n",
    "</code></pre><h3 id=\"pull-nginx-image\">Pull nginx image</h3>\n",
    "<pre><code><span class=\"hljs-tag\">sudo</span> <span class=\"hljs-tag\">docker</span> <span class=\"hljs-tag\">pull</span> <span class=\"hljs-tag\">nginx</span><span class=\"hljs-pseudo\">:1</span><span class=\"hljs-class\">.10</span><span class=\"hljs-class\">.0</span>\n",
    "<span class=\"hljs-tag\">sudo</span> <span class=\"hljs-tag\">docker</span> <span class=\"hljs-tag\">images</span>\n",
    "</code></pre><h3 id=\"verify-the-versions-match\">Verify the versions match</h3>\n",
    "<pre><code>sudo dpkg <span class=\"hljs-operator\">-l</span> | grep nginx\n",
    "</code></pre><p>If your version of nginx from native package and Docker are different, you need to update the VM instance:</p>\n",
    "<pre><code>sudo apt-get <span class=\"hljs-operator\"><span class=\"hljs-keyword\">update</span>\n",
    "sudo apt-<span class=\"hljs-keyword\">get</span> <span class=\"hljs-keyword\">install</span> nginx</span>\n",
    "</code></pre></div>"
   ]
  },
  {
   "cell_type": "markdown",
   "metadata": {},
   "source": [
    "<div class=\"ltr\"><div class=\"index-module--markdown--2MdcR ureact-markdown \"><h2 id=\"commands-to-run-on-the-vm-instance\">Commands to run on the VM Instance</h2>\n",
    "<h3 id=\"run-the-first-instance\">Run the first instance</h3>\n",
    "<pre><code><span class=\"hljs-tag\">sudo</span> <span class=\"hljs-tag\">docker</span> <span class=\"hljs-tag\">run</span> <span class=\"hljs-tag\">-d</span> <span class=\"hljs-tag\">nginx</span><span class=\"hljs-pseudo\">:1</span><span class=\"hljs-class\">.10</span><span class=\"hljs-class\">.0</span>\n",
    "</code></pre><h3 id=\"check-if-it-s-up\">Check if it's up</h3>\n",
    "<pre><code><span class=\"hljs-title\">sudo</span> docker ps\n",
    "</code></pre><h3 id=\"run-a-different-version-of-nginx\">Run a different version of nginx</h3>\n",
    "<pre><code><span class=\"hljs-tag\">sudo</span> <span class=\"hljs-tag\">docker</span> <span class=\"hljs-tag\">run</span> <span class=\"hljs-tag\">-d</span> <span class=\"hljs-tag\">nginx</span><span class=\"hljs-pseudo\">:1</span><span class=\"hljs-class\">.9</span><span class=\"hljs-class\">.3</span>\n",
    "</code></pre><h3 id=\"run-another-version-of-nginx\">Run another version of nginx</h3>\n",
    "<pre><code><span class=\"hljs-tag\">sudo</span> <span class=\"hljs-tag\">docker</span> <span class=\"hljs-tag\">run</span> <span class=\"hljs-tag\">-d</span> <span class=\"hljs-tag\">nginx</span><span class=\"hljs-pseudo\">:1</span><span class=\"hljs-class\">.10</span><span class=\"hljs-class\">.0</span>\n",
    "</code></pre><h3 id=\"check-how-many-instances-are-running\">Check how many instances are running</h3>\n",
    "<pre><code>sudo docker ps\n",
    "sudo ps aux | <span class=\"hljs-keyword\">grep</span> nginx\n",
    "</code></pre><h3 id=\"what-s-with-the-container-names-\">What's with the container names?</h3>\n",
    "<p>If you don't specify a name, Docker gives a container a random name, such as \"stoic_williams,\" \"sharp_bartik,\" \"awesome_murdock,\" or \"evil_hawking.\" (Stephen Hawking got no love on this one.)</p>\n",
    "<p>These are generated from a list of adjectives and names of famous scientists and hackers. The combination of the names and adjectives is random, except for one case. Want to see what the exception is? Check it out in the <a target=\"_blank\" href=\"https://github.com/docker/docker/blob/master/pkg/namesgenerator/names-generator.go\">Docker source code</a>!</p>\n",
    "</div></div>"
   ]
  },
  {
   "cell_type": "markdown",
   "metadata": {},
   "source": [
    "**List all running container processes**\n",
    "\n",
    "    sudo docker ps\n",
    "\n",
    "For use in shell scripts you might want to just get a list of container IDs (-a stands for all instances, not just running, and -q is for \"quiet\" - show just the numeric ID):\n",
    "\n",
    "    sudo docker ps -aq\n",
    "\n",
    "**Inspect the container**\n",
    "\n",
    "You can use either CONTAINER ID or NAMES field, for example for a sudo docker ps output like this:\n",
    "\n",
    "    CONTAINER ID        IMAGE               COMMAND                  CREATED             STATUS              PORTS               NAMES\n",
    "    f86cf066c304        nginx:1.10.0        \"nginx -g 'daemon off\"   8 minutes ago       Up 8 minutes        80/tcp, 443/tcp     sharp_bartik\n",
    "\n",
    "You can use either of the following commands:\n",
    "\n",
    "    sudo docker inspect f86cf066c304\n",
    "\n",
    "or\n",
    "    sudo docker inspect sharp_bartik\n",
    "\n",
    "**Connect to the nginx using the internal IP**\n",
    "\n",
    "Get the internal IP address either copying from the full inspect file or by assigning it to a shell variable:\n",
    "\n",
    "    CN=\"sharp_bartik\"\n",
    "    CIP=$(sudo docker inspect --format '{{ .NetworkSettings.IPAddress }}' $CN)\n",
    "    curl  http://$CIP\n",
    "\n",
    "You can also get all instance IDs and their corresponding IP addresses by doing this:\n",
    "\n",
    "    sudo docker inspect -f '{{.Name}} - {{.NetworkSettings.IPAddress }}' $(sudo docker ps -aq)\n",
    "\n",
    "**Stop an instance**\n",
    "\n",
    "    sudo docker stop <cid>\n",
    "    \n",
    "or sudo docker stop $(sudo docker ps -aq)\n",
    "\n",
    "**Verify no more instances running**\n",
    "    \n",
    "    sudo docker ps\n",
    "\n",
    "**Remove the docker containers from the system**\n",
    "\n",
    "    sudo docker rm <cid>\n",
    "or sudo docker rm $(sudo docker ps -aq)"
   ]
  },
  {
   "cell_type": "markdown",
   "metadata": {},
   "source": [
    "## Create an image\n",
    "\n",
    "Commands to run on the VM Instance\n",
    "\n",
    "Install Go"
   ]
  },
  {
   "cell_type": "markdown",
   "metadata": {},
   "source": [
    "    wget https://storage.googleapis.com/golang/go1.6.2.linux-amd64.tar.gz\n",
    "    rm -rf /usr/local/bin/go\n",
    "    sudo tar -C /usr/local -xzf go1.6.2.linux-amd64.tar.gz\n",
    "    export PATH=$PATH:/usr/local/go/bin\n",
    "    export GOPATH=~/go"
   ]
  },
  {
   "cell_type": "markdown",
   "metadata": {},
   "source": [
    "Get the app code\n",
    "\n",
    "    mkdir -p $GOPATH/src/github.com/udacity\n",
    "    cd $GOPATH/src/github.com/udacity\n",
    "    git clone https://github.com/udacity/ud615.git"
   ]
  },
  {
   "cell_type": "markdown",
   "metadata": {},
   "source": [
    "Build a static binary of the monolith app\n",
    "\n",
    "    cd ud615/app/monolith\n",
    "    go get -u\n",
    "    go build --tags netgo --ldflags '-extldflags \"-lm -lstdc++ -static\"'"
   ]
  },
  {
   "cell_type": "markdown",
   "metadata": {},
   "source": [
    "Why did you have to build the binary with such an ugly command line?\n",
    "\n",
    "You have to explicitly make the binary static. This is really important in the Docker community right now because alpine has a different implementation of libc. So your go binary wouldn't have had the lib it needed if it wasn't static. You created a static binary so that your application could be self-contained."
   ]
  },
  {
   "cell_type": "markdown",
   "metadata": {},
   "source": [
    "**Create a container for the app**\n",
    "\n",
    "Look at the Dockerfile\n",
    "\n",
    "    cat Dockerfile\n",
    "    \n",
    "Build the app container\n",
    "\n",
    "    sudo docker build -t monolith:1.0.0 .\n",
    "    \n",
    "List the monolith image\n",
    "\n",
    "    sudo docker images monolith:1.0.0"
   ]
  },
  {
   "cell_type": "markdown",
   "metadata": {},
   "source": [
    "Run the monolith container and get it's IP\n",
    "\n",
    "    sudo docker run -d monolith:1.0.0\n",
    "    sudo docker inspect <container name or cid>\n",
    "    \n",
    "or\n",
    "\n",
    "    CID=$(sudo docker run -d monolith:1.0.0)\n",
    "    CIP=$(sudo docker inspect --format '{{ .NetworkSettings.IPAddress }}' ${CID})"
   ]
  },
  {
   "cell_type": "markdown",
   "metadata": {},
   "source": [
    "Test the container\n",
    "    curl <the container IP>\n",
    "    \n",
    "or\n",
    "\n",
    "    curl $CIP\n",
    "\n",
    "Important note on security\n",
    "\n",
    "If you are tired of typing \"sudo\" in front of all Docker commands, and confused why a lot of examples don't have that, please read the following article about implications on security - Why we don't let non-root users run Docker in CentOS, Fedora, or RHEL"
   ]
  },
  {
   "cell_type": "markdown",
   "metadata": {},
   "source": [
    "http://www.projectatomic.io/blog/2015/08/why-we-dont-let-non-root-users-run-docker-in-centos-fedora-or-rhel/"
   ]
  },
  {
   "cell_type": "markdown",
   "metadata": {},
   "source": [
    "Create docker images for the remaining microservices - auth and hello.\n",
    "Repeat the steps you took for monolith.\n",
    "\n",
    "Build the auth app\n",
    "\n",
    "    cd $GOPATH/src/github.com/udacity/ud615/app\n",
    "    cd auth\n",
    "    go build --tags netgo --ldflags '-extldflags \"-lm -lstdc++ -static\"'\n",
    "    sudo docker build -t auth:1.0.0 .\n",
    "    CID2=$(sudo docker run -d auth:1.0.0)\n",
    "    \n",
    "Build the hello app\n",
    "\n",
    "    cd $GOPATH/src/github.com/udacity/ud615/app\n",
    "    cd hello\n",
    "    go build --tags netgo --ldflags '-extldflags \"-lm -lstdc++ -static\"'\n",
    "    sudo docker build -t hello:1.0.0 .\n",
    "    CID3=$(sudo docker run -d hello:1.0.0)\n",
    "    \n",
    "See the running containers\n",
    "\n",
    "    sudo docker ps -a"
   ]
  },
  {
   "cell_type": "code",
   "execution_count": null,
   "metadata": {},
   "outputs": [],
   "source": []
  },
  {
   "cell_type": "code",
   "execution_count": null,
   "metadata": {},
   "outputs": [],
   "source": []
  },
  {
   "cell_type": "markdown",
   "metadata": {},
   "source": [
    "## Docker registers"
   ]
  },
  {
   "cell_type": "markdown",
   "metadata": {},
   "source": [
    "See all images\n",
    "\n",
    "    sudo docker images\n",
    "\n",
    "Docker tag command help\n",
    "\n",
    "    docker tag -h\n",
    "\n",
    "    \n",
    "Add your own tag\n",
    "    \n",
    "    sudo docker tag monolith:1.0.0 <your username>/monolith:1.0.0\n",
    "\n",
    "For example (you can rename too!)\n",
    "    \n",
    "    sudo docker tag monolith:1.0.0 udacity/example-monolith:1.0.0\n",
    "\n",
    "            \n",
    "Create account on Dockerhub\n",
    "\n",
    "To be able to push images to Dockerhub you need to create an account there - https://hub.docker.com/register/\n",
    "\n",
    "Login and use the docker push command\n",
    "\n",
    "    sudo docker login\n",
    "    sudo docker push udacity/example-monolith:1.0.0\n",
    "\n",
    "Repeat for all images you created - monolith, auth and hello!"
   ]
  },
  {
   "cell_type": "code",
   "execution_count": null,
   "metadata": {},
   "outputs": [],
   "source": []
  },
  {
   "cell_type": "code",
   "execution_count": null,
   "metadata": {},
   "outputs": [],
   "source": []
  }
 ],
 "metadata": {
  "kernelspec": {
   "display_name": "Python 3",
   "language": "python",
   "name": "python3"
  },
  "language_info": {
   "codemirror_mode": {
    "name": "ipython",
    "version": 3
   },
   "file_extension": ".py",
   "mimetype": "text/x-python",
   "name": "python",
   "nbconvert_exporter": "python",
   "pygments_lexer": "ipython3",
   "version": "3.7.3"
  }
 },
 "nbformat": 4,
 "nbformat_minor": 2
}
