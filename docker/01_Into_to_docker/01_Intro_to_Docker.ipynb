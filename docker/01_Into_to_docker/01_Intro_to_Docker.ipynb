{
 "cells": [
  {
   "cell_type": "markdown",
   "metadata": {},
   "source": [
    "# Intro to Docker"
   ]
  },
  {
   "cell_type": "markdown",
   "metadata": {},
   "source": [
    "## Containers"
   ]
  },
  {
   "cell_type": "markdown",
   "metadata": {},
   "source": [
    "Historically, UNIX-style operating systems have used the term jail to describe a modified\n",
    "runtime environment that limits the scope of resources that a jailed program can access.\n",
    "Jail features go back to 1979 and have been in evolution ever since. In 2005, with the\n",
    "release of Sun’s Solaris 10 and Solaris Containers, container has become the preferred\n",
    "term for such a runtime environment. The goal has expanded from limiting filesystem\n",
    "scope to isolating a process from all resources except where explicitly allowed."
   ]
  },
  {
   "cell_type": "markdown",
   "metadata": {},
   "source": [
    "> Uporaba kontejnerjev je bila težavna, Docker to poenostavi "
   ]
  },
  {
   "cell_type": "markdown",
   "metadata": {},
   "source": [
    "Using containers has been a best practice for a long time. But manually building\n",
    "containers can be challenging and easy to do incorrectly. This challenge has put them\n",
    "out of reach for some. Others using misconfigured containers are lulled into a false\n",
    "sense of security. This was a problem begging to be solved, and Docker helps. Any software\n",
    "run with Docker is run inside a container. Docker uses existing container\n",
    "engines to provide consistent containers built according to best practices. This puts\n",
    "stronger security within reach for everyone."
   ]
  },
  {
   "cell_type": "markdown",
   "metadata": {},
   "source": [
    "With Docker, users get containers at a much lower cost. Running the example in\n",
    "section 1.1.1 uses a container and does not require any special knowledge. As Docker\n",
    "and its container engines improve, you get the latest and greatest isolation features.\n",
    "Instead of keeping up with the rapidly evolving and highly technical world of building\n",
    "strong containers, you can let Docker handle the bulk of that for you."
   ]
  },
  {
   "cell_type": "markdown",
   "metadata": {},
   "source": [
    "### Containers are not virtualization"
   ]
  },
  {
   "cell_type": "markdown",
   "metadata": {},
   "source": [
    "In this cloud-native era, people tend to think about virtual machines as units of\n",
    "deployment, where deploying a single process means creating a whole networkattached\n",
    "virtual machine. Virtual machines provide virtual hardware (or hardware on\n",
    "which an operating system and other programs can be installed). They take a long\n",
    "time (often minutes) to create and require significant resource overhead because they\n",
    "run a whole operating system in addition to the software you want to use. Virtual\n",
    "machines can perform optimally once everything is up and running, but the startup\n",
    "delays make them a poor fit for just-in-time or reactive deployment scenarios."
   ]
  },
  {
   "cell_type": "markdown",
   "metadata": {},
   "source": [
    "Unlike virtual machines, Docker containers don’t use any hardware virtualization.\n",
    "**Programs running inside Docker containers interface directly with the host’s Linux\n",
    "kernel.** Many programs can run in isolation without running redundant operating systems\n",
    "or suffering the delay of full boot sequences. This is an important distinction.\n",
    "Docker is not a hardware virtualization technology. Instead, it helps you use the container\n",
    "technology already built into your operating system kernel."
   ]
  },
  {
   "cell_type": "markdown",
   "metadata": {},
   "source": [
    "Virtual machines provide hardware abstractions so you can run operating systems.\n",
    "Containers are an operating system feature. So you can always run Docker in a virtual\n",
    "machine if that machine is running a modern Linux kernel. Docker for Mac and Windows\n",
    "users, and almost all cloud computing users, will run Docker inside virtual\n",
    "machines. So these are really complementary technologies."
   ]
  },
  {
   "cell_type": "markdown",
   "metadata": {},
   "source": [
    "### Running software in containers for isolation"
   ]
  },
  {
   "cell_type": "markdown",
   "metadata": {},
   "source": [
    "Containers and isolation features have existed for decades. Docker uses Linux namespaces\n",
    "and cgroups, which have been part of Linux since 2007. **Docker doesn’t provide\n",
    "the container technology, but it specifically makes it simpler to use.**"
   ]
  },
  {
   "cell_type": "markdown",
   "metadata": {},
   "source": [
    "A basic computer stack running two programs that were started from the\n",
    "command line"
   ]
  },
  {
   "cell_type": "markdown",
   "metadata": {},
   "source": [
    "<img alt=\"\" src=\"https://dpzbhybb2pdcj.cloudfront.net/nickoloff2/Figures/01fig03_alt.jpg\" image-src=\"https://dpzbhybb2pdcj.cloudfront.net/nickoloff2/Figures/01fig03_alt.jpg\" onerror=\"fallbackToImageSrcPlaceholder(this)\" data-action=\"zoom\" data-zoom-src=\"https://dpzbhybb2pdcj.cloudfront.net/nickoloff2/HighResolutionFigures/figure_1-3.png\" class=\"medium-zoom-image\">"
   ]
  },
  {
   "cell_type": "markdown",
   "metadata": {},
   "source": [
    "Notice that the command-line interface, or CLI, runs in what is called user space memory,\n",
    "just like other programs that run on top of the operating system. Ideally, programs\n",
    "running in user space can’t modify kernel space memory. Broadly speaking, the operating\n",
    "system is the interface between all user programs and the hardware that the\n",
    "computer is running on."
   ]
  },
  {
   "cell_type": "markdown",
   "metadata": {},
   "source": [
    "You can see in figure 1.4 that running Docker means running two programs in\n",
    "user space. The first is the Docker engine. If installed properly, this process should\n",
    "always be running. The second is the Docker CLI. This is the Docker program that\n",
    "users interact with. If you want to start, stop, or install software, you’ll issue a command\n",
    "by using the Docker program."
   ]
  },
  {
   "cell_type": "markdown",
   "metadata": {},
   "source": [
    "<img alt=\"\" src=\"https://dpzbhybb2pdcj.cloudfront.net/nickoloff2/Figures/01fig04_alt.jpg\" image-src=\"https://dpzbhybb2pdcj.cloudfront.net/nickoloff2/Figures/01fig04_alt.jpg\" onerror=\"fallbackToImageSrcPlaceholder(this)\" data-action=\"zoom\" data-zoom-src=\"https://dpzbhybb2pdcj.cloudfront.net/nickoloff2/HighResolutionFigures/figure_1-4.png\" class=\"medium-zoom-image\">"
   ]
  },
  {
   "cell_type": "markdown",
   "metadata": {},
   "source": [
    "Figure 1.4 also shows three running containers. Each is running as a child process\n",
    "of the Docker engine, wrapped with a container, and the delegate process is running\n",
    "in its own memory subspace of the user space. Programs running inside a container\n",
    "can access only their own memory and resources as scoped by the container."
   ]
  },
  {
   "cell_type": "markdown",
   "metadata": {},
   "source": [
    "Docker builds containers using 10 major system features. Part 1 of this book uses\n",
    "Docker commands to illustrate how these features can be modified to suit the needs\n",
    "of the contained software and to fit the environment where the container will run.\n",
    "The specific features are as follows:\n",
    "- PID namespace—Process identifiers and capabilities\n",
    "- UTS namespace—Host and domain name\n",
    "- MNT namespace—Filesystem access and structure\n",
    "- IPC namespace—Process communication over shared memory\n",
    "- NET namespace—Network access and structure\n",
    "- USR namespace—User names and identifiers\n",
    "- chroot syscall—Controls the location of the filesystem root\n",
    "- cgroups—Resource protection\n",
    "- CAP drop—Operating system feature restrictions\n",
    "- Security modules—Mandatory access controls"
   ]
  },
  {
   "cell_type": "markdown",
   "metadata": {},
   "source": [
    "Docker uses those to build containers at runtime, but it uses another set of technologies\n",
    "to package and ship containers."
   ]
  },
  {
   "cell_type": "markdown",
   "metadata": {},
   "source": [
    "### Shipping containers"
   ]
  },
  {
   "cell_type": "markdown",
   "metadata": {},
   "source": [
    "You can think of a Docker container as a physical shipping container. It’s a box where you\n",
    "store and run an application and all of its dependencies (excluding the running operating\n",
    "system kernel). Just as cranes, trucks, trains, and ships can easily work with shipping\n",
    "containers, so can Docker run, copy, and distribute containers with ease. Docker completes\n",
    "the traditional container metaphor by including a way to package and distribute\n",
    "software. The component that fills the shipping container role is called an image."
   ]
  },
  {
   "cell_type": "markdown",
   "metadata": {},
   "source": [
    "More generally, a Docker image is a bundled snapshot of all the files that should be available to a program\n",
    "running inside a container. You can create as many containers from an image as\n",
    "you want. But when you do, containers that were started from the same image don’t\n",
    "share changes to their filesystem. When you distribute software with Docker, you distribute\n",
    "these images, and the receiving computers create containers from them.\n",
    "**Images are the shippable units in the Docker ecosystem.**"
   ]
  },
  {
   "cell_type": "markdown",
   "metadata": {},
   "source": [
    "Docker provides a set of infrastructure components that simplify distributing\n",
    "Docker images. These components are registries and indexes. You can use publicly available\n",
    "infrastructure provided by Docker Inc., other hosting companies, or your own\n",
    "registries and indexes."
   ]
  }
 ],
 "metadata": {
  "kernelspec": {
   "display_name": "Python 3.9.0 64-bit ('3.9.0')",
   "language": "python",
   "name": "python3"
  },
  "language_info": {
   "codemirror_mode": {
    "name": "ipython",
    "version": 3
   },
   "file_extension": ".py",
   "mimetype": "text/x-python",
   "name": "python",
   "nbconvert_exporter": "python",
   "pygments_lexer": "ipython3",
   "version": "3.9.0"
  },
  "vscode": {
   "interpreter": {
    "hash": "49295d7be20e15a65a7ead1eee80289bbf09f3482fe4d303cdf9f84b66666c7d"
   }
  }
 },
 "nbformat": 4,
 "nbformat_minor": 2
}
