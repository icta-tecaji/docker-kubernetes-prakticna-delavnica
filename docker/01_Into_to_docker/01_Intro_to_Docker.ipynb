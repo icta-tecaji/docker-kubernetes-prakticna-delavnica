{
 "cells": [
  {
   "cell_type": "markdown",
   "metadata": {},
   "source": [
    "# Intro to Docker"
   ]
  },
  {
   "cell_type": "markdown",
   "metadata": {},
   "source": [
    "## What is Docker?"
   ]
  },
  {
   "cell_type": "markdown",
   "metadata": {},
   "source": [
    "- Docker is an open source project for building, shipping, and running programs.\n",
    "- It is a commandline program, a background process, and a set of remote services that take a logistical approach to solving common software problems and simplifying your experience\n",
    "installing, running, publishing, and removing software.\n",
    "- It accomplishes this by using\n",
    "an operating system technology called containers."
   ]
  },
  {
   "cell_type": "markdown",
   "metadata": {},
   "source": [
    "## Docker install"
   ]
  },
  {
   "cell_type": "markdown",
   "metadata": {},
   "source": [
    "Povezava: `gcloud compute ssh docker-icta`"
   ]
  },
  {
   "cell_type": "markdown",
   "metadata": {},
   "source": [
    "Za večino operacijskih sistemov\n",
    "- Navodila najdemo na: https://docs.docker.com/engine/install/ubuntu/\n",
    "\n",
    "Post-installation steps for Linux\n",
    "- https://docs.docker.com/engine/install/linux-postinstall/\n",
    "- Manage Docker as a non-root user\n",
    "- Configure Docker to start on boot\n"
   ]
  },
  {
   "cell_type": "markdown",
   "metadata": {},
   "source": [
    "## Preizkus delovanja"
   ]
  },
  {
   "cell_type": "markdown",
   "metadata": {},
   "source": [
    "<img alt=\"\" src=\"https://dpzbhybb2pdcj.cloudfront.net/luksa/Figures/01fig06_alt.jpg\" data-action=\"zoom\" data-zoom-src=\"https://dpzbhybb2pdcj.cloudfront.net/luksa/HighResolutionFigures/figure_1-6.png\" class=\"medium-zoom-image\">"
   ]
  },
  {
   "cell_type": "markdown",
   "metadata": {},
   "source": [
    "    docker –version"
   ]
  },
  {
   "cell_type": "markdown",
   "metadata": {},
   "source": [
    "    docker run hello-world\n",
    "    docker image ls\n",
    "    docker ps --all\n",
    "    docker rm $(sudo docker ps -aq)"
   ]
  },
  {
   "cell_type": "markdown",
   "metadata": {},
   "source": [
    "- First, you use the docker run command. This tells Docker that you want to trigger\n",
    "the sequence that installs and runs a program inside a container."
   ]
  },
  {
   "cell_type": "markdown",
   "metadata": {},
   "source": [
    "<img alt=\"\" src=\"https://dpzbhybb2pdcj.cloudfront.net/nickoloff2/Figures/01fig01_alt.jpg\" image-src=\"https://dpzbhybb2pdcj.cloudfront.net/nickoloff2/Figures/01fig01_alt.jpg\" onerror=\"fallbackToImageSrcPlaceholder(this)\" data-action=\"zoom\" data-zoom-src=\"https://dpzbhybb2pdcj.cloudfront.net/nickoloff2/HighResolutionFigures/figure_1-1.png\" class=\"medium-zoom-image\">"
   ]
  },
  {
   "cell_type": "markdown",
   "metadata": {},
   "source": [
    "- The second part specifies the program that you want Docker to run in a container. In\n",
    "this example, that program is `hello_world`. This is called the image\n",
    "(or repository) name."
   ]
  },
  {
   "cell_type": "markdown",
   "metadata": {},
   "source": [
    "- The image itself is a collection of files and metadata.\n",
    "- That metadata includes the specific program to execute and other relevant configuration\n",
    "details."
   ]
  },
  {
   "cell_type": "markdown",
   "metadata": {},
   "source": [
    "- Once the image is installed, Docker creates a new container and runs a single command.\n",
    "In this case, the command is simple."
   ]
  },
  {
   "cell_type": "markdown",
   "metadata": {},
   "source": [
    "- After the echo command prints \"hello world\" to the terminal, the program exits, and the container is marked as stopped."
   ]
  },
  {
   "cell_type": "markdown",
   "metadata": {},
   "source": [
    "Understand that the running state of a container\n",
    "is directly tied to the state of a single running program inside the container. **If a program\n",
    "is running, the container is running. If the program is stopped, the container is\n",
    "stopped.** Restarting a container will run the program again."
   ]
  },
  {
   "cell_type": "markdown",
   "metadata": {},
   "source": [
    "When you use docker run the second time, it\n",
    "creates a second container from the same repository. This\n",
    "means that if you repeatedly use docker run and create a bunch of containers, you’ll\n",
    "need to get a list of the containers you’ve created and maybe at some point destroy\n",
    "them. "
   ]
  },
  {
   "cell_type": "markdown",
   "metadata": {},
   "source": [
    "<img alt=\"\" src=\"https://dpzbhybb2pdcj.cloudfront.net/nickoloff2/Figures/01fig02_alt.jpg\" image-src=\"https://dpzbhybb2pdcj.cloudfront.net/nickoloff2/Figures/01fig02_alt.jpg\" onerror=\"fallbackToImageSrcPlaceholder(this)\" data-action=\"zoom\" data-zoom-src=\"https://dpzbhybb2pdcj.cloudfront.net/nickoloff2/HighResolutionFigures/figure_1-2.png\" class=\"medium-zoom-image\">"
   ]
  },
  {
   "cell_type": "markdown",
   "metadata": {},
   "source": [
    "## Containers"
   ]
  },
  {
   "cell_type": "markdown",
   "metadata": {},
   "source": [
    "Historically, UNIX-style operating systems have used the term jail to describe a modified\n",
    "runtime environment that limits the scope of resources that a jailed program can access.\n",
    "Jail features go back to 1979 and have been in evolution ever since. In 2005, with the\n",
    "release of Sun’s Solaris 10 and Solaris Containers, container has become the preferred\n",
    "term for such a runtime environment. The goal has expanded from limiting filesystem\n",
    "scope to isolating a process from all resources except where explicitly allowed."
   ]
  },
  {
   "cell_type": "markdown",
   "metadata": {},
   "source": [
    "> Uporaba kontejnerjev je bila težavna, Docker to poenostavi "
   ]
  },
  {
   "cell_type": "markdown",
   "metadata": {},
   "source": [
    "Using containers has been a best practice for a long time. But manually building\n",
    "containers can be challenging and easy to do incorrectly. This challenge has put them\n",
    "out of reach for some. Others using misconfigured containers are lulled into a false\n",
    "sense of security. This was a problem begging to be solved, and Docker helps. Any software\n",
    "run with Docker is run inside a container. Docker uses existing container\n",
    "engines to provide consistent containers built according to best practices. This puts\n",
    "stronger security within reach for everyone."
   ]
  },
  {
   "cell_type": "markdown",
   "metadata": {},
   "source": [
    "With Docker, users get containers at a much lower cost. Running the example in\n",
    "section 1.1.1 uses a container and does not require any special knowledge. As Docker\n",
    "and its container engines improve, you get the latest and greatest isolation features.\n",
    "Instead of keeping up with the rapidly evolving and highly technical world of building\n",
    "strong containers, you can let Docker handle the bulk of that for you."
   ]
  },
  {
   "cell_type": "markdown",
   "metadata": {},
   "source": [
    "### Containers are not virtualization"
   ]
  },
  {
   "cell_type": "markdown",
   "metadata": {},
   "source": [
    "In this cloud-native era, people tend to think about virtual machines as units of\n",
    "deployment, where deploying a single process means creating a whole networkattached\n",
    "virtual machine. Virtual machines provide virtual hardware (or hardware on\n",
    "which an operating system and other programs can be installed). They take a long\n",
    "time (often minutes) to create and require significant resource overhead because they\n",
    "run a whole operating system in addition to the software you want to use. Virtual\n",
    "machines can perform optimally once everything is up and running, but the startup\n",
    "delays make them a poor fit for just-in-time or reactive deployment scenarios."
   ]
  },
  {
   "cell_type": "markdown",
   "metadata": {},
   "source": [
    "Unlike virtual machines, Docker containers don’t use any hardware virtualization.\n",
    "**Programs running inside Docker containers interface directly with the host’s Linux\n",
    "kernel.** Many programs can run in isolation without running redundant operating systems\n",
    "or suffering the delay of full boot sequences. This is an important distinction.\n",
    "Docker is not a hardware virtualization technology. Instead, it helps you use the container\n",
    "technology already built into your operating system kernel."
   ]
  },
  {
   "cell_type": "markdown",
   "metadata": {},
   "source": [
    "Virtual machines provide hardware abstractions so you can run operating systems.\n",
    "Containers are an operating system feature. So you can always run Docker in a virtual\n",
    "machine if that machine is running a modern Linux kernel. Docker for Mac and Windows\n",
    "users, and almost all cloud computing users, will run Docker inside virtual\n",
    "machines. So these are really complementary technologies."
   ]
  },
  {
   "cell_type": "markdown",
   "metadata": {},
   "source": [
    "### Running software in containers for isolation"
   ]
  },
  {
   "cell_type": "markdown",
   "metadata": {},
   "source": [
    "Containers and isolation features have existed for decades. Docker uses Linux namespaces\n",
    "and cgroups, which have been part of Linux since 2007. **Docker doesn’t provide\n",
    "the container technology, but it specifically makes it simpler to use.**"
   ]
  },
  {
   "cell_type": "markdown",
   "metadata": {},
   "source": [
    "A basic computer stack running two programs that were started from the\n",
    "command line"
   ]
  },
  {
   "cell_type": "markdown",
   "metadata": {},
   "source": [
    "<img alt=\"\" src=\"https://dpzbhybb2pdcj.cloudfront.net/nickoloff2/Figures/01fig03_alt.jpg\" image-src=\"https://dpzbhybb2pdcj.cloudfront.net/nickoloff2/Figures/01fig03_alt.jpg\" onerror=\"fallbackToImageSrcPlaceholder(this)\" data-action=\"zoom\" data-zoom-src=\"https://dpzbhybb2pdcj.cloudfront.net/nickoloff2/HighResolutionFigures/figure_1-3.png\" class=\"medium-zoom-image\">"
   ]
  },
  {
   "cell_type": "markdown",
   "metadata": {},
   "source": [
    "Notice that the command-line interface, or CLI, runs in what is called user space memory,\n",
    "just like other programs that run on top of the operating system. Ideally, programs\n",
    "running in user space can’t modify kernel space memory. Broadly speaking, the operating\n",
    "system is the interface between all user programs and the hardware that the\n",
    "computer is running on."
   ]
  },
  {
   "cell_type": "markdown",
   "metadata": {},
   "source": [
    "You can see in figure 1.4 that running Docker means running two programs in\n",
    "user space. The first is the Docker engine. If installed properly, this process should\n",
    "always be running. The second is the Docker CLI. This is the Docker program that\n",
    "users interact with. If you want to start, stop, or install software, you’ll issue a command\n",
    "by using the Docker program."
   ]
  },
  {
   "cell_type": "markdown",
   "metadata": {},
   "source": [
    "<img alt=\"\" src=\"https://dpzbhybb2pdcj.cloudfront.net/nickoloff2/Figures/01fig04_alt.jpg\" image-src=\"https://dpzbhybb2pdcj.cloudfront.net/nickoloff2/Figures/01fig04_alt.jpg\" onerror=\"fallbackToImageSrcPlaceholder(this)\" data-action=\"zoom\" data-zoom-src=\"https://dpzbhybb2pdcj.cloudfront.net/nickoloff2/HighResolutionFigures/figure_1-4.png\" class=\"medium-zoom-image\">"
   ]
  },
  {
   "cell_type": "markdown",
   "metadata": {},
   "source": [
    "Figure 1.4 also shows three running containers. Each is running as a child process\n",
    "of the Docker engine, wrapped with a container, and the delegate process is running\n",
    "in its own memory subspace of the user space. Programs running inside a container\n",
    "can access only their own memory and resources as scoped by the container."
   ]
  },
  {
   "cell_type": "markdown",
   "metadata": {},
   "source": [
    "Docker builds containers using 10 major system features. Part 1 of this book uses\n",
    "Docker commands to illustrate how these features can be modified to suit the needs\n",
    "of the contained software and to fit the environment where the container will run.\n",
    "The specific features are as follows:\n",
    "- PID namespace—Process identifiers and capabilities\n",
    "- UTS namespace—Host and domain name\n",
    "- MNT namespace—Filesystem access and structure\n",
    "- IPC namespace—Process communication over shared memory\n",
    "- NET namespace—Network access and structure\n",
    "- USR namespace—User names and identifiers\n",
    "- chroot syscall—Controls the location of the filesystem root\n",
    "- cgroups—Resource protection\n",
    "- CAP drop—Operating system feature restrictions\n",
    "- Security modules—Mandatory access controls"
   ]
  },
  {
   "cell_type": "markdown",
   "metadata": {},
   "source": [
    "Docker uses those to build containers at runtime, but it uses another set of technologies\n",
    "to package and ship containers."
   ]
  },
  {
   "cell_type": "markdown",
   "metadata": {},
   "source": [
    "### Shipping containers"
   ]
  },
  {
   "cell_type": "markdown",
   "metadata": {},
   "source": [
    "You can think of a Docker container as a physical shipping container. It’s a box where you\n",
    "store and run an application and all of its dependencies (excluding the running operating\n",
    "system kernel). Just as cranes, trucks, trains, and ships can easily work with shipping\n",
    "containers, so can Docker run, copy, and distribute containers with ease. Docker completes\n",
    "the traditional container metaphor by including a way to package and distribute\n",
    "software. The component that fills the shipping container role is called an image."
   ]
  },
  {
   "cell_type": "markdown",
   "metadata": {},
   "source": [
    "More generally, a Docker image is a bundled snapshot of all the files that should be available to a program\n",
    "running inside a container. You can create as many containers from an image as\n",
    "you want. But when you do, containers that were started from the same image don’t\n",
    "share changes to their filesystem. When you distribute software with Docker, you distribute\n",
    "these images, and the receiving computers create containers from them.\n",
    "**Images are the shippable units in the Docker ecosystem.**"
   ]
  },
  {
   "cell_type": "markdown",
   "metadata": {},
   "source": [
    "Docker provides a set of infrastructure components that simplify distributing\n",
    "Docker images. These components are registries and indexes. You can use publicly available\n",
    "infrastructure provided by Docker Inc., other hosting companies, or your own\n",
    "registries and indexes."
   ]
  },
  {
   "cell_type": "markdown",
   "metadata": {},
   "source": [
    "## What problems does Docker solve?"
   ]
  },
  {
   "cell_type": "markdown",
   "metadata": {},
   "source": [
    "- What happens if one application needs an upgraded dependency, but the other\n",
    "does not?\n",
    "- What happens when you remove an application? Is it really gone?\n",
    "- Can you remove old dependencies?\n",
    "- Can you remember all the changes you had to make to install the software you\n",
    "now want to remove?"
   ]
  },
  {
   "cell_type": "markdown",
   "metadata": {},
   "source": [
    "The truth is that the more software you use, the more difficult it is to manage. Even if\n",
    "you can spend the time and energy required to figure out installing and running applications,\n",
    "how confident can you be about your security? Open and closed source programs\n",
    "release security updates continually, and being aware of all the issues is often\n",
    "impossible. The more software you run, the greater the risk that it’s vulnerable to attack."
   ]
  },
  {
   "cell_type": "markdown",
   "metadata": {},
   "source": [
    "### Getting organized"
   ]
  },
  {
   "cell_type": "markdown",
   "metadata": {},
   "source": [
    "Without Docker, a computer can end up looking like a junk drawer. Applications have\n",
    "all sorts of dependencies. Some applications depend on specific system libraries for\n",
    "common things like sound, networking, graphics, and so on. Others depend on standard\n",
    "libraries for the language they’re written in. Some depend on other applications,\n",
    "such as the way a Java program depends on the Java Virtual Machine, or a web application\n",
    "might depend on a database. It’s common for a running program to require\n",
    "exclusive access to a scarce resource such as a network connection or a file."
   ]
  },
  {
   "cell_type": "markdown",
   "metadata": {},
   "source": [
    "Today, without Docker, applications are spread all over the filesystem and end up\n",
    "creating a messy web of interactions."
   ]
  },
  {
   "cell_type": "markdown",
   "metadata": {},
   "source": [
    "<img alt=\"\" src=\"https://dpzbhybb2pdcj.cloudfront.net/nickoloff2/Figures/01fig05_alt.jpg\" image-src=\"https://dpzbhybb2pdcj.cloudfront.net/nickoloff2/Figures/01fig05_alt.jpg\" onerror=\"fallbackToImageSrcPlaceholder(this)\" data-action=\"zoom\" data-zoom-src=\"https://dpzbhybb2pdcj.cloudfront.net/nickoloff2/HighResolutionFigures/figure_1-5.png\" class=\"medium-zoom-image\">"
   ]
  },
  {
   "cell_type": "markdown",
   "metadata": {},
   "source": [
    "In contrast, the example in section 1.1.1 installed the required software automatically,\n",
    "and that same software can be reliably removed with a single command. Docker keeps\n",
    "things organized by isolating everything with containers and images.\n",
    "\n",
    "Figure 1.6 illustrates these same applications and their dependencies running\n",
    "inside containers. With the links broken and each application neatly contained,\n",
    "understanding the system is an approachable task. At first it seems like this would\n",
    "introduce storage overhead by creating redundant copies of common dependencies\n",
    "such as gcc. Chapter 3 describes how the Docker packaging system typically reduces\n",
    "the storage overhead."
   ]
  },
  {
   "cell_type": "markdown",
   "metadata": {},
   "source": [
    "<img alt=\"\" src=\"https://dpzbhybb2pdcj.cloudfront.net/nickoloff2/Figures/01fig06_alt.jpg\" image-src=\"https://dpzbhybb2pdcj.cloudfront.net/nickoloff2/Figures/01fig06_alt.jpg\" onerror=\"fallbackToImageSrcPlaceholder(this)\" data-action=\"zoom\" data-zoom-src=\"https://dpzbhybb2pdcj.cloudfront.net/nickoloff2/HighResolutionFigures/figure_1-6.png\" class=\"medium-zoom-image\">"
   ]
  },
  {
   "cell_type": "markdown",
   "metadata": {},
   "source": [
    "### Improving portability"
   ]
  },
  {
   "cell_type": "markdown",
   "metadata": {},
   "source": [
    "Another software problem is that an application’s dependencies typically include a\n",
    "specific operating system. Portability between operating systems is a major problem\n",
    "for software users. Although it’s possible to have compatibility between Linux software\n",
    "and macOS, using that same software on Windows can be more difficult. Doing\n",
    "so can require building whole ported versions of the software. Even that is possible\n",
    "only if suitable replacement dependencies exist for Windows. This represents a\n",
    "major effort for the maintainers of the application and is frequently skipped. Unfortunately\n",
    "for users, a whole wealth of powerful software is too difficult or impossible\n",
    "to use on their system."
   ]
  },
  {
   "cell_type": "markdown",
   "metadata": {},
   "source": [
    "At present, Docker runs natively on Linux and comes with a single virtual machine\n",
    "for macOS and Windows environments. **This convergence on Linux means that\n",
    "software running in Docker containers need be written only once against a consistent\n",
    "set of dependencies.**"
   ]
  },
  {
   "cell_type": "markdown",
   "metadata": {},
   "source": [
    "This new portability helps users in a few ways. First, it unlocks a whole world of\n",
    "software that was previously inaccessible. Second, it’s now feasible to run the same\n",
    "software—exactly the same software—on any system. That means your desktop, your\n",
    "development environment, your company’s server, and your company’s cloud can all\n",
    "run the same programs. Running consistent environments is important. Doing so\n",
    "helps minimize any learning curve associated with adopting new technologies. It helps\n",
    "software developers better understand the systems that will be running their programs.\n",
    "It means fewer surprises. Third, when software maintainers can focus on writing their\n",
    "programs for a single platform and one set of dependencies, it’s a huge time-saver for\n",
    "them and a great win for their customers."
   ]
  },
  {
   "cell_type": "markdown",
   "metadata": {},
   "source": [
    "Docker improves the portability of every program regardless\n",
    "of the language it was written in, the operating system it was designed for, or the state of\n",
    "the environment where it’s running."
   ]
  },
  {
   "cell_type": "markdown",
   "metadata": {},
   "source": [
    "### Protecting your computer"
   ]
  },
  {
   "cell_type": "markdown",
   "metadata": {},
   "source": [
    "Most of what we’ve mentioned so far have been problems from the perspective of\n",
    "working with software and the benefits of doing so from outside a container. But containers\n",
    "also protect us from the software running inside a container. There are all\n",
    "sorts of ways that a program might misbehave or present a security risk:\n",
    "- A program might have been written specifically by an attacker.\n",
    "- Well-meaning developers could write a program with harmful bugs.\n",
    "- A program could accidentally do the bidding of an attacker through bugs in its\n",
    "input handling."
   ]
  },
  {
   "cell_type": "markdown",
   "metadata": {},
   "source": [
    "Any way you cut it, running software puts the security of your computer at risk.\n",
    "Because running software is the whole point of having a computer, it’s prudent to\n",
    "apply the practical risk mitigations.\n",
    "\n",
    "Like physical jail cells, anything inside a container can access only things that are\n",
    "inside it as well. Exceptions to this rule exist, but only when explicitly created by the\n",
    "user. Containers limit the scope of impact that a program can have on other running\n",
    "programs, the data it can access, and system resources. Figure 1.7 illustrates the difference\n",
    "between running software outside and inside a container.\n",
    "\n",
    "What this means for you or your business is that the scope of any security threat\n",
    "associated with running a particular application is limited to the scope of the application\n",
    "itself. Creating strong application containers is complicated and a critical component\n",
    "of any in-depth defense strategy. It is far too commonly skipped or implemented\n",
    "in a half-hearted manner."
   ]
  },
  {
   "cell_type": "markdown",
   "metadata": {},
   "source": [
    "<img alt=\"\" src=\"https://dpzbhybb2pdcj.cloudfront.net/nickoloff2/Figures/01fig07_alt.jpg\" image-src=\"https://dpzbhybb2pdcj.cloudfront.net/nickoloff2/Figures/01fig07_alt.jpg\" onerror=\"fallbackToImageSrcPlaceholder(this)\" data-action=\"zoom\" data-zoom-src=\"https://dpzbhybb2pdcj.cloudfront.net/nickoloff2/HighResolutionFigures/figure_1-7.png\" class=\"medium-zoom-image\">"
   ]
  },
  {
   "cell_type": "markdown",
   "metadata": {},
   "source": [
    "What this means for you or your business is that the scope of any security threat\n",
    "associated with running a particular application is limited to the scope of the application\n",
    "itself. Creating strong application containers is complicated and a critical component\n",
    "of any in-depth defense strategy. It is far too commonly skipped or implemented\n",
    "in a half-hearted manner."
   ]
  },
  {
   "cell_type": "markdown",
   "metadata": {},
   "source": [
    "## Why is Docker important?"
   ]
  },
  {
   "cell_type": "markdown",
   "metadata": {},
   "source": [
    "Docker provides an abstraction. Abstractions allow you to work with complicated things\n",
    "in simplified terms. So, in the case of Docker, instead of focusing on all the complexities\n",
    "and specifics associated with installing an application, all we need to consider is\n",
    "what software we’d like to install."
   ]
  },
  {
   "cell_type": "markdown",
   "metadata": {},
   "source": [
    "This is also the case for application removal. When you want to remove software,\n",
    "you simply tell Docker which software to remove."
   ]
  },
  {
   "cell_type": "markdown",
   "metadata": {},
   "source": [
    "Docker is important because it makes containers available to everyone. Using it saves\n",
    "time, money, and energy."
   ]
  },
  {
   "cell_type": "markdown",
   "metadata": {},
   "source": [
    "The second reason Docker is important is that there is significant push in the software\n",
    "community to adopt containers and Docker."
   ]
  },
  {
   "cell_type": "markdown",
   "metadata": {},
   "source": [
    "## Primer: Primerjava namestitve 2 instanc nginx"
   ]
  },
  {
   "cell_type": "markdown",
   "metadata": {},
   "source": [
    "### Brez dockerja"
   ]
  },
  {
   "cell_type": "markdown",
   "metadata": {},
   "source": [
    "Želimo namesti in stestorati delovanje nginx:\n",
    "- sudo apt-get update \n",
    "- sudo apt-get install nginx\n",
    "- nginx -v\n",
    "- sudo systemctl start nginx\n",
    "- sudo systemctl status nginx\n",
    "- curl http://127.0.0.1 ali IP virtualke"
   ]
  },
  {
   "cell_type": "markdown",
   "metadata": {},
   "source": [
    "**Kaj pa če želimo namestiti dve instance nginx**\n",
    "- `sudo apt-get install nginx` - > že obstaja\n",
    "- `sudo systemctl start nginx` -> vidmo da še vedno samo ena instanca je delujoča\n",
    "- `sudo ps aux | grep nginx`\n",
    "- Če želimo namestit dve instance moramo spremeniti init scripte\n",
    "    - cat /etc/init/nginx.conf\n",
    "    - To je komplicirani delo, pa še skoraj nemogoče za dve različne verzije\n",
    "- `sudo systemctl stop nginx`\n",
    "- Problem da ko namestimo mi eno verzijo spodaj imamo odvisnosti ki so različne od verzije\n",
    "- To nam kontejnerji poenostavijo\n",
    "\n",
    "\n"
   ]
  },
  {
   "cell_type": "markdown",
   "metadata": {},
   "source": [
    "### S Dockerjem"
   ]
  },
  {
   "cell_type": "markdown",
   "metadata": {},
   "source": [
    "\n",
    "Pokažemo DockerHub in kako dobimo sliko na računalnik:\n",
    "    \n",
    "    docker pull nginx"
   ]
  },
  {
   "cell_type": "markdown",
   "metadata": {},
   "source": [
    "<div class=\"index-module--markdown--2MdcR ureact-markdown \"><h2 id=\"commands-to-run-on-the-vm-instance-\">Commands to run (on the VM Instance)</h2>\n",
    "\n"
   ]
  },
  {
   "cell_type": "markdown",
   "metadata": {},
   "source": [
    "```shell    \n",
    "# Run the first instance\n",
    "docker run -d nginx\n",
    "\n",
    "# Check if it's up\n",
    "sudo docker ps\n",
    "\n",
    "# Run a different version of nginx\n",
    "sudo docker run -d nginx:1.9.3\n",
    "sudo docker run -d nginx:1.10.0\n",
    "\n",
    "# Check how many instances are running\n",
    "sudo docker ps\n",
    "sudo ps aux | grep nginx\n",
    "\n",
    "```"
   ]
  },
  {
   "cell_type": "markdown",
   "metadata": {},
   "source": [
    "If you don't specify a name, Docker gives a container a random name, such as \"stoic_williams,\" \"sharp_bartik,\" \"awesome_murdock,\" or \"evil_hawking.\" (Stephen Hawking got no love on this one.)"
   ]
  },
  {
   "cell_type": "markdown",
   "metadata": {},
   "source": [
    "<p>These are generated from a list of adjectives and names of famous scientists and hackers. The combination of the names and adjectives is random, except for one case. Want to see what the exception is? Check it out in the <a target=\"_blank\" href=\"https://github.com/docker/docker/blob/master/pkg/namesgenerator/names-generator.go\">Docker source code</a>!</p>"
   ]
  },
  {
   "cell_type": "markdown",
   "metadata": {},
   "source": [
    "**List all running container processes**\n",
    "\n",
    "    sudo docker ps\n",
    "\n",
    "For use in shell scripts you might want to just get a list of container IDs (-a stands for all instances, not just running, and -q is for \"quiet\" - show just the numeric ID):\n",
    "\n",
    "    sudo docker ps -aq"
   ]
  },
  {
   "cell_type": "markdown",
   "metadata": {},
   "source": [
    "**Inspect the container**\n",
    "\n",
    "You can use either CONTAINER ID or NAMES field, for example for a sudo docker ps output like this:\n",
    "\n",
    "    CONTAINER ID        IMAGE               COMMAND                  CREATED             STATUS              PORTS               NAMES\n",
    "    f86cf066c304        nginx:1.10.0        \"nginx -g 'daemon off\"   8 minutes ago       Up 8 minutes        80/tcp, 443/tcp     sharp_bartik\n",
    "\n",
    "You can use either of the following commands:\n",
    "\n",
    "    sudo docker inspect f86cf066c304\n",
    "\n",
    "or\n",
    "    sudo docker inspect sharp_bartik"
   ]
  },
  {
   "cell_type": "markdown",
   "metadata": {},
   "source": [
    "Ustavimo vse kontejnerje: `sudo docker stop $(sudo docker ps -aq)`"
   ]
  },
  {
   "cell_type": "markdown",
   "metadata": {},
   "source": [
    "Odstranimo vse kontejnerje: `sudo docker rm $(sudo docker ps -aq)`"
   ]
  },
  {
   "cell_type": "markdown",
   "metadata": {},
   "source": [
    "**Izpostavimo kontejner**\n",
    "- `docker run -d -p \"80:80\" nginx`"
   ]
  },
  {
   "cell_type": "markdown",
   "metadata": {},
   "source": [
    "Ustavimo vse kontejnerje: `sudo docker stop $(sudo docker ps -aq)`"
   ]
  },
  {
   "cell_type": "markdown",
   "metadata": {},
   "source": [
    "Odstranimo vse kontejnerje: `sudo docker rm $(sudo docker ps -aq)`"
   ]
  }
 ],
 "metadata": {
  "kernelspec": {
   "display_name": "Python 3",
   "language": "python",
   "name": "python3"
  },
  "language_info": {
   "codemirror_mode": {
    "name": "ipython",
    "version": 3
   },
   "file_extension": ".py",
   "mimetype": "text/x-python",
   "name": "python",
   "nbconvert_exporter": "python",
   "pygments_lexer": "ipython3",
   "version": "3.8.5"
  }
 },
 "nbformat": 4,
 "nbformat_minor": 2
}
