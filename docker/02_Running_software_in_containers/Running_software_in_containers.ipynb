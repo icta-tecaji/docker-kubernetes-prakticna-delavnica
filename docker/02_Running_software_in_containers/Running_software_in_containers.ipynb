{
 "cells": [
  {
   "cell_type": "markdown",
   "metadata": {},
   "source": [
    "# Running software in containers"
   ]
  },
  {
   "cell_type": "markdown",
   "metadata": {},
   "source": [
    "## Solved problems and the PID namespace"
   ]
  },
  {
   "cell_type": "markdown",
   "metadata": {},
   "source": [
    "Every running program—or process—on a Linux machine has a unique number\n",
    "called a process identifier (PID). A PID namespace is a set of unique numbers that identify\n",
    "processes. Linux provides tools to create multiple PID namespaces. Each namespace\n",
    "has a complete set of possible PIDs. This means that each PID namespace will contain\n",
    "its own PID 1, 2, 3, and so on."
   ]
  },
  {
   "cell_type": "markdown",
   "metadata": {},
   "source": [
    "Most programs will not need access to other running processes or be able to list\n",
    "the other running processes on the system. **And so Docker creates a new PID namespace\n",
    "for each container by default.** A container’s PID namespace isolates processes in\n",
    "that container from processes in other containers."
   ]
  },
  {
   "cell_type": "markdown",
   "metadata": {},
   "source": [
    "From the perspective of a process in one container with its own namespace, PID 1\n",
    "might refer to an init system process such as runit or supervisord. In a different container,\n",
    "PID 1 might refer to a command shell such as bash. Run the following to see it\n",
    "in action:"
   ]
  },
  {
   "cell_type": "markdown",
   "metadata": {},
   "source": [
    "    docker run -d --name namespaceA \\\n",
    "        busybox:1.29 /bin/sh -c \"sleep 30000\"\n",
    "\n",
    "    docker run -d --name namespaceB \\\n",
    "        busybox:1.29 /bin/sh -c \"nc -l 0.0.0.0 -p 80\"\n",
    "\n",
    "    docker exec namespaceA ps\n",
    "    docker exec namespaceB ps"
   ]
  },
  {
   "cell_type": "markdown",
   "metadata": {},
   "source": [
    "In this example, you use the docker exec command to run additional processes in a\n",
    "running container. In this case, the command you use is called ps, which shows all the\n",
    "running processes and their PID. From the output, you can clearly see that each container\n",
    "has a process with PID 1."
   ]
  },
  {
   "cell_type": "markdown",
   "metadata": {},
   "source": [
    "Without a PID namespace, the processes running inside a container would share\n",
    "the same ID space as those in other containers or on the host. A process in a container\n",
    "would be able to determine what other processes were running on the host machine.\n",
    "Worse, processes in one container might be able to control processes in other containers.\n",
    "A process that cannot reference any processes outside its namespace is limited in\n",
    "its ability to perform targeted attacks."
   ]
  },
  {
   "cell_type": "markdown",
   "metadata": {},
   "source": [
    "Because containers all have their own PID namespace, they both cannot gain meaningful\n",
    "insight from examining it, and can take more static dependencies on it. Suppose\n",
    "a container runs two processes: a server and a local process monitor. That monitor\n",
    "could take a hard dependency on the server’s expected PID and use that to monitor\n",
    "and control the server. This is an example of environment independence."
   ]
  },
  {
   "cell_type": "markdown",
   "metadata": {},
   "source": [
    "Consider the previous web-monitoring example. Suppose you were not using\n",
    "Docker and were just running NGINX directly on your computer. Now suppose you\n",
    "forgot that you had already started NGINX for another project. When you start\n",
    "NGINX again, the second process won’t be able to access the resources it needs\n",
    "because the first process already has them. This is a basic software conflict example.\n",
    "You can see it in action by trying to run two copies of NGINX in the same container:"
   ]
  },
  {
   "cell_type": "markdown",
   "metadata": {},
   "source": [
    "    docker run -d --name webConflict nginx:latest\n",
    "    docker logs webConflict\n",
    "    docker exec webConflict nginx -g 'daemon off;'"
   ]
  },
  {
   "cell_type": "markdown",
   "metadata": {},
   "source": [
    "The second process fails to start properly and reports that the address it needs is\n",
    "already in use. Called a port conflict, this is a common issue in real-world systems in\n",
    "which several processes are running on the same computer or multiple people contribute\n",
    "to the same environment. It’s a great example of a conflict problem that\n",
    "Docker simplifies and solves. Run each in a different container, like this:"
   ]
  },
  {
   "cell_type": "markdown",
   "metadata": {},
   "source": [
    "    docker run -d --name webA nginx:latest\n",
    "    docker logs webA\n",
    "    \n",
    "    docker run -d --name webB nginx:latest\n",
    "    docker logs webB"
   ]
  },
  {
   "cell_type": "markdown",
   "metadata": {},
   "source": []
  },
  {
   "cell_type": "markdown",
   "metadata": {},
   "source": [
    "Environment independence provides the freedom to configure software taking\n",
    "dependencies on scarce system resources without regard for other co-located software\n",
    "with conflicting requirements. Here are some common conflict problems:\n",
    "    \n",
    "- Two programs want to bind to the same network port.\n",
    "- Two programs use the same temporary filename, and file locks are preventing\n",
    "that.\n",
    "- Two programs want to use different versions of a globally installed library.\n",
    "- Two processes want to use the same PID file.\n",
    "- A second program you installed modified an environment variable that another\n",
    "program uses. Now the first program breaks.\n",
    "- Multiple processes are competing for memory or CPU time.\n",
    "\n",
    "All these conflicts arise when one or more programs have a common dependency but\n",
    "can’t agree to share or have different needs. As in the earlier port conflict example,\n",
    "Docker solves software conflicts with such tools as Linux namespaces, resource limits,\n",
    "filesystem roots, and virtualized network components. All these tools are used to isolate\n",
    "software inside a Docker container."
   ]
  },
  {
   "cell_type": "markdown",
   "metadata": {},
   "source": [
    "## Eliminating metaconflicts: Building a website farm"
   ]
  },
  {
   "cell_type": "markdown",
   "metadata": {},
   "source": [
    "The best way to find out why simply creating more copies of the NGINX container you\n",
    "used in the previous example is a bad idea is to try it for yourself:"
   ]
  },
  {
   "cell_type": "markdown",
   "metadata": {},
   "source": [
    "    docker run -d --name webid nginx\n",
    "    docker run -d --name webid nginx"
   ]
  },
  {
   "cell_type": "markdown",
   "metadata": {},
   "source": [
    "The second command here will fail with a conflict error:\n",
    "\n",
    "    FATA[0000] Error response from daemon: Conflict. The name \"webid\" is\n",
    "    already in use by container 2b5958ba6a00. You have to delete (or rename)\n",
    "    that container to be able to reuse that name."
   ]
  },
  {
   "cell_type": "markdown",
   "metadata": {},
   "source": [
    "Using fixed container names such as web is useful for experimentation and documentation,\n",
    "but in a system with multiple containers, using fixed names like that can create\n",
    "conflicts. By default, Docker assigns a unique (human-friendly) name to each container\n",
    "it creates. The --name flag overrides that process with a known value. If a situation\n",
    "arises in which the name of a container needs to change, you can always rename\n",
    "the container with the docker rename command:"
   ]
  },
  {
   "cell_type": "markdown",
   "metadata": {},
   "source": [
    "    docker rename webid webid-old\n",
    "    docker run -d --name webid nginx"
   ]
  },
  {
   "cell_type": "markdown",
   "metadata": {},
   "source": [
    "Renaming containers can help alleviate one-off naming conflicts but does little to\n",
    "help avoid the problem in the first place. In addition to the name, Docker assigns a\n",
    "unique identifier that was mentioned in the first example. These are hex-encoded\n",
    "1024-bit numbers and look something like this:\n",
    "    \n",
    "    7cb5d2b9a7eab87f07182b5bf58936c9947890995b1b94f412912fa822a9ecb5"
   ]
  },
  {
   "cell_type": "markdown",
   "metadata": {},
   "source": [
    "When containers are started in detached mode, their identifier will be printed to the\n",
    "terminal. You can use these identifiers in place of the container name with any command\n",
    "that needs to identify a specific container. For example, you could use the previous\n",
    "ID with a stop or exec command:\n",
    "\n",
    "    docker exec \\\n",
    "    7cb5d2b9a7eab87f07182b5bf58936c9947890995b1b94f412912fa822a9ecb5 \\\n",
    "    \n",
    "    echo hello\n",
    "    \n",
    "    docker stop \\\n",
    "    7cb5d2b9a7eab87f07182b5bf58936c9947890995b1b94f412912fa822a9ecb5"
   ]
  },
  {
   "cell_type": "markdown",
   "metadata": {},
   "source": [
    "The high probability of uniqueness of the IDs that are generated means that it is\n",
    "unlikely that there will ever be a collision with this ID. To a lesser degree, it is also\n",
    "unlikely that there would even be a collision of the first 12 characters of this ID on the\n",
    "same computer. So in most Docker interfaces, you’ll see container IDs truncated to\n",
    "their first 12 characters. This makes generated IDs a bit more user-friendly. You can\n",
    "use them wherever a container identifier is required. The previous two commands\n",
    "could be written like this:\n",
    "    \n",
    "    docker exec 7cb5d2b9a7ea ls\n",
    "    docker stop 7cb5d2b9a7ea"
   ]
  },
  {
   "cell_type": "markdown",
   "metadata": {},
   "source": [
    "Neither of these IDs is particularly well suited for human use. But they work well with\n",
    "scripts and automation techniques. Docker has several means of acquiring the ID of a\n",
    "container to make automation possible. In these cases, the full or truncated numeric\n",
    "ID will be used."
   ]
  },
  {
   "cell_type": "markdown",
   "metadata": {},
   "source": [
    "The first way to get the numeric ID of a container is to simply start or create a new\n",
    "one and assign the result of the command to a shell variable. As you saw earlier, when\n",
    "a new container is started in detached mode, the container ID will be written to the\n",
    "terminal (stdout). You’d be unable to use this with interactive containers if this were\n",
    "the only way to get the container ID at creation time. Luckily, you can use another\n",
    "command to create a container without starting it. The docker create command is\n",
    "similar to docker run, the primary difference being that the container is created in a\n",
    "stopped state:"
   ]
  },
  {
   "cell_type": "markdown",
   "metadata": {},
   "source": [
    "    docker create nginx"
   ]
  },
  {
   "cell_type": "markdown",
   "metadata": {},
   "source": [
    "If you’re using a Linux command shell such as sh or bash, you can assign that result to\n",
    "a shell variable and use it again later:\n",
    "\n",
    "    CID=$(docker create nginx:latest)\n",
    "    echo $CID"
   ]
  },
  {
   "cell_type": "markdown",
   "metadata": {},
   "source": [
    "Shell variables create a new opportunity for conflict, but the scope of that conflict is\n",
    "limited to the terminal session or current processing environment in which the script\n",
    "was launched. Those conflicts should be easily avoidable because one use or program\n",
    "is managing that environment. The problem with this approach is that it won’t help if\n",
    "multiple users or automated processes need to share that information. In those cases,\n",
    "you can use a container ID (CID) file."
   ]
  },
  {
   "cell_type": "markdown",
   "metadata": {},
   "source": [
    "Both the docker run and docker create commands provide another flag to write\n",
    "the ID of a new container to a known file:"
   ]
  },
  {
   "cell_type": "markdown",
   "metadata": {},
   "source": [
    "    docker create --cidfile /tmp/web.cid nginx\n",
    "    cat /tmp/web.cid"
   ]
  },
  {
   "cell_type": "markdown",
   "metadata": {},
   "source": [
    "Like the use of shell variables, this feature increases the opportunity for conflict. The\n",
    "name of the CID file (provided after --cidfile) must be known or have some known\n",
    "structure. Just like manual container naming, this approach uses known names in a\n",
    "global (Docker-wide) namespace. The good news is that Docker won’t create a new\n",
    "container by using the provided CID file if that file already exists. The command will\n",
    "fail just as it does when you create two containers with the same name.\n",
    "\n",
    "One reason to use CID files instead of names is that CID files can be shared with\n",
    "containers easily and renamed for that container. This uses a Docker feature called\n",
    "volumes, which is covered in chapter 4."
   ]
  },
  {
   "cell_type": "markdown",
   "metadata": {},
   "source": [
    "In other cases, you can use other commands such as docker ps to get the ID of a container.\n",
    "For example, if you want to get the truncated ID of the last created container,\n",
    "you can use this:"
   ]
  },
  {
   "cell_type": "markdown",
   "metadata": {},
   "source": [
    "    CID=$(docker ps --latest --quiet)\n",
    "    echo $CID\n",
    "\n",
    "    CID=$(docker ps -l -q)\n",
    "    echo $CID"
   ]
  },
  {
   "cell_type": "markdown",
   "metadata": {},
   "source": [
    "### Container state and dependencies"
   ]
  },
  {
   "cell_type": "markdown",
   "metadata": {},
   "source": [
    "With this new knowledge, the new system might look something like this:"
   ]
  },
  {
   "cell_type": "markdown",
   "metadata": {},
   "source": [
    "    MAILER_CID=$(docker run -d dockerinaction/ch2_mailer)\n",
    "    WEB_CID=$(docker create nginx)\n",
    "    \n",
    "    AGENT_CID=$(docker create --link $WEB_CID:insideweb \\\n",
    "        --link $MAILER_CID:insidemailer \\\n",
    "        dockerinaction/ch2_agent)"
   ]
  },
  {
   "cell_type": "markdown",
   "metadata": {},
   "source": [
    "This snippet could be used to seed a new script that launches a new NGINX and agent\n",
    "instance for each of your client’s customers. You can use docker ps to see that they’ve\n",
    "been created:"
   ]
  },
  {
   "cell_type": "markdown",
   "metadata": {},
   "source": [
    "    docker ps"
   ]
  },
  {
   "cell_type": "markdown",
   "metadata": {},
   "source": [
    "The reason neither the NGINX nor the agent was included with the output has to do\n",
    "with container state. Docker containers will be in one of the states shown in figure 2.3.\n",
    "The Docker container management commands to move between states annotate each\n",
    "transition."
   ]
  },
  {
   "cell_type": "markdown",
   "metadata": {},
   "source": [
    "<img src=\"https://dpzbhybb2pdcj.cloudfront.net/nickoloff2/Figures/02fig03_alt.jpg\">"
   ]
  },
  {
   "cell_type": "markdown",
   "metadata": {},
   "source": [
    "Neither of the new containers you started appears in the list of containers because\n",
    "docker ps shows only running containers by default. Those containers were specifically\n",
    "created with docker create and never started (the created state). To see all the\n",
    "containers (including those in the created state), use the -a option:\n",
    "    \n",
    "    docker ps -a"
   ]
  },
  {
   "cell_type": "markdown",
   "metadata": {},
   "source": [
    "The status of the new containers should be \"Created\". The docker ps command displays\n",
    "the container state using the “friendly” names shown in gray in figure 2.3. The\n",
    "docker inspect command uses the names shown in the bottom half of each state (for\n",
    "example, created). The restarting, removing, and dead (not illustrated) states are\n",
    "internal to Docker and are used to track transitions between the states visible in\n",
    "docker ps."
   ]
  },
  {
   "cell_type": "markdown",
   "metadata": {},
   "source": [
    "Now that you’ve verified that both of the containers were created, you need to start\n",
    "them. For that, you can use the docker start command:\n",
    "    \n",
    "    docker start $AGENT_CID\n",
    "    docker start $WEB_CID\n",
    "    \n",
    "    "
   ]
  },
  {
   "cell_type": "markdown",
   "metadata": {},
   "source": [
    "Running those commands will result in an error. The containers need to be started in\n",
    "reverse order of their dependency chain. Because you tried to start the agent container\n",
    "before the web container, Docker reported a message like this one:"
   ]
  },
  {
   "cell_type": "markdown",
   "metadata": {},
   "source": [
    "    Error response from daemon: Cannot link to a non running container: /competent_kowalevski AS /silly_keldysh/insideweb\n",
    "    Error: failed to start containers: 53b253c13177e7fadefd9bc7949e1c72b69b043b0f32c5f94a259ef3ec8f42a2"
   ]
  },
  {
   "cell_type": "markdown",
   "metadata": {},
   "source": [
    "In this example, the agent container has a dependency on the web container. You\n",
    "need to start the web container first:\n",
    "    \n",
    "    docker start $WEB_CID\n",
    "    docker start $AGENT_CID"
   ]
  },
  {
   "cell_type": "markdown",
   "metadata": {},
   "source": [
    "This makes sense when you consider the mechanics at work. The link mechanism injects\n",
    "IP addresses into dependent containers, and containers that aren’t running don’t have\n",
    "IP addresses. If you tried to start a container that has a dependency on a container that\n",
    "isn’t running, Docker wouldn’t have an IP address to inject. In chapter 5, you’ll learn to\n",
    "connect containers with user-defined bridge networks to avoid this particular dependency\n",
    "problem. The key point here is that Docker will try to resolve a container’s dependencies\n",
    "before creating or starting a container to avoid application runtime failures."
   ]
  },
  {
   "cell_type": "markdown",
   "metadata": {},
   "source": [
    "> **The legacy of container network linking**: You may notice that the Docker documentation describes network links as a legacy\n",
    "feature. Network links were an early and popular way to connect containers. Links create\n",
    "a unidirectional network connection from one container to other containers on the\n",
    "same host. Significant portions of the container ecosystem asked for fully peered,\n",
    "bidirectional connections between containers. Docker provides this with the userdefined\n",
    "networks described in chapter 5. These networks can also extend across a\n",
    "cluster of hosts as described in chapter 13. Network links and user-defined networks\n",
    "are not equivalent, but Docker recommends migrating to user-defined networks.\n",
    "It is uncertain whether the container network linking feature will ever be removed.\n",
    "Numerous useful tools and unidirectional communication patterns depend on linking,\n",
    "as illustrated by the containers used to inspect and watch the web and mailer components\n",
    "in this section."
   ]
  },
  {
   "cell_type": "markdown",
   "metadata": {},
   "source": [
    "Whether you’re using docker run or docker create, the resulting containers need to\n",
    "be started in the reverse order of their dependency chain. This means that circular\n",
    "dependencies are impossible to build using Docker container relationships.\n",
    "\n",
    "At this point, you can put everything together into one concise script that looks\n",
    "like this:"
   ]
  },
  {
   "cell_type": "markdown",
   "metadata": {},
   "source": [
    "    MAILER_CID=$(docker run -d dockerinaction/ch2_mailer)\n",
    "    WEB_CID=$(docker run -d nginx)\n",
    "    AGENT_CID=$(docker run -d \\\n",
    "        --link $WEB_CID:insideweb \\\n",
    "        --link $MAILER_CID:insidemailer \\\n",
    "        dockerinaction/ch2_agent)"
   ]
  },
  {
   "cell_type": "markdown",
   "metadata": {},
   "source": [
    "Now you’re confident that this script can be run without exception each time your client\n",
    "needs to provision a new site. Your client has returned and thanked you for the\n",
    "web and monitoring work you’ve completed so far, but things have changed."
   ]
  },
  {
   "cell_type": "markdown",
   "metadata": {},
   "source": [
    "They’ve decided to focus on building their websites with WordPress (a popular\n",
    "open source content-management and blogging program). Luckily, WordPress is published\n",
    "through Docker Hub in a repository named wordpress. All you’ll need to deliver\n",
    "is a set of commands to provision a new WordPress website that has the same monitoring\n",
    "and alerting features that you’ve already delivered.\n",
    "\n",
    "An interesting thing about content-management systems and other stateful systems\n",
    "is that the data they work with makes each running program specialized. Adam’s\n",
    "WordPress blog is different from Betty’s WordPress blog, even if they’re running the\n",
    "same software. Only the content is different. Even if the content is the same, they’re\n",
    "different because they’re running on different sites.\n",
    "\n",
    "If you build systems or software that know too much about their environment—for\n",
    "example, addresses or fixed locations of dependency services—it’s difficult to change\n",
    "that environment or reuse the software. You need to deliver a system that minimizes\n",
    "environment dependence before the contract is complete."
   ]
  },
  {
   "cell_type": "markdown",
   "metadata": {},
   "source": [
    "## Building environment-agnostic systems"
   ]
  },
  {
   "cell_type": "markdown",
   "metadata": {},
   "source": [
    "Much of the work associated with installing software or maintaining a fleet of computers\n",
    "lies in dealing with specializations of the computing environment. These specializations\n",
    "come as global-scoped dependencies (for example, known host filesystem\n",
    "locations), hardcoded deployment architectures (environment checks in code or configuration),\n",
    "or data locality (data stored on a particular computer outside the deployment\n",
    "architecture). Knowing this, if your goal is to build low-maintenance systems,\n",
    "you should strive to minimize these things."
   ]
  },
  {
   "cell_type": "markdown",
   "metadata": {},
   "source": [
    "Docker has three specific features to help build environment-agnostic systems:\n",
    "- Read-only filesystems\n",
    "- Environment variable injection\n",
    "- Volumes\n",
    "\n",
    "Working with volumes is a big subject and the topic of chapter 4. To learn the first two\n",
    "features, consider a requirement change for the example situation used in the rest of\n",
    "this chapter: WordPress uses a database program called MySQL to store most of its\n",
    "data, so it’s a good idea to provide the container running WordPress with a read-only\n",
    "filesystem to ensure data is written only to the database."
   ]
  },
  {
   "cell_type": "markdown",
   "metadata": {},
   "source": [
    "### Read-only filesystems"
   ]
  },
  {
   "cell_type": "markdown",
   "metadata": {},
   "source": [
    "Using read-only filesystems accomplishes two positive things. First, you can have\n",
    "confidence that the container won’t be specialized from changes to the files it contains.\n",
    "Second, you have increased confidence that an attacker can’t compromise\n",
    "files in the container."
   ]
  },
  {
   "cell_type": "markdown",
   "metadata": {},
   "source": [
    "To get started working on your client’s system, create and start a container from\n",
    "the WordPress image by using the --read-only flag:"
   ]
  },
  {
   "cell_type": "markdown",
   "metadata": {},
   "source": [
    "    docker run -d --name wp --read-only \\\n",
    "        wordpress:5.0.0-php7.2-apache"
   ]
  },
  {
   "cell_type": "markdown",
   "metadata": {},
   "source": [
    "When this is finished, check that the container is running. You can do so using any of\n",
    "the methods introduced previously, or you can inspect the container metadata directly.\n",
    "The following command will print true if the container named wp is running, and\n",
    "false otherwise:"
   ]
  },
  {
   "cell_type": "markdown",
   "metadata": {},
   "source": [
    "    docker inspect --format \"{{.State.Running}}\" wp"
   ]
  },
  {
   "cell_type": "markdown",
   "metadata": {},
   "source": [
    "The docker inspect command will display all the metadata (a JSON document) that\n",
    "Docker maintains for a container. The format option transforms that metadata, and in\n",
    "this case, it filters everything except for the field indicating the running state of the\n",
    "container. This command should simply output false.\n",
    "\n",
    "In this case, the container isn’t running. To determine why, examine the logs for\n",
    "the container:\n",
    "    \n",
    "    docker logs wp"
   ]
  },
  {
   "cell_type": "markdown",
   "metadata": {},
   "source": [
    "When running WordPress with a read-only filesystem, the Apache web server process\n",
    "reports that it is unable to create a lock file. Unfortunately, it does not report the location\n",
    "of the files it is trying to create. If we have the locations, we can create exceptions\n",
    "for them. Let’s run a WordPress container with a writable filesystem so that Apache is\n",
    "free to write where it wants:"
   ]
  },
  {
   "cell_type": "markdown",
   "metadata": {},
   "source": [
    "    docker run -d --name wp_writable wordpress:5.0.0-php7.2-apache"
   ]
  },
  {
   "cell_type": "markdown",
   "metadata": {},
   "source": [
    "Now let’s check where Apache changed the container’s filesystem with the docker\n",
    "diff command:"
   ]
  },
  {
   "cell_type": "markdown",
   "metadata": {},
   "source": [
    "    docker container diff wp_writable"
   ]
  },
  {
   "cell_type": "markdown",
   "metadata": {},
   "source": [
    "We will explain the diff command and how Docker knows what changed on the\n",
    "filesystem in more detail in chapter 3. For now, it’s sufficient to know that the output\n",
    "indicates that Apache created the /run/apache2 directory and added the apache2.pid\n",
    "file inside it.\n",
    "\n",
    "Since this is an expected part of normal application operation, we will make an\n",
    "exception to the read-only filesystem. We will allow the container to write to\n",
    "/run/apache2 by using a writable volume mounted from the host. We will also supply\n",
    "a temporary, in-memory, filesystem to the container at /tmp since Apache requires a\n",
    "writable temporary directory, as well:"
   ]
  },
  {
   "cell_type": "markdown",
   "metadata": {},
   "source": [
    "    docker run -d --name wp2 \\\n",
    "        --read-only \\\n",
    "        -v /run/apache2/ \\\n",
    "        --tmpfs /tmp \\\n",
    "        wordpress:5.0.0-php7.2-apache"
   ]
  },
  {
   "cell_type": "markdown",
   "metadata": {},
   "source": [
    "    docker logs wp2"
   ]
  },
  {
   "cell_type": "markdown",
   "metadata": {},
   "source": [
    "WordPress also has a dependency on a MySQL database. A database is a program that\n",
    "stores data in such a way that it’s retrievable and searchable later. The good news is\n",
    "that you can install MySQL by using Docker, just like WordPress:"
   ]
  },
  {
   "cell_type": "markdown",
   "metadata": {},
   "source": [
    "    docker run -d --name wpdb \\\n",
    "        -e MYSQL_ROOT_PASSWORD=ch2demo \\\n",
    "        mysql:5.7"
   ]
  },
  {
   "cell_type": "markdown",
   "metadata": {},
   "source": [
    "Once that is started, create a different WordPress container that’s linked to this new\n",
    "database container:"
   ]
  },
  {
   "cell_type": "markdown",
   "metadata": {},
   "source": [
    "    docker run -d --name wp3 \\\n",
    "        --link wpdb:mysql \\\n",
    "        -p 8000:80 \\\n",
    "        --read-only \\\n",
    "        -v /run/apache2/ \\\n",
    "        --tmpfs /tmp \\\n",
    "        wordpress:5.0.0-php7.2-apache"
   ]
  },
  {
   "cell_type": "markdown",
   "metadata": {},
   "source": [
    "Check one more time that WordPress is running correctly:\n",
    "    \n",
    "    docker inspect --format \"{{.State.Running}}\" wp3\n",
    "\n",
    "The output should now be true. If you would like to use your new WordPress installation,\n",
    "you can point a web browser to http://127.0.0.1:8000."
   ]
  },
  {
   "cell_type": "markdown",
   "metadata": {},
   "source": [
    "An updated version of the script you’ve been working on should look like this:"
   ]
  },
  {
   "cell_type": "markdown",
   "metadata": {},
   "source": [
    "    #!/bin/sh\n",
    "    DB_CID=$(docker create -e MYSQL_ROOT_PASSWORD=ch2demo mysql:5.7)\n",
    "    \n",
    "    docker start $DB_CID\n",
    "    \n",
    "    MAILER_CID=$(docker create dockerinaction/ch2_mailer)\n",
    "    docker start $MAILER_CID\n",
    "    \n",
    "    WP_CID=$(docker create --link $DB_CID:mysql -p 80 \\\n",
    "        --read-only -v /run/apache2/ --tmpfs /tmp \\\n",
    "        wordpress:5.0.0-php7.2-apache)\n",
    "    \n",
    "    docker start $WP_CID\n",
    "    \n",
    "    AGENT_CID=$(docker create --link $WP_CID:insideweb \\\n",
    "        --link $MAILER_CID:insidemailer \\\n",
    "        dockerinaction/ch2_agent)\n",
    "    \n",
    "    docker start $AGENT_CID"
   ]
  },
  {
   "cell_type": "markdown",
   "metadata": {},
   "source": [
    "Congratulations—at this point, you should have a running WordPress container! By\n",
    "using a read-only filesystem and linking WordPress to another container running a\n",
    "database, you can be sure that the container running the WordPress image will never\n",
    "change. This means that if there is ever something wrong with the computer running\n",
    "a client’s WordPress blog, you should be able to start up another copy of that container\n",
    "elsewhere with no problems.\n",
    "\n",
    "But this design has two problems. First, the database is running in a container on\n",
    "the same computer as the WordPress container. Second, WordPress is using several\n",
    "default values for important settings such as database name, administrative user,\n",
    "administrative password, database salt, and so on.\n",
    "\n",
    "To deal with this problem, you could create several versions of the WordPress software,\n",
    "each with a special configuration for the client. Doing so would turn your simple\n",
    "provisioning script into a monster that creates images and writes files. A better way to\n",
    "inject that configuration would be through the use of environment variables."
   ]
  },
  {
   "cell_type": "markdown",
   "metadata": {},
   "source": [
    "### Environment variable injection"
   ]
  },
  {
   "cell_type": "markdown",
   "metadata": {},
   "source": [
    "Environment variables are key/value pairs that are made available to programs through\n",
    "their execution context. They let you change a program’s configuration without modifying\n",
    "any files or changing the command used to start the program.\n",
    "\n",
    "Docker uses environment variables to communicate information about dependent\n",
    "containers, the hostname of the container, and other convenient information for programs\n",
    "running in containers. Docker also provides a mechanism for a user to inject\n",
    "environment variables into a new container. Programs that know to expect important\n",
    "information through environment variables can be configured at container-creation\n",
    "time. Luckily for you and your client, WordPress is one such program."
   ]
  },
  {
   "cell_type": "markdown",
   "metadata": {},
   "source": [
    "Before diving into WordPress specifics, try injecting and viewing environment variables\n",
    "on your own. The UNIX command env displays all the environment variables in\n",
    "the current execution context (your terminal). To see environment variable injection\n",
    "in action, use the following command:"
   ]
  },
  {
   "cell_type": "markdown",
   "metadata": {},
   "source": [
    "    docker run --env MY_ENVIRONMENT_VAR=\"this is a test\" \\\n",
    "        busybox:1.29 \\\n",
    "        env"
   ]
  },
  {
   "cell_type": "markdown",
   "metadata": {},
   "source": [
    "The --env flag, or -e for short, can be used to inject any environment variable. If the\n",
    "variable is already set by the image or Docker, the value will be overridden. This way,\n",
    "programs running inside containers can rely on the variables always being set."
   ]
  },
  {
   "cell_type": "markdown",
   "metadata": {},
   "source": [
    "To get started, you should address the problem that the database is running in a container\n",
    "on the same computer as the WordPress container. Rather than using linking to\n",
    "satisfy WordPress’s database dependency, inject a value for the WORDPRESS_DB_HOST\n",
    "variable:"
   ]
  },
  {
   "cell_type": "markdown",
   "metadata": {},
   "source": [
    "    docker create --env WORDPRESS_DB_HOST=<my database hostname> \\\n",
    "        wordpress: 5.0.0-php7.2-apache"
   ]
  },
  {
   "cell_type": "markdown",
   "metadata": {},
   "source": [
    "This example would create (not start) a container for WordPress that will try to connect\n",
    "to a MySQL database at whatever you specify at <my database hostname>. Because the\n",
    "remote database isn’t likely using any default username or password, you’ll have to\n",
    "inject values for those settings as well. Suppose the database administrator is a cat lover\n",
    "and hates strong passwords:"
   ]
  },
  {
   "cell_type": "markdown",
   "metadata": {},
   "source": [
    "    docker create \\\n",
    "        --env WORDPRESS_DB_HOST=<my database hostname> \\\n",
    "        --env WORDPRESS_DB_USER=site_admin \\\n",
    "        --env WORDPRESS_DB_PASSWORD=MeowMix42 \\\n",
    "        wordpress:5.0.0-php7.2-apache"
   ]
  },
  {
   "cell_type": "markdown",
   "metadata": {},
   "source": [
    "Using environment variable injection this way will help you separate the physical ties\n",
    "between a WordPress container and a MySQL container. Even when you want to host\n",
    "the database and your customer WordPress sites all on the same machine, you’ll still\n",
    "need to fix the second problem mentioned earlier. All the sites are using the same\n",
    "default database name, which means different clients will be sharing a single database.\n",
    "You’ll need to use environment variable injection to set the database name for each\n",
    "independent site by specifying the WORDPRESS_DB_NAME variable:"
   ]
  },
  {
   "cell_type": "markdown",
   "metadata": {},
   "source": [
    "    docker create --link wpdb:mysql \\\n",
    "        -e WORDPRESS_DB_NAME=client_a_wp \\\n",
    "        wordpress:5.0.0-php7.2-apache\n",
    "\n",
    "    docker create --link wpdb:mysql \\\n",
    "        -e WORDPRESS_DB_NAME=client_b_wp \\\n",
    "        wordpress:5.0.0-php7.2-apache"
   ]
  },
  {
   "cell_type": "markdown",
   "metadata": {},
   "source": [
    "Now that you understand how to inject configuration into the WordPress application\n",
    "and connect it to collaborating processes, let’s adapt the provisioning script. First, let’s\n",
    "start database and mailer containers that will be shared by our clients and store the\n",
    "container IDs in environment variables"
   ]
  },
  {
   "cell_type": "markdown",
   "metadata": {},
   "source": [
    "    export DB_CID=$(docker run -d -e MYSQL_ROOT_PASSWORD=ch2demo mysql:5.7)\n",
    "    export MAILER_CID=$(docker run -d dockerinaction/ch2_mailer)"
   ]
  },
  {
   "cell_type": "markdown",
   "metadata": {},
   "source": [
    "If you save this script to a file named start-wp-for-client.sh, you can provision Word-\n",
    "Press for the dockerinaction client by using a command like this:"
   ]
  },
  {
   "cell_type": "markdown",
   "metadata": {},
   "source": [
    "    CLIENT_ID=dockerinaction ./start-wp-multiple-clients.sh"
   ]
  },
  {
   "cell_type": "markdown",
   "metadata": {},
   "source": [
    "This new script will start an instance of WordPress and the monitoring agent for each\n",
    "customer and connect those containers to each other as well as a single mailer program\n",
    "and MySQL database. The WordPress containers can be destroyed, restarted,\n",
    "and upgraded without any worry about loss of data."
   ]
  },
  {
   "cell_type": "markdown",
   "metadata": {},
   "source": [
    "The client should be pleased with what is being delivered. But one thing might be\n",
    "bothering you. In earlier testing, you found that the monitoring agent correctly notified\n",
    "the mailer when the site was unavailable, but restarting the site and agent\n",
    "required manual work. It would be better if the system tried to automatically recover\n",
    "when a failure was detected. Docker provides restart policies to help deal with that,\n",
    "but you might want something more robust."
   ]
  },
  {
   "cell_type": "markdown",
   "metadata": {},
   "source": [
    "## Building durable containers"
   ]
  },
  {
   "cell_type": "markdown",
   "metadata": {},
   "source": [
    "Software may fail in rare conditions that are temporary in nature. Although it’s\n",
    "important to be made aware when these conditions arise, it’s usually at least as important\n",
    "to restore the service as quickly as possible. The monitoring system that you built\n",
    "in this chapter is a fine start for keeping system owners aware of problems with a system,\n",
    "but it does nothing to help restore service."
   ]
  },
  {
   "cell_type": "markdown",
   "metadata": {},
   "source": [
    "When all the processes in a container have exited, that container will enter the\n",
    "exited state. Remember, a Docker container can be in one of six states:\n",
    "- Created\n",
    "- Running\n",
    "- Restarting\n",
    "- Paused\n",
    "- Removing\n",
    "- Exited (also used if the container has never been started)"
   ]
  },
  {
   "cell_type": "markdown",
   "metadata": {},
   "source": [
    "A basic strategy for recovering from temporary failures is automatically restarting a\n",
    "process when it exits or fails. Docker provides a few options for monitoring and\n",
    "restarting containers."
   ]
  },
  {
   "cell_type": "markdown",
   "metadata": {},
   "source": [
    "### Automatically restarting containers"
   ]
  },
  {
   "cell_type": "markdown",
   "metadata": {},
   "source": [
    "Docker provides this functionality with a restart policy. Using the --restart flag at\n",
    "container-creation time, you can tell Docker to do any of the following:\n",
    "- Never restart (default)\n",
    "- Attempt to restart when a failure is detected\n",
    "- Attempt for some predetermined time to restart when a failure is detected\n",
    "- Always restart the container regardless of the condition"
   ]
  },
  {
   "cell_type": "markdown",
   "metadata": {},
   "source": [
    "Docker doesn’t always attempt to immediately restart a container. If it did, that would\n",
    "cause more problems than it solved. Imagine a container that does nothing but print\n",
    "the time and exit. If that container was configured to always restart, and Docker always\n",
    "immediately restarted it, the system would do nothing but restart that container.\n",
    "Instead, Docker uses an exponential backoff strategy for timing restart attempts."
   ]
  },
  {
   "cell_type": "markdown",
   "metadata": {},
   "source": [
    "A backoff strategy determines the amount of time that should pass between successive\n",
    "restart attempts. An exponential back-off strategy will do something like double\n",
    "the previous time spent waiting on each successive attempt. For example, if the first\n",
    "time the container needs to be restarted Docker waits 1 second, then on the second\n",
    "attempt it would wait 2 seconds, 4 seconds on the third attempt, 8 on the fourth, and\n",
    "so on. Exponential backoff strategies with low initial wait times are a common servicerestoration\n",
    "technique. You can see Docker employ this strategy yourself by building a\n",
    "container that always restarts and simply prints the time:"
   ]
  },
  {
   "cell_type": "markdown",
   "metadata": {},
   "source": [
    "    docker run -d --name backoff-detector --restart always busybox:1.29 date"
   ]
  },
  {
   "cell_type": "markdown",
   "metadata": {},
   "source": [
    "Then after a few seconds, use the trailing logs feature to watch it back off and restart:"
   ]
  },
  {
   "cell_type": "markdown",
   "metadata": {},
   "source": [
    "    docker logs -f backoff-detector"
   ]
  },
  {
   "cell_type": "markdown",
   "metadata": {},
   "source": [
    "The logs will show all the times it has already been restarted and will wait until the\n",
    "next time it is restarted, print the current time, and then exit. Adding this single flag\n",
    "to the monitoring system and the WordPress containers you’ve been working on\n",
    "would solve the recovery issue."
   ]
  },
  {
   "cell_type": "markdown",
   "metadata": {},
   "source": [
    "The only reason you might not want to adopt this directly is that during backoff\n",
    "periods, the container isn’t running. Containers waiting to be restarted are in the\n",
    "restarting state. To demonstrate, try to run another process in the backoff-detector\n",
    "container:"
   ]
  },
  {
   "cell_type": "markdown",
   "metadata": {},
   "source": [
    "    docker exec backoff-detector echo Just a Test"
   ]
  },
  {
   "cell_type": "markdown",
   "metadata": {},
   "source": [
    "Running that command should result in an error message:\n",
    "    \n",
    "    Container <ID> is restarting, wait until the container is running"
   ]
  },
  {
   "cell_type": "markdown",
   "metadata": {},
   "source": [
    "That means you can’t do anything that requires the container to be in a running state,\n",
    "such as execute additional commands in the container. That could be a problem if\n",
    "you need to run diagnostic programs in a broken container. A more complete strategy\n",
    "is to use containers that start lightweight init systems."
   ]
  },
  {
   "cell_type": "markdown",
   "metadata": {},
   "source": [
    "    sudo docker stop $(sudo docker ps -aq)\n",
    "    sudo docker rm $(sudo docker ps -aq)"
   ]
  },
  {
   "cell_type": "markdown",
   "metadata": {},
   "source": [
    "### Using PID 1 and init systems"
   ]
  },
  {
   "cell_type": "markdown",
   "metadata": {},
   "source": [
    "An init system is a program that’s used to launch and maintain the state of other programs.\n",
    "Any process with PID 1 is treated like an init process by the Linux kernel (even\n",
    "if it is not technically an init system). In addition to other critical functions, an init system\n",
    "starts other processes, restarts them in the event that they fail, transforms and forwards\n",
    "signals sent by the operating system, and prevents resource leaks. It is common\n",
    "practice to use real init systems inside containers when that container will run multiple\n",
    "processes or if the program being run uses child processes."
   ]
  },
  {
   "cell_type": "markdown",
   "metadata": {},
   "source": [
    "Several such init systems could be used inside a container. The most popular\n",
    "include runit, Yelp/dumb-init, tini, supervisord, and tianon/gosu. Publishing\n",
    "software that uses these programs is covered in chapter 8. For now, take a look at a\n",
    "container that uses supervisord."
   ]
  },
  {
   "cell_type": "markdown",
   "metadata": {},
   "source": [
    "Docker provides an image that contains a full LAMP (Linux, Apache, MySQL\n",
    "PHP) stack inside a single container. Containers created this way use supervisord to\n",
    "make sure that all the related processes are kept running. Start an example container:"
   ]
  },
  {
   "cell_type": "markdown",
   "metadata": {},
   "source": [
    "    docker run -d -p 80:80 --name lamp-test tutum/lamp"
   ]
  },
  {
   "cell_type": "markdown",
   "metadata": {},
   "source": [
    "You can see which processes are running inside this container by using the docker top\n",
    "command:"
   ]
  },
  {
   "cell_type": "markdown",
   "metadata": {},
   "source": [
    "    docker top lamp-test"
   ]
  },
  {
   "cell_type": "markdown",
   "metadata": {},
   "source": [
    "The top subcommand will show the host PID for each of the processes in the container.\n",
    "You’ll see supervisord, mysql, and apache included in the list of running programs.\n",
    "Now that the container is running, you can test the supervisord restart\n",
    "functionality by manually stopping one of the processes inside the container."
   ]
  },
  {
   "cell_type": "markdown",
   "metadata": {},
   "source": [
    "The problem is that to kill a process inside a container from within that container,\n",
    "you need to know the PID in the container’s PID namespace. To get that list, run the\n",
    "following exec subcommand:"
   ]
  },
  {
   "cell_type": "markdown",
   "metadata": {},
   "source": [
    "    docker exec lamp-test ps"
   ]
  },
  {
   "cell_type": "markdown",
   "metadata": {},
   "source": [
    "The process list generated will list apache2 in the CMD column:"
   ]
  },
  {
   "cell_type": "markdown",
   "metadata": {},
   "source": [
    "      PID TTY          TIME CMD\n",
    "        1 ?        00:00:00 supervisord\n",
    "      433 ?        00:00:00 mysqld_safe\n",
    "      434 ?        00:00:00 apache2\n",
    "      817 ?        00:00:00 ps"
   ]
  },
  {
   "cell_type": "markdown",
   "metadata": {},
   "source": [
    "The values in the PID column will be different when you run the command. Find the\n",
    "PID on the row for apache2 and then insert that for <PID> in the following command:"
   ]
  },
  {
   "cell_type": "markdown",
   "metadata": {},
   "source": [
    "    docker exec lamp-test kill <PID>"
   ]
  },
  {
   "cell_type": "markdown",
   "metadata": {},
   "source": [
    "Running this command will run the Linux kill program inside the lamp-test container\n",
    "and tell the apache2 process to shut down. When apache2 stops, the supervisord\n",
    "process will log the event and restart the process. The container logs will clearly show\n",
    "these events:"
   ]
  },
  {
   "cell_type": "markdown",
   "metadata": {},
   "source": [
    "    docker logs lamp-test"
   ]
  },
  {
   "cell_type": "markdown",
   "metadata": {},
   "source": [
    "A common alternative to the use of init systems is using a startup script that at least\n",
    "checks the preconditions for successfully starting the contained software. These are\n",
    "sometimes used as the default command for the container. For example, the Word-\n",
    "Press containers that you’ve created start by running a script to validate and set\n",
    "default environment variables before starting the WordPress process. You can view\n",
    "this script by overriding the default command with one to view the contents of the\n",
    "startup script:"
   ]
  },
  {
   "cell_type": "markdown",
   "metadata": {},
   "source": [
    "    docker run wordpress:5.0.0-php7.2-apache \\\n",
    "        cat /usr/local/bin/docker-entrypoint.sh"
   ]
  },
  {
   "cell_type": "markdown",
   "metadata": {},
   "source": [
    "Docker containers run something called an entrypoint before executing the command.\n",
    "Entrypoints are perfect places to put code that validates the preconditions of a container.\n",
    "Although this is discussed in depth in part 2 of this book, you need to know\n",
    "how to override or specifically set the entrypoint of a container on the command line.\n",
    "Try running the last command again, but this time using the --entrypoint flag to\n",
    "specify the program to run and using the command section to pass arguments:"
   ]
  },
  {
   "cell_type": "markdown",
   "metadata": {},
   "source": [
    "    docker run --entrypoint=\"cat\" \\\n",
    "        wordpress:5.0.0-php7.2-apache \\\n",
    "        /usr/local/bin/docker-entrypoint.sh"
   ]
  },
  {
   "cell_type": "markdown",
   "metadata": {},
   "source": [
    "If you run through the displayed script, you’ll see how it validates the environment variables\n",
    "against the dependencies of the software and sets default values. Once the script\n",
    "has validated that WordPress can execute, it will start the requested or default command.\n",
    "\n",
    "Startup scripts are an important part of building durable containers and can always\n",
    "be combined with Docker restart policies to take advantage of the strengths of each.\n",
    "Because both the MySQL and WordPress containers already use startup scripts, it’s\n",
    "appropriate to simply set the restart policy for each in an updated version of the example\n",
    "script."
   ]
  },
  {
   "cell_type": "markdown",
   "metadata": {},
   "source": [
    "Running startup scripts as PID 1 is problematic when the script fails to meet the\n",
    "expectations that Linux has for init systems. Depending on your use case, you might\n",
    "find that one approach or a hybrid works best."
   ]
  }
 ],
 "metadata": {
  "kernelspec": {
   "display_name": "Python 3.9.0 64-bit ('3.9.0')",
   "language": "python",
   "name": "python3"
  },
  "language_info": {
   "codemirror_mode": {
    "name": "ipython",
    "version": 3
   },
   "file_extension": ".py",
   "mimetype": "text/x-python",
   "name": "python",
   "nbconvert_exporter": "python",
   "pygments_lexer": "ipython3",
   "version": "3.9.0"
  },
  "vscode": {
   "interpreter": {
    "hash": "49295d7be20e15a65a7ead1eee80289bbf09f3482fe4d303cdf9f84b66666c7d"
   }
  }
 },
 "nbformat": 4,
 "nbformat_minor": 2
}
