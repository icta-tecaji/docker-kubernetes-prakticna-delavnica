{
 "cells": [
  {
   "cell_type": "markdown",
   "metadata": {},
   "source": [
    "# Docker Compose"
   ]
  },
  {
   "cell_type": "markdown",
   "metadata": {},
   "source": [
    "## Features"
   ]
  },
  {
   "cell_type": "markdown",
   "metadata": {},
   "source": [
    "# Production"
   ]
  },
  {
   "cell_type": "markdown",
   "metadata": {},
   "source": [
    "## Gunicorn"
   ]
  },
  {
   "cell_type": "markdown",
   "metadata": {},
   "source": [
    "### Creating the WSGI Entry Point"
   ]
  },
  {
   "cell_type": "markdown",
   "metadata": {},
   "source": [
    "Moving along, for production environments, let's add Gunicorn, a production-grade WSGI server, to the requirements file:"
   ]
  },
  {
   "cell_type": "markdown",
   "metadata": {},
   "source": [
    "    gunicorn==20.0.4"
   ]
  },
  {
   "cell_type": "markdown",
   "metadata": {},
   "source": [
    "Next, let’s create a file that will serve as the entry point for our application. This will tell our Gunicorn server how to interact with the application."
   ]
  },
  {
   "cell_type": "markdown",
   "metadata": {},
   "source": [
    "Let’s call the file `wsgi.py`:"
   ]
  },
  {
   "cell_type": "code",
   "execution_count": null,
   "metadata": {},
   "outputs": [],
   "source": [
    "from app import app\n",
    "\n",
    "if __name__ == \"__main__\":\n",
    "    app.run()"
   ]
  },
  {
   "cell_type": "markdown",
   "metadata": {},
   "source": [
    "### Production Dockerfile"
   ]
  },
  {
   "cell_type": "markdown",
   "metadata": {},
   "source": [
    "To use this file, create a new Dockerfile called Dockerfile.prod for use with production builds:"
   ]
  },
  {
   "cell_type": "markdown",
   "metadata": {},
   "source": [
    "```Dockerfile\n",
    "###########\n",
    "# BUILDER #\n",
    "###########\n",
    "\n",
    "# pull official base image\n",
    "FROM python:3.8.1-slim-buster as builder\n",
    "\n",
    "# set work directory\n",
    "WORKDIR /usr/src/app\n",
    "\n",
    "# set environment variables\n",
    "ENV PYTHONDONTWRITEBYTECODE 1\n",
    "ENV PYTHONUNBUFFERED 1\n",
    "\n",
    "# install system dependencies\n",
    "RUN apt-get update && \\\n",
    "    apt-get install -y --no-install-recommends gcc\n",
    "\n",
    "# install python dependencies\n",
    "COPY ./requirements.txt .\n",
    "RUN pip wheel --no-cache-dir --no-deps --wheel-dir /usr/src/app/wheels -r requirements.txt\n",
    "\n",
    "\n",
    "#########\n",
    "# FINAL #\n",
    "#########\n",
    "\n",
    "# pull official base image\n",
    "FROM python:3.8.1-slim-buster\n",
    "\n",
    "# create directory for the app user\n",
    "RUN mkdir -p /home/app\n",
    "\n",
    "# create the appropriate directories\n",
    "ENV HOME=/home/app\n",
    "ENV APP_HOME=/home/app/web\n",
    "RUN mkdir $APP_HOME\n",
    "WORKDIR $APP_HOME\n",
    "\n",
    "# install dependencies\n",
    "RUN apt-get update && apt-get install -y --no-install-recommends netcat\n",
    "COPY --from=builder /usr/src/app/wheels /wheels\n",
    "COPY --from=builder /usr/src/app/requirements.txt .\n",
    "RUN pip install --upgrade pip\n",
    "RUN pip install --no-cache /wheels/*\n",
    "\n",
    "# copy project\n",
    "COPY . $APP_HOME\n",
    "\n",
    "# run entrypoint.prod.sh\n",
    "ENTRYPOINT [\"python\", \"/home/app/web/wsgi.py\"]\n",
    "```"
   ]
  },
  {
   "cell_type": "markdown",
   "metadata": {},
   "source": [
    "Here, we used a Docker multi-stage build to reduce the final image size. Essentially, builder is a temporary image that's used for building the Python wheels. The wheels are then copied over to the final production image and the builder image is discarded."
   ]
  },
  {
   "cell_type": "markdown",
   "metadata": {},
   "source": [
    "    docker build -t leon11sj/counter -f ./Dockerfile.prod ."
   ]
  },
  {
   "cell_type": "markdown",
   "metadata": {},
   "source": [
    "### Preizkusimo delovanje"
   ]
  },
  {
   "cell_type": "markdown",
   "metadata": {},
   "source": [
    "Since we still want to use Flask's built-in server in development, create a new compose file called `docker-compose.prod.yml` for production:"
   ]
  },
  {
   "cell_type": "markdown",
   "metadata": {},
   "source": [
    "```yml\n",
    "version: '3.7'\n",
    "services:\n",
    "  web:\n",
    "    image: leon11sj/counter\n",
    "    entrypoint: [\"gunicorn\", \"--bind\", \"0.0.0.0:5000\", \"wsgi:app\"]\n",
    "    ports:\n",
    "      - \"80:5000\"\n",
    "    networks:\n",
    "      - backend\n",
    "      - frontend\n",
    "    depends_on:\n",
    "      - redis\n",
    "  redis:\n",
    "    image: \"redis:alpine\"\n",
    "    networks:  \n",
    "      - backend\n",
    "    \n",
    "\n",
    "networks:\n",
    "  frontend:\n",
    "  backend:\n",
    "```"
   ]
  },
  {
   "cell_type": "markdown",
   "metadata": {},
   "source": [
    "    docker-compose -f docker-compose.prod.yml up"
   ]
  },
  {
   "cell_type": "markdown",
   "metadata": {},
   "source": [
    "## Nginx as a reverse proxy"
   ]
  },
  {
   "cell_type": "markdown",
   "metadata": {},
   "source": [
    "Next, let's add Nginx into the mix to act as a reverse proxy for Gunicorn to handle client requests as well as serve up static files.\n",
    "\n",
    "Add the service to docker-compose.prod.yml:"
   ]
  },
  {
   "cell_type": "markdown",
   "metadata": {},
   "source": [
    "      nginx:\n",
    "        build: \n",
    "          context: ./nginx\n",
    "          dockerfile: Dockerfile\n",
    "        ports:\n",
    "          - 80:8080\n",
    "        depends_on:\n",
    "          - web\n",
    "        networks:\n",
    "          - frontend"
   ]
  },
  {
   "cell_type": "markdown",
   "metadata": {},
   "source": [
    "Then,  create the following files and folders:"
   ]
  },
  {
   "cell_type": "markdown",
   "metadata": {},
   "source": [
    "    └── nginx\n",
    "        ├── Dockerfile\n",
    "        └── nginx.conf"
   ]
  },
  {
   "cell_type": "markdown",
   "metadata": {},
   "source": [
    "`Dockerfile:`\n",
    "\n",
    "    FROM nginx:1.17-alpine\n",
    "\n",
    "    RUN rm /etc/nginx/conf.d/default.conf\n",
    "    COPY nginx.conf /etc/nginx/conf.d\n",
    "\n",
    "`nginx.conf:`\n",
    "\n",
    "    upstream flask {\n",
    "        server web:5000;\n",
    "    }\n",
    "\n",
    "    server {\n",
    "\n",
    "        listen 8080;\n",
    "\n",
    "        location / {\n",
    "            proxy_pass http://flask;\n",
    "            proxy_set_header X-Forwarded-For $proxy_add_x_forwarded_for;\n",
    "            proxy_set_header Host $host;\n",
    "            proxy_redirect off;\n",
    "        }\n",
    "\n",
    "    }"
   ]
  },
  {
   "cell_type": "markdown",
   "metadata": {},
   "source": [
    "https://www.patricksoftwareblog.com/how-to-configure-nginx-for-a-flask-web-application/"
   ]
  },
  {
   "cell_type": "markdown",
   "metadata": {},
   "source": [
    "Then, update the web service, in docker-compose.prod.yml, replacing ports with expose:"
   ]
  },
  {
   "cell_type": "markdown",
   "metadata": {},
   "source": [
    "```yml\n",
    "version: '3.7'\n",
    "services:\n",
    "  nginx:\n",
    "    build: \n",
    "      context: ./nginx\n",
    "      dockerfile: Dockerfile\n",
    "    ports:\n",
    "      - 80:8080\n",
    "    depends_on:\n",
    "      - web\n",
    "    networks:\n",
    "      - frontend\n",
    "  web:\n",
    "    image: leon11sj/counter\n",
    "    entrypoint: [\"gunicorn\", \"--bind\", \"0.0.0.0:5000\", \"wsgi:app\"]\n",
    "    expose:\n",
    "      - 5000\n",
    "    networks:\n",
    "      - backend\n",
    "      - frontend\n",
    "    depends_on:\n",
    "      - redis\n",
    "  redis:\n",
    "    image: \"redis:alpine\"\n",
    "    networks:  \n",
    "      - backend\n",
    "    \n",
    "\n",
    "networks:\n",
    "  frontend:\n",
    "  backend:\n",
    "\n",
    "```"
   ]
  },
  {
   "cell_type": "markdown",
   "metadata": {},
   "source": [
    "    docker-compose -f docker-compose.prod.yml up --build"
   ]
  },
  {
   "cell_type": "markdown",
   "metadata": {},
   "source": [
    "## Persistent Redis data"
   ]
  },
  {
   "cell_type": "markdown",
   "metadata": {},
   "source": [
    "https://docs.docker.com/compose/compose-file/#volume-configuration-reference"
   ]
  },
  {
   "cell_type": "markdown",
   "metadata": {},
   "source": [
    "Prilagodimo compose file:"
   ]
  },
  {
   "cell_type": "markdown",
   "metadata": {},
   "source": [
    "```yml\n",
    "version: '3.7'\n",
    "services:\n",
    "  nginx:\n",
    "    build: \n",
    "      context: ./nginx\n",
    "      dockerfile: Dockerfile\n",
    "    ports:\n",
    "      - 80:8080\n",
    "    depends_on:\n",
    "      - web\n",
    "    networks:\n",
    "      - frontend\n",
    "  web:\n",
    "    image: leon11sj/counter\n",
    "    entrypoint: [\"gunicorn\", \"--bind\", \"0.0.0.0:5000\", \"wsgi:app\"]\n",
    "    expose:\n",
    "      - 5000\n",
    "    networks:\n",
    "      - backend\n",
    "      - frontend\n",
    "    depends_on:\n",
    "      - redis\n",
    "  redis:\n",
    "    image: \"redis:alpine\"\n",
    "    volumes:\n",
    "      - redis-data:/data\n",
    "    networks:  \n",
    "      - backend\n",
    "    \n",
    "\n",
    "networks:\n",
    "  frontend:\n",
    "  backend:\n",
    "  \n",
    "volumes:\n",
    "  redis-data:\n",
    " ```"
   ]
  },
  {
   "cell_type": "markdown",
   "metadata": {},
   "source": [
    "Zaženemo in pokažemo, da se podatki ohranijo:"
   ]
  },
  {
   "cell_type": "markdown",
   "metadata": {},
   "source": [
    "    docker-compose -f docker-compose.prod.yml up\n",
    "    docker-compose -f docker-compose.prod.yml down\n",
    "    docker-compose -f docker-compose.prod.yml up\n",
    "    docker-compose -f docker-compose.prod.yml down --volumes\n",
    "    docker-compose -f docker-compose.prod.yml up"
   ]
  }
 ],
 "metadata": {
  "kernelspec": {
   "display_name": "Python 3.9.0 64-bit ('3.9.0')",
   "language": "python",
   "name": "python3"
  },
  "language_info": {
   "codemirror_mode": {
    "name": "ipython",
    "version": 3
   },
   "file_extension": ".py",
   "mimetype": "text/x-python",
   "name": "python",
   "nbconvert_exporter": "python",
   "pygments_lexer": "ipython3",
   "version": "3.9.0"
  },
  "vscode": {
   "interpreter": {
    "hash": "49295d7be20e15a65a7ead1eee80289bbf09f3482fe4d303cdf9f84b66666c7d"
   }
  }
 },
 "nbformat": 4,
 "nbformat_minor": 2
}
