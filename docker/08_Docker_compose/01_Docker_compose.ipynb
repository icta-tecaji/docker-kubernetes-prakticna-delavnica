{
 "cells": [
  {
   "cell_type": "markdown",
   "metadata": {},
   "source": [
    "# Docker Compose"
   ]
  },
  {
   "cell_type": "markdown",
   "metadata": {},
   "source": [
    "https://docs.docker.com/compose/compose-file/#volume-configuration-reference"
   ]
  },
  {
   "cell_type": "markdown",
   "metadata": {},
   "source": []
  },
  {
   "cell_type": "markdown",
   "metadata": {},
   "source": [
    "**Compose is a tool for defining and running multi-container Docker applications.** With Compose, you use a YAML file to configure your application’s services. Then, with a single command, you create and start all the services from your configuration. To learn more about all the features of Compose, see the list of features."
   ]
  },
  {
   "cell_type": "markdown",
   "metadata": {},
   "source": [
    "Compose works in all environments: production, staging, development, testing, as well as CI workflows. You can learn more about each case in Common Use Cases.\n",
    "\n",
    "Using Compose is basically a three-step process:\n",
    "1. Define your app’s environment with a Dockerfile so it can be reproduced anywhere.\n",
    "2. Define the services that make up your app in docker-compose.yml so they can be run together in an isolated environment.\n",
    "3. Run docker-compose up and Compose starts and runs your entire app."
   ]
  },
  {
   "cell_type": "markdown",
   "metadata": {},
   "source": [
    "Compose has commands for managing the whole lifecycle of your application:\n",
    "- Start, stop, and rebuild services\n",
    "- View the status of running services\n",
    "- Stream the log output of running services\n",
    "- Run a one-off command on a service"
   ]
  },
  {
   "cell_type": "markdown",
   "metadata": {},
   "source": [
    "## Features"
   ]
  },
  {
   "cell_type": "markdown",
   "metadata": {},
   "source": [
    "**Multiple isolated environments on a single host**\n",
    "\n",
    "Compose uses a project name to isolate environments from each other. You can make use of this project name in several different contexts:\n",
    "- on a dev host, to create multiple copies of a single environment, such as when you want to run a stable copy for each feature branch of a project\n",
    "- on a CI server, to keep builds from interfering with each other, you can set the project name to a unique build number\n",
    "- on a shared host or dev host, to prevent different projects, which may use the same service names, from interfering with each other\n",
    "\n",
    "The default project name is the basename of the project directory. You can set a custom project name by using the -p command line option or the COMPOSE_PROJECT_NAME environment variable."
   ]
  },
  {
   "cell_type": "markdown",
   "metadata": {},
   "source": [
    "**Preserve volume data when containers are created**\n",
    "\n",
    "Compose preserves all volumes used by your services. When docker-compose up runs, if it finds any containers from previous runs, it copies the volumes from the old container to the new container. This process ensures that any data you’ve created in volumes isn’t lost.\n",
    "\n",
    "If you use docker-compose on a Windows machine, see Environment variables and adjust the necessary environment variables for your specific needs."
   ]
  },
  {
   "cell_type": "markdown",
   "metadata": {},
   "source": [
    "**Only recreate containers that have changed**\n",
    "\n",
    "Compose caches the configuration used to create a container. When you restart a service that has not changed, Compose re-uses the existing containers. Re-using containers means that you can make changes to your environment very quickly."
   ]
  },
  {
   "cell_type": "markdown",
   "metadata": {},
   "source": [
    "**Variables and moving a composition between environments**"
   ]
  },
  {
   "cell_type": "markdown",
   "metadata": {},
   "source": [
    "Compose supports variables in the Compose file. You can use these variables to customize your composition for different environments, or different users. See Variable substitution for more details.\n",
    "\n",
    "You can extend a Compose file using the extends field or by creating multiple Compose files. See extends for more details."
   ]
  },
  {
   "cell_type": "markdown",
   "metadata": {},
   "source": [
    "## Why care about Docker-compose"
   ]
  },
  {
   "cell_type": "markdown",
   "metadata": {},
   "source": [
    "Before we get into the technical details let's discuss why a programmer should even care about docker-compose in the first place. Here are some reasons why developers should consider implementing Docker in their work.\n",
    "\n",
    "**Portability:**\n",
    "\n",
    "Docker Compose lets you bring up a complete development environment with only one command: docker-compose up, and tear it down just as easily using docker-compose down. This allows us developers to keep our development environment in one central place and helps us to easily deploy our applications.\n",
    "\n",
    "**Testing:**\n",
    "\n",
    "Another great feature of Compose is its support for running unit and E2E tests in a quick a repeatable fashion by putting them in their own environments. That means that instead of testing the application on your local/host OS, you can run an environment that closely resembles the production circumstances."
   ]
  },
  {
   "cell_type": "markdown",
   "metadata": {},
   "source": [
    "**Multiple isolated environments on a single host:**\n",
    "    \n",
    "Compose uses project names to isolate environments from each other which brings the following benefits:\n",
    "\n",
    "You can run multiple copies of the same environment on one machine\n",
    "It prevents different projects and service from interfering with each other"
   ]
  },
  {
   "cell_type": "markdown",
   "metadata": {},
   "source": [
    "## Common use cases\n",
    "\n",
    "Now that you know why Compose is useful and where it can improve the workflow of us developers let's take a look at some common use cases.\n",
    "\n",
    "**Single host deployments:**\n",
    "\n",
    "Compose was traditionally focused on development and testing but can now be used to deploy and manage a whole deployment of containers on a single host system.\n",
    "\n",
    "**Development environments:**\n",
    "\n",
    "Compose provides the ability to run your applications in an isolated environment that can run on any machine with Docker installed. This makes it very easy to test your application and provides a way to work as close to the production environment as possible.\n",
    "\n",
    "The Compose file manages all the dependencies (databases, queues, caches, etc) of the application and can create every container using a single command.\n",
    "\n",
    "**Automated testing environments:**\n",
    "\n",
    "An important part of Continues integration and the whole development process is the automated testing suite which requires an environment in which the tests can be executed. Compose provides a convenient way to create and destroy isolated testing environments that are close to your production environment."
   ]
  },
  {
   "cell_type": "markdown",
   "metadata": {},
   "source": [
    "## Example: why we need compose"
   ]
  },
  {
   "cell_type": "markdown",
   "metadata": {},
   "source": [
    "Naredimo mapo `visits`"
   ]
  },
  {
   "cell_type": "markdown",
   "metadata": {},
   "source": [
    "- Naredimo package.json in index.js"
   ]
  },
  {
   "cell_type": "markdown",
   "metadata": {},
   "source": [
    "```json\n",
    "{\n",
    "  \"dependencies\": {\n",
    "    \"express\": \"*\",\n",
    "    \"redis\": \"2.8.0\"\n",
    "  },\n",
    "  \"scripts\": {\n",
    "    \"start\": \"node index.js\"\n",
    "  }\n",
    "}\n",
    "\n",
    "\n",
    "```"
   ]
  },
  {
   "cell_type": "markdown",
   "metadata": {},
   "source": [
    "```javascript\n",
    "const express = require(\"express\");\n",
    "const redis = require(\"redis\");\n",
    "const process = require(\"process\");\n",
    "\n",
    "const app = express();\n",
    "const client = redis.createClient({\n",
    "  host: \"redis-server\",\n",
    "  port: 6379\n",
    "});\n",
    "client.set(\"visits\", 0);\n",
    "\n",
    "app.get(\"/\", (req, res) => {\n",
    "  //process.exit(0)\n",
    "  client.get(\"visits\", (err, visits) => {\n",
    "    res.send(\"Number of visits \" + visits);\n",
    "    client.set(\"visits\", parseInt(visits) + 1);\n",
    "  });\n",
    "});\n",
    "\n",
    "app.listen(8081, () => {\n",
    "  console.log(\"listening on port 8081\");\n",
    "});\n",
    "```"
   ]
  },
  {
   "cell_type": "markdown",
   "metadata": {},
   "source": [
    "Naredimo Dockerfile:"
   ]
  },
  {
   "cell_type": "markdown",
   "metadata": {},
   "source": [
    "```Dockerfile\n",
    "FROM node:alpine\n",
    "\n",
    "WORKDIR '/app'\n",
    "\n",
    "COPY package.json .\n",
    "RUN npm install\n",
    "COPY . .\n",
    "\n",
    "CMD [\"npm\",\"start\"]\n",
    "```"
   ]
  },
  {
   "cell_type": "markdown",
   "metadata": {},
   "source": [
    "Zgradimo sliko:\n",
    "    \n",
    "    docker build -t leon11sj/visits . "
   ]
  },
  {
   "cell_type": "markdown",
   "metadata": {},
   "source": [
    "Pokažemo na roko kako lahko zaženemo 2 kontejnerja."
   ]
  },
  {
   "cell_type": "markdown",
   "metadata": {},
   "source": [
    "Morali bi ročno narediti omrežje, kar ni najboljša praksa."
   ]
  },
  {
   "cell_type": "markdown",
   "metadata": {},
   "source": [
    "    docker network create --driver bridge --attachable redis-app"
   ]
  },
  {
   "cell_type": "markdown",
   "metadata": {},
   "source": [
    "    docker run -d --network redis-app --name redis-server redis\n",
    "    docker run -d --network redis-app -p 80:8081 --name node-app --restart on-failure leon11sj/visits"
   ]
  },
  {
   "cell_type": "markdown",
   "metadata": {},
   "source": [
    "Odstranimo:\n",
    "    \n",
    "    docker stop node-app redis-server\n",
    "    docker rm node-app redis-server\n",
    "    docker network rm redis-app"
   ]
  },
  {
   "cell_type": "markdown",
   "metadata": {},
   "source": [
    "Boljša praksa pri več storitvah je uporabiti docker-compose."
   ]
  },
  {
   "cell_type": "markdown",
   "metadata": {},
   "source": [
    "```yml\n",
    "version: \"3\"\n",
    "services:\n",
    "  redis-server:\n",
    "    image: \"redis\"\n",
    "  node-app:\n",
    "    restart: on-failure\n",
    "    build: .\n",
    "    ports:\n",
    "      - \"80:8081\"\n",
    "```"
   ]
  },
  {
   "cell_type": "markdown",
   "metadata": {},
   "source": [
    "    docker-compose up\n",
    "    \n",
    "Rebuild the image\n",
    "\n",
    "    docker-compose up --build "
   ]
  },
  {
   "cell_type": "markdown",
   "metadata": {},
   "source": [
    "Pokažemo da compose nardi novi network, da združi naše kontejnerje skupaj"
   ]
  },
  {
   "cell_type": "markdown",
   "metadata": {},
   "source": [
    "Zaženemo kontejnerje v ozadju:\n",
    "    \n",
    "    docker-compose up -d "
   ]
  },
  {
   "cell_type": "markdown",
   "metadata": {},
   "source": [
    "Ustavimo:\n",
    "    \n",
    "    docker-compose down"
   ]
  },
  {
   "cell_type": "markdown",
   "metadata": {},
   "source": [
    "Pokažemo kako kontejner pade, in kako ga lahko resetiramo\n",
    "- odkomentiramo //process.exit(0)\n",
    "- dodamao v docker-compose  restart: on-failure\n",
    "- pokažemo različne stop kode (npr, 1,2)"
   ]
  },
  {
   "cell_type": "markdown",
   "metadata": {},
   "source": [
    "<table>\n",
    "  <thead>\n",
    "    <tr>\n",
    "      <th style=\"text-align: left\">Flag</th>\n",
    "      <th style=\"text-align: left\">Description</th>\n",
    "    </tr>\n",
    "  </thead>\n",
    "  <tbody>\n",
    "    <tr>\n",
    "      <td style=\"text-align: left\"><code class=\"highlighter-rouge\">no</code></td>\n",
    "      <td style=\"text-align: left\">Do not automatically restart the container. (the default)</td>\n",
    "    </tr>\n",
    "    <tr>\n",
    "      <td style=\"text-align: left\"><code class=\"highlighter-rouge\">on-failure</code></td>\n",
    "      <td style=\"text-align: left\">Restart the container if it exits due to an error, which manifests as a non-zero exit code.</td>\n",
    "    </tr>\n",
    "    <tr>\n",
    "      <td style=\"text-align: left\"><code class=\"highlighter-rouge\">always</code></td>\n",
    "      <td style=\"text-align: left\">Always restart the container if it stops. If it is manually stopped, it is restarted only when Docker daemon restarts or the container itself is manually restarted. (See the second bullet listed in <a href=\"#restart-policy-details\">restart policy details</a>)</td>\n",
    "    </tr>\n",
    "    <tr>\n",
    "      <td style=\"text-align: left\"><code class=\"highlighter-rouge\">unless-stopped</code></td>\n",
    "      <td style=\"text-align: left\">Similar to <code class=\"highlighter-rouge\">always</code>, except that when the container is stopped (manually or otherwise), it is not restarted even after Docker daemon restarts.</td>\n",
    "    </tr>\n",
    "  </tbody>\n",
    "</table>"
   ]
  },
  {
   "cell_type": "markdown",
   "metadata": {},
   "source": [
    "Pokaže samo kontejnerje, ki so zraven datoteke katero zaganjamo\n",
    "\n",
    "    docker-compose ps"
   ]
  },
  {
   "cell_type": "markdown",
   "metadata": {},
   "source": [
    "## Get started with Docker Compose"
   ]
  },
  {
   "cell_type": "markdown",
   "metadata": {},
   "source": [
    "On this page you build a simple Python web application running on Docker Compose. The application uses the Flask framework and maintains a hit counter in Redis. While the sample uses Python, the concepts demonstrated here should be understandable even if you’re not familiar with it."
   ]
  },
  {
   "cell_type": "markdown",
   "metadata": {},
   "source": [
    "Define the application dependencies.\n",
    "\n",
    "Create a directory for the project:\n",
    "\n",
    "    mkdir composetest\n",
    "    cd composetest"
   ]
  },
  {
   "cell_type": "markdown",
   "metadata": {},
   "source": [
    "Create a file called `app.py` in your project directory and paste this in:"
   ]
  },
  {
   "cell_type": "code",
   "execution_count": null,
   "metadata": {},
   "outputs": [],
   "source": [
    "import time\n",
    "\n",
    "import redis\n",
    "from flask import Flask\n",
    "\n",
    "app = Flask(__name__)\n",
    "cache = redis.Redis(host='redis', port=6379)\n",
    "\n",
    "\n",
    "def get_hit_count():\n",
    "    retries = 5\n",
    "    while True:\n",
    "        try:\n",
    "            return cache.incr('hits')\n",
    "        except redis.exceptions.ConnectionError as exc:\n",
    "            if retries == 0:\n",
    "                raise exc\n",
    "            retries -= 1\n",
    "            time.sleep(0.5)\n",
    "\n",
    "\n",
    "@app.route('/')\n",
    "def hello():\n",
    "    count = get_hit_count()\n",
    "    return 'Hello World! I have been seen {} times.\\n'.format(count)"
   ]
  },
  {
   "cell_type": "markdown",
   "metadata": {},
   "source": [
    "In this example, redis is the hostname of the redis container on the application’s network. We use the default port for Redis, 6379."
   ]
  },
  {
   "cell_type": "markdown",
   "metadata": {},
   "source": [
    "> **Handling transient errors:** Note the way the get_hit_count function is written. This basic retry loop lets us attempt our request multiple times if the redis service is not available. This is useful at startup while the application comes online, but also makes our application more resilient if the Redis service needs to be restarted anytime during the app’s lifetime. In a cluster, this also helps handling momentary connection drops between nodes."
   ]
  },
  {
   "cell_type": "markdown",
   "metadata": {},
   "source": [
    "Create another file called `requirements.txt` in your project directory and paste this in:"
   ]
  },
  {
   "cell_type": "markdown",
   "metadata": {},
   "source": [
    "    flask\n",
    "    redis"
   ]
  },
  {
   "cell_type": "markdown",
   "metadata": {},
   "source": [
    "### Create a Dockerfile"
   ]
  },
  {
   "cell_type": "markdown",
   "metadata": {},
   "source": [
    "In this step, you write a Dockerfile that builds a Docker image. The image contains all the dependencies the Python application requires, including Python itself.\n",
    "\n",
    "In your project directory, create a file named `Dockerfile` and paste the following:"
   ]
  },
  {
   "cell_type": "markdown",
   "metadata": {},
   "source": [
    "```Dockerfile\n",
    "FROM python:3.7-alpine\n",
    "WORKDIR /code\n",
    "ENV FLASK_APP app.py\n",
    "ENV FLASK_RUN_HOST 0.0.0.0\n",
    "RUN apk add --no-cache gcc musl-dev linux-headers\n",
    "COPY requirements.txt requirements.txt\n",
    "RUN pip install -r requirements.txt\n",
    "EXPOSE 5000\n",
    "COPY . .\n",
    "CMD [\"flask\", \"run\"]\n",
    "```"
   ]
  },
  {
   "cell_type": "markdown",
   "metadata": {},
   "source": [
    "This tells Docker to:\n",
    "- Build an image starting with the Python 3.7 image.\n",
    "- Set the working directory to /code.\n",
    "- Set environment variables used by the flask command.\n",
    "- Install gcc and other dependencies\n",
    "- Copy requirements.txt and install the Python dependencies.\n",
    "- Add metadata to the image to describe that the container is listening on port 5000\n",
    "- Copy the current directory . in the project to the workdir . in the image.\n",
    "- Set the default command for the container to flask run.\n",
    "- For more information on how to write Dockerfiles, see the Docker user guide and the Dockerfile reference."
   ]
  },
  {
   "cell_type": "markdown",
   "metadata": {},
   "source": [
    "### Define services in a Compose file"
   ]
  },
  {
   "cell_type": "markdown",
   "metadata": {},
   "source": [
    "Create a file called `docker-compose.yml` in your project directory and paste the following:"
   ]
  },
  {
   "cell_type": "markdown",
   "metadata": {},
   "source": [
    "```yml\n",
    "version: '3'\n",
    "services:\n",
    "  web:\n",
    "    build: ./composetest\n",
    "    ports:\n",
    "      - \"80:5000\"\n",
    "  redis:\n",
    "    image: \"redis:alpine\"\n",
    "```"
   ]
  },
  {
   "cell_type": "markdown",
   "metadata": {},
   "source": [
    "This Compose file defines two services: web and redis."
   ]
  },
  {
   "cell_type": "markdown",
   "metadata": {},
   "source": [
    "**Web service**\n",
    "\n",
    "The web service uses an image that’s built from the Dockerfile in the current directory. It then binds the container and the host machine to the exposed port, 5000. This example service uses the default port for the Flask web server, 5000.\n",
    "\n",
    "**Redis service**\n",
    "\n",
    "The redis service uses a public Redis image pulled from the Docker Hub registry."
   ]
  },
  {
   "cell_type": "markdown",
   "metadata": {},
   "source": [
    "### Build and run your app with Compose"
   ]
  },
  {
   "cell_type": "markdown",
   "metadata": {},
   "source": [
    "From your project directory, start up your application by running docker-compose up"
   ]
  },
  {
   "cell_type": "markdown",
   "metadata": {},
   "source": [
    "     docker-compose up"
   ]
  },
  {
   "cell_type": "markdown",
   "metadata": {},
   "source": [
    "Compose pulls a Redis image, builds an image for your code, and starts the services you defined. In this case, the code is statically copied into the image at build time."
   ]
  },
  {
   "cell_type": "markdown",
   "metadata": {},
   "source": [
    "<hr>"
   ]
  },
  {
   "cell_type": "markdown",
   "metadata": {},
   "source": [
    "Enter `http://<IP>:5000/` in a browser to see the application running.\n",
    "\n",
    "If you’re using Docker natively on Linux, Docker Desktop for Mac, or Docker Desktop for Windows, then the web app should now be listening on port 5000 on your Docker daemon host. Point your web browser to http://localhost:5000 to find the Hello World message. If this doesn’t resolve, you can also try http://127.0.0.1:5000.\n",
    "\n",
    "If you’re using Docker Machine on a Mac or Windows, use docker-machine ip MACHINE_VM to get the IP address of your Docker host. Then, open http://MACHINE_VM_IP:5000 in a browser.\n",
    "\n",
    "You should see a message in your browser saying:"
   ]
  },
  {
   "cell_type": "markdown",
   "metadata": {},
   "source": [
    "<hr>"
   ]
  },
  {
   "cell_type": "markdown",
   "metadata": {},
   "source": [
    "Switch to another terminal window, and type docker image ls to list local images.\n",
    "\n",
    "Listing images at this point should return redis and web."
   ]
  },
  {
   "cell_type": "markdown",
   "metadata": {},
   "source": [
    "    docker image ls"
   ]
  },
  {
   "cell_type": "markdown",
   "metadata": {},
   "source": [
    "You can inspect images with `docker inspect <tag or id>`"
   ]
  },
  {
   "cell_type": "markdown",
   "metadata": {},
   "source": [
    "Stop the application, either by running `docker-compose down` from within your project directory in the second terminal, or by hitting CTRL+C in the original terminal where you started the app."
   ]
  },
  {
   "cell_type": "markdown",
   "metadata": {},
   "source": [
    "### Edit the Compose file to add a bind mount"
   ]
  },
  {
   "cell_type": "markdown",
   "metadata": {},
   "source": [
    "Edit `docker-compose.dev.yml` in your project directory to add a bind mount for the web service:"
   ]
  },
  {
   "cell_type": "markdown",
   "metadata": {},
   "source": [
    "```yml\n",
    "version: '3'\n",
    "services:\n",
    "  web:\n",
    "    build: ./composetest\n",
    "    ports:\n",
    "      - \"80:5000\"\n",
    "    volumes:\n",
    "      - ./composetest:/code\n",
    "    environment:\n",
    "      FLASK_ENV: development\n",
    "  redis:\n",
    "    image: \"redis:alpine\"\n",
    "```"
   ]
  },
  {
   "cell_type": "markdown",
   "metadata": {},
   "source": [
    "The new volumes key mounts the project directory (current directory) on the host to /code inside the container, allowing you to modify the code on the fly, without having to rebuild the image. The environment key sets the FLASK_ENV environment variable, which tells flask run to run in development mode and reload the code on change. This mode should only be used in development."
   ]
  },
  {
   "cell_type": "markdown",
   "metadata": {},
   "source": [
    "### Re-build and run the app with Compose"
   ]
  },
  {
   "cell_type": "markdown",
   "metadata": {},
   "source": [
    "From your project directory, type docker-compose up to build the app with the updated Compose file, and run it."
   ]
  },
  {
   "cell_type": "markdown",
   "metadata": {},
   "source": [
    "    docker-compose -f docker-compose.dev.yml up"
   ]
  },
  {
   "cell_type": "markdown",
   "metadata": {},
   "source": [
    "Check the Hello World message in a web browser again, and refresh to see the count increment."
   ]
  },
  {
   "cell_type": "markdown",
   "metadata": {},
   "source": [
    "### Update the application"
   ]
  },
  {
   "cell_type": "markdown",
   "metadata": {},
   "source": [
    "Because the application code is now mounted into the container using a volume, you can make changes to its code and see the changes instantly, without having to rebuild the image.\n",
    "\n",
    "Change the greeting in app.py and save it. For example, change the Hello World! message to Hello from Docker!:"
   ]
  },
  {
   "cell_type": "markdown",
   "metadata": {},
   "source": [
    "    return 'Hello from Docker! I have been seen {} times.\\n'.format(count)"
   ]
  },
  {
   "cell_type": "markdown",
   "metadata": {},
   "source": [
    "Refresh the app in your browser. The greeting should be updated, and the counter should still be incrementing."
   ]
  },
  {
   "cell_type": "markdown",
   "metadata": {},
   "source": [
    "### Experiment with some other commands"
   ]
  },
  {
   "cell_type": "markdown",
   "metadata": {},
   "source": [
    "If you want to run your services in the background, you can pass the -d flag (for “detached” mode) to docker-compose up and use docker-compose ps to see what is currently running:"
   ]
  },
  {
   "cell_type": "markdown",
   "metadata": {},
   "source": [
    "    docker-compose up -d"
   ]
  },
  {
   "cell_type": "markdown",
   "metadata": {},
   "source": [
    "    docker-compose ps"
   ]
  },
  {
   "cell_type": "markdown",
   "metadata": {},
   "source": [
    "The docker-compose run command allows you to run one-off commands for your services. For example, to see what environment variables are available to the web service:"
   ]
  },
  {
   "cell_type": "markdown",
   "metadata": {},
   "source": [
    "    docker-compose run web env"
   ]
  },
  {
   "cell_type": "markdown",
   "metadata": {},
   "source": [
    "If you started Compose with docker-compose up -d, stop your services once you’ve finished with them:"
   ]
  },
  {
   "cell_type": "markdown",
   "metadata": {},
   "source": [
    "    docker-compose stop"
   ]
  },
  {
   "cell_type": "markdown",
   "metadata": {},
   "source": [
    "You can bring everything down, removing the containers entirely, with the down command. Pass --volumes to also remove the data volume used by the Redis container:"
   ]
  },
  {
   "cell_type": "markdown",
   "metadata": {},
   "source": [
    "    docker-compose down --volumes"
   ]
  },
  {
   "cell_type": "markdown",
   "metadata": {},
   "source": [
    "At this point, you have seen the basics of how Compose works."
   ]
  },
  {
   "cell_type": "markdown",
   "metadata": {},
   "source": [
    "## Networking in Compose"
   ]
  },
  {
   "cell_type": "markdown",
   "metadata": {},
   "source": [
    "By default Compose sets up a single network for your app. Each container for a service joins the default network and is both reachable by other containers on that network, and discoverable by them at a hostname identical to the container name."
   ]
  },
  {
   "cell_type": "markdown",
   "metadata": {},
   "source": [
    "> Note: Your app’s network is given a name based on the “project name”, which is based on the name of the directory it lives in. You can override the project name with either the --project-name flag or the COMPOSE_PROJECT_NAME environment variable."
   ]
  },
  {
   "cell_type": "markdown",
   "metadata": {},
   "source": [
    "    version: \"3\"\n",
    "    services:\n",
    "      web:\n",
    "        build: .\n",
    "        ports:\n",
    "          - \"8000:8000\"\n",
    "      db:\n",
    "        image: postgres\n",
    "        ports:\n",
    "          - \"8001:5432\""
   ]
  },
  {
   "cell_type": "markdown",
   "metadata": {},
   "source": [
    "Each container can now look up the hostname web or db and get back the appropriate container’s IP address. For example, web’s application code could connect to the URL postgres://db:5432 and start using the Postgres database.\n",
    "\n",
    "It is important to note the distinction between HOST_PORT and CONTAINER_PORT. In the above example, for db, the HOST_PORT is 8001 and the container port is 5432 (postgres default). Networked service-to-service communication uses the CONTAINER_PORT. When HOST_PORT is defined, the service is accessible outside the swarm as well.\n",
    "\n",
    "Within the web container, your connection string to db would look like postgres://db:5432, and from the host machine, the connection string would look like postgres://{DOCKER_IP}:8001."
   ]
  },
  {
   "cell_type": "markdown",
   "metadata": {},
   "source": [
    "### Specify custom networks"
   ]
  },
  {
   "cell_type": "markdown",
   "metadata": {},
   "source": [
    "Instead of just using the default app network, you can specify your own networks with the top-level networks key. This lets you create more complex topologies and specify custom network drivers and options. You can also use it to connect services to externally-created networks which aren’t managed by Compose.\n",
    "\n",
    "Each service can specify what networks to connect to with the service-level networks key, which is a list of names referencing entries under the top-level networks key."
   ]
  },
  {
   "cell_type": "markdown",
   "metadata": {},
   "source": [
    "By default Compose sets up a single network for each container. Each container is automatically joining the default network which makes them reachable by both other containers on the network, and discoverable by the hostname defined in the Compose file.\n"
   ]
  },
  {
   "cell_type": "markdown",
   "metadata": {},
   "source": [
    "https://docs.docker.com/compose/compose-file/#network-configuration-reference"
   ]
  },
  {
   "cell_type": "markdown",
   "metadata": {},
   "source": [
    "    version: '3'\n",
    "    services:\n",
    "      web:\n",
    "        build: ./composetest\n",
    "        ports:\n",
    "          - \"80:5000\"\n",
    "        volumes:\n",
    "          - ./composetest:/code\n",
    "        environment:\n",
    "          FLASK_ENV: development\n",
    "        networks:\n",
    "          - backend\n",
    "          - frontend\n",
    "      redis:\n",
    "        image: \"redis:alpine\"\n",
    "        networks:  \n",
    "          - backend\n",
    "\n",
    "\n",
    "    networks:\n",
    "      frontend:\n",
    "      backend:"
   ]
  },
  {
   "cell_type": "markdown",
   "metadata": {},
   "source": [
    "    docker-compose -f docker-compose.v3.yml up -d --build"
   ]
  },
  {
   "cell_type": "markdown",
   "metadata": {},
   "source": [
    "    docker-compose logs -f"
   ]
  },
  {
   "cell_type": "markdown",
   "metadata": {},
   "source": [
    "    docker-compose down --volumes"
   ]
  },
  {
   "cell_type": "markdown",
   "metadata": {},
   "source": [
    "# Production"
   ]
  },
  {
   "cell_type": "markdown",
   "metadata": {},
   "source": [
    "## Gunicorn"
   ]
  },
  {
   "cell_type": "markdown",
   "metadata": {},
   "source": [
    "### Creating the WSGI Entry Point"
   ]
  },
  {
   "cell_type": "markdown",
   "metadata": {},
   "source": [
    "Moving along, for production environments, let's add Gunicorn, a production-grade WSGI server, to the requirements file:"
   ]
  },
  {
   "cell_type": "markdown",
   "metadata": {},
   "source": [
    "    gunicorn==20.0.4"
   ]
  },
  {
   "cell_type": "markdown",
   "metadata": {},
   "source": [
    "Next, let’s create a file that will serve as the entry point for our application. This will tell our Gunicorn server how to interact with the application."
   ]
  },
  {
   "cell_type": "markdown",
   "metadata": {},
   "source": [
    "Let’s call the file `wsgi.py`:"
   ]
  },
  {
   "cell_type": "code",
   "execution_count": null,
   "metadata": {},
   "outputs": [],
   "source": [
    "from app import app\n",
    "\n",
    "if __name__ == \"__main__\":\n",
    "    app.run()"
   ]
  },
  {
   "cell_type": "markdown",
   "metadata": {},
   "source": [
    "### Production Dockerfile"
   ]
  },
  {
   "cell_type": "markdown",
   "metadata": {},
   "source": [
    "To use this file, create a new Dockerfile called Dockerfile.prod for use with production builds:"
   ]
  },
  {
   "cell_type": "markdown",
   "metadata": {},
   "source": [
    "```Dockerfile\n",
    "###########\n",
    "# BUILDER #\n",
    "###########\n",
    "\n",
    "# pull official base image\n",
    "FROM python:3.8.1-slim-buster as builder\n",
    "\n",
    "# set work directory\n",
    "WORKDIR /usr/src/app\n",
    "\n",
    "# set environment variables\n",
    "ENV PYTHONDONTWRITEBYTECODE 1\n",
    "ENV PYTHONUNBUFFERED 1\n",
    "\n",
    "# install system dependencies\n",
    "RUN apt-get update && \\\n",
    "    apt-get install -y --no-install-recommends gcc\n",
    "\n",
    "# install python dependencies\n",
    "COPY ./requirements.txt .\n",
    "RUN pip wheel --no-cache-dir --no-deps --wheel-dir /usr/src/app/wheels -r requirements.txt\n",
    "\n",
    "\n",
    "#########\n",
    "# FINAL #\n",
    "#########\n",
    "\n",
    "# pull official base image\n",
    "FROM python:3.8.1-slim-buster\n",
    "\n",
    "# create directory for the app user\n",
    "RUN mkdir -p /home/app\n",
    "\n",
    "# create the appropriate directories\n",
    "ENV HOME=/home/app\n",
    "ENV APP_HOME=/home/app/web\n",
    "RUN mkdir $APP_HOME\n",
    "WORKDIR $APP_HOME\n",
    "\n",
    "# install dependencies\n",
    "RUN apt-get update && apt-get install -y --no-install-recommends netcat\n",
    "COPY --from=builder /usr/src/app/wheels /wheels\n",
    "COPY --from=builder /usr/src/app/requirements.txt .\n",
    "RUN pip install --upgrade pip\n",
    "RUN pip install --no-cache /wheels/*\n",
    "\n",
    "# copy project\n",
    "COPY . $APP_HOME\n",
    "\n",
    "# run entrypoint.prod.sh\n",
    "ENTRYPOINT [\"python\", \"/home/app/web/wsgi.py\"]\n",
    "```"
   ]
  },
  {
   "cell_type": "markdown",
   "metadata": {},
   "source": [
    "Here, we used a Docker multi-stage build to reduce the final image size. Essentially, builder is a temporary image that's used for building the Python wheels. The wheels are then copied over to the final production image and the builder image is discarded."
   ]
  },
  {
   "cell_type": "markdown",
   "metadata": {},
   "source": [
    "    docker build -t leon11sj/counter -f ./Dockerfile.prod ."
   ]
  },
  {
   "cell_type": "markdown",
   "metadata": {},
   "source": [
    "### Preizkusimo delovanje"
   ]
  },
  {
   "cell_type": "markdown",
   "metadata": {},
   "source": [
    "Since we still want to use Flask's built-in server in development, create a new compose file called `docker-compose.prod.yml` for production:"
   ]
  },
  {
   "cell_type": "markdown",
   "metadata": {},
   "source": [
    "```yml\n",
    "version: '3.7'\n",
    "services:\n",
    "  web:\n",
    "    image: leon11sj/counter\n",
    "    entrypoint: [\"gunicorn\", \"--bind\", \"0.0.0.0:5000\", \"wsgi:app\"]\n",
    "    ports:\n",
    "      - \"80:5000\"\n",
    "    networks:\n",
    "      - backend\n",
    "      - frontend\n",
    "    depends_on:\n",
    "      - redis\n",
    "  redis:\n",
    "    image: \"redis:alpine\"\n",
    "    networks:  \n",
    "      - backend\n",
    "    \n",
    "\n",
    "networks:\n",
    "  frontend:\n",
    "  backend:\n",
    "```"
   ]
  },
  {
   "cell_type": "markdown",
   "metadata": {},
   "source": [
    "    docker-compose -f docker-compose.prod.yml up"
   ]
  },
  {
   "cell_type": "markdown",
   "metadata": {},
   "source": [
    "## Nginx as a reverse proxy"
   ]
  },
  {
   "cell_type": "markdown",
   "metadata": {},
   "source": [
    "Next, let's add Nginx into the mix to act as a reverse proxy for Gunicorn to handle client requests as well as serve up static files.\n",
    "\n",
    "Add the service to docker-compose.prod.yml:"
   ]
  },
  {
   "cell_type": "markdown",
   "metadata": {},
   "source": [
    "      nginx:\n",
    "        build: \n",
    "          context: ./nginx\n",
    "          dockerfile: Dockerfile\n",
    "        ports:\n",
    "          - 80:8080\n",
    "        depends_on:\n",
    "          - web\n",
    "        networks:\n",
    "          - frontend"
   ]
  },
  {
   "cell_type": "markdown",
   "metadata": {},
   "source": [
    "Then,  create the following files and folders:"
   ]
  },
  {
   "cell_type": "markdown",
   "metadata": {},
   "source": [
    "    └── nginx\n",
    "        ├── Dockerfile\n",
    "        └── nginx.conf"
   ]
  },
  {
   "cell_type": "markdown",
   "metadata": {},
   "source": [
    "`Dockerfile:`\n",
    "\n",
    "    FROM nginx:1.17-alpine\n",
    "\n",
    "    RUN rm /etc/nginx/conf.d/default.conf\n",
    "    COPY nginx.conf /etc/nginx/conf.d\n",
    "\n",
    "`nginx.conf:`\n",
    "\n",
    "    upstream flask {\n",
    "        server web:5000;\n",
    "    }\n",
    "\n",
    "    server {\n",
    "\n",
    "        listen 8080;\n",
    "\n",
    "        location / {\n",
    "            proxy_pass http://flask;\n",
    "            proxy_set_header X-Forwarded-For $proxy_add_x_forwarded_for;\n",
    "            proxy_set_header Host $host;\n",
    "            proxy_redirect off;\n",
    "        }\n",
    "\n",
    "    }"
   ]
  },
  {
   "cell_type": "markdown",
   "metadata": {},
   "source": [
    "https://www.patricksoftwareblog.com/how-to-configure-nginx-for-a-flask-web-application/"
   ]
  },
  {
   "cell_type": "markdown",
   "metadata": {},
   "source": [
    "Then, update the web service, in docker-compose.prod.yml, replacing ports with expose:"
   ]
  },
  {
   "cell_type": "markdown",
   "metadata": {},
   "source": [
    "```yml\n",
    "version: '3.7'\n",
    "services:\n",
    "  nginx:\n",
    "    build: \n",
    "      context: ./nginx\n",
    "      dockerfile: Dockerfile\n",
    "    ports:\n",
    "      - 80:8080\n",
    "    depends_on:\n",
    "      - web\n",
    "    networks:\n",
    "      - frontend\n",
    "  web:\n",
    "    image: leon11sj/counter\n",
    "    entrypoint: [\"gunicorn\", \"--bind\", \"0.0.0.0:5000\", \"wsgi:app\"]\n",
    "    expose:\n",
    "      - 5000\n",
    "    networks:\n",
    "      - backend\n",
    "      - frontend\n",
    "    depends_on:\n",
    "      - redis\n",
    "  redis:\n",
    "    image: \"redis:alpine\"\n",
    "    networks:  \n",
    "      - backend\n",
    "    \n",
    "\n",
    "networks:\n",
    "  frontend:\n",
    "  backend:\n",
    "\n",
    "```"
   ]
  },
  {
   "cell_type": "markdown",
   "metadata": {},
   "source": [
    "    docker-compose -f docker-compose.prod.yml up --build"
   ]
  },
  {
   "cell_type": "markdown",
   "metadata": {},
   "source": [
    "## Persistent Redis data"
   ]
  },
  {
   "cell_type": "markdown",
   "metadata": {},
   "source": [
    "https://docs.docker.com/compose/compose-file/#volume-configuration-reference"
   ]
  },
  {
   "cell_type": "markdown",
   "metadata": {},
   "source": [
    "Prilagodimo compose file:"
   ]
  },
  {
   "cell_type": "markdown",
   "metadata": {},
   "source": [
    "```yml\n",
    "version: '3.7'\n",
    "services:\n",
    "  nginx:\n",
    "    build: \n",
    "      context: ./nginx\n",
    "      dockerfile: Dockerfile\n",
    "    ports:\n",
    "      - 80:8080\n",
    "    depends_on:\n",
    "      - web\n",
    "    networks:\n",
    "      - frontend\n",
    "  web:\n",
    "    image: leon11sj/counter\n",
    "    entrypoint: [\"gunicorn\", \"--bind\", \"0.0.0.0:5000\", \"wsgi:app\"]\n",
    "    expose:\n",
    "      - 5000\n",
    "    networks:\n",
    "      - backend\n",
    "      - frontend\n",
    "    depends_on:\n",
    "      - redis\n",
    "  redis:\n",
    "    image: \"redis:alpine\"\n",
    "    volumes:\n",
    "      - redis-data:/data\n",
    "    networks:  \n",
    "      - backend\n",
    "    \n",
    "\n",
    "networks:\n",
    "  frontend:\n",
    "  backend:\n",
    "  \n",
    "volumes:\n",
    "  redis-data:\n",
    " ```"
   ]
  },
  {
   "cell_type": "markdown",
   "metadata": {},
   "source": [
    "Zaženemo in pokažemo, da se podatki ohranijo:"
   ]
  },
  {
   "cell_type": "markdown",
   "metadata": {},
   "source": [
    "    docker-compose -f docker-compose.prod.yml up\n",
    "    docker-compose -f docker-compose.prod.yml down\n",
    "    docker-compose -f docker-compose.prod.yml up\n",
    "    docker-compose -f docker-compose.prod.yml down --volumes\n",
    "    docker-compose -f docker-compose.prod.yml up"
   ]
  }
 ],
 "metadata": {
  "kernelspec": {
   "display_name": "Python 3",
   "language": "python",
   "name": "python3"
  },
  "language_info": {
   "codemirror_mode": {
    "name": "ipython",
    "version": 3
   },
   "file_extension": ".py",
   "mimetype": "text/x-python",
   "name": "python",
   "nbconvert_exporter": "python",
   "pygments_lexer": "ipython3",
   "version": "3.8.5"
  }
 },
 "nbformat": 4,
 "nbformat_minor": 2
}
