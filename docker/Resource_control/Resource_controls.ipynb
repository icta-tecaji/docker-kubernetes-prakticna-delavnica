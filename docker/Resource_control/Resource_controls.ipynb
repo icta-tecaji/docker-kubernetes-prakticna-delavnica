{
 "cells": [
  {
   "cell_type": "markdown",
   "metadata": {},
   "source": [
    "# Resource controls"
   ]
  },
  {
   "cell_type": "markdown",
   "metadata": {},
   "source": [
    "The features covered in this chapter focus on managing or limiting the risks of\n",
    "running software. These features prevent software from misbehaving because of a\n",
    "bug or attack from consuming resources that might leave your computer unresponsive.\n",
    "Containers can help ensure that software only uses the computing resources\n",
    "and accesses the data you expect. You will learn how to give containers resource\n",
    "allowances, access shared memory, run programs as specific users, control the type\n",
    "of changes that a container can make to your computer, and integrate with other\n",
    "Linux isolation tools. Some of these topics involve Linux features that are beyond the\n",
    "scope of this book. In those cases, we try to give you an idea about their purpose and\n",
    "basic usage examples, and how you can integrate them with Docker. Figure 6.1 shows\n",
    "the eight namespaces and features that are used to build Docker containers."
   ]
  },
  {
   "cell_type": "markdown",
   "metadata": {},
   "source": [
    "<img style=\"-webkit-user-select: none;margin: auto;\" src=\"https://dpzbhybb2pdcj.cloudfront.net/nickoloff2/Figures/06fig01_alt.jpg\">"
   ]
  },
  {
   "cell_type": "markdown",
   "metadata": {},
   "source": [
    "## Setting resource allowances"
   ]
  },
  {
   "cell_type": "markdown",
   "metadata": {},
   "source": [
    "Physical system resources such as memory and time on the CPU are scarce. If the\n",
    "resource consumption of processes on a computer exceeds the available physical\n",
    "resources, the processes will experience performance issues and may stop running.\n",
    "Part of building a system that creates strong isolation includes providing resource\n",
    "allowances on individual containers."
   ]
  },
  {
   "cell_type": "markdown",
   "metadata": {},
   "source": [
    "If you want to make sure that a program won’t overwhelm other programs on your\n",
    "computer, the easiest thing to do is set limits on the resources that it can use. You can\n",
    "manage memory, CPU, and device resource allowances with Docker. By default,\n",
    "Docker containers may use unlimited CPU, memory, and device I/O resources. The\n",
    "docker container create and run commands provide flags for managing resources\n",
    "available to the container."
   ]
  },
  {
   "cell_type": "markdown",
   "metadata": {},
   "source": [
    "### Memory limits"
   ]
  },
  {
   "cell_type": "markdown",
   "metadata": {},
   "source": [
    "Memory limits are the most basic restriction you can place on a container. They restrict\n",
    "the amount of memory that processes inside a container can use. Memory limits are\n",
    "useful for ensuring that one container can’t allocate all of the system’s memory, starving\n",
    "other programs for the memory they need. You can put a limit in place by using\n",
    "the `-m or --memory` flag on the docker container run or docker container create\n",
    "commands. The flag takes a value and a unit. The format is as follows:"
   ]
  },
  {
   "cell_type": "markdown",
   "metadata": {},
   "source": [
    "    <number><optional unit> where unit = b, k, m or g"
   ]
  },
  {
   "cell_type": "markdown",
   "metadata": {},
   "source": [
    "In the context of these commands, b refers to bytes, k to kilobytes, m to megabytes, and\n",
    "g to gigabytes. Put this new knowledge to use and start up a database application that\n",
    "you’ll use in other examples:"
   ]
  },
  {
   "cell_type": "markdown",
   "metadata": {},
   "source": [
    "    docker container run -d --name ch6_mariadb \\\n",
    "        --memory 256m \\\n",
    "        --cpu-shares 1024 \\\n",
    "        --cap-drop net_raw \\\n",
    "        -e MYSQL_ROOT_PASSWORD=test \\\n",
    "        mariadb:5.5"
   ]
  },
  {
   "cell_type": "markdown",
   "metadata": {},
   "source": [
    "With this command, you install database software called MariaDB and start a container\n",
    "with a memory limit of 256 megabytes. You might have noticed a few extra\n",
    "flags on this command. This chapter covers each of those, but you may already be\n",
    "able to guess what they do. Something else to note is that you don’t expose any ports\n",
    "or bind any ports to the host’s interfaces. It will be easiest to connect to this database\n",
    "by linking to it from another container on the host. Before we get to that, we want to\n",
    "make sure you have a full understanding of what happens here and how to use memory\n",
    "limits."
   ]
  },
  {
   "cell_type": "markdown",
   "metadata": {},
   "source": [
    "The most important thing to understand about memory limits is that they’re not\n",
    "reservations. They don’t guarantee that the specified amount of memory will be available.\n",
    "They’re only a protection from overconsumption. Additionally, the implementation\n",
    "of the memory accounting and limit enforcement by the Linux kernel is very\n",
    "efficient, so you don’t need to worry about runtime overhead for this feature."
   ]
  },
  {
   "cell_type": "markdown",
   "metadata": {},
   "source": [
    "Before you put a memory allowance in place, you should consider two things. First,\n",
    "can the software you’re running operate under the proposed memory allowance? Second,\n",
    "can the system you’re running on support the allowance?"
   ]
  },
  {
   "cell_type": "markdown",
   "metadata": {},
   "source": [
    "The first question is often difficult to answer. It’s not common to see minimum\n",
    "requirements published with open source software these days. Even if it were, though,\n",
    "you’d have to understand how the memory requirements of the software scale based\n",
    "on the size of the data you’re asking it to handle. For better or worse, people tend to\n",
    "overestimate and adjust based on trial and error. One option is to run the software in\n",
    "a container with real workloads and use the **`docker stats`** command to see how\n",
    "much memory the container uses in practice. For the mariadb container we just\n",
    "started, docker stats ch6_mariadb shows that the container is using about 100 megabytes\n",
    "of memory, fitting well inside its 256-megabyte limit. In the case of memorysensitive\n",
    "tools like databases, skilled professionals such as database administrators\n",
    "can make better-educated estimates and recommendations. Even then, the question\n",
    "is often answered by another: how much memory do you have? And that leads to the\n",
    "second question."
   ]
  },
  {
   "cell_type": "markdown",
   "metadata": {},
   "source": [
    "Can the system you’re running on support the allowance? It’s possible to set a\n",
    "memory allowance that’s bigger than the amount of available memory on the system.\n",
    "On hosts that have swap space (virtual memory that extends onto disk), a container\n",
    "may realize the allowance. It is possible to specify an allowance that’s greater than any\n",
    "physical memory resource. In those cases, the limitations of the system will always cap\n",
    "the container, and runtime behavior will be similar to not having specified an allowance\n",
    "at all.\n",
    "\n",
    "Finally, understand that there are several ways that software can fail if it exhausts\n",
    "the available memory. Some programs may fail with a memory access fault, whereas\n",
    "others may start writing out-of-memory errors to their logging. Docker neither detects\n",
    "this problem nor attempts to mitigate the issue. The best it can do is apply the restart\n",
    "logic you may have specified using the --restart flag described in chapter 2."
   ]
  },
  {
   "cell_type": "markdown",
   "metadata": {},
   "source": [
    "> If your services or containers attempt to use more memory than the system has available, you may experience an Out Of Memory Exception (OOME) and a container, or the Docker daemon, might be killed by the kernel OOM killer. To prevent this from happening, ensure that your application runs on hosts with adequate memory."
   ]
  },
  {
   "cell_type": "markdown",
   "metadata": {},
   "source": [
    "### CPU"
   ]
  },
  {
   "cell_type": "markdown",
   "metadata": {},
   "source": [
    "Processing time is just as scarce as memory, but the effect of starvation is performance\n",
    "degradation instead of failure. A paused process that is waiting for time on the CPU is\n",
    "still working correctly. But a slow process may be worse than a failing one if it’s running\n",
    "an important latency-sensitive data-processing program, a revenue-generating\n",
    "web application, or a backend service for your app. Docker lets you limit a container’s\n",
    "CPU resources in two ways."
   ]
  },
  {
   "cell_type": "markdown",
   "metadata": {},
   "source": [
    "First, you can specify the relative weight of a container to other containers. Linux\n",
    "uses this to determine the percentage of CPU time the container should use relative\n",
    "to other running containers. That percentage is for the sum of the computing cycles\n",
    "of all processors available to the container."
   ]
  },
  {
   "cell_type": "markdown",
   "metadata": {},
   "source": [
    "To set the CPU shares of a container and establish its relative weight, both `docker container run` and `docker container create` offer a `--cpu-shares` flag. The value\n",
    "provided should be an integer (which means you shouldn’t quote it). Start another\n",
    "container to see how CPU shares work:"
   ]
  },
  {
   "cell_type": "markdown",
   "metadata": {},
   "source": [
    "    docker container run -d -P --name ch6_wordpress \\\n",
    "        --memory 512m \\\n",
    "        --cpu-shares 512 \\\n",
    "        --cap-drop net_raw \\\n",
    "        --link ch6_mariadb:mysql \\\n",
    "        -e WORDPRESS_DB_PASSWORD=test \\\n",
    "        wordpress:5.0.0-php7.2-apache"
   ]
  },
  {
   "cell_type": "markdown",
   "metadata": {},
   "source": [
    "This command will download and start WordPress version 5.0. It’s written in PHP and\n",
    "is a great example of software that has been challenged by adapting to security risks.\n",
    "Here we’ve started it with a few extra precautions. If you’d like to see it running on\n",
    "your computer, use `docker port ch6_wordpress` to get the port number (we’ll call it\n",
    "<port>) that the service is running on and open `http://localhost:<port>` in your web\n",
    "browser. If you’re using Docker Machine, you’ll need to use docker-machine ip to\n",
    "determine the IP address of the virtual machine where Docker is running. When you\n",
    "have that, substitute that value for localhost in the preceding URL."
   ]
  },
  {
   "cell_type": "markdown",
   "metadata": {},
   "source": [
    "When you started the MariaDB container, you set its relative weight (`cpu-shares`)\n",
    "to 1024, and you set the relative weight of WordPress to 512. These settings create a\n",
    "system in which the MariaDB container gets two CPU cycles for every one WordPress\n",
    "cycle. If you started a third container and set its `--cpu-shares value` to 2048, it would\n",
    "get half of the CPU cycles, and MariaDB and WordPress would split the other half at\n",
    "the same proportions as they were before. Figure 6.2 shows how portions change\n",
    "based on the total weight of the system."
   ]
  },
  {
   "cell_type": "markdown",
   "metadata": {},
   "source": [
    "<img style=\"-webkit-user-select: none;margin: auto;\" src=\"https://dpzbhybb2pdcj.cloudfront.net/nickoloff2/Figures/06fig02_alt.jpg\">"
   ]
  },
  {
   "cell_type": "markdown",
   "metadata": {},
   "source": [
    "**CPU shares differ from memory limits in that they’re enforced only when there is contention\n",
    "for time on the CPU.** If other processes and containers are idle, the container\n",
    "may burst well beyond its limits. This approach ensures that CPU time is not wasted\n",
    "and that limited processes will yield if another process needs the CPU. The intent of\n",
    "this tool is to prevent one or a set of processes from overwhelming a computer, not to\n",
    "hinder performance of those processes. The defaults won’t limit the container, and it\n",
    "will be able to use 100% of the CPU if the machine is otherwise idle."
   ]
  },
  {
   "cell_type": "markdown",
   "metadata": {},
   "source": [
    "Now that you have learned how `cpu-shares` allocates CPU proportionately, we\n",
    "will introduce the `cpus` option, which provides a way to limit the total amount of\n",
    "CPU used by a container. The cpus option allocates a quota of CPU resources the\n",
    "container may use by configuring the Linux Completely Fair Scheduler (CFS).\n",
    "Docker helpfully allows the quota to be expressed as the number of CPU cores the\n",
    "container should be able to use. The CPU quota is allocated, enforced, and ultimately\n",
    "refreshed every 100ms by default. If a container uses all of its CPU quota, its\n",
    "CPU usage will be throttled until the next measurement period begins. The following\n",
    "command will let the previous WordPress example consume a maximum of 0.75\n",
    "CPU cores:"
   ]
  },
  {
   "cell_type": "markdown",
   "metadata": {},
   "source": [
    "    docker stop ch6_wordpress\n",
    "    docker container rm ch6_wordpress"
   ]
  },
  {
   "cell_type": "markdown",
   "metadata": {},
   "source": [
    "    docker container run -d -P --name ch6_wordpress \\\n",
    "        --memory 512m \\\n",
    "        --cpus 0.75 \\\n",
    "        --cap-drop net_raw \\\n",
    "        --link ch6_mariadb:mysql \\\n",
    "        -e WORDPRESS_DB_PASSWORD=test \\\n",
    "        wordpress:5.0.0-php7.2-apache"
   ]
  },
  {
   "cell_type": "markdown",
   "metadata": {},
   "source": [
    "Another feature Docker exposes is the ability to assign a container to a specific CPU\n",
    "set. Most modern hardware uses multicore CPUs. Roughly speaking, a CPU can process\n",
    "as many instructions in parallel as it has cores. This is especially useful when you’re\n",
    "running many processes on the same computer."
   ]
  },
  {
   "cell_type": "markdown",
   "metadata": {},
   "source": [
    "A context switch is the task of changing from executing one process to executing\n",
    "another. Context switching is expensive and may cause a noticeable impact on the\n",
    "performance of your system. In some cases, it makes sense to reduce context switching\n",
    "of critical processes by ensuring they are never executed on the same set of CPU cores.\n",
    "You can use the `--cpuset-cpus` flag on `docker container run` or `docker container create` to limit a container to execute only on a specific set of CPU cores.\n",
    "\n",
    "You can see the CPU set restrictions in action by stressing one of your machine\n",
    "cores and examining your CPU workload:"
   ]
  },
  {
   "cell_type": "markdown",
   "metadata": {},
   "source": [
    "    # Start a container limited to a single CPU and run a load generator\n",
    "    docker container run -d \\\n",
    "        --cpuset-cpus 0 \\\n",
    "        --name ch6_stresser dockerinaction/ch6_stresser\n",
    "    \n",
    "    # Start a container to watch the load on the CPU under load\n",
    "    docker container run -it --rm dockerinaction/ch6_htop"
   ]
  },
  {
   "cell_type": "markdown",
   "metadata": {},
   "source": [
    "Once you run the second command, you’ll see htop display the running processes\n",
    "and the workload of the available CPUs. The ch6_stresser container will stop running\n",
    "after 30 seconds, so it’s important not to delay when you run this experiment.\n",
    "When you finish with htop, press Q to quit. Before moving on, remember to shut\n",
    "down and remove the container named ch6_stresser:"
   ]
  },
  {
   "cell_type": "markdown",
   "metadata": {},
   "source": [
    "    docker rm -vf ch6_stresser"
   ]
  },
  {
   "cell_type": "markdown",
   "metadata": {},
   "source": [
    "We thought this was exciting when we first used it. To get the best appreciation, repeat\n",
    "this experiment a few times by using different values for the `--cpuset-cpus` flag. If\n",
    "you do, you’ll see the process assigned to different cores or different sets of cores. The\n",
    "value can be either a list or range:"
   ]
  },
  {
   "cell_type": "markdown",
   "metadata": {},
   "source": [
    "- 0,1,2—A list including the first three cores of the CPU\n",
    "- 0-2—A range including the first three cores of the CPU"
   ]
  },
  {
   "cell_type": "markdown",
   "metadata": {},
   "source": [
    "### Access to devices"
   ]
  },
  {
   "cell_type": "markdown",
   "metadata": {},
   "source": [
    "Devices are the final resource type we will cover. Controlling access to devices differs\n",
    "from memory and CPU limits. Providing access to a host’s device inside a container is\n",
    "more like a resource-authorization control than a limit."
   ]
  },
  {
   "cell_type": "markdown",
   "metadata": {},
   "source": [
    "Linux systems have all sorts of devices, including hard drives, optical drives, USB\n",
    "drives, mouse, keyboard, sound devices, and webcams. Containers have access to some\n",
    "of the host’s devices by default, and Docker creates other devices specifically for each\n",
    "container. This works similarly to how a virtual terminal provides dedicated input and\n",
    "output devices to the user."
   ]
  },
  {
   "cell_type": "markdown",
   "metadata": {},
   "source": [
    "On occasion, it may be important to share other devices between a host and a\n",
    "specific container. Say you’re running computer vision software that requires access\n",
    "to a webcam, for example. In that case, you’ll need to grant access to the container\n",
    "running your software to the webcam device attached to the system; you can use the\n",
    "`--device` flag to specify a set of devices to mount into the new container. The following\n",
    "example would map your webcam at /dev/video0 to the same location\n",
    "within a new container. Running this example will work only if you have a webcam at\n",
    "/dev/video0:"
   ]
  },
  {
   "cell_type": "markdown",
   "metadata": {},
   "source": [
    "    docker container run -it --rm \\\n",
    "        --device /dev/video0:/dev/video0 \\\n",
    "        ubuntu:16.04 ls -al /dev"
   ]
  },
  {
   "cell_type": "markdown",
   "metadata": {},
   "source": [
    "The value provided must be a map between the device file on the host operating system\n",
    "and the location inside the new container. The device flag can be set many times\n",
    "to grant access to different devices.\n",
    "\n",
    "People in situations with custom hardware or proprietary drivers will find this kind\n",
    "of access to devices useful. It’s preferable to resorting to modifying their host operating\n",
    "system."
   ]
  },
  {
   "cell_type": "markdown",
   "metadata": {},
   "source": [
    "## Sharing memory"
   ]
  },
  {
   "cell_type": "code",
   "execution_count": null,
   "metadata": {},
   "outputs": [],
   "source": []
  },
  {
   "cell_type": "code",
   "execution_count": null,
   "metadata": {},
   "outputs": [],
   "source": []
  },
  {
   "cell_type": "markdown",
   "metadata": {},
   "source": [
    "## Understanding users"
   ]
  },
  {
   "cell_type": "markdown",
   "metadata": {},
   "source": [
    "Docker starts containers as the user that is specified by the image metadata by default,\n",
    "which is often the root user. The root user has almost full privileged access to the state\n",
    "of the container. Any processes running as that user inherit those permissions. It follows\n",
    "that if there’s a bug in one of those processes, it might damage the container.\n",
    "There are ways to limit the damage, but the most effective way to prevent these types\n",
    "of issues is not to use the root user."
   ]
  },
  {
   "cell_type": "markdown",
   "metadata": {},
   "source": [
    "Reasonable exceptions exist; sometimes using the root user is the best or only available\n",
    "option. You use the root user for building images, and at runtime when there’s\n",
    "no other option. Similarly, at times you might want to run system administration software\n",
    "inside a container. In those cases, the process needs privileged access not only to\n",
    "the container but also to the host operating system. This section covers the range of\n",
    "solutions to these problems."
   ]
  },
  {
   "cell_type": "markdown",
   "metadata": {},
   "source": [
    "### Working with the run-as user"
   ]
  },
  {
   "cell_type": "markdown",
   "metadata": {},
   "source": [
    "Before you create a container, it would be nice to be able to know what username (and\n",
    "user ID) is going to be used by default. The default is specified by the image. There’s\n",
    "currently no way to examine an image to discover attributes such as the default user in\n",
    "Docker Hub. You can inspect image metadata by using the docker inspect command.\n",
    "If you missed it in chapter 2, the inspect subcommand displays the metadata of a specific\n",
    "container or image. Once you’ve pulled or created an image, you can get the\n",
    "default username that the container is using with the following commands:"
   ]
  },
  {
   "cell_type": "markdown",
   "metadata": {},
   "source": [
    "    docker image pull busybox:1.29\n",
    "    docker image inspect busybox:1.29\n",
    "    #Shows only the runas user defined by the busybox image\n",
    "    docker inspect --format \"{{.Config.User}}\" busybox:1.29"
   ]
  },
  {
   "cell_type": "markdown",
   "metadata": {},
   "source": [
    "If the result is blank, the container will default to running as the root user. If it isn’t\n",
    "blank, either the image author specifically named a default run-as user or you set a\n",
    "specific run-as user when you created the container. The --format or -f option used\n",
    "in the second command allows you to specify a template to render the output. In this\n",
    "case, you’ve selected the User field of the Config property of the document. The value\n",
    "can be any valid Golang template, so if you’re feeling up to it, you can get creative with\n",
    "the results."
   ]
  },
  {
   "cell_type": "markdown",
   "metadata": {},
   "source": [
    "This approach has a problem. The run-as user might be changed by the entrypoint\n",
    "or command the image uses to start up. These are sometimes referred to as boot, or init,\n",
    "scripts. The metadata returned by docker inspect includes only the configuration that\n",
    "the container will start with. So if the user changes, it won’t be reflected there."
   ]
  },
  {
   "cell_type": "markdown",
   "metadata": {},
   "source": [
    "Currently, the only way to fix this problem is to look inside the image. You could\n",
    "expand the image files after you download them, and examine the metadata and init\n",
    "scripts by hand, but doing so is time-consuming and easy to get wrong. For the time\n",
    "being, it may be better to run a simple experiment to determine the default user. This\n",
    "will solve the first problem but not the second:"
   ]
  },
  {
   "cell_type": "markdown",
   "metadata": {},
   "source": [
    "    docker container run --rm --entrypoint \"\" busybox:1.29 whoami\n",
    "        \n",
    "    docker container run --rm --entrypoint \"\" busybox:1.29 id"
   ]
  },
  {
   "cell_type": "markdown",
   "metadata": {},
   "source": [
    "This demonstrates two commands that you might use to determine the default user of\n",
    "an image (in this case, busybox:1.29). Both the whoami and id commands are common\n",
    "among Linux distributions, and so they’re likely to be available in any given\n",
    "image. The second command is superior because it shows both the name and ID\n",
    "details for the run-as user. Both these commands are careful to unset the entrypoint of\n",
    "the container. This will make sure that the command specified after the image name is\n",
    "the command that is executed by the container. These are poor substitutes for a firstclass\n",
    "image metadata tool, but they get the job done."
   ]
  },
  {
   "cell_type": "code",
   "execution_count": null,
   "metadata": {},
   "outputs": [],
   "source": []
  },
  {
   "cell_type": "code",
   "execution_count": null,
   "metadata": {},
   "outputs": [],
   "source": []
  },
  {
   "cell_type": "code",
   "execution_count": null,
   "metadata": {},
   "outputs": [],
   "source": []
  },
  {
   "cell_type": "code",
   "execution_count": null,
   "metadata": {},
   "outputs": [],
   "source": []
  },
  {
   "cell_type": "code",
   "execution_count": null,
   "metadata": {},
   "outputs": [],
   "source": []
  },
  {
   "cell_type": "code",
   "execution_count": null,
   "metadata": {},
   "outputs": [],
   "source": []
  },
  {
   "cell_type": "code",
   "execution_count": null,
   "metadata": {},
   "outputs": [],
   "source": []
  },
  {
   "cell_type": "code",
   "execution_count": null,
   "metadata": {},
   "outputs": [],
   "source": []
  }
 ],
 "metadata": {
  "kernelspec": {
   "display_name": "Python 3",
   "language": "python",
   "name": "python3"
  },
  "language_info": {
   "codemirror_mode": {
    "name": "ipython",
    "version": 3
   },
   "file_extension": ".py",
   "mimetype": "text/x-python",
   "name": "python",
   "nbconvert_exporter": "python",
   "pygments_lexer": "ipython3",
   "version": "3.7.3"
  }
 },
 "nbformat": 4,
 "nbformat_minor": 2
}
