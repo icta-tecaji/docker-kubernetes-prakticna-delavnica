{
 "cells": [
  {
   "cell_type": "markdown",
   "metadata": {},
   "source": [
    "# Storage and volumes"
   ]
  },
  {
   "cell_type": "markdown",
   "metadata": {},
   "source": [
    "Consider what it might look like to run a database program inside a container.\n",
    "You would package the software with the image, and when you start the container,\n",
    "it might initialize an empty database. \n",
    "- When programs connect to the database and enter data, where is that data stored? \n",
    "- Is it in a file inside the container? \n",
    "- What happens to that data when you stop the container or remove it? \n",
    "- How would you move your data if you wanted to upgrade the database program? \n",
    "- What happens to that storage on a cloud machine when it is terminated?\n",
    "\n",
    "Consider another situation where you’re running a couple of different web applications\n",
    "inside different containers. \n",
    "- Where would you write log files so that they will outlive the container? \n",
    "- How would you get access to those logs to troubleshoot a problem?\n",
    "- How can other programs such as log digest tools get access to those files?\n",
    "\n",
    "The union filesystem is not appropriate for working with long-lived data or sharing\n",
    "data between containers, or a container and the host. The answer to all these questions\n",
    "involves managing the container filesystem and mount points."
   ]
  },
  {
   "cell_type": "markdown",
   "metadata": {},
   "source": [
    "## File trees and mount points"
   ]
  },
  {
   "cell_type": "markdown",
   "metadata": {},
   "source": [
    "Unlike other operating systems, Linux unifies all storage into a single tree. Storage\n",
    "devices such as disk partitions or USB disk partitions are attached to specific locations\n",
    "in that tree. Those locations are called `mount points`. A mount point defines the location\n",
    "in the tree, the access properties to the data at that point (for example, writability),\n",
    "and the source of the data mounted at that point (for example, a specific hard\n",
    "disk, USB device, or memory-backed virtual disk). Figure 4.1 depicts a filesystem constructed\n",
    "from multiple storage devices, with each device mounted to a specific location\n",
    "and level of access."
   ]
  },
  {
   "cell_type": "markdown",
   "metadata": {},
   "source": [
    "Mount points allow software and users to use the file tree in a Linux environment\n",
    "without knowing exactly how that tree is mapped into specific storage devices. This is\n",
    "particularly useful in container environments.\n",
    "\n",
    "Every container has something called a MNT namespace and a unique file tree root.\n",
    "This is discussed in detail in chapter 6. For now, it is enough to understand that the\n",
    "image that a container is created from is mounted at that container’s file tree root, or\n",
    "at the / point, and that every container has a different set of mount points.\n",
    "\n",
    "Logic follows that if different storage devices can be mounted at various points in a\n",
    "file tree, we can mount nonimage-related storage at other points in a container file\n",
    "tree. That is exactly how containers get access to storage on the host filesystem and\n",
    "share storage between containers.\n",
    "\n",
    "The rest of this chapter elaborates on how to manage storage and the mount\n",
    "points in containers. The best place to start is by understanding the three most common\n",
    "types of storage mounted into containers:\n",
    "- Bind mounts\n",
    "- In-memory storage\n",
    "- Docker volumes"
   ]
  },
  {
   "cell_type": "markdown",
   "metadata": {},
   "source": [
    "These storage types can be used in many ways. Figure 4.2 shows an example of a container\n",
    "filesystem that starts with the files from the image, adds an in-memory tmpfs at\n",
    "/tmp, bind-mounts a configuration file from the host, and writes logs into a Docker\n",
    "volume on the host."
   ]
  },
  {
   "cell_type": "markdown",
   "metadata": {},
   "source": [
    "<img style=\"-webkit-user-select: none;margin: auto;\" src=\"https://dpzbhybb2pdcj.cloudfront.net/nickoloff2/Figures/04fig02_alt.jpg\">"
   ]
  },
  {
   "cell_type": "markdown",
   "metadata": {},
   "source": [
    "All three types of mount points can be created using the `--mount` flag on the `docker run` and `dcker create` subcommands."
   ]
  },
  {
   "cell_type": "markdown",
   "metadata": {},
   "source": [
    "## Bind mounts"
   ]
  },
  {
   "cell_type": "markdown",
   "metadata": {},
   "source": [
    "Bind mounts are mount points used to remount parts of a filesystem tree onto other\n",
    "locations. When working with containers, bind mounts attach a user-specified location\n",
    "on the host filesystem to a specific point in a container file tree. Bind mounts are useful\n",
    "when the host provides a file or directory that is needed by a program running in a\n",
    "container, or when that containerized program produces a file or log that is processed\n",
    "by users or programs running outside containers."
   ]
  },
  {
   "cell_type": "markdown",
   "metadata": {},
   "source": [
    "Consider the example in figure 4.3. Suppose you’re running a web server that\n",
    "depends on sensitive configuration on the host and emits access logs that need to be\n",
    "forwarded by your log-shipping system. You could use Docker to launch the web\n",
    "server in a container and bind-mount the configuration location as well as the location\n",
    "where you want the web server to write logs."
   ]
  },
  {
   "cell_type": "markdown",
   "metadata": {},
   "source": [
    "<img style=\"-webkit-user-select: none;margin: auto;\" src=\"https://dpzbhybb2pdcj.cloudfront.net/nickoloff2/Figures/04fig03_alt.jpg\">"
   ]
  },
  {
   "cell_type": "markdown",
   "metadata": {},
   "source": [
    "You can try this for yourself. Create a placeholder log file and create a special NGINX\n",
    "configuration file named example.conf. Run the following commands to create and\n",
    "populate the files:"
   ]
  },
  {
   "cell_type": "markdown",
   "metadata": {},
   "source": [
    "`gradiva/vaja01`\n",
    "\n",
    "    touch ./example.log\n",
    "    cat >./example.conf <<EOF\n",
    "    server {\n",
    "        listen 80;\n",
    "        server_name localhost;\n",
    "        access_log /var/log/nginx/custom.host.access.log main;\n",
    "        location / {\n",
    "            root /usr/share/nginx/html;\n",
    "            index index.html index.htm;\n",
    "        }\n",
    "    }\n",
    "    EOF"
   ]
  },
  {
   "cell_type": "markdown",
   "metadata": {},
   "source": [
    "Once a server is started with this configuration file, it will offer the NGINX default site\n",
    "at `http://localhost/`, and access logs for that site will be written to a file in the container\n",
    "at `/var/log/nginx/custom.host.access.log`. The following command will start\n",
    "an NGINX HTTP server in a container where your new configuration is bind-mounted\n",
    "to the server’s configuration root:"
   ]
  },
  {
   "cell_type": "markdown",
   "metadata": {},
   "source": [
    "> Originally, the -v or --volume flag was used for standalone containers and the --mount flag was used for swarm services. However, starting with Docker 17.06, you can also use --mount with standalone containers. In general, --mount is more explicit and verbose. The biggest difference is that the -v syntax combines all the options together in one field, while the --mount syntax separates them. Here is a comparison of the syntax for each flag. New users should try --mount syntax which is simpler than --volume syntax."
   ]
  },
  {
   "cell_type": "markdown",
   "metadata": {},
   "source": [
    "    MAIN_PATH=/home/leon11/docker-k8s/docker/Storage_and_volumes/gradiva/vaja01; \\\n",
    "    CONF_SRC=${MAIN_PATH}/example.conf; \\\n",
    "    CONF_DST=/etc/nginx/conf.d/default.conf; \\\n",
    "    LOG_SRC=${MAIN_PATH}/example.log; \\\n",
    "    LOG_DST=/var/log/nginx/custom.host.access.log; \\\n",
    "    docker run -d --name diaweb \\\n",
    "        --mount type=bind,src=${CONF_SRC},dst=${CONF_DST} \\\n",
    "        --mount type=bind,src=${LOG_SRC},dst=${LOG_DST} \\\n",
    "        -p 80:80 \\\n",
    "        nginx:latest"
   ]
  },
  {
   "cell_type": "markdown",
   "metadata": {},
   "source": [
    "With this container running, you should be able to point your web browser at\n",
    "`http://localhost/` and see the NGINX hello-world page, and you will not see any\n",
    "access logs in the container log stream: docker logs diaweb. However, you will be\n",
    "able to see those logs if you examine the example.log file in your home directory:\n",
    "`cat ./example.log`."
   ]
  },
  {
   "cell_type": "markdown",
   "metadata": {},
   "source": [
    "In this example you used the  `--mount` option with the `type=bind` option. The\n",
    "other two mount parameters, src and dst, define the source location on the host file\n",
    "tree and the destination location on the container file tree. You must specify locations\n",
    "with absolute paths, but in this example, we used shell expansion and shell variables to\n",
    "make the command easier to read."
   ]
  },
  {
   "cell_type": "markdown",
   "metadata": {},
   "source": [
    "This example touches on an important feature of volumes. When you mount a volume\n",
    "on a container filesystem, it replaces the content that the image provides at that\n",
    "location. By default, the `nginx:latest` image provides some default configuration at\n",
    "`/etc/nginx/conf.d/default.conf`, but when you created the bind mount with a destination\n",
    "at that path, the content provided by the image was overridden by the content\n",
    "on the host. This behavior is the basis for the polymorphic container pattern discussed\n",
    "later in the chapter."
   ]
  },
  {
   "cell_type": "markdown",
   "metadata": {},
   "source": [
    "Expanding on this use case, suppose you want to make sure that the NGINX web\n",
    "server can’t change the contents of the configuration volume. Even the most trusted\n",
    "software can contain vulnerabilities, and it’s best to minimize the impact of an attack on\n",
    "your website. Fortunately, Linux provides a mechanism to make mount points read-only.\n",
    "You can do this by adding the `readonly=true` argument to the mount specification. In\n",
    "the example, you should change the run command to something like the following:"
   ]
  },
  {
   "cell_type": "markdown",
   "metadata": {},
   "source": [
    "    docker rm -f diaweb\n",
    "\n",
    "    MAIN_PATH=/home/leon11/docker-k8s/docker/Storage_and_volumes/gradiva/vaja01; \\\n",
    "    CONF_SRC=${MAIN_PATH}/example.conf; \\\n",
    "        CONF_DST=/etc/nginx/conf.d/default.conf; \\\n",
    "        LOG_SRC=${MAIN_PATH}/example.log; \\\n",
    "    LOG_DST=/var/log/nginx/custom.host.access.log; \\\n",
    "    docker run -d --name diaweb \\\n",
    "        --mount type=bind,src=${CONF_SRC},dst=${CONF_DST},readonly=true \\\n",
    "        --mount type=bind,src=${LOG_SRC},dst=${LOG_DST} \\\n",
    "        -p 80:80 \\\n",
    "        nginx:latest"
   ]
  },
  {
   "cell_type": "markdown",
   "metadata": {},
   "source": [
    "By creating the read-only mount, you can prevent any process inside the container from\n",
    "modifying the content of the volume. You can see this in action by running a quick test:"
   ]
  },
  {
   "cell_type": "markdown",
   "metadata": {},
   "source": [
    "    docker exec diaweb \\\n",
    "    sed -i \"s/listen 80/listen 8080/\" /etc/nginx/conf.d/default.conf"
   ]
  },
  {
   "cell_type": "markdown",
   "metadata": {},
   "source": [
    "This command executes a sed command inside the diaweb container and attempts\n",
    "to modify the configuration file. The command fails because the file is mounted as\n",
    "read-only."
   ]
  },
  {
   "cell_type": "markdown",
   "metadata": {},
   "source": [
    "The first problem with bind mounts is that they tie otherwise portable container\n",
    "descriptions to the filesystem of a specific host. If a container description depends on\n",
    "content at a specific location on the host filesystem, that description isn’t portable to\n",
    "hosts where the content is unavailable or available in some other location.\n",
    "\n",
    "The next big problem is that they create an opportunity for conflict with other\n",
    "containers. It would be a bad idea to start multiple instances of Cassandra that all use\n",
    "the same host location as a bind mount for data storage. In that case, each of the\n",
    "instances would compete for the same set of files. Without other tools such as file\n",
    "locks, that would likely result in corruption of the database.\n",
    "\n",
    "Bind mounts are appropriate tools for workstations, machines with specialized\n",
    "concerns, or in systems combined with more traditional configuration management\n",
    "tooling. It’s better to avoid these kinds of specific bindings in generalized platforms or\n",
    "hardware pools."
   ]
  },
  {
   "cell_type": "markdown",
   "metadata": {},
   "source": [
    "## In-memory storage"
   ]
  },
  {
   "cell_type": "markdown",
   "metadata": {},
   "source": [
    "Most service software and web applications use private key files, database passwords,\n",
    "API key files, or other sensitive configuration files, and need upload buffering space.\n",
    "In these cases, it is important that you never include those types of files in an image or\n",
    "write them to disk. Instead, you should use in-memory storage. You can add in-memory\n",
    "storage to containers with a special type of mount.\n",
    "\n",
    "Set the type option on the mount flag to tmpfs. This is the easiest way to mount a\n",
    "memory-based filesystem into a container’s file tree. Consider this command:"
   ]
  },
  {
   "cell_type": "markdown",
   "metadata": {},
   "source": [
    "    docker run --rm \\\n",
    "        --mount type=tmpfs,dst=/tmp \\\n",
    "        --entrypoint mount \\\n",
    "        alpine:latest -v"
   ]
  },
  {
   "cell_type": "markdown",
   "metadata": {},
   "source": [
    "This command creates an empty tmpfs device and attaches it to the new container’s\n",
    "file tree at /tmp. Any files created under this file tree will be written to memory\n",
    "instead of disk. More than that, the mount point is created with sensible defaults for\n",
    "generic workloads. Running the command will display a list of all the mount points\n",
    "for the container. The list will include the following line:"
   ]
  },
  {
   "cell_type": "markdown",
   "metadata": {},
   "source": [
    "    tmpfs on /tmp type tmpfs (rw,nosuid,nodev,noexec,relatime)"
   ]
  },
  {
   "cell_type": "markdown",
   "metadata": {},
   "source": [
    "This line describes the mount-point configuration. From left-to-right it indicates the\n",
    "following:\n",
    "- A tmpfs device is mounted to the tree at /tmp.\n",
    "- The device has a tmpfs filesystem.\n",
    "- The tree is read/write capable.\n",
    "- suid bits will be ignored on all files in this tree.\n",
    "- No files in this tree will be interpreted as special devices.\n",
    "- No files in this tree will be executable.\n",
    "- File access times will be updated if they are older than the current modify or change time."
   ]
  },
  {
   "cell_type": "markdown",
   "metadata": {},
   "source": [
    "Additionally, the tmpfs device will not have any size limits by default and will be worldwritable\n",
    "(has file permissions 1777 in octal). You can add a size limit and change the\n",
    "file mode with two additional options: tmpfs-size and tmpfs-mode:"
   ]
  },
  {
   "cell_type": "markdown",
   "metadata": {},
   "source": [
    "    docker run --rm \\\n",
    "        --mount type=tmpfs,dst=/tmp,tmpfs-size=16k,tmpfs-mode=1770 \\\n",
    "        --entrypoint mount \\\n",
    "        alpine:latest -v"
   ]
  },
  {
   "cell_type": "markdown",
   "metadata": {},
   "source": [
    "This command limits the tmpfs device mounted at /tmp to 16 KB and is not readable\n",
    "by other in-container users."
   ]
  },
  {
   "cell_type": "markdown",
   "metadata": {},
   "source": [
    "## Docker volumes"
   ]
  },
  {
   "cell_type": "markdown",
   "metadata": {},
   "source": [
    "Docker volumes are named filesystem trees managed by Docker. They can be implemented\n",
    "with disk storage on the host filesystem, or another more exotic backend such\n",
    "as cloud storage. All operations on Docker volumes can be accomplished using the\n",
    "`docker volume` subcommand set. Using volumes is a method of decoupling storage\n",
    "from specialized locations on the filesystem that you might specify with bind mounts.\n",
    "\n",
    "If you were to convert the web server and log-forwarding container example from\n",
    "section 4.2 to use a volume for sharing access to the logs, the pair could run on any\n",
    "machine without considering other software that might have a conflict with static locations\n",
    "on disk. That example would look like figure 4.4, and the containers would read\n",
    "and write logs through the location-example volume.\n",
    "\n",
    "You can create and inspect volumes by using the `docker volume create` and\n",
    "`docker volume inspect` subcommands. By default, Docker creates volumes by using\n",
    "the local volume plugin. The default behavior will create a directory to store the contents\n",
    "of a volume somewhere in a part of the host filesystem under control of the\n",
    "Docker engine. For example, the following two commands will create a volume\n",
    "named location-example and display the location of the volume host filesystem tree:"
   ]
  },
  {
   "cell_type": "markdown",
   "metadata": {},
   "source": [
    "    docker volume create \\\n",
    "        --driver local \\\n",
    "        --label example=location \\\n",
    "        location-example\n",
    "\n",
    "    docker volume inspect \\\n",
    "        --format \"{{json .Mountpoint}}\" \\\n",
    "        location-example"
   ]
  },
  {
   "cell_type": "markdown",
   "metadata": {},
   "source": [
    "Docker volumes may seem difficult to work with if you’re manually building or linking\n",
    "tools together on your desktop, but for larger systems in which specific locality\n",
    "of the data is less important, volumes are a much more effective way to organize\n",
    "your data. Using them decouples volumes from other potential concerns of the system.\n",
    "By using Docker volumes, you’re simply stating, “I need a place to put some\n",
    "data that I’m working with.” This is a requirement that Docker can fill on any\n",
    "machine with Docker installed."
   ]
  },
  {
   "cell_type": "markdown",
   "metadata": {},
   "source": [
    "Further, when you’re finished with a volume and you ask Docker to clean things up\n",
    "for you, Docker can confidently remove any directories or files that are no longer\n",
    "being used by a container. Using volumes in this way helps manage clutter. As Docker\n",
    "middleware or plugins evolve, volume users will be able to adopt more advanced\n",
    "features."
   ]
  },
  {
   "cell_type": "markdown",
   "metadata": {},
   "source": [
    "Sharing access to data is a key feature of volumes. If you have decoupled volumes\n",
    "from known locations on the filesystem, you need to know how to share volumes\n",
    "between containers without exposing the exact location of managed containers. The\n",
    "next section describes two ways to share data between containers by using volumes."
   ]
  },
  {
   "cell_type": "markdown",
   "metadata": {},
   "source": [
    "### Volumes provide container-independent data management"
   ]
  },
  {
   "cell_type": "markdown",
   "metadata": {},
   "source": [
    "Semantically, a volume is a tool for segmenting and sharing data that has a scope or life\n",
    "cycle that’s independent of a single container. That makes volumes an important part\n",
    "of any containerized system design that shares or writes files. Examples of data that\n",
    "differs in scope or access from a container include the following:\n",
    "- Database software versus database data\n",
    "- Web application versus log data\n",
    "- Data processing application versus input and output data\n",
    "- Web server versus static content\n",
    "- Products versus support tools"
   ]
  },
  {
   "cell_type": "markdown",
   "metadata": {},
   "source": [
    "Volumes enable separation of concerns and create modularity for architectural components.\n",
    "That modularity helps you understand, build, support, and reuse parts of\n",
    "larger systems more easily."
   ]
  },
  {
   "cell_type": "markdown",
   "metadata": {},
   "source": [
    "Think about it this way: images are appropriate for packaging and distributing relatively\n",
    "static files such as programs; volumes hold dynamic data or specializations. This\n",
    "distinction makes images reusable and data simple to share. This separation of relatively\n",
    "static and dynamic file space allows application or image authors to implement\n",
    "advanced patterns such as polymorphic and composable tools."
   ]
  },
  {
   "cell_type": "markdown",
   "metadata": {},
   "source": [
    "A polymorphic tool is one that maintains a consistent interface but might have several\n",
    "implementations that do different things. Consider an application such as a general\n",
    "application server. Apache Tomcat, for example, is an application that provides\n",
    "an HTTP interface on a network and dispatches any requests it receives to pluggable\n",
    "programs. Tomcat has polymorphic behavior. Using volumes, you can inject behavior\n",
    "into containers without modifying an image. Alternatively, consider a database program\n",
    "like MongoDB or MySQL. The value of a database is defined by the data it contains.\n",
    "A database program always presents the same interface but takes on a wholly\n",
    "different value depending on the data that can be injected with a volume. The polymorphic\n",
    "container pattern is the subject of section 4.5.1."
   ]
  },
  {
   "cell_type": "code",
   "execution_count": null,
   "metadata": {},
   "outputs": [],
   "source": []
  },
  {
   "cell_type": "code",
   "execution_count": null,
   "metadata": {},
   "outputs": [],
   "source": []
  },
  {
   "cell_type": "code",
   "execution_count": null,
   "metadata": {},
   "outputs": [],
   "source": []
  },
  {
   "cell_type": "code",
   "execution_count": null,
   "metadata": {},
   "outputs": [],
   "source": []
  },
  {
   "cell_type": "code",
   "execution_count": null,
   "metadata": {},
   "outputs": [],
   "source": []
  },
  {
   "cell_type": "code",
   "execution_count": null,
   "metadata": {},
   "outputs": [],
   "source": []
  },
  {
   "cell_type": "code",
   "execution_count": null,
   "metadata": {},
   "outputs": [],
   "source": []
  },
  {
   "cell_type": "code",
   "execution_count": null,
   "metadata": {},
   "outputs": [],
   "source": []
  },
  {
   "cell_type": "code",
   "execution_count": null,
   "metadata": {},
   "outputs": [],
   "source": []
  },
  {
   "cell_type": "code",
   "execution_count": null,
   "metadata": {},
   "outputs": [],
   "source": []
  },
  {
   "cell_type": "code",
   "execution_count": null,
   "metadata": {},
   "outputs": [],
   "source": []
  }
 ],
 "metadata": {
  "kernelspec": {
   "display_name": "Python 3",
   "language": "python",
   "name": "python3"
  },
  "language_info": {
   "codemirror_mode": {
    "name": "ipython",
    "version": 3
   },
   "file_extension": ".py",
   "mimetype": "text/x-python",
   "name": "python",
   "nbconvert_exporter": "python",
   "pygments_lexer": "ipython3",
   "version": "3.7.3"
  }
 },
 "nbformat": 4,
 "nbformat_minor": 2
}
