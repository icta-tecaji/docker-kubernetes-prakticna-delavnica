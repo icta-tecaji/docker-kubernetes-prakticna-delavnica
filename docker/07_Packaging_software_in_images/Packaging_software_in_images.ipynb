{
 "cells": [
  {
   "cell_type": "markdown",
   "metadata": {},
   "source": [
    "# Packaging software in images"
   ]
  },
  {
   "cell_type": "markdown",
   "metadata": {},
   "source": [
    "You can create a Docker image by either modifying an existing image inside a\n",
    "container or defining and executing a build script called a Dockerfile."
   ]
  },
  {
   "cell_type": "markdown",
   "metadata": {},
   "source": [
    "## Building Docker images from a container"
   ]
  },
  {
   "cell_type": "markdown",
   "metadata": {},
   "source": [
    "It’s easy to get started building images if you’re already familiar with using containers.\n",
    "Remember, a union filesystem (UFS) mount provides a container’s filesystem. Any changes\n",
    "that you make to the filesystem inside a container will be written as new layers owned\n",
    "by the container that created them.\n",
    "\n",
    "Before you work with real software, the next section details the typical workflow\n",
    "with a “Hello, World” example."
   ]
  },
  {
   "cell_type": "markdown",
   "metadata": {},
   "source": [
    "### Packaging “Hello, World”"
   ]
  },
  {
   "cell_type": "markdown",
   "metadata": {},
   "source": [
    "The basic workflow for building an image from a container includes three steps. \n",
    "\n",
    "1. First, you create a container from an existing image. You choose the image based on what\n",
    "you want to be included with the new finished image and the tools you need to make\n",
    "the changes.\n",
    "2. The second step is to modify the filesystem of the container. These changes will be\n",
    "written to a new layer of the container’s union filesystem. We’ll revisit the relationship\n",
    "between images, layers, and repositories later in this chapter.\n",
    "\n",
    "3. Once the changes have been made, the last step is to commit those changes. Then\n",
    "you’ll be able to create new containers from the resulting image. "
   ]
  },
  {
   "cell_type": "markdown",
   "metadata": {},
   "source": [
    "With these steps in mind, work through the following commands to create a new image\n",
    "named hw_image:"
   ]
  },
  {
   "cell_type": "markdown",
   "metadata": {},
   "source": [
    "Modifies file in container:\n",
    "\n",
    "    docker container run --name hw_container \\\n",
    "            ubuntu:latest \\\n",
    "            touch /HelloWorld\n"
   ]
  },
  {
   "cell_type": "markdown",
   "metadata": {},
   "source": [
    "Commits change to new image:"
   ]
  },
  {
   "cell_type": "markdown",
   "metadata": {},
   "source": [
    "    docker image ls\n",
    "    docker container commit hw_container hw_image\n",
    "    docker image ls"
   ]
  },
  {
   "cell_type": "markdown",
   "metadata": {},
   "source": [
    "Removes changed container\n",
    "\n",
    "    docker container rm -vf hw_container"
   ]
  },
  {
   "cell_type": "markdown",
   "metadata": {},
   "source": [
    "Examines file in new container\n",
    "\n",
    "    docker container run --rm \\\n",
    "        hw_image \\\n",
    "        ls -l /HelloWorld"
   ]
  },
  {
   "cell_type": "markdown",
   "metadata": {},
   "source": [
    "If that seems stunningly simple, you should know that it does become a bit more\n",
    "nuanced as the images you produce become more sophisticated, but the basic steps\n",
    "will always be the same. Now that you have an idea of the workflow, you should try to\n",
    "build a new image with real software. In this case, you’ll be packaging a program\n",
    "called Git."
   ]
  },
  {
   "cell_type": "markdown",
   "metadata": {},
   "source": [
    "### Preparing packaging for Git"
   ]
  },
  {
   "cell_type": "code",
   "execution_count": null,
   "metadata": {},
   "outputs": [],
   "source": []
  },
  {
   "cell_type": "code",
   "execution_count": null,
   "metadata": {},
   "outputs": [],
   "source": []
  },
  {
   "cell_type": "code",
   "execution_count": null,
   "metadata": {},
   "outputs": [],
   "source": []
  },
  {
   "cell_type": "code",
   "execution_count": null,
   "metadata": {},
   "outputs": [],
   "source": []
  },
  {
   "cell_type": "code",
   "execution_count": null,
   "metadata": {},
   "outputs": [],
   "source": []
  },
  {
   "cell_type": "code",
   "execution_count": null,
   "metadata": {},
   "outputs": [],
   "source": []
  },
  {
   "cell_type": "code",
   "execution_count": null,
   "metadata": {},
   "outputs": [],
   "source": []
  },
  {
   "cell_type": "code",
   "execution_count": null,
   "metadata": {},
   "outputs": [],
   "source": []
  },
  {
   "cell_type": "markdown",
   "metadata": {},
   "source": [
    "## Building images automatically with Dockerfiles"
   ]
  },
  {
   "cell_type": "markdown",
   "metadata": {},
   "source": [
    "A Dockerfile is a text file that contains instructions for building an image. The\n",
    "Docker image builder executes the Dockerfile from top to bottom, and the instructions\n",
    "can configure or change anything about an image. Building images from\n",
    "Dockerfiles makes tasks like adding files to a container from your computer simple\n",
    "one-line instructions. Dockerfiles are the most common way to describe how to\n",
    "build a Docker image."
   ]
  },
  {
   "cell_type": "markdown",
   "metadata": {},
   "source": [
    "Once an\n",
    "image’s build is defined in code, it is simple to track changes in version control, share\n",
    "with team members, optimize, and secure."
   ]
  },
  {
   "cell_type": "markdown",
   "metadata": {},
   "source": [
    "### Packaging Git with a Dockerfile"
   ]
  },
  {
   "cell_type": "markdown",
   "metadata": {},
   "source": [
    "You\n",
    "should recognize many of the details and advantages of working with a Dockerfile as\n",
    "we translate the image build process from manual operations to code.\n",
    "First, create a new directory, and from that directory create a new file with your\n",
    "favorite text editor. Name the new file Dockerfile. Write the following five lines and\n",
    "then save the file:"
   ]
  },
  {
   "cell_type": "markdown",
   "metadata": {},
   "source": [
    "> Ustvarimo datoteko Dockerfile"
   ]
  },
  {
   "cell_type": "markdown",
   "metadata": {},
   "source": [
    "    # An example Dockerfile for installing Git on Ubuntu\n",
    "    FROM ubuntu:latest\n",
    "    LABEL maintainer=\"leon@ltfe.org\"\n",
    "    RUN apt-get update && apt-get install -y git\n",
    "    ENTRYPOINT [\"git\"]"
   ]
  },
  {
   "cell_type": "markdown",
   "metadata": {},
   "source": [
    "Before dissecting this example, build a new image from it with the docker image\n",
    "build command from the same directory containing the Dockerfile and tag the\n",
    "image with auto:"
   ]
  },
  {
   "cell_type": "markdown",
   "metadata": {},
   "source": [
    "    docker image build --tag ubuntu-git:auto ."
   ]
  },
  {
   "cell_type": "markdown",
   "metadata": {},
   "source": [
    "This outputs several lines about steps and output from apt-get, and will finally display\n",
    "a message like this:"
   ]
  },
  {
   "cell_type": "markdown",
   "metadata": {},
   "source": [
    "    Successfully built cc63aeb7a5a2\n",
    "    Successfully tagged ubuntu-git:auto"
   ]
  },
  {
   "cell_type": "markdown",
   "metadata": {},
   "source": [
    "Running this command starts the build process. When it’s completed, you should\n",
    "have a brand-new image that you can test. View the list of all your ubuntu-git images\n",
    "and test the newest one with this command:"
   ]
  },
  {
   "cell_type": "markdown",
   "metadata": {},
   "source": [
    "    docker image ls"
   ]
  },
  {
   "cell_type": "markdown",
   "metadata": {},
   "source": [
    "Now you can run a Git command using the new image:"
   ]
  },
  {
   "cell_type": "markdown",
   "metadata": {},
   "source": [
    "    docker container run --rm ubuntu-git:auto"
   ]
  },
  {
   "cell_type": "markdown",
   "metadata": {},
   "source": [
    "These commands demonstrate that the image you built with the Dockerfile works and\n",
    "is functionally equivalent to the one you built by hand. Examine what you did to\n",
    "accomplish this:"
   ]
  },
  {
   "cell_type": "markdown",
   "metadata": {},
   "source": [
    "First, you created a Dockerfile with four instructions:\n",
    "- `FROM ubuntu:latest` — Tells Docker to start from the latest Ubuntu image just as\n",
    "you did when creating the image manually.\n",
    "-  `LABEL maintainer` — Sets the maintainer name and email for the image. Providing\n",
    "this information helps people know whom to contact if there’s a problem\n",
    "with the image. This was accomplished earlier when you invoked commit.\n",
    "- `RUN apt-get update && apt-get install -y git` — Tells the builder to run the\n",
    "provided commands to install Git.\n",
    "- `ENTRYPOINT [\"git\"]` — Sets the entrypoint for the image to git."
   ]
  },
  {
   "cell_type": "markdown",
   "metadata": {},
   "source": [
    "Dockerfiles, like most scripts, can include comments. Any line beginning with a # will\n",
    "be ignored by the builder."
   ]
  },
  {
   "cell_type": "markdown",
   "metadata": {},
   "source": [
    "It’s important for Dockerfiles of any complexity to be welldocumented.\n",
    "In addition to improving Dockerfile maintainability, comments help\n",
    "people audit images that they’re considering for adoption and spread best practices.\n",
    "\n",
    "The only special rule about Dockerfiles is that the first instruction must be FROM. If\n",
    "you’re starting from an empty image and your software has no dependencies, or you’ll\n",
    "provide all the dependencies, then you can start from a special empty repository\n",
    "named scratch."
   ]
  },
  {
   "cell_type": "markdown",
   "metadata": {},
   "source": [
    "After you saved the Dockerfile, you started the build process by invoking the docker\n",
    "image build command. The command had one flag set and one argument. The --tag\n",
    "flag (or -t for short) specifies the full repository designation that you want to use for the\n",
    "resulting image. In this case, you used ubuntu-git:auto. The argument that you\n",
    "included at the end was a single period. That argument told the builder the location of\n",
    "the Dockerfile. The period told it to look for the file in the current directory."
   ]
  },
  {
   "cell_type": "markdown",
   "metadata": {},
   "source": [
    "The docker image build command has another flag, --file (or -f for short), that\n",
    "lets you set the name of the Dockerfile. Dockerfile is the default, but with this flag\n",
    "you could tell the builder to look for a file named BuildScript or release-image.df.\n",
    "This flag sets only the name of the file, not the location. That must always be specified\n",
    "in the location argument."
   ]
  },
  {
   "cell_type": "markdown",
   "metadata": {},
   "source": [
    "The builder works by automating the same tasks that you’d use to create images by\n",
    "hand. Each instruction triggers the creation of a new container with the specified\n",
    "modification. After the modification has been made, the builder commits the layer\n",
    "and moves on to the next instruction and container created from the fresh layer.\n",
    "\n",
    "The builder validated that the image specified by the FROM instruction was installed\n",
    "as the first step of the build. If it were not, Docker would have automatically tried to\n",
    "pull the image."
   ]
  },
  {
   "cell_type": "markdown",
   "metadata": {},
   "source": [
    "Installing software packages is one of the most common use cases\n",
    "for the RUN instruction. You should explicitly install each software package needed by\n",
    "your container to ensure that it is available when needed."
   ]
  },
  {
   "cell_type": "markdown",
   "metadata": {},
   "source": [
    "If you’re not interested in reams of build process output, you can invoke the\n",
    "docker image build command with the --quiet or -q flag. Running in quiet mode\n",
    "will suppress all output from the build process and management of intermediate containers.\n",
    "The only output of the build process in quiet mode is the resulting image ID,\n",
    "which looks like this:"
   ]
  },
  {
   "cell_type": "markdown",
   "metadata": {},
   "source": [
    "A new layer is being added to the resulting image after each step in the build.\n",
    "Although this means you could potentially branch on any of these steps, the more\n",
    "important implication is that the builder can aggressively cache the results of each\n",
    "step. If a problem with the build script occurs after several other steps, the builder can\n",
    "restart from the same position after the problem has been fixed."
   ]
  },
  {
   "cell_type": "markdown",
   "metadata": {},
   "source": [
    "Add this line to the end of your Dockerfile:\n",
    "    \n",
    "    RUN This will not work\n",
    "\n",
    "Then run the build again:\n",
    "    \n",
    "    docker image build --tag ubuntu-git:auto ."
   ]
  },
  {
   "cell_type": "markdown",
   "metadata": {},
   "source": [
    "Steps 1 through 4 were skipped because they were already built during your last build.\n",
    "Step 5 failed because there’s no program with the name This in the container. The\n",
    "container output was valuable in this case because the error message informs you\n",
    "about the specific problem with the Dockerfile. If you fix the problem, the same steps\n",
    "will be skipped again, and the build will succeed, resulting in output like Successfully\n",
    "built d7a8ee0cebd4."
   ]
  },
  {
   "cell_type": "markdown",
   "metadata": {},
   "source": [
    "The use of caching during the build can save time if the build includes downloading\n",
    "material, compiling programs, or anything else that is time-intensive. If you need a\n",
    "full rebuild, you can use the --no-cache flag on docker image build to disable the\n",
    "use of the cache. Make sure you’re disabling the cache only when required because it\n",
    "will place much more strain on upstream source systems and image-building systems."
   ]
  },
  {
   "cell_type": "markdown",
   "metadata": {},
   "source": [
    "### A Dockerfile primer"
   ]
  },
  {
   "cell_type": "markdown",
   "metadata": {},
   "source": [
    "Dockerfiles are expressive and easy to understand because of their terse syntax that\n",
    "allows for comments. You can keep track of changes to Dockerfiles with any versioncontrol\n",
    "system. Maintaining multiple versions of an image is as simple as maintaining multiple Dockerfiles."
   ]
  },
  {
   "cell_type": "markdown",
   "metadata": {},
   "source": [
    "The Dockerfile build process itself uses extensive caching to aid\n",
    "rapid development and iteration. The builds are traceable and reproducible. They\n",
    "integrate easily with existing build systems and many continuous integration tools.\n",
    "With all these reasons to prefer Dockerfile builds to handmade images, it’s important\n",
    "to learn how to write them."
   ]
  },
  {
   "cell_type": "markdown",
   "metadata": {},
   "source": [
    "#### Metadata instructions"
   ]
  },
  {
   "cell_type": "markdown",
   "metadata": {},
   "source": [
    "The first example builds a base image and two other images with distinct versions of\n",
    "the mailer program you used in chapter 2. The purpose of the program is to listen for\n",
    "messages on a TCP port and then send those messages to their intended recipients.\n",
    "The first version of the mailer will listen for messages but only log those messages. The\n",
    "second will send the message as an HTTP POST to the defined URL.\n",
    "\n",
    "One of the best reasons to use Dockerfile builds is that they simplify copying files\n",
    "from your computer into an image. But it’s not always appropriate for certain files to\n",
    "be copied to images. The first thing to do when starting a new project is to define\n",
    "which files should never be copied into any images. You can do this in a file called\n",
    ".dockerignore. In this example, you’ll create three Dockerfiles, and none needs to be\n",
    "copied into the resulting images."
   ]
  },
  {
   "cell_type": "markdown",
   "metadata": {},
   "source": [
    "Use your favorite text editor to create a new file named .dockerignore and copy in\n",
    "the following lines:\n",
    "    \n",
    "    .dockerignore\n",
    "    mailer-base.df\n",
    "    mailer-logging.df\n",
    "    mailer-live.df"
   ]
  },
  {
   "cell_type": "markdown",
   "metadata": {},
   "source": [
    "Save and close the file when you’re finished. This will prevent the .dockerignore file,\n",
    "or files named mailer-base.df, mailer-logging.df, or mailer-live.df, from ever being\n",
    "copied into an image during a build. With that bit of accounting finished, you can\n",
    "begin working on the base image."
   ]
  },
  {
   "cell_type": "markdown",
   "metadata": {},
   "source": [
    "Building a base image helps create common layers. Each version of the mailer will\n",
    "be built on top of an image called mailer-base. When you create a Dockerfile, you\n",
    "need to keep in mind that each Dockerfile instruction will result in a new layer being\n",
    "created. Instructions should be combined whenever possible because the builder\n",
    "won’t perform any optimization. Putting this in practice, create a new file named\n",
    "mailer-base.df and add the following lines:"
   ]
  },
  {
   "cell_type": "markdown",
   "metadata": {},
   "source": [
    "```Dockerfile    \n",
    "FROM debian:buster-20190910\n",
    "LABEL maintainer=\"dia@allingeek.com\"\n",
    "RUN groupadd -r -g 2200 example && \\\n",
    "    useradd -rM -g example -u 2200 example\n",
    "ENV APPROOT=\"/app\" \\\n",
    "    APP=\"mailer.sh\" \\\n",
    "    VERSION=\"0.6\"\n",
    "LABEL base.name=\"Mailer Archetype\" \\\n",
    "    base.version=\"${VERSION}\"\n",
    "WORKDIR $APPROOT\n",
    "ADD . $APPROOT\n",
    "ENTRYPOINT [\"/app/mailer.sh\"]\n",
    "EXPOSE 33333\n",
    "# Do not set the default user in the base otherwise\n",
    "# implementations will not be able to update the image\n",
    "# USER example:example\n",
    "```"
   ]
  },
  {
   "cell_type": "markdown",
   "metadata": {},
   "source": [
    "Put it all together by running the docker image build command from the directory\n",
    "where the mailer-base file is located. The -f flag tells the builder which filename to\n",
    "use as input:"
   ]
  },
  {
   "cell_type": "markdown",
   "metadata": {},
   "source": [
    "    docker image build -t dockerinaction/mailer-base:0.6 -f mailer-base.df ."
   ]
  },
  {
   "cell_type": "markdown",
   "metadata": {},
   "source": [
    "Five new instructions are introduced in this Dockerfile. The first new instruction is\n",
    "ENV. ENV sets environment variables for an image, similar to the --env flag on docker\n",
    "container run or docker container create. In this case, a single ENV instruction is\n",
    "used to set three distinct environment variables. That could have been accomplished\n",
    "with three subsequent ENV instructions, though doing so would result in the creation\n",
    "of three layers. You can keep instructions easy to read by using a backslash to escape\n",
    "the newline character (just as in shell scripting)."
   ]
  },
  {
   "cell_type": "markdown",
   "metadata": {},
   "source": [
    "Environment variables declared in the Dockerfile are made available to the resulting\n",
    "image but can be used in other Dockerfile instructions as substitutions. In this Dockerfile,\n",
    "the environment variable VERSION was used as a substitution in the next new\n",
    "instruction, LABEL."
   ]
  },
  {
   "cell_type": "markdown",
   "metadata": {},
   "source": [
    "The LABEL instruction is used to define key/value pairs that are recorded as additional\n",
    "metadata for an image or container. This mirrors the --label flag on docker run and\n",
    "docker create. Like the ENV instruction before it, multiple labels can and should be\n",
    "set with a single instruction. In this case, the value of the VERSION environment variable\n",
    "was substituted for the value of the base.version label. By using an environment\n",
    "variable in this way, the value of VERSION will be available to processes running inside a\n",
    "container as well as recorded to an appropriate label. This increases maintainability of\n",
    "the Dockerfile because it’s more difficult to make inconsistent changes when the valueis\n",
    "set in a single location."
   ]
  },
  {
   "cell_type": "markdown",
   "metadata": {},
   "source": [
    "The next two instructions are WORKDIR and EXPOSE. These are similar in operation to\n",
    "their corresponding flags on the docker run and docker create commands. An environment\n",
    "variable was substituted for the argument to the WORKDIR command."
   ]
  },
  {
   "cell_type": "markdown",
   "metadata": {},
   "source": [
    "The result of the WORKDIR instruction will be an image with the default working directory\n",
    "set to /app. Setting WORKDIR to a location that doesn’t exist will create that location\n",
    "just as it would with the command-line option. Last, the EXPOSE command creates\n",
    "a layer that opens TCP port 33333."
   ]
  },
  {
   "cell_type": "markdown",
   "metadata": {},
   "source": [
    "The parts of this Dockerfile that you should recognize are the FROM, LABEL, and\n",
    "ENTRYPOINT instructions. In brief, the FROM instruction sets the layer stack to start from\n",
    "the debian:buster-20190910 image. Any new layers built will be placed on top of that\n",
    "image. The LABEL instruction adds key/value pairs to the image’s metadata. The\n",
    "ENTRYPOINT instruction sets the executable to run at container startup. Here, it’s setting\n",
    "the instruction to exec ./mailer.sh and using the shell form of the instruction."
   ]
  },
  {
   "cell_type": "markdown",
   "metadata": {},
   "source": [
    "The ENTRYPOINT instruction has two forms: the shell form and an exec form. The\n",
    "shell form looks like a shell command with whitespace-delimited arguments. The exec\n",
    "form is a string array in which the first value is the command to execute and the\n",
    "remaining values are arguments. A command specified using the shell form would be\n",
    "executed as an argument to the default shell. Specifically, the command used in this\n",
    "Dockerfile will be executed as /bin/sh –c 'exec ./mailer.sh' at runtime. Most\n",
    "importantly, if the shell form is used for ENTRYPOINT, all other arguments provided by\n",
    "the CMD instruction or at runtime as extra arguments to docker container run will be\n",
    "ignored. This makes the shell form of ENTRYPOINT less flexible."
   ]
  },
  {
   "cell_type": "markdown",
   "metadata": {},
   "source": [
    "You can see from the build output that the ENV and LABEL instructions each resulted\n",
    "in a single step and layer. But the output doesn’t show that the environment variable values\n",
    "were substituted correctly. To verify that, you’ll need to inspect the image:"
   ]
  },
  {
   "cell_type": "markdown",
   "metadata": {},
   "source": [
    "    docker inspect dockerinaction/mailer-base:0.6"
   ]
  },
  {
   "cell_type": "markdown",
   "metadata": {},
   "source": [
    "> Remember, the docker inspect command can be used to view the metadata\n",
    "of either a container or an image. In this case, you used it to inspect an\n",
    "image."
   ]
  },
  {
   "cell_type": "markdown",
   "metadata": {},
   "source": [
    "The metadata makes it clear that the environment variable substitution works. You can\n",
    "use this form of substitution in the ENV, ADD, COPY, LABEL, WORKDIR, VOLUME, EXPOSE,\n",
    "and USER instructions."
   ]
  },
  {
   "cell_type": "markdown",
   "metadata": {},
   "source": [
    "The last commented line is a metadata instruction, USER. It sets the user and group\n",
    "for all further build steps and containers created from the image. In this case, setting\n",
    "it in a base image would prevent any downstream Dockerfiles from installing software.\n",
    "That would mean that those Dockerfiles would need to flip the default back and forth\n",
    "for permission. Doing so would create at least two additional layers. The better\n",
    "approach would be to set up the user and group accounts in the base image and let\n",
    "the implementations set the default user when they’ve finished building.\n",
    "\n",
    "The most curious thing about this Dockerfile is that the ENTRYPOINT is set to a file\n",
    "that doesn’t exist. The entrypoint will fail when you try to run a container from this\n",
    "base image. But now that the entrypoint is set in the base image, that’s one less layer\n",
    "that will need to be duplicated for specific implementations of the mailer. The next\n",
    "two Dockerfiles build different mailer.sh implementations."
   ]
  },
  {
   "cell_type": "markdown",
   "metadata": {},
   "source": [
    "#### Filesystem instructions"
   ]
  },
  {
   "cell_type": "code",
   "execution_count": null,
   "metadata": {},
   "outputs": [],
   "source": []
  },
  {
   "cell_type": "code",
   "execution_count": null,
   "metadata": {},
   "outputs": [],
   "source": []
  },
  {
   "cell_type": "code",
   "execution_count": null,
   "metadata": {},
   "outputs": [],
   "source": []
  },
  {
   "cell_type": "code",
   "execution_count": null,
   "metadata": {},
   "outputs": [],
   "source": []
  },
  {
   "cell_type": "code",
   "execution_count": null,
   "metadata": {},
   "outputs": [],
   "source": []
  },
  {
   "cell_type": "code",
   "execution_count": null,
   "metadata": {},
   "outputs": [],
   "source": []
  },
  {
   "cell_type": "code",
   "execution_count": null,
   "metadata": {},
   "outputs": [],
   "source": []
  },
  {
   "cell_type": "code",
   "execution_count": null,
   "metadata": {},
   "outputs": [],
   "source": []
  },
  {
   "cell_type": "code",
   "execution_count": null,
   "metadata": {},
   "outputs": [],
   "source": []
  },
  {
   "cell_type": "code",
   "execution_count": null,
   "metadata": {},
   "outputs": [],
   "source": []
  },
  {
   "cell_type": "code",
   "execution_count": null,
   "metadata": {},
   "outputs": [],
   "source": []
  },
  {
   "cell_type": "code",
   "execution_count": null,
   "metadata": {},
   "outputs": [],
   "source": []
  },
  {
   "cell_type": "code",
   "execution_count": null,
   "metadata": {},
   "outputs": [],
   "source": []
  },
  {
   "cell_type": "code",
   "execution_count": null,
   "metadata": {},
   "outputs": [],
   "source": []
  },
  {
   "cell_type": "code",
   "execution_count": null,
   "metadata": {},
   "outputs": [],
   "source": []
  },
  {
   "cell_type": "code",
   "execution_count": null,
   "metadata": {},
   "outputs": [],
   "source": []
  },
  {
   "cell_type": "code",
   "execution_count": null,
   "metadata": {},
   "outputs": [],
   "source": []
  },
  {
   "cell_type": "markdown",
   "metadata": {},
   "source": [
    "## Best practices for writing Dockerfiles"
   ]
  },
  {
   "cell_type": "code",
   "execution_count": null,
   "metadata": {},
   "outputs": [],
   "source": [
    "https://docs.docker.com/develop/develop-images/dockerfile_best-practices/\n",
    "    "
   ]
  },
  {
   "cell_type": "code",
   "execution_count": null,
   "metadata": {},
   "outputs": [],
   "source": []
  },
  {
   "cell_type": "code",
   "execution_count": null,
   "metadata": {},
   "outputs": [],
   "source": []
  },
  {
   "cell_type": "code",
   "execution_count": null,
   "metadata": {},
   "outputs": [],
   "source": []
  },
  {
   "cell_type": "code",
   "execution_count": null,
   "metadata": {},
   "outputs": [],
   "source": []
  }
 ],
 "metadata": {
  "kernelspec": {
   "display_name": "Python 3",
   "language": "python",
   "name": "python3"
  },
  "language_info": {
   "codemirror_mode": {
    "name": "ipython",
    "version": 3
   },
   "file_extension": ".py",
   "mimetype": "text/x-python",
   "name": "python",
   "nbconvert_exporter": "python",
   "pygments_lexer": "ipython3",
   "version": "3.7.3"
  }
 },
 "nbformat": 4,
 "nbformat_minor": 2
}
