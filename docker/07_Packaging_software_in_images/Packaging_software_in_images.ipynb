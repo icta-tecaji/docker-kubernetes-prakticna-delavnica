{
 "cells": [
  {
   "cell_type": "markdown",
   "metadata": {},
   "source": [
    "# Packaging software in images"
   ]
  },
  {
   "cell_type": "markdown",
   "metadata": {},
   "source": [
    "You can create a Docker image by either modifying an existing image inside a\n",
    "container or defining and executing a build script called a Dockerfile."
   ]
  },
  {
   "cell_type": "markdown",
   "metadata": {},
   "source": [
    "## Building Docker images from a container"
   ]
  },
  {
   "cell_type": "markdown",
   "metadata": {},
   "source": [
    "It’s easy to get started building images if you’re already familiar with using containers.\n",
    "Remember, a union filesystem (UFS) mount provides a container’s filesystem. Any changes\n",
    "that you make to the filesystem inside a container will be written as new layers owned\n",
    "by the container that created them.\n",
    "\n",
    "Before you work with real software, the next section details the typical workflow\n",
    "with a “Hello, World” example."
   ]
  },
  {
   "cell_type": "markdown",
   "metadata": {},
   "source": [
    "### Packaging “Hello, World”"
   ]
  },
  {
   "cell_type": "markdown",
   "metadata": {},
   "source": [
    "The basic workflow for building an image from a container includes three steps. \n",
    "\n",
    "1. First, you create a container from an existing image. You choose the image based on what\n",
    "you want to be included with the new finished image and the tools you need to make\n",
    "the changes.\n",
    "2. The second step is to modify the filesystem of the container. These changes will be\n",
    "written to a new layer of the container’s union filesystem. We’ll revisit the relationship\n",
    "between images, layers, and repositories later in this chapter.\n",
    "\n",
    "3. Once the changes have been made, the last step is to commit those changes. Then\n",
    "you’ll be able to create new containers from the resulting image. "
   ]
  },
  {
   "cell_type": "markdown",
   "metadata": {},
   "source": [
    "With these steps in mind, work through the following commands to create a new image\n",
    "named hw_image:"
   ]
  },
  {
   "cell_type": "markdown",
   "metadata": {},
   "source": [
    "Modifies file in container:\n",
    "\n",
    "    docker container run --name hw_container \\\n",
    "            ubuntu:latest \\\n",
    "            touch /HelloWorld\n"
   ]
  },
  {
   "cell_type": "markdown",
   "metadata": {},
   "source": [
    "    docker ps -a"
   ]
  },
  {
   "cell_type": "markdown",
   "metadata": {},
   "source": [
    "Commits change to new image:"
   ]
  },
  {
   "cell_type": "markdown",
   "metadata": {},
   "source": [
    "    docker image ls\n",
    "    docker container commit hw_container hw_image\n",
    "    docker image ls"
   ]
  },
  {
   "cell_type": "markdown",
   "metadata": {},
   "source": [
    "Removes changed container\n",
    "\n",
    "    docker container rm -vf hw_container"
   ]
  },
  {
   "cell_type": "markdown",
   "metadata": {},
   "source": [
    "Examines file in new container\n",
    "\n",
    "    docker container run --rm \\\n",
    "        hw_image \\\n",
    "        ls -l /HelloWorld"
   ]
  },
  {
   "cell_type": "markdown",
   "metadata": {},
   "source": [
    "If that seems stunningly simple, you should know that it does become a bit more\n",
    "nuanced as the images you produce become more sophisticated, but the basic steps\n",
    "will always be the same. Now that you have an idea of the workflow, you should try to\n",
    "build a new image with real software. In this case, you’ll be packaging a program\n",
    "called Git."
   ]
  },
  {
   "cell_type": "markdown",
   "metadata": {},
   "source": [
    "## Primer: NodeJS App"
   ]
  },
  {
   "cell_type": "markdown",
   "metadata": {},
   "source": [
    "Naredimo mapo `simpleweb`"
   ]
  },
  {
   "cell_type": "markdown",
   "metadata": {},
   "source": [
    "- Naredimo package.json in index.js"
   ]
  },
  {
   "cell_type": "markdown",
   "metadata": {},
   "source": [
    "```json\n",
    "{\n",
    "  \"dependencies\": {\n",
    "    \"express\": \"*\"\n",
    "  },\n",
    "  \"scripts\": {\n",
    "    \"start\": \"node index.js\"\n",
    "  }\n",
    "}\n",
    "\n",
    "```"
   ]
  },
  {
   "cell_type": "markdown",
   "metadata": {},
   "source": [
    "```javascript\n",
    "const express = require(\"express\");\n",
    "\n",
    "const app = express();\n",
    "\n",
    "app.get(\"/\", (req, res) => {\n",
    "  res.send(\"How are you doing\");\n",
    "});\n",
    "\n",
    "app.listen(8080, () => {\n",
    "  console.log(\"Listening on port 8080\");\n",
    "});\n",
    "\n",
    "\n",
    "\n",
    "```"
   ]
  },
  {
   "cell_type": "markdown",
   "metadata": {},
   "source": [
    "Začnemo delat Dockerfile"
   ]
  },
  {
   "cell_type": "markdown",
   "metadata": {},
   "source": [
    "```Dockerfile\n",
    "# Specify a base image\n",
    "FROM node:alpine\n",
    "\n",
    "WORKDIR /usr/app\n",
    "\n",
    "# Install some depenendencies\n",
    "COPY ./package.json ./\n",
    "RUN npm install\n",
    "COPY ./ ./\n",
    "\n",
    "EXPOSE 8080\n",
    "\n",
    "# Default command\n",
    "ENTRYPOINT [\"npm\", \"start\"]\n",
    "```"
   ]
  },
  {
   "cell_type": "markdown",
   "metadata": {},
   "source": [
    "- pokažemo kako dobimo node:alpine sliko, pa tage razložimo\n",
    "- napišemo ukaz za zagon\n",
    "- pokažemo najprej brez kopiranja datotek, pa vidimo da manjkajo\n",
    "- workdir -> da ne bo v rootu, da ne overwrita kakšne druge sistemske mape\n",
    "- dva copy-ja da ni potrebno rebildat vsega vsakič ko spremenimo aplikaicjo, če ne spremnimo odvisnosti"
   ]
  },
  {
   "cell_type": "markdown",
   "metadata": {},
   "source": [
    "https://docs.docker.com/engine/reference/builder/#understand-how-cmd-and-entrypoint-interact"
   ]
  },
  {
   "cell_type": "markdown",
   "metadata": {},
   "source": [
    "Zgradimo sliko:\n",
    "    \n",
    "    docker build -t leon11sj/simpleweb . \n",
    "    docker run --rm leon11sj/simpleweb"
   ]
  },
  {
   "cell_type": "markdown",
   "metadata": {},
   "source": [
    "Zaženemo brskalnik, probamo ugotoviti zakaj ne dela?"
   ]
  },
  {
   "cell_type": "markdown",
   "metadata": {},
   "source": [
    "Ponovimo z port mappingom"
   ]
  },
  {
   "cell_type": "markdown",
   "metadata": {},
   "source": [
    "    docker run --rm -p 80:8080 leon11sj/simpleweb"
   ]
  },
  {
   "cell_type": "markdown",
   "metadata": {},
   "source": [
    "## Building images automatically with Dockerfiles"
   ]
  },
  {
   "cell_type": "markdown",
   "metadata": {},
   "source": [
    "**A Dockerfile is a text file that defines a Docker image. You’ll use a Dockerfile to create your own custom Docker image, in other words to define your custom environment to be used in a Docker container.**"
   ]
  },
  {
   "cell_type": "markdown",
   "metadata": {},
   "source": [
    "1. The Dockerfile is a text file that (mostly) contains the instructions that you would execute on the command line to create an image.\n",
    "2. A Dockerfile is a step by step set of instructions.\n",
    "3. Docker provides a set of standard instructions to be used in the Dockerfile, like FROM, COPY, RUN, ENV, EXPOSE, CMD just to name a few basic ones.\n",
    "4. Docker will build a Docker image automatically by reading these instructions from the Dockerfile."
   ]
  },
  {
   "cell_type": "markdown",
   "metadata": {},
   "source": [
    "This also implies that understanding Dockerfile instructions is not enough to create your Dockerfile, because **you need to also understand the context of the technology** you are building for."
   ]
  },
  {
   "cell_type": "markdown",
   "metadata": {},
   "source": [
    "A Dockerfile is a text file that contains instructions for building an image. The\n",
    "Docker image builder executes the Dockerfile from top to bottom, and the instructions\n",
    "can configure or change anything about an image. Building images from\n",
    "Dockerfiles makes tasks like adding files to a container from your computer simple\n",
    "one-line instructions. Dockerfiles are the most common way to describe how to\n",
    "build a Docker image."
   ]
  },
  {
   "cell_type": "markdown",
   "metadata": {},
   "source": [
    "Once an\n",
    "image’s build is defined in code, it is simple to track changes in version control, share\n",
    "with team members, optimize, and secure."
   ]
  },
  {
   "cell_type": "markdown",
   "metadata": {},
   "source": [
    "### Packaging Git with a Dockerfile"
   ]
  },
  {
   "cell_type": "markdown",
   "metadata": {},
   "source": [
    "You\n",
    "should recognize many of the details and advantages of working with a Dockerfile as\n",
    "we translate the image build process from manual operations to code.\n",
    "First, create a new directory, and from that directory create a new file with your\n",
    "favorite text editor. Name the new file Dockerfile. Write the following five lines and\n",
    "then save the file:"
   ]
  },
  {
   "cell_type": "markdown",
   "metadata": {},
   "source": [
    "> Ustvarimo datoteko Dockerfile"
   ]
  },
  {
   "cell_type": "markdown",
   "metadata": {},
   "source": [
    "    # An example Dockerfile for installing Git on Ubuntu\n",
    "    FROM ubuntu:latest\n",
    "    LABEL maintainer=\"leon@ltfe.org\"\n",
    "    RUN apt-get update && apt-get install -y git\n",
    "    ENTRYPOINT [\"git\"]"
   ]
  },
  {
   "cell_type": "markdown",
   "metadata": {},
   "source": [
    "Before dissecting this example, build a new image from it with the docker image\n",
    "build command from the same directory containing the Dockerfile and tag the\n",
    "image with auto:"
   ]
  },
  {
   "cell_type": "markdown",
   "metadata": {},
   "source": [
    "    docker image build --tag ubuntu-git:auto ."
   ]
  },
  {
   "cell_type": "markdown",
   "metadata": {},
   "source": [
    "This outputs several lines about steps and output from apt-get, and will finally display\n",
    "a message like this:"
   ]
  },
  {
   "cell_type": "markdown",
   "metadata": {},
   "source": [
    "    Successfully built cc63aeb7a5a2\n",
    "    Successfully tagged ubuntu-git:auto"
   ]
  },
  {
   "cell_type": "markdown",
   "metadata": {},
   "source": [
    "Running this command starts the build process. When it’s completed, you should\n",
    "have a brand-new image that you can test. View the list of all your ubuntu-git images\n",
    "and test the newest one with this command:"
   ]
  },
  {
   "cell_type": "markdown",
   "metadata": {},
   "source": [
    "    docker image ls"
   ]
  },
  {
   "cell_type": "markdown",
   "metadata": {},
   "source": [
    "Now you can run a Git command using the new image:"
   ]
  },
  {
   "cell_type": "markdown",
   "metadata": {},
   "source": [
    "    docker container run --rm ubuntu-git:auto"
   ]
  },
  {
   "cell_type": "markdown",
   "metadata": {},
   "source": [
    "These commands demonstrate that the image you built with the Dockerfile works and\n",
    "is functionally equivalent to the one you built by hand. Examine what you did to\n",
    "accomplish this:"
   ]
  },
  {
   "cell_type": "markdown",
   "metadata": {},
   "source": [
    "First, you created a Dockerfile with four instructions:\n",
    "- `FROM ubuntu:latest` — Tells Docker to start from the latest Ubuntu image just as\n",
    "you did when creating the image manually.\n",
    "-  `LABEL maintainer` — Sets the maintainer name and email for the image. Providing\n",
    "this information helps people know whom to contact if there’s a problem\n",
    "with the image. This was accomplished earlier when you invoked commit.\n",
    "- `RUN apt-get update && apt-get install -y git` — Tells the builder to run the\n",
    "provided commands to install Git.\n",
    "- `ENTRYPOINT [\"git\"]` — Sets the entrypoint for the image to git."
   ]
  },
  {
   "cell_type": "markdown",
   "metadata": {},
   "source": [
    "Dockerfiles, like most scripts, can include comments. Any line beginning with a # will\n",
    "be ignored by the builder."
   ]
  },
  {
   "cell_type": "markdown",
   "metadata": {},
   "source": [
    "It’s important for Dockerfiles of any complexity to be **welldocumented**.\n",
    "In addition to improving Dockerfile maintainability, comments help\n",
    "people audit images that they’re considering for adoption and spread best practices.\n",
    "\n",
    "The only special rule about Dockerfiles is that the **first instruction must be FROM**. If\n",
    "you’re starting from an empty image and your software has no dependencies, or you’ll\n",
    "provide all the dependencies, then you can start from a special empty repository\n",
    "named scratch."
   ]
  },
  {
   "cell_type": "markdown",
   "metadata": {},
   "source": [
    "After you saved the Dockerfile, **you started the build process** by invoking the `docker image build` command. The command had one flag set and one argument. The `--tag`\n",
    "flag (or -t for short) specifies the **full repository designation that you want to use for the\n",
    "resulting image.** In this case, you used ubuntu-git:auto. The argument that you\n",
    "included at the end was a single period. That argument told the builder the location of\n",
    "the Dockerfile. The period told it to look for the file in the current directory."
   ]
  },
  {
   "cell_type": "markdown",
   "metadata": {},
   "source": [
    "The docker image build command has another flag, `--file` (or -f for short), that\n",
    "lets you **set the name of the Dockerfile**. Dockerfile is the default, but with this flag\n",
    "you could tell the builder to look for a file named BuildScript or release-image.df.\n",
    "This flag sets only the name of the file, not the location. That must always be specified\n",
    "in the location argument."
   ]
  },
  {
   "cell_type": "markdown",
   "metadata": {},
   "source": [
    "The builder works by automating the same tasks that you’d use to create images by\n",
    "hand. Each instruction triggers the creation of a new container with the specified\n",
    "modification. After the modification has been made, **the builder commits the layer\n",
    "and moves on to the next instruction and container created from the fresh layer**.\n",
    "\n",
    "The builder validated that the image specified by the FROM instruction was installed\n",
    "as the first step of the build. If it were not, Docker would have automatically tried to\n",
    "pull the image."
   ]
  },
  {
   "cell_type": "markdown",
   "metadata": {},
   "source": [
    "**Installing software packages is one of the most common use cases\n",
    "for the RUN instruction**. You should explicitly install each software package needed by\n",
    "your container to ensure that it is available when needed."
   ]
  },
  {
   "cell_type": "markdown",
   "metadata": {},
   "source": [
    "If you’re not interested in reams of build process output, you can invoke the\n",
    "docker image build command with the --quiet or -q flag. Running in quiet mode\n",
    "will suppress all output from the build process and management of intermediate containers.\n",
    "The only output of the build process in quiet mode is the resulting image ID,\n",
    "which looks like this:"
   ]
  },
  {
   "cell_type": "markdown",
   "metadata": {},
   "source": [
    "    sha256:e397ecfd576c83a1e49875477dcac50071e1c71f76f1d0c8d371ac74d97bbc90"
   ]
  },
  {
   "cell_type": "markdown",
   "metadata": {},
   "source": [
    "Although this third step to install Git usually takes much longer to complete, you can\n",
    "see the instruction and input as well as the ID of the container where the command\n",
    "was run and the ID of the resulting layer. Finally, the ENTRYPOINT instruction performs\n",
    "all the same steps, and the output is similarly unsurprising:\n",
    "    \n",
    "    Step 4/4 : ENTRYPOINT [\"git\"]\n",
    "    ---> Running in 6151803c388a\n",
    "    Removing intermediate container 6151803c388a\n",
    "    ---> e397ecfd576c\n",
    "    Successfully built e397ecfd576c\n",
    "    Successfully tagged ubuntu-git:auto"
   ]
  },
  {
   "cell_type": "markdown",
   "metadata": {},
   "source": [
    "**A new layer is being added to the resulting image after each step in the build.**\n",
    "Although this means you could potentially branch on any of these steps, the more\n",
    "important implication is that the builder can aggressively cache the results of each\n",
    "step. If a problem with the build script occurs after several other steps, the builder can\n",
    "restart from the same position after the problem has been fixed."
   ]
  },
  {
   "cell_type": "markdown",
   "metadata": {},
   "source": [
    "Add this line to the end of your Dockerfile:\n",
    "    \n",
    "    RUN This will not work\n",
    "\n",
    "Then run the build again:\n",
    "    \n",
    "    docker image build --tag ubuntu-git:auto ."
   ]
  },
  {
   "cell_type": "markdown",
   "metadata": {},
   "source": [
    "> Note use of cache."
   ]
  },
  {
   "cell_type": "markdown",
   "metadata": {},
   "source": [
    "Steps 1 through 4 were skipped because they were already built during your last build.\n",
    "Step 5 failed because there’s no program with the name This in the container. The\n",
    "**container output was valuable in this case because the error message informs you\n",
    "about the specific problem with the Dockerfile**. If you fix the problem, the same steps\n",
    "will be skipped again, and the build will succeed, resulting in output like Successfully\n",
    "built d7a8ee0cebd4."
   ]
  },
  {
   "cell_type": "markdown",
   "metadata": {},
   "source": [
    "> Popravimo še enkrat, da deluje."
   ]
  },
  {
   "cell_type": "markdown",
   "metadata": {},
   "source": [
    "> What is more important that with every step in the build process Docker will create an intermediary image for the specific step."
   ]
  },
  {
   "cell_type": "markdown",
   "metadata": {},
   "source": [
    "The **use of caching during the build can save time if the build includes downloading\n",
    "material, compiling programs, or anything else that is time-intensive.** If you need a\n",
    "full rebuild, you can use the `--no-cache` flag on docker image build to disable the\n",
    "use of the cache. Make sure you’re disabling the cache only when required because it\n",
    "will place much more strain on upstream source systems and image-building systems."
   ]
  },
  {
   "cell_type": "markdown",
   "metadata": {},
   "source": [
    "> Please note that each layer only stores the differences compared to the underlying layer. The right interpretation is that docker images and docker images -a display the size of the image including the size of parent images."
   ]
  },
  {
   "cell_type": "markdown",
   "metadata": {},
   "source": [
    "### A Dockerfile primer"
   ]
  },
  {
   "cell_type": "markdown",
   "metadata": {},
   "source": [
    "Dockerfiles are expressive and easy to understand because of their terse syntax that\n",
    "allows for comments. You **can keep track of changes to Dockerfiles with any version control\n",
    "system**. Maintaining multiple versions of an image is as simple as maintaining multiple Dockerfiles."
   ]
  },
  {
   "cell_type": "markdown",
   "metadata": {},
   "source": [
    "The Dockerfile build process itself uses extensive caching to aid\n",
    "rapid development and iteration. The builds are traceable and reproducible. They\n",
    "integrate easily with existing build systems and many continuous integration tools.\n",
    "With all these reasons to prefer Dockerfile builds to handmade images, it’s important\n",
    "to learn how to write them."
   ]
  },
  {
   "cell_type": "markdown",
   "metadata": {},
   "source": [
    "#### .dockerignore"
   ]
  },
  {
   "cell_type": "markdown",
   "metadata": {},
   "source": [
    "The directory where you issue the docker build command is called the build context. Docker will send all of the files and directories in your build directory to the Docker daemon as part of the build context. If you have stuff in your directory that is not needed by your build, you’ll have an unnecessarily larger build context that results in a larger image size.\n",
    "\n",
    "You can remedy this situation by adding a .dockerignore file that works similarly to .gitignore. You can specify the list of folders and files that should be ignored in the build context."
   ]
  },
  {
   "cell_type": "markdown",
   "metadata": {},
   "source": [
    "One of the best reasons to use Dockerfile builds is that they simplify copying files from your computer into an image. But it’s not always appropriate for certain files to be copied to images. The first thing to do when starting a new project is to define which files should never be copied into any images. You can do this in a file called `.dockerignore`. In this example, you’ll create three Dockerfiles, and none needs to be copied into the resulting images."
   ]
  },
  {
   "cell_type": "markdown",
   "metadata": {},
   "source": [
    "    .dockerignore\n",
    "    Dockerfile"
   ]
  },
  {
   "cell_type": "markdown",
   "metadata": {},
   "source": [
    "Save and close the file when you’re finished. This will prevent the .dockerignore file, or files named Dockerfile, from ever being copied into an image during a build. With that bit of accounting finished, you can begin working on the base image."
   ]
  },
  {
   "cell_type": "markdown",
   "metadata": {},
   "source": [
    "#### FROM\n",
    "\n",
    "For beginners it’s enough to understand that **every Dockerfile must start with the FROM instruction in the form of FROM `<image>[:tag]`.** This will set the base image for your Dockerfile, which means that subsequent instructions will be applied to this base image.\n",
    "\n",
    "The tag value is optional, if **you don’t specify the tag Docker will use the tag latest and will try and use or pull the latest version of the base image during build.**\n"
   ]
  },
  {
   "cell_type": "markdown",
   "metadata": {},
   "source": [
    "```Dockerfile\n",
    "\n",
    "# pull official base image\n",
    "FROM python:3.8.1-slim-buster\n",
    "    \n",
    "   ```"
   ]
  },
  {
   "cell_type": "markdown",
   "metadata": {},
   "source": [
    "#### ENV"
   ]
  },
  {
   "cell_type": "markdown",
   "metadata": {},
   "source": [
    "Five new instructions are introduced in this Dockerfile. The first new instruction is\n",
    "ENV. ENV sets environment variables for an image, similar to the --env flag on docker\n",
    "container run or docker container create. In this case, a single ENV instruction is\n",
    "used to set three distinct environment variables. That could have been accomplished\n",
    "with three subsequent ENV instructions, though doing so would result in the creation\n",
    "of three layers. You can keep instructions easy to read by using a backslash to escape\n",
    "the newline character (just as in shell scripting)."
   ]
  },
  {
   "cell_type": "markdown",
   "metadata": {},
   "source": [
    "```Dockerfile\n",
    "# pull official base image\n",
    "FROM python:3.8.1-slim-buster\n",
    "\n",
    "# set environment variables\n",
    "ENV APPROOT=\"/home/app/web\" \\\n",
    "    PYTHONDONTWRITEBYTECODE=1 \\\n",
    "    PYTHONUNBUFFERED=1 \\\n",
    "    VERSION=\"0.1\" \n",
    "```    "
   ]
  },
  {
   "cell_type": "markdown",
   "metadata": {},
   "source": [
    ">  When you create a Dockerfile, you need to keep in mind that each Dockerfile **instruction will result in a new layer being created**. Instructions should be combined whenever possible because the builder won’t perform any optimization."
   ]
  },
  {
   "cell_type": "markdown",
   "metadata": {},
   "source": [
    "Environment variables declared in the Dockerfile are made available to the resulting image but can be used in other Dockerfile instructions as substitutions. In this Dockerfile, the environment variable VERSION was used as a substitution in the next new instruction, LABEL."
   ]
  },
  {
   "cell_type": "markdown",
   "metadata": {},
   "source": [
    "#### LABEL"
   ]
  },
  {
   "cell_type": "markdown",
   "metadata": {},
   "source": [
    "The LABEL instruction is used to define key/value pairs that are recorded as additional\n",
    "metadata for an image or container. This mirrors the --label flag on docker run and\n",
    "docker create. Like the ENV instruction before it, multiple labels can and should be\n",
    "set with a single instruction. In this case, the value of the VERSION environment variable\n",
    "was substituted for the value of the base.version label. By using an environment\n",
    "variable in this way, the value of VERSION will be available to processes running inside a\n",
    "container as well as recorded to an appropriate label. **This increases maintainability of\n",
    "the Dockerfile because it’s more difficult to make inconsistent changes when the valueis\n",
    "set in a single location**."
   ]
  },
  {
   "cell_type": "markdown",
   "metadata": {},
   "source": [
    "```Dockerfile\n",
    "# pull official base image\n",
    "FROM python:3.8.1-slim-buster\n",
    "\n",
    "LABEL maintainer=\"leon@ltfe.org\"\n",
    "\n",
    "# set environment variables\n",
    "ENV APPROOT=\"/home/app/web\" \\\n",
    "    PYTHONDONTWRITEBYTECODE=1 \\\n",
    "    PYTHONUNBUFFERED=1 \\\n",
    "    VERSION=\"0.1\" \n",
    "\n",
    "LABEL base.name=\"Smart API\" \\\n",
    "      base.version=\"${VERSION}\"\n",
    "\n",
    "\n",
    " ```   "
   ]
  },
  {
   "cell_type": "markdown",
   "metadata": {},
   "source": [
    "**WORKDIR**"
   ]
  },
  {
   "cell_type": "markdown",
   "metadata": {},
   "source": [
    "The result of the WORKDIR instruction will be an image with the default working directory\n",
    "set to /app. Setting WORKDIR to a location that doesn’t exist will create that location\n",
    "just as it would with the command-line option."
   ]
  },
  {
   "cell_type": "markdown",
   "metadata": {},
   "source": [
    "```Dockerfile\n",
    "# pull official base image\n",
    "FROM python:3.8.1-slim-buster\n",
    "\n",
    "LABEL maintainer=\"leon@ltfe.org\"\n",
    "\n",
    "# set environment variables\n",
    "ENV APPROOT=\"/home/app/web\" \\\n",
    "    PYTHONDONTWRITEBYTECODE=1 \\\n",
    "    PYTHONUNBUFFERED=1 \\\n",
    "    VERSION=\"0.1\" \n",
    "\n",
    "LABEL base.name=\"Smart API\" \\\n",
    "      base.version=\"${VERSION}\"\n",
    "\n",
    "# set work directory\n",
    "WORKDIR $APPROOT\n",
    "```   "
   ]
  },
  {
   "cell_type": "markdown",
   "metadata": {},
   "source": [
    "#### EXPOSE"
   ]
  },
  {
   "cell_type": "markdown",
   "metadata": {},
   "source": [
    "An important instruction to inform your users about the ports your application is listening on. EXPOSE will not publish the port, you need to use docker run -p... to do that when you start the container."
   ]
  },
  {
   "cell_type": "markdown",
   "metadata": {},
   "source": [
    "Last, the EXPOSE command creates a layer that opens TCP port 5000."
   ]
  },
  {
   "cell_type": "markdown",
   "metadata": {},
   "source": [
    "```Dockerfile\n",
    "# pull official base image\n",
    "FROM python:3.8.1-slim-buster\n",
    "\n",
    "LABEL maintainer=\"leon@ltfe.org\"\n",
    "\n",
    "# set environment variables\n",
    "ENV APPROOT=\"/home/app/web\" \\\n",
    "    PYTHONDONTWRITEBYTECODE=1 \\\n",
    "    PYTHONUNBUFFERED=1 \\\n",
    "    VERSION=\"0.1\" \n",
    "\n",
    "LABEL base.name=\"Smart API\" \\\n",
    "      base.version=\"${VERSION}\"\n",
    "\n",
    "# set work directory\n",
    "WORKDIR $APPROOT\n",
    "\n",
    "EXPOSE 5000\n",
    "``` "
   ]
  },
  {
   "cell_type": "markdown",
   "metadata": {},
   "source": [
    "#### RUN"
   ]
  },
  {
   "cell_type": "markdown",
   "metadata": {},
   "source": [
    "RUN will execute commands, so it’s one of the most-used instructions. I would like to highlight two points:\n",
    "1. You’ll use a lot of apt-get type of commands to add new packages to your image. It’s always advisable to put apt-get update and apt-get install commands on the same line. This is important because of layer caching. Having these on two separate lines would mean that if you add a new package to your install list, the layer with apt-get update will not be invalidated in the layer cache and you might end up in a mess. \n",
    "2. RUN has two forms; `RUN <command>` (called shell form) and `RUN [\"executable\", \"param1\", \"param2\"]` called exec form. Please note that `RUN <command>` will invoke a shell automatically (/bin/sh -c by default), while the exec form will not invoke a command shell."
   ]
  },
  {
   "cell_type": "markdown",
   "metadata": {},
   "source": [
    "```Dockerfile\n",
    "# pull official base image\n",
    "FROM python:3.8.1-slim-buster\n",
    "\n",
    "LABEL maintainer=\"leon@ltfe.org\"\n",
    "\n",
    "# set environment variables\n",
    "ENV APPROOT=\"/home/app/web\" \\\n",
    "    PYTHONDONTWRITEBYTECODE=1 \\\n",
    "    PYTHONUNBUFFERED=1 \\\n",
    "    VERSION=\"0.1\" \n",
    "\n",
    "LABEL base.name=\"Smart API\" \\\n",
    "      base.version=\"${VERSION}\"\n",
    "\n",
    "# set work directory\n",
    "WORKDIR $APPROOT\n",
    "\n",
    "EXPOSE 5000\n",
    "\n",
    "# install dependencies\n",
    "RUN apt-get update && apt-get install -y --no-install-recommends netcat\n",
    "RUN pip install --upgrade pip\n",
    "\n",
    "``` "
   ]
  },
  {
   "cell_type": "markdown",
   "metadata": {},
   "source": [
    "#### COPY vs ADD"
   ]
  },
  {
   "cell_type": "markdown",
   "metadata": {},
   "source": [
    "Both ADD and COPY are designed to add directories and files to your Docker image in the form of `ADD <src>... <dest>` or `COPY <src>... <dest>`. Most resources, including myself, **suggest to use COPY**."
   ]
  },
  {
   "cell_type": "markdown",
   "metadata": {},
   "source": [
    "The reason behind this is that ADD has extra features compared to COPY that make ADD more unpredictable and a bit over-designed. ADD can pull files from url sources, which COPY cannot. ADD can also extract compressed files assuming it can recognize and handle the format. You cannot extract archives with COPY.\n",
    "\n",
    "The ADD instruction was added to Docker first, and COPY was added later to provide a straightforward, rock solid solution for copying files and directories into your container’s file system.\n",
    "\n",
    "If you want to pull files from the web into your image I would suggest to use RUN and curl and uncompress your files with RUN and commands you would use on the command line."
   ]
  },
  {
   "cell_type": "markdown",
   "metadata": {},
   "source": [
    "```Dockerfile\n",
    "# pull official base image\n",
    "FROM python:3.8.1-slim-buster\n",
    "\n",
    "LABEL maintainer=\"leon@ltfe.org\"\n",
    "\n",
    "# set environment variables\n",
    "ENV APPROOT=\"/home/app/web\" \\\n",
    "    PYTHONDONTWRITEBYTECODE=1 \\\n",
    "    PYTHONUNBUFFERED=1 \\\n",
    "    VERSION=\"0.1\" \n",
    "\n",
    "LABEL base.name=\"Smart API\" \\\n",
    "      base.version=\"${VERSION}\"\n",
    "\n",
    "# set work directory\n",
    "WORKDIR $APPROOT\n",
    "\n",
    "EXPOSE 5000\n",
    "\n",
    "# install dependencies\n",
    "RUN apt-get update && apt-get install -y --no-install-recommends netcat\n",
    "RUN pip install --upgrade pip\n",
    "COPY ./requirements.txt $APPROOT/requirements.txt\n",
    "RUN pip install -r requirements.txt\n",
    "\n",
    "# copy project\n",
    "COPY . $APPROOT\n",
    "\n",
    "``` "
   ]
  },
  {
   "cell_type": "markdown",
   "metadata": {},
   "source": [
    "#### USER"
   ]
  },
  {
   "cell_type": "markdown",
   "metadata": {},
   "source": [
    "Don’t run your stuff as root, be humble, use the USER instruction to specify the user. This user will be used to run any subsequent RUN, CMD AND ENDPOINT instructions in your Dockerfile."
   ]
  },
  {
   "cell_type": "markdown",
   "metadata": {},
   "source": [
    "By default, Docker runs container processes as root inside of a container. This is a bad practice since attackers can gain root access to the Docker host if they manage to break out of the container. If you're root in the container, you'll be root on the host."
   ]
  },
  {
   "cell_type": "markdown",
   "metadata": {},
   "source": [
    "```Dockerfile\n",
    "# pull official base image\n",
    "FROM python:3.8.1-slim-buster\n",
    "\n",
    "LABEL maintainer=\"leon@ltfe.org\"\n",
    "\n",
    "# set environment variables\n",
    "ENV APPROOT=\"/home/app/web\" \\\n",
    "    PYTHONDONTWRITEBYTECODE=1 \\\n",
    "    PYTHONUNBUFFERED=1 \\\n",
    "    VERSION=\"0.1\" \n",
    "\n",
    "LABEL base.name=\"Smart API\" \\\n",
    "      base.version=\"${VERSION}\"\n",
    "\n",
    "# create the app user\n",
    "RUN groupadd -r -g 2200 app && \\\n",
    "    useradd -rM -g app -u 2200 app\n",
    "\n",
    "# set work directory\n",
    "WORKDIR $APPROOT\n",
    "\n",
    "EXPOSE 5000\n",
    "\n",
    "# install dependencies\n",
    "RUN apt-get update && apt-get install -y --no-install-recommends netcat\n",
    "RUN pip install --upgrade pip\n",
    "COPY ./requirements.txt $APPROOT/requirements.txt\n",
    "RUN pip install -r requirements.txt\n",
    "\n",
    "# copy project\n",
    "COPY . $APPROOT\n",
    "\n",
    "# chown all the files to the app user\n",
    "RUN chown -R app:app $APPROOT\n",
    "\n",
    "# change to the app user\n",
    "USER app\n",
    "``` "
   ]
  },
  {
   "cell_type": "markdown",
   "metadata": {},
   "source": [
    "#### ENTRYPOINT & CMD"
   ]
  },
  {
   "cell_type": "markdown",
   "metadata": {},
   "source": [
    "The ENTRYPOINT instruction has two forms: the **shell** form and an **exec** form. The\n",
    "shell form looks like a shell command with whitespace-delimited arguments. The exec\n",
    "form is a string array in which the first value is the command to execute and the\n",
    "remaining values are arguments. A command specified using the shell form would be\n",
    "executed as an argument to the default shell. Specifically, the command used in this\n",
    "Dockerfile will be executed as /bin/sh –c 'exec ./mailer.sh' at runtime. Most\n",
    "importantly, if the shell form is used for ENTRYPOINT, all other arguments provided by\n",
    "the CMD instruction or at runtime as extra arguments to docker container run will be\n",
    "ignored. This makes the shell form of ENTRYPOINT less flexible."
   ]
  },
  {
   "cell_type": "markdown",
   "metadata": {},
   "source": [
    "Naša končna slika:"
   ]
  },
  {
   "cell_type": "markdown",
   "metadata": {},
   "source": [
    "```Dockerfile\n",
    "# pull official base image\n",
    "FROM python:3.8.1-slim-buster\n",
    "\n",
    "LABEL maintainer=\"leon@ltfe.org\"\n",
    "\n",
    "# set environment variables\n",
    "ENV APPROOT=\"/home/app/web\" \\\n",
    "    PYTHONDONTWRITEBYTECODE=1 \\\n",
    "    PYTHONUNBUFFERED=1 \\\n",
    "    VERSION=\"0.1\" \n",
    "\n",
    "LABEL base.name=\"Smart API\" \\\n",
    "      base.version=\"${VERSION}\"\n",
    "\n",
    "# create the app user\n",
    "RUN groupadd -r -g 2200 app && \\\n",
    "    useradd -rM -g app -u 2200 app\n",
    "\n",
    "# set work directory\n",
    "WORKDIR $APPROOT\n",
    "\n",
    "EXPOSE 5000\n",
    "\n",
    "# install dependencies\n",
    "RUN apt-get update && apt-get install -y --no-install-recommends netcat\n",
    "RUN pip install --upgrade pip\n",
    "COPY ./requirements.txt $APPROOT/requirements.txt\n",
    "RUN pip install -r requirements.txt\n",
    "\n",
    "# copy project\n",
    "COPY . $APPROOT\n",
    "\n",
    "# chown all the files to the app user\n",
    "RUN chown -R app:app $APPROOT\n",
    "\n",
    "# za testne namene\n",
    "RUN apt-get install -y procps\n",
    "\n",
    "# change to the app user\n",
    "USER app\n",
    "\n",
    "\n",
    "ENTRYPOINT [\"python\", \"main.py\"]\n",
    "CMD [\"-B\"]\n",
    "``` "
   ]
  },
  {
   "cell_type": "markdown",
   "metadata": {},
   "source": [
    "Both CMD and ENTRYPOINT instructions define what command gets executed when running a container. There are few rules that describe their co-operation.\n",
    "1. Dockerfile should specify at least one of `CMD` or `ENTRYPOINT` commands.\n",
    "2. `ENTRYPOINT` should be defined when using the container as an executable.\n",
    "3. `CMD` should be used as a way of defining default arguments for an `ENTRYPOINT` command or for executing an ad-hoc command in a container.\n",
    "4. `CMD` will be overridden when running the container with alternative arguments.\n",
    "\n",
    "The table below shows what command is executed for different ENTRYPOINT / CMD combinations:"
   ]
  },
  {
   "cell_type": "markdown",
   "metadata": {},
   "source": [
    "<table>\n",
    "  <thead>\n",
    "    <tr>\n",
    "      <th style=\"text-align: left\">&nbsp;</th>\n",
    "      <th style=\"text-align: left\">No ENTRYPOINT</th>\n",
    "      <th style=\"text-align: left\">ENTRYPOINT exec_entry p1_entry</th>\n",
    "      <th style=\"text-align: left\">ENTRYPOINT [“exec_entry”, “p1_entry”]</th>\n",
    "    </tr>\n",
    "  </thead>\n",
    "  <tbody>\n",
    "    <tr>\n",
    "      <td style=\"text-align: left\"><strong>No CMD</strong></td>\n",
    "      <td style=\"text-align: left\"><em>error, not allowed</em></td>\n",
    "      <td style=\"text-align: left\">/bin/sh -c exec_entry p1_entry</td>\n",
    "      <td style=\"text-align: left\">exec_entry p1_entry</td>\n",
    "    </tr>\n",
    "    <tr>\n",
    "      <td style=\"text-align: left\"><strong>CMD [“exec_cmd”, “p1_cmd”]</strong></td>\n",
    "      <td style=\"text-align: left\">exec_cmd p1_cmd</td>\n",
    "      <td style=\"text-align: left\">/bin/sh -c exec_entry p1_entry</td>\n",
    "      <td style=\"text-align: left\">exec_entry p1_entry exec_cmd p1_cmd</td>\n",
    "    </tr>\n",
    "    <tr>\n",
    "      <td style=\"text-align: left\"><strong>CMD [“p1_cmd”, “p2_cmd”]</strong></td>\n",
    "      <td style=\"text-align: left\">p1_cmd p2_cmd</td>\n",
    "      <td style=\"text-align: left\">/bin/sh -c exec_entry p1_entry</td>\n",
    "      <td style=\"text-align: left\">exec_entry p1_entry p1_cmd p2_cmd</td>\n",
    "    </tr>\n",
    "    <tr>\n",
    "      <td style=\"text-align: left\"><strong>CMD exec_cmd p1_cmd</strong></td>\n",
    "      <td style=\"text-align: left\">/bin/sh -c exec_cmd p1_cmd</td>\n",
    "      <td style=\"text-align: left\">/bin/sh -c exec_entry p1_entry</td>\n",
    "      <td style=\"text-align: left\">exec_entry p1_entry /bin/sh -c exec_cmd p1_cmd</td>\n",
    "    </tr>\n",
    "  </tbody>\n",
    "</table>"
   ]
  },
  {
   "cell_type": "markdown",
   "metadata": {},
   "source": [
    "> If CMD is defined from the base image, setting ENTRYPOINT will reset CMD to an empty value. In this scenario, CMD must be defined in the current image to have a value."
   ]
  },
  {
   "cell_type": "markdown",
   "metadata": {},
   "source": [
    "\n",
    "The `exec form`, which is the preferred form:\n",
    "    \n",
    "    ENTRYPOINT [\"executable\", \"param1\", \"param2\"]\n",
    "\n",
    "The `shell form`:\n",
    "\n",
    "    ENTRYPOINT command param1 param2"
   ]
  },
  {
   "cell_type": "markdown",
   "metadata": {},
   "source": [
    "> TIP:  **Using the exec (or string array) form wherever possible is the best practice.**\n",
    "At a minimum, a Dockerfile should be consistent and avoid mixing styles.\n",
    "This will make your Dockerfiles more readable and ensure that instructions\n",
    "behave as you’d expect without detailed understanding of their nuances."
   ]
  },
  {
   "cell_type": "markdown",
   "metadata": {},
   "source": [
    "Command line arguments to docker run <image> will be appended after all elements in an exec form ENTRYPOINT, and will override all elements specified using CMD. This allows arguments to be passed to the entry point, i.e., docker run <image> -d will pass the -d argument to the entry point. You can override the ENTRYPOINT instruction using the docker run --entrypoint flag."
   ]
  },
  {
   "cell_type": "markdown",
   "metadata": {},
   "source": [
    "    docker image build -t leon11sj/entrypointcmd:v1 -f Dockerfile_01 ."
   ]
  },
  {
   "cell_type": "markdown",
   "metadata": {},
   "source": [
    "    docker run -it --rm leon11sj/entrypointcmd:v1"
   ]
  },
  {
   "cell_type": "markdown",
   "metadata": {},
   "source": [
    "    docker run -it --rm leon11sj/entrypointcmd:v1 -la"
   ]
  },
  {
   "cell_type": "markdown",
   "metadata": {},
   "source": [
    "    docker run -it --rm --entrypoint top leon11sj/entrypointcmd:v1"
   ]
  },
  {
   "cell_type": "markdown",
   "metadata": {},
   "source": [
    "    docker run -it --rm --entrypoint ps leon11sj/entrypointcmd:v1 aux"
   ]
  },
  {
   "cell_type": "markdown",
   "metadata": {},
   "source": [
    "The shell form prevents any CMD or run command line arguments from being used, but has the disadvantage that your ENTRYPOINT will be started as a subcommand of /bin/sh -c, which does not pass signals. This means that the executable will not be the container’s PID 1 - and will not receive Unix signals - so your executable will not receive a SIGTERM from docker stop <container>.\n",
    "\n",
    "Only the last ENTRYPOINT instruction in the Dockerfile will have an effect."
   ]
  },
  {
   "cell_type": "markdown",
   "metadata": {},
   "source": [
    "    ENTRYPOINT [\"python\", \"main.py\"]"
   ]
  },
  {
   "cell_type": "markdown",
   "metadata": {},
   "source": [
    "    docker image build -t leon11sj/smart-api:v0.1 -f Dockerfile.prod .\n",
    "    docker run -d --name test leon11sj/smart-api:v0.1\n",
    "    docker exec -it test ps x\n",
    "    docker rm -f test"
   ]
  },
  {
   "cell_type": "markdown",
   "metadata": {},
   "source": [
    "Druga opcija v shell obliki"
   ]
  },
  {
   "cell_type": "markdown",
   "metadata": {},
   "source": [
    "    ENTRYPOINT python main.py"
   ]
  },
  {
   "cell_type": "markdown",
   "metadata": {},
   "source": [
    "    docker image build -t leon11sj/smart-api:v0.1 -f Dockerfile.prod .\n",
    "    docker run -d --name test leon11sj/smart-api:v0.1\n",
    "    docker exec -it test ps x\n",
    "    docker rm -f test"
   ]
  },
  {
   "cell_type": "markdown",
   "metadata": {},
   "source": [
    "<hr>"
   ]
  },
  {
   "cell_type": "markdown",
   "metadata": {},
   "source": [
    "CMD instruction allows you to set a default command, which will be executed only when you run container without specifying a command. If Docker container runs with a command, the default command will be ignored. If Dockerfile has more than one CMD instruction, all but last CMD instructions are ignored."
   ]
  },
  {
   "cell_type": "markdown",
   "metadata": {},
   "source": [
    "CMD has three forms:\n",
    "- `CMD [\"executable\",\"param1\",\"param2\"]` (exec form, preferred)\n",
    "- `CMD [\"param1\",\"param2\"]` (sets additional default parameters for ENTRYPOINT in exec form)\n",
    "- `CMD command param1 param2` (shell form)"
   ]
  },
  {
   "cell_type": "markdown",
   "metadata": {},
   "source": [
    "<hr>"
   ]
  },
  {
   "cell_type": "markdown",
   "metadata": {},
   "source": [
    "**The difference is ENTRYPOINT command and parameters are not ignored when Docker container runs with command line parameters.**"
   ]
  },
  {
   "cell_type": "markdown",
   "metadata": {},
   "source": [
    "Exec form of ENTRYPOINT allows you to set commands and parameters and then use either form of CMD to set additional parameters that are more likely to be changed. **ENTRYPOINT arguments are always used, while CMD ones can be overwritten by command line arguments provided when Docker container runs**. For example, the following snippet in Dockerfile"
   ]
  },
  {
   "cell_type": "markdown",
   "metadata": {},
   "source": [
    "    docker image build -t leon11sj/entrypointcmd:v3 -f Dockerfile_03 ."
   ]
  },
  {
   "cell_type": "markdown",
   "metadata": {},
   "source": [
    "    docker run -it --rm leon11sj/entrypointcmd:v3"
   ]
  },
  {
   "cell_type": "markdown",
   "metadata": {},
   "source": [
    "    docker run -it --rm leon11sj/entrypointcmd:v3 John"
   ]
  },
  {
   "cell_type": "markdown",
   "metadata": {},
   "source": [
    "> Shell form of ENTRYPOINT ignores any CMD or docker run command line arguments."
   ]
  },
  {
   "cell_type": "markdown",
   "metadata": {},
   "source": [
    "<hr>"
   ]
  },
  {
   "cell_type": "markdown",
   "metadata": {},
   "source": [
    "**Zaključki**:\n",
    "- Prefer ENTRYPOINT to CMD when building executable Docker image and you need a command always to be executed. Additionally use CMD if you need to provide extra default arguments that could be overwritten from command line when docker container runs.\n",
    "- Choose CMD if you need to provide a default command and/or arguments that can be overwritten from command line when docker container runs."
   ]
  },
  {
   "cell_type": "markdown",
   "metadata": {},
   "source": [
    "### Building the file"
   ]
  },
  {
   "cell_type": "markdown",
   "metadata": {},
   "source": [
    "Put it all together by running the docker image build command from the directory where the mailer-base file is located. The -f flag tells the builder which filename to use as input:"
   ]
  },
  {
   "cell_type": "markdown",
   "metadata": {},
   "source": [
    "    docker image build -t leon11sj/smart-api:v0.1 -f Dockerfile.prod .\n",
    "    docker run --rm --name smart-api -p 80:5000 leon11sj/smart-api:v0.1"
   ]
  },
  {
   "cell_type": "markdown",
   "metadata": {},
   "source": [
    "> **Naming Dockerfiles**: The default and most common name for a Dockerfile is Dockerfile. However, Dockerfiles\n",
    "can be named anything because they are simple text files and the build command\n",
    "accepts any filename you tell it. Some people name their Dockerfiles with an\n",
    "extension such as .df so that they can easily define builds for multiple images in a\n",
    "single project directory (for example, app-build.df, app-runtime.df, and app-debugtools.\n",
    "df). A file extension also makes it easy to activate Dockerfile support in editors."
   ]
  },
  {
   "cell_type": "markdown",
   "metadata": {},
   "source": [
    "## Best practices for writing Dockerfiles"
   ]
  },
  {
   "cell_type": "markdown",
   "metadata": {},
   "source": [
    "### Start your Dockerfile with the steps that are least likely to change\n",
    "\n",
    "This is easier said than done. Anyway, your image will stabilize after a while and changes will be less likely. The best practice is to structure your Dockerfile according to the following:\n",
    "1. Install tools that are needed to build your application.\n",
    "2. Install dependencies, libraries and packages.\n",
    "3. Build your application."
   ]
  },
  {
   "cell_type": "markdown",
   "metadata": {},
   "source": [
    "### Clean up your Dockerfile\n",
    "\n",
    "Always review your steps in the Dockerfile and only keep the minimum set of steps that are needed by your application. Always remove unnecessary components."
   ]
  },
  {
   "cell_type": "markdown",
   "metadata": {},
   "source": [
    "### Containers should be ephemeral\n",
    "\n",
    "This would belong to generic Docker guidelines, but it’s never enough to stress this point. It is your best interest to design and build Docker images that can be destroyed and recreated/replaced automatically or with minimal configuration.\n",
    "\n",
    "Which means that you should create Dockerfiles that define stateless images. Any state, should be kept outside of your containers."
   ]
  },
  {
   "cell_type": "markdown",
   "metadata": {},
   "source": [
    "### One container should have one concern\n",
    "\n",
    "Think of containers as entities that take responsibility for one aspect of your project. So design your application in a way that your web server, database, in-memory cache and other components have their own dedicated containers.\n",
    "\n",
    "You’ll see the benefits of such a design when scaling your app horizontally. We’ll look into interoperability of containers and container networking in a future tutorial."
   ]
  },
  {
   "cell_type": "markdown",
   "metadata": {},
   "source": [
    "## Docker images"
   ]
  },
  {
   "cell_type": "markdown",
   "metadata": {},
   "source": [
    "Use the command docker images in your terminal to list the images you currently have on your computer. Remember that images are stored on your computer once you pull them from a registry like the Docker store, or once you build them on your computer."
   ]
  },
  {
   "cell_type": "markdown",
   "metadata": {},
   "source": [
    "    docker image ls\n",
    "    docker images"
   ]
  },
  {
   "cell_type": "markdown",
   "metadata": {},
   "source": [
    "Please note that I usually don’t keep all the images that I use, I try to keep everything nice and clean, because images take up space."
   ]
  },
  {
   "cell_type": "markdown",
   "metadata": {},
   "source": [
    "It is worthwhile to check the image sizes in the picture. You’ll find that some images have a very small footprint, like the Alpine linux image, while more complex image take up a lot of space.\n",
    "\n"
   ]
  },
  {
   "cell_type": "markdown",
   "metadata": {},
   "source": [
    "    docker images -a"
   ]
  },
  {
   "cell_type": "markdown",
   "metadata": {},
   "source": [
    "### Dangling images"
   ]
  },
  {
   "cell_type": "markdown",
   "metadata": {},
   "source": [
    "Our newly built image is ready to use, but the previous image that we built with curl is still hanging around and it does not have a proper tag or name right now. (You can check the image ids to see that this is the same image we built previously).\n",
    "\n",
    "Docker calls such images dangling images.\n",
    "\n",
    "You can use the following command to list dangling images:\n",
    "\n",
    "    docker images --filter \"dangling=true\""
   ]
  },
  {
   "cell_type": "markdown",
   "metadata": {},
   "source": [
    "I personally don’t like it when images are just hanging around without a purpose, so here is how to remove them:"
   ]
  },
  {
   "cell_type": "markdown",
   "metadata": {},
   "source": [
    "    docker rmi $(docker images -q --filter \"dangling=true\")"
   ]
  },
  {
   "cell_type": "markdown",
   "metadata": {},
   "source": [
    "## Public and private software distribution"
   ]
  },
  {
   "cell_type": "markdown",
   "metadata": {},
   "source": [
    "The methods included in the spectrum range from hosted registries such as Docker\n",
    "Hub to totally custom distribution architectures or source-distribution methods. We\n",
    "cover some of these subjects in more detail than others. We also place particular focus\n",
    "on private registries because they provide the most balance between the two concerns."
   ]
  },
  {
   "cell_type": "markdown",
   "metadata": {},
   "source": [
    "### Publishing with hosted registries"
   ]
  },
  {
   "cell_type": "markdown",
   "metadata": {},
   "source": [
    "As a reminder, Docker registries are **services that make repositories accessible to\n",
    "Docker pull commands**. A registry hosts repositories. The simplest way to distribute\n",
    "your images is by using **hosted registries**."
   ]
  },
  {
   "cell_type": "markdown",
   "metadata": {},
   "source": [
    "A hosted registry is a Docker registry service that’s owned and operated by a thirdparty\n",
    "vendor. Docker Hub, Quay.io, and Google Container Registry are all examples\n",
    "of hosted registry providers. By default, Docker publishes to Docker Hub. Docker\n",
    "Hub and most other hosted registries provide both public and private registries, as\n",
    "shown in figure 9.2."
   ]
  },
  {
   "cell_type": "markdown",
   "metadata": {},
   "source": [
    "#### Publishing with public repositories: “Hello World!” via Docker Hub"
   ]
  },
  {
   "cell_type": "markdown",
   "metadata": {},
   "source": [
    "The simplest way to get started with public repositories on hosted registries is to push\n",
    "a repository that you own to Docker Hub. To do so, all you need is a Docker Hub\n",
    "account and an image to publish. If you haven’t done so already, sign up for a Docker\n",
    "Hub account now.\n",
    "\n",
    "Once you have your account, you need to create an image to publish. Create a new\n",
    "Dockerfile named HelloWorld.df and add the following instructions:"
   ]
  },
  {
   "cell_type": "markdown",
   "metadata": {},
   "source": [
    "    FROM busybox:latest\n",
    "    CMD echo 'Hello World!'"
   ]
  },
  {
   "cell_type": "markdown",
   "metadata": {},
   "source": [
    "Chapter 8 covers Dockerfile instructions. As a reminder, the FROM instruction tells the\n",
    "Docker image builder which existing image to start the new image from. The CMD\n",
    "instruction sets the default command for the new image. Containers created from this\n",
    "image will display Hello World! and exit. Build your new image with the following\n",
    "command:"
   ]
  },
  {
   "cell_type": "markdown",
   "metadata": {},
   "source": [
    "    docker image build \\\n",
    "        -t leon11sj/hello-dockerfile \\\n",
    "        -f HelloWorld.df \\\n",
    "        ."
   ]
  },
  {
   "cell_type": "markdown",
   "metadata": {},
   "source": [
    "Be sure to substitute your Docker Hub username in that command. Authorization to\n",
    "access and modify repositories is based on the username portion of the repository\n",
    "name on Docker Hub. If you create a repository with a username other than your\n",
    "own, you won’t be able to publish it.\n",
    "\n",
    "Publishing images on Docker Hub with the docker command-line tool requires\n",
    "that you establish an authenticated session with that client. You can do that with the\n",
    "login command:\n",
    "    \n",
    "    docker login"
   ]
  },
  {
   "cell_type": "markdown",
   "metadata": {},
   "source": [
    "This command will prompt you for your username, email address, and password. Each\n",
    "of those can be passed to the command as arguments using the --username, --email,\n",
    "and --password flags. When you log in, the docker client maintains a map of your credentials\n",
    "for the different registries that you authenticate with in a file. It will specifically\n",
    "store your username and an authentication token, not your password.\n",
    "\n",
    "You will be able to push your repository to the hosted registry after you’ve logged\n",
    "in. Use the docker push command to do so:"
   ]
  },
  {
   "cell_type": "markdown",
   "metadata": {},
   "source": [
    "    docker image push leon11sj/hello-dockerfile"
   ]
  },
  {
   "cell_type": "markdown",
   "metadata": {},
   "source": [
    "The command output includes upload statuses and the resulting repository content\n",
    "digest. The push operation will create the repository on the remote registry, upload\n",
    "each of the new layers, and then create the appropriate tags.\n",
    "\n",
    "Your public repository will be available to the world as soon as the push operation\n",
    "is completed. Verify that this is the case by searching for your username and your new\n",
    "repository. For example, use the following command to find the example owned by\n",
    "the dockerinaction user:\n",
    "    \n",
    "    docker search leon11sj"
   ]
  },
  {
   "cell_type": "markdown",
   "metadata": {},
   "source": [
    "Replace the dockerinaction username with your own to find your new repository on\n",
    "Docker Hub. You can also log in to the Docker Hub website and view your repositories\n",
    "to find and modify your new repository.\n",
    "Having distributed your first image with Docker Hub, you should consider how\n",
    "this method measures up to the selection criteria;"
   ]
  },
  {
   "cell_type": "markdown",
   "metadata": {},
   "source": [
    "Public repositories on hosted registries are the best choice for owners of open source\n",
    "projects or people who are just getting started with Docker. People should still be\n",
    "skeptical of software that they download and run from the internet, so public repositories\n",
    "that don’t expose their sources can be difficult for some users to trust. Hosted\n",
    "(trusted) builds solve this problem to a certain extent."
   ]
  },
  {
   "cell_type": "markdown",
   "metadata": {},
   "source": [
    "### Private hosted repositories"
   ]
  },
  {
   "cell_type": "markdown",
   "metadata": {},
   "source": [
    "Private repositories are similar to public repositories from an operational and product\n",
    "perspective. Most registry providers offer both options, and any differences in provisioning\n",
    "through their websites will be minimal. Because the Docker registry API\n",
    "makes no distinction between the two types of repositories, registry providers that\n",
    "offer both generally require you to provision private registries through their website,\n",
    "app, or API."
   ]
  },
  {
   "cell_type": "markdown",
   "metadata": {},
   "source": [
    "The tools for working with private repositories are identical to those for working\n",
    "with public repositories, with one exception. Before you can use docker image pull or\n",
    "docker container run to install an image from a private repository, you need to\n",
    "authenticate with the registry where the repository is hosted. To do so, you use the\n",
    "docker login command just as you would if you were using docker image push to\n",
    "upload an image."
   ]
  },
  {
   "cell_type": "markdown",
   "metadata": {},
   "source": [
    "### Introducing private registries"
   ]
  },
  {
   "cell_type": "markdown",
   "metadata": {},
   "source": [
    "When you have a hard requirement on availability control, longevity control, or\n",
    "secrecy, then running a private registry may be your best option. In doing so, you gain\n",
    "control without sacrificing interoperability with Docker pull and push mechanisms or\n",
    "adding to the learning curve for your environment. People can interact with a private\n",
    "registry exactly as they would with a hosted registry."
   ]
  },
  {
   "cell_type": "markdown",
   "metadata": {},
   "source": [
    "Many free and commercially supported software packages are available for running a\n",
    "Docker image registry. If your organization has a commercial artifact repository for\n",
    "operating system or application software packages, it probably supports the Docker\n",
    "image registry API. A simple option for running a nonproduction image registry is to\n",
    "use Docker’s registry software. The Docker registry, called Distribution, is open source\n",
    "software and distributed under the Apache 2 license. The availability of this software\n",
    "and permissive license keep the engineering cost of running your own registry low. Figure\n",
    "9.3 illustrates that private registries fall in the middle of the distribution spectrum."
   ]
  },
  {
   "cell_type": "markdown",
   "metadata": {},
   "source": [
    "The biggest trade-off when going from hosted registries to private registries is gaining\n",
    "flexibility and control while requiring greater depth and breadth of engineering experience\n",
    "to build and maintain the solution. Docker image registries often consume\n",
    "large amounts of storage, so be sure to account for that in your analysis. The remainder\n",
    "of this section covers what you need in order to implement all but the most complicated\n",
    "registry deployment designs and highlights opportunities for customization\n",
    "in your environment."
   ]
  }
 ],
 "metadata": {
  "kernelspec": {
   "display_name": "Python 3.9.0 64-bit ('3.9.0')",
   "language": "python",
   "name": "python3"
  },
  "language_info": {
   "codemirror_mode": {
    "name": "ipython",
    "version": 3
   },
   "file_extension": ".py",
   "mimetype": "text/x-python",
   "name": "python",
   "nbconvert_exporter": "python",
   "pygments_lexer": "ipython3",
   "version": "3.9.0"
  },
  "vscode": {
   "interpreter": {
    "hash": "49295d7be20e15a65a7ead1eee80289bbf09f3482fe4d303cdf9f84b66666c7d"
   }
  }
 },
 "nbformat": 4,
 "nbformat_minor": 2
}
