{
 "cells": [
  {
   "cell_type": "markdown",
   "metadata": {},
   "source": [
    "# Packaging software in images"
   ]
  },
  {
   "cell_type": "markdown",
   "metadata": {},
   "source": [
    "## Building images automatically with Dockerfiles"
   ]
  },
  {
   "cell_type": "markdown",
   "metadata": {},
   "source": [
    "### A Dockerfile primer"
   ]
  },
  {
   "cell_type": "markdown",
   "metadata": {},
   "source": [
    "Dockerfiles are expressive and easy to understand because of their terse syntax that\n",
    "allows for comments. You **can keep track of changes to Dockerfiles with any version control\n",
    "system**. Maintaining multiple versions of an image is as simple as maintaining multiple Dockerfiles."
   ]
  },
  {
   "cell_type": "markdown",
   "metadata": {},
   "source": [
    "The Dockerfile build process itself uses extensive caching to aid\n",
    "rapid development and iteration. The builds are traceable and reproducible. They\n",
    "integrate easily with existing build systems and many continuous integration tools.\n",
    "With all these reasons to prefer Dockerfile builds to handmade images, it’s important\n",
    "to learn how to write them."
   ]
  },
  {
   "cell_type": "markdown",
   "metadata": {},
   "source": [
    "#### .dockerignore"
   ]
  },
  {
   "cell_type": "markdown",
   "metadata": {},
   "source": [
    "The directory where you issue the docker build command is called the build context. Docker will send all of the files and directories in your build directory to the Docker daemon as part of the build context. If you have stuff in your directory that is not needed by your build, you’ll have an unnecessarily larger build context that results in a larger image size.\n",
    "\n",
    "You can remedy this situation by adding a .dockerignore file that works similarly to .gitignore. You can specify the list of folders and files that should be ignored in the build context."
   ]
  },
  {
   "cell_type": "markdown",
   "metadata": {},
   "source": [
    "One of the best reasons to use Dockerfile builds is that they simplify copying files from your computer into an image. But it’s not always appropriate for certain files to be copied to images. The first thing to do when starting a new project is to define which files should never be copied into any images. You can do this in a file called `.dockerignore`. In this example, you’ll create three Dockerfiles, and none needs to be copied into the resulting images."
   ]
  },
  {
   "cell_type": "markdown",
   "metadata": {},
   "source": [
    "    .dockerignore\n",
    "    Dockerfile"
   ]
  },
  {
   "cell_type": "markdown",
   "metadata": {},
   "source": [
    "Save and close the file when you’re finished. This will prevent the .dockerignore file, or files named Dockerfile, from ever being copied into an image during a build. With that bit of accounting finished, you can begin working on the base image."
   ]
  },
  {
   "cell_type": "markdown",
   "metadata": {},
   "source": [
    "#### FROM\n",
    "\n",
    "For beginners it’s enough to understand that **every Dockerfile must start with the FROM instruction in the form of FROM `<image>[:tag]`.** \n",
    "\n",
    "The tag value is optional, if **you don’t specify the tag Docker will use the tag latest and will try and use or pull the latest version of the base image during build.**\n"
   ]
  },
  {
   "cell_type": "markdown",
   "metadata": {},
   "source": [
    "```Dockerfile\n",
    "\n",
    "# pull official base image\n",
    "FROM python:3.8.1-slim-buster\n",
    "    \n",
    "   ```"
   ]
  },
  {
   "cell_type": "markdown",
   "metadata": {},
   "source": [
    "#### ENV"
   ]
  },
  {
   "cell_type": "markdown",
   "metadata": {},
   "source": [
    "```Dockerfile\n",
    "# pull official base image\n",
    "FROM python:3.8.1-slim-buster\n",
    "\n",
    "# set environment variables\n",
    "ENV APPROOT=\"/home/app/web\" \\\n",
    "    PYTHONDONTWRITEBYTECODE=1 \\\n",
    "    PYTHONUNBUFFERED=1 \\\n",
    "    VERSION=\"0.1\" \n",
    "```    "
   ]
  },
  {
   "cell_type": "markdown",
   "metadata": {},
   "source": [
    ">  When you create a Dockerfile, you need to keep in mind that each Dockerfile **instruction will result in a new layer being created**. Instructions should be combined whenever possible because the builder won’t perform any optimization."
   ]
  },
  {
   "cell_type": "markdown",
   "metadata": {},
   "source": [
    "#### LABEL"
   ]
  },
  {
   "cell_type": "markdown",
   "metadata": {},
   "source": [
    "The LABEL instruction is used to define key/value pairs that are recorded as additional\n",
    "metadata for an image or container. This mirrors the --label flag on docker run and\n",
    "docker create. Like the ENV instruction before it, multiple labels can and should be\n",
    "set with a single instruction. In this case, the value of the VERSION environment variable\n",
    "was substituted for the value of the base.version label. By using an environment\n",
    "variable in this way, the value of VERSION will be available to processes running inside a\n",
    "container as well as recorded to an appropriate label. **This increases maintainability of\n",
    "the Dockerfile because it’s more difficult to make inconsistent changes when the valueis\n",
    "set in a single location**."
   ]
  },
  {
   "cell_type": "markdown",
   "metadata": {},
   "source": [
    "```Dockerfile\n",
    "# pull official base image\n",
    "FROM python:3.8.1-slim-buster\n",
    "\n",
    "LABEL maintainer=\"leon@ltfe.org\"\n",
    "\n",
    "# set environment variables\n",
    "ENV APPROOT=\"/home/app/web\" \\\n",
    "    PYTHONDONTWRITEBYTECODE=1 \\\n",
    "    PYTHONUNBUFFERED=1 \\\n",
    "    VERSION=\"0.1\" \n",
    "\n",
    "LABEL base.name=\"Smart API\" \\\n",
    "      base.version=\"${VERSION}\"\n",
    "\n",
    "\n",
    " ```   "
   ]
  },
  {
   "cell_type": "markdown",
   "metadata": {},
   "source": [
    "#### EXPOSE"
   ]
  },
  {
   "cell_type": "markdown",
   "metadata": {},
   "source": [
    "An important instruction to inform your users about the ports your application is listening on. EXPOSE will not publish the port, you need to use docker run -p... to do that when you start the container."
   ]
  },
  {
   "cell_type": "markdown",
   "metadata": {},
   "source": [
    "Last, the EXPOSE command creates a layer that opens TCP port 5000."
   ]
  },
  {
   "cell_type": "markdown",
   "metadata": {},
   "source": [
    "```Dockerfile\n",
    "# pull official base image\n",
    "FROM python:3.8.1-slim-buster\n",
    "\n",
    "LABEL maintainer=\"leon@ltfe.org\"\n",
    "\n",
    "# set environment variables\n",
    "ENV APPROOT=\"/home/app/web\" \\\n",
    "    PYTHONDONTWRITEBYTECODE=1 \\\n",
    "    PYTHONUNBUFFERED=1 \\\n",
    "    VERSION=\"0.1\" \n",
    "\n",
    "LABEL base.name=\"Smart API\" \\\n",
    "      base.version=\"${VERSION}\"\n",
    "\n",
    "# set work directory\n",
    "WORKDIR $APPROOT\n",
    "\n",
    "EXPOSE 5000\n",
    "``` "
   ]
  },
  {
   "cell_type": "markdown",
   "metadata": {},
   "source": [
    "#### RUN"
   ]
  },
  {
   "cell_type": "markdown",
   "metadata": {},
   "source": [
    "RUN will execute commands, so it’s one of the most-used instructions. I would like to highlight two points:\n",
    "1. You’ll use a lot of apt-get type of commands to add new packages to your image. It’s always advisable to put apt-get update and apt-get install commands on the same line. This is important because of layer caching. Having these on two separate lines would mean that if you add a new package to your install list, the layer with apt-get update will not be invalidated in the layer cache and you might end up in a mess. \n",
    "2. RUN has two forms; `RUN <command>` (called shell form) and `RUN [\"executable\", \"param1\", \"param2\"]` called exec form. Please note that `RUN <command>` will invoke a shell automatically (/bin/sh -c by default), while the exec form will not invoke a command shell."
   ]
  },
  {
   "cell_type": "markdown",
   "metadata": {},
   "source": [
    "```Dockerfile\n",
    "# pull official base image\n",
    "FROM python:3.8.1-slim-buster\n",
    "\n",
    "LABEL maintainer=\"leon@ltfe.org\"\n",
    "\n",
    "# set environment variables\n",
    "ENV APPROOT=\"/home/app/web\" \\\n",
    "    PYTHONDONTWRITEBYTECODE=1 \\\n",
    "    PYTHONUNBUFFERED=1 \\\n",
    "    VERSION=\"0.1\" \n",
    "\n",
    "LABEL base.name=\"Smart API\" \\\n",
    "      base.version=\"${VERSION}\"\n",
    "\n",
    "# set work directory\n",
    "WORKDIR $APPROOT\n",
    "\n",
    "EXPOSE 5000\n",
    "\n",
    "# install dependencies\n",
    "RUN apt-get update && apt-get install -y --no-install-recommends netcat\n",
    "RUN pip install --upgrade pip\n",
    "\n",
    "``` "
   ]
  },
  {
   "cell_type": "markdown",
   "metadata": {},
   "source": [
    "#### COPY vs ADD"
   ]
  },
  {
   "cell_type": "markdown",
   "metadata": {},
   "source": [
    "```Dockerfile\n",
    "# pull official base image\n",
    "FROM python:3.8.1-slim-buster\n",
    "\n",
    "LABEL maintainer=\"leon@ltfe.org\"\n",
    "\n",
    "# set environment variables\n",
    "ENV APPROOT=\"/home/app/web\" \\\n",
    "    PYTHONDONTWRITEBYTECODE=1 \\\n",
    "    PYTHONUNBUFFERED=1 \\\n",
    "    VERSION=\"0.1\" \n",
    "\n",
    "LABEL base.name=\"Smart API\" \\\n",
    "      base.version=\"${VERSION}\"\n",
    "\n",
    "# set work directory\n",
    "WORKDIR $APPROOT\n",
    "\n",
    "EXPOSE 5000\n",
    "\n",
    "# install dependencies\n",
    "RUN apt-get update && apt-get install -y --no-install-recommends netcat\n",
    "RUN pip install --upgrade pip\n",
    "COPY ./requirements.txt $APPROOT/requirements.txt\n",
    "RUN pip install -r requirements.txt\n",
    "\n",
    "# copy project\n",
    "COPY . $APPROOT\n",
    "\n",
    "``` "
   ]
  },
  {
   "cell_type": "markdown",
   "metadata": {},
   "source": [
    "#### USER"
   ]
  },
  {
   "cell_type": "markdown",
   "metadata": {},
   "source": [
    "Don’t run your stuff as root, be humble, use the USER instruction to specify the user. This user will be used to run any subsequent RUN, CMD AND ENDPOINT instructions in your Dockerfile."
   ]
  },
  {
   "cell_type": "markdown",
   "metadata": {},
   "source": [
    "By default, Docker runs container processes as root inside of a container. This is a bad practice since attackers can gain root access to the Docker host if they manage to break out of the container. If you're root in the container, you'll be root on the host."
   ]
  },
  {
   "cell_type": "markdown",
   "metadata": {},
   "source": [
    "```Dockerfile\n",
    "# pull official base image\n",
    "FROM python:3.8.1-slim-buster\n",
    "\n",
    "LABEL maintainer=\"leon@ltfe.org\"\n",
    "\n",
    "# set environment variables\n",
    "ENV APPROOT=\"/home/app/web\" \\\n",
    "    PYTHONDONTWRITEBYTECODE=1 \\\n",
    "    PYTHONUNBUFFERED=1 \\\n",
    "    VERSION=\"0.1\" \n",
    "\n",
    "LABEL base.name=\"Smart API\" \\\n",
    "      base.version=\"${VERSION}\"\n",
    "\n",
    "# create the app user\n",
    "RUN groupadd -r -g 2200 app && \\\n",
    "    useradd -rM -g app -u 2200 app\n",
    "\n",
    "# set work directory\n",
    "WORKDIR $APPROOT\n",
    "\n",
    "EXPOSE 5000\n",
    "\n",
    "# install dependencies\n",
    "RUN apt-get update && apt-get install -y --no-install-recommends netcat\n",
    "RUN pip install --upgrade pip\n",
    "COPY ./requirements.txt $APPROOT/requirements.txt\n",
    "RUN pip install -r requirements.txt\n",
    "\n",
    "# copy project\n",
    "COPY . $APPROOT\n",
    "\n",
    "# chown all the files to the app user\n",
    "RUN chown -R app:app $APPROOT\n",
    "\n",
    "# change to the app user\n",
    "USER app\n",
    "``` "
   ]
  },
  {
   "cell_type": "markdown",
   "metadata": {},
   "source": [
    "#### ENTRYPOINT & CMD"
   ]
  },
  {
   "cell_type": "markdown",
   "metadata": {},
   "source": [
    "Naša končna slika:"
   ]
  },
  {
   "cell_type": "markdown",
   "metadata": {},
   "source": [
    "```Dockerfile\n",
    "# pull official base image\n",
    "FROM python:3.8.1-slim-buster\n",
    "\n",
    "LABEL maintainer=\"leon@ltfe.org\"\n",
    "\n",
    "# set environment variables\n",
    "ENV APPROOT=\"/home/app/web\" \\\n",
    "    PYTHONDONTWRITEBYTECODE=1 \\\n",
    "    PYTHONUNBUFFERED=1 \\\n",
    "    VERSION=\"0.1\" \n",
    "\n",
    "LABEL base.name=\"Smart API\" \\\n",
    "      base.version=\"${VERSION}\"\n",
    "\n",
    "# create the app user\n",
    "RUN groupadd -r -g 2200 app && \\\n",
    "    useradd -rM -g app -u 2200 app\n",
    "\n",
    "# set work directory\n",
    "WORKDIR $APPROOT\n",
    "\n",
    "EXPOSE 5000\n",
    "\n",
    "# install dependencies\n",
    "RUN apt-get update && apt-get install -y --no-install-recommends netcat\n",
    "RUN pip install --upgrade pip\n",
    "COPY ./requirements.txt $APPROOT/requirements.txt\n",
    "RUN pip install -r requirements.txt\n",
    "\n",
    "# copy project\n",
    "COPY . $APPROOT\n",
    "\n",
    "# chown all the files to the app user\n",
    "RUN chown -R app:app $APPROOT\n",
    "\n",
    "# za testne namene\n",
    "RUN apt-get install -y procps\n",
    "\n",
    "# change to the app user\n",
    "USER app\n",
    "\n",
    "\n",
    "ENTRYPOINT [\"python\", \"main.py\"]\n",
    "CMD [\"-B\"]\n",
    "``` "
   ]
  },
  {
   "cell_type": "markdown",
   "metadata": {},
   "source": [
    "### Building the file"
   ]
  },
  {
   "cell_type": "markdown",
   "metadata": {},
   "source": [
    "Put it all together by running the docker image build command from the directory where the mailer-base file is located. The -f flag tells the builder which filename to use as input:"
   ]
  },
  {
   "cell_type": "markdown",
   "metadata": {},
   "source": [
    "    docker image build -t leon11sj/smart-api:v0.1 -f Dockerfile.prod .\n",
    "    docker run --rm --name smart-api -p 80:5000 leon11sj/smart-api:v0.1"
   ]
  },
  {
   "cell_type": "markdown",
   "metadata": {},
   "source": [
    "> **Naming Dockerfiles**: The default and most common name for a Dockerfile is Dockerfile. However, Dockerfiles\n",
    "can be named anything because they are simple text files and the build command\n",
    "accepts any filename you tell it. Some people name their Dockerfiles with an\n",
    "extension such as .df so that they can easily define builds for multiple images in a\n",
    "single project directory (for example, app-build.df, app-runtime.df, and app-debugtools.\n",
    "df). A file extension also makes it easy to activate Dockerfile support in editors."
   ]
  },
  {
   "cell_type": "markdown",
   "metadata": {},
   "source": [
    "## Best practices for writing Dockerfiles"
   ]
  },
  {
   "cell_type": "markdown",
   "metadata": {},
   "source": [
    "### Start your Dockerfile with the steps that are least likely to change\n",
    "\n",
    "This is easier said than done. Anyway, your image will stabilize after a while and changes will be less likely. The best practice is to structure your Dockerfile according to the following:\n",
    "1. Install tools that are needed to build your application.\n",
    "2. Install dependencies, libraries and packages.\n",
    "3. Build your application."
   ]
  },
  {
   "cell_type": "markdown",
   "metadata": {},
   "source": [
    "### Clean up your Dockerfile\n",
    "\n",
    "Always review your steps in the Dockerfile and only keep the minimum set of steps that are needed by your application. Always remove unnecessary components."
   ]
  },
  {
   "cell_type": "markdown",
   "metadata": {},
   "source": [
    "### Containers should be ephemeral\n",
    "\n",
    "This would belong to generic Docker guidelines, but it’s never enough to stress this point. It is your best interest to design and build Docker images that can be destroyed and recreated/replaced automatically or with minimal configuration.\n",
    "\n",
    "Which means that you should create Dockerfiles that define stateless images. Any state, should be kept outside of your containers."
   ]
  },
  {
   "cell_type": "markdown",
   "metadata": {},
   "source": [
    "### One container should have one concern\n",
    "\n",
    "Think of containers as entities that take responsibility for one aspect of your project. So design your application in a way that your web server, database, in-memory cache and other components have their own dedicated containers.\n",
    "\n",
    "You’ll see the benefits of such a design when scaling your app horizontally. We’ll look into interoperability of containers and container networking in a future tutorial."
   ]
  }
 ],
 "metadata": {
  "kernelspec": {
   "display_name": "Python 3.9.0 64-bit ('3.9.0')",
   "language": "python",
   "name": "python3"
  },
  "language_info": {
   "codemirror_mode": {
    "name": "ipython",
    "version": 3
   },
   "file_extension": ".py",
   "mimetype": "text/x-python",
   "name": "python",
   "nbconvert_exporter": "python",
   "pygments_lexer": "ipython3",
   "version": "3.9.0"
  },
  "vscode": {
   "interpreter": {
    "hash": "49295d7be20e15a65a7ead1eee80289bbf09f3482fe4d303cdf9f84b66666c7d"
   }
  }
 },
 "nbformat": 4,
 "nbformat_minor": 2
}
