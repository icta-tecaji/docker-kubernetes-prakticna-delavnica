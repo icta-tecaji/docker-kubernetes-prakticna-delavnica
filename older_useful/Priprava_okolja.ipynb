{
 "cells": [
  {
   "cell_type": "markdown",
   "metadata": {},
   "source": [
    "# Priprava okolja"
   ]
  },
  {
   "cell_type": "markdown",
   "metadata": {},
   "source": [
    "Terminal, zmanjšaj hostname: `PS1='\\u:\\W$ '`"
   ]
  },
  {
   "cell_type": "markdown",
   "metadata": {},
   "source": [
    "## Google Compute Engine (GCE)"
   ]
  },
  {
   "cell_type": "markdown",
   "metadata": {},
   "source": [
    "### Create a GCE Account"
   ]
  },
  {
   "cell_type": "markdown",
   "metadata": {},
   "source": [
    "<p>A Google Cloud Platform account is required for this course. You can use an existing GCP account or <a target=\"_blank\" href=\"https://console.cloud.google.com/freetrial\">sign up for a new one</a> with a valid Gmail account.</p>"
   ]
  },
  {
   "cell_type": "markdown",
   "metadata": {},
   "source": [
    "A credit card is required for Google Cloud Platform, but there is no subscription cost, you pay only for resources you use."
   ]
  },
  {
   "cell_type": "markdown",
   "metadata": {},
   "source": [
    "### Create a Project"
   ]
  },
  {
   "cell_type": "markdown",
   "metadata": {},
   "source": [
    "A GCP project is required for this course. You can use an existing GCP project or create a new one.\n",
    "\n",
    "Your project name maybe different from your project id."
   ]
  },
  {
   "cell_type": "markdown",
   "metadata": {},
   "source": [
    "### Enable Compute Engine and Container Engine APIs"
   ]
  },
  {
   "cell_type": "markdown",
   "metadata": {},
   "source": [
    "In order to create the cloud resources required by this workshop, you will need to enable the following APIs using the Google API Console:\n",
    "- Compute Engine API\n",
    "- Container Engine API"
   ]
  },
  {
   "cell_type": "markdown",
   "metadata": {},
   "source": [
    "### Enable and explore Cloud Shell"
   ]
  },
  {
   "cell_type": "markdown",
   "metadata": {},
   "source": [
    "Google Cloud Shell provides you with command-line access to computing resources hosted on Google Cloud Platform and is available now in the Google Cloud Platform Console. Cloud Shell makes it easy for you to manage your Cloud Platform Console projects and resources without having to install the Google Cloud SDK and other tools on your system. With Cloud Shell, the Cloud SDK gcloud command and other utilities you need are always available when you need them."
   ]
  },
  {
   "cell_type": "markdown",
   "metadata": {},
   "source": [
    "- [Google Cloud Shell documentation](https://cloud.google.com/shell/docs)\n",
    "- [Google Cloud Shell getting started guide :](https://classroom.udacity.com/courses/ud615/lessons/7826112332/concepts/81473137730923)\n",
    "    - Preview and deploy a Kubernetes Engine application\n",
    "    - Preview and deploy an App Engine application\n",
    "    - Running gcloud commands with Cloud Shell"
   ]
  },
  {
   "cell_type": "markdown",
   "metadata": {},
   "source": [
    "### [Install the latest Cloud SDK version](https://cloud.google.com/sdk/docs#install_the_latest_cloud_sdk_version)"
   ]
  },
  {
   "cell_type": "markdown",
   "metadata": {},
   "source": [
    "1. Ustvarimo projekt na Google Cloud\n",
    "2. Namestimo Google SDK: https://cloud.google.com/sdk/docs/quickstart-debian-ubuntu\n",
    "    - `gcloud init --console-only`\n",
    "    - Izberemo račun in projekt\n",
    "    - Izberemo zone:  ` europe-west3-a`"
   ]
  },
  {
   "cell_type": "markdown",
   "metadata": {},
   "source": [
    "3. [Accessing Cloud Shell from the command line](https://cloud.google.com/shell/docs/accessing-cloud-shell-with-gcloud)\n",
    "    - `gcloud alpha cloud-shell ssh`"
   ]
  },
  {
   "cell_type": "markdown",
   "metadata": {},
   "source": [
    "### Ustavrimo virtulako "
   ]
  },
  {
   "cell_type": "markdown",
   "metadata": {},
   "source": [
    "- VM Instances -> Create New Instance\n",
    "- Izberemo regijo `europe-west3-a`\n",
    "- Tip: `e2-medium`\n",
    "- Allow HTTP traffic\n",
    "- `gcloud compute instances list`"
   ]
  },
  {
   "cell_type": "markdown",
   "metadata": {},
   "source": [
    "Povezava: `gcloud compute ssh <IME>`"
   ]
  },
  {
   "cell_type": "markdown",
   "metadata": {},
   "source": [
    "### Git clone"
   ]
  },
  {
   "cell_type": "markdown",
   "metadata": {},
   "source": [
    "    git clone https://github.com/leon11s/docker-k8s-public.git"
   ]
  },
  {
   "cell_type": "markdown",
   "metadata": {},
   "source": [
    "### VS Code"
   ]
  },
  {
   "cell_type": "markdown",
   "metadata": {},
   "source": [
    "Dodamo ključ iz windowsa med autorizirane ključe in se povežemo na virtualko."
   ]
  },
  {
   "cell_type": "code",
   "execution_count": null,
   "metadata": {},
   "outputs": [],
   "source": []
  },
  {
   "cell_type": "code",
   "execution_count": null,
   "metadata": {},
   "outputs": [],
   "source": []
  },
  {
   "cell_type": "markdown",
   "metadata": {},
   "source": [
    "# AWS"
   ]
  },
  {
   "cell_type": "markdown",
   "metadata": {},
   "source": [
    "## Plume - korak 1: Povezava na SSH virtualko"
   ]
  },
  {
   "cell_type": "markdown",
   "metadata": {},
   "source": [
    "Open an SSH client.\n",
    "Locate your private key file. The key used to launch this instance is plumetest.pem\n",
    "\n",
    "Run this command, if necessary, to ensure your key is not publicly viewable (Linux).\n",
    "- `chmod 400 plumetest.pem`\n",
    "\n",
    "Connect to your instance `sing its Public DNS:\n",
    "- `ec2-3-127-245-150.eu-central-1.compute.amazonaws.com`\n",
    "\n",
    "Example:\n",
    "- `ssh -i plumetest.pem ubuntu@ec2-3-127-245-150.eu-central-1.compute.amazonaws.com`"
   ]
  },
  {
   "cell_type": "markdown",
   "metadata": {},
   "source": [
    "## Plume - korak 2: git in VS Code"
   ]
  },
  {
   "cell_type": "markdown",
   "metadata": {},
   "source": [
    "Prenesemo gradiva: `git clone https://github.com/leon11s/docker-k8s-public`"
   ]
  },
  {
   "cell_type": "markdown",
   "metadata": {},
   "source": [
    "VS Code:\n",
    "- Dodamo SSH public ključ naše naprave med avtorizirane ključe na virtualki.\n",
    "- Vnesemo: `ssh ubuntu@ec2-18-185-137-243.eu-central-1.compute.amazonaws.com`\n",
    "- Odpremo želeno mapo"
   ]
  },
  {
   "cell_type": "markdown",
   "metadata": {},
   "source": [
    "## Plume - korak 3: Kubernetes"
   ]
  },
  {
   "cell_type": "markdown",
   "metadata": {},
   "source": [
    "#### Namestimo AWS CLI."
   ]
  },
  {
   "cell_type": "markdown",
   "metadata": {},
   "source": [
    "https://docs.aws.amazon.com/cli/latest/userguide/install-cliv2-linux.html"
   ]
  },
  {
   "cell_type": "markdown",
   "metadata": {},
   "source": [
    "Prenesejo skripto `install_env.sh`\n",
    "\n",
    "Dodajo pravice: `chmod +x install_env.sh`\n",
    "    \n",
    "Zaženejo: `./install_env.sh`"
   ]
  },
  {
   "cell_type": "markdown",
   "metadata": {},
   "source": [
    "Skripta:"
   ]
  },
  {
   "cell_type": "markdown",
   "metadata": {},
   "source": [
    "```bash\n",
    "#!/bin/bash\n",
    "\n",
    "echo \"Getting data from git...\"\n",
    "git clone https://github.com/leon11s/docker-k8s-public.git\n",
    "\n",
    "echo \"Installing Docker\"\n",
    "sudo apt-get update\n",
    "\n",
    "sudo apt-get install \\\n",
    "    apt-transport-https \\\n",
    "    ca-certificates \\\n",
    "    curl \\\n",
    "    gnupg-agent \\\n",
    "    software-properties-common\n",
    "\n",
    "curl -fsSL https://download.docker.com/linux/ubuntu/gpg | sudo apt-key add -\n",
    "\n",
    "sudo add-apt-repository \\\n",
    "   \"deb [arch=amd64] https://download.docker.com/linux/ubuntu \\\n",
    "   $(lsb_release -cs) \\\n",
    "   stable\"\n",
    "\n",
    "sudo apt-get update\n",
    "sudo apt-get install -y docker-ce docker-ce-cli containerd.io\n",
    "\n",
    "\n",
    "echo \"Installing Compose\"\n",
    "sudo curl -L \"https://github.com/docker/compose/releases/download/1.27.3/docker-compose-$(uname -s)-$(uname -m)\" -o /usr/local/bin/docker-compose\n",
    "sudo chmod +x /usr/local/bin/docker-compose\n",
    "\n",
    "echo \"Installing AWS CLI...\"\n",
    "curl \"https://awscli.amazonaws.com/awscli-exe-linux-x86_64.zip\" -o \"awscliv2.zip\"\n",
    "sudo apt install unzip -y\n",
    "unzip awscliv2.zip\n",
    "sudo ./aws/install --update\n",
    "rm -r awscliv2.zip aws\n",
    "\n",
    "sudo systemctl enable docker\n",
    "sudo groupadd docker\n",
    "sudo usermod -aG docker $USER\n",
    "newgrp docker\n",
    "```"
   ]
  },
  {
   "cell_type": "markdown",
   "metadata": {},
   "source": [
    "#### Prijava v AWS CLI"
   ]
  },
  {
   "cell_type": "markdown",
   "metadata": {},
   "source": [
    "https://docs.aws.amazon.com/cli/latest/userguide/cli-configure-quickstart.html"
   ]
  },
  {
   "cell_type": "markdown",
   "metadata": {},
   "source": [
    "    aws configure"
   ]
  },
  {
   "cell_type": "markdown",
   "metadata": {},
   "source": [
    "Vstavimo ID in Key za račun v katerega uporabljajo. Credenetiale dobijo na mailu."
   ]
  },
  {
   "cell_type": "markdown",
   "metadata": {},
   "source": [
    "Region: `eu-central-1`\n",
    "\n",
    "Format: `json`"
   ]
  },
  {
   "cell_type": "markdown",
   "metadata": {},
   "source": [
    "Preverimo indentiteto: ` aws sts get-caller-identity`"
   ]
  },
  {
   "cell_type": "markdown",
   "metadata": {},
   "source": [
    "#### Namestitev in prijava v kubectl"
   ]
  },
  {
   "cell_type": "markdown",
   "metadata": {},
   "source": [
    "Prenesejo skripto `k8s_setup.sh`\n",
    "\n",
    "Dodajo pravice: `chmod +x k8s_setup.sh`\n",
    "    \n",
    "Zaženejo: `./k8s_setup.sh`"
   ]
  },
  {
   "cell_type": "markdown",
   "metadata": {},
   "source": [
    "Skripta:"
   ]
  },
  {
   "cell_type": "markdown",
   "metadata": {},
   "source": [
    "```bash\n",
    "#!/bin/bash\n",
    "\n",
    "echo \"Instaling kubectl...\"\n",
    "sudo apt-get update && sudo apt-get install -y apt-transport-https gnupg2\n",
    "curl -s https://packages.cloud.google.com/apt/doc/apt-key.gpg | sudo apt-key add -\n",
    "echo \"deb https://apt.kubernetes.io/ kubernetes-xenial main\" | sudo tee -a /etc/apt/sources.list.d/kubernetes.list\n",
    "sudo apt-get update\n",
    "sudo apt-get install -y kubectl\n",
    "\n",
    "echo 'source <(kubectl completion bash)' >>~/.bashrc\n",
    "\n",
    "\n",
    "echo \"Enter username: \"\n",
    "read USER\n",
    "\n",
    "mkdir ~/.kube\n",
    "CONFIG_FILE=~/.kube/config\n",
    "\n",
    "echo \"Editing config file...\"\n",
    "cat > ${CONFIG_FILE} <<EOL\n",
    "apiVersion: v1\n",
    "clusters:\n",
    "- cluster:\n",
    "    certificate-authority-data: LS0tLS1CRUdJTiBDRVJUSUZJQ0FURS0tLS0tCk1JSUN5RENDQWJDZ0F3SUJBZ0lCQURBTkJna3Foa2lHOXcwQkFRc0ZBREFWTVJNd0VRWURWUVFERXdwcmRXSmwKY201bGRHVnpNQjRYRFRJd01Ea3dNekl4TVRFME0xb1hEVE13TURrd01USXhNVEUwTTFvd0ZURVRNQkVHQTFVRQpBeE1LYTNWaVpYSnVaWFJsY3pDQ0FTSXdEUVlKS29aSWh2Y05BUUVCQlFBRGdnRVBBRENDQVFvQ2dnRUJBTER1CmNSVWplSzI4US92NWNaemdNWnJGZjhPWS82VnBKaVFsazNsSEp0UEp2SUpSbWgvTEdsNHBFd2o1aHVFUTNPT3UKSjhEQjR3N3BBSElkUVB3QXdnWVQrMFpocnFpMzFTWVA4WWJXZ2hSRU15Nzdic2VUc2k3ZmRJbDQxbVhkbWg2TgpCbjJZSDB6YXpDcUFhU0t1K1RRdklNNlp2d2JTaHp1VFBWUUptTVVyQ2kvRUJkWXprb1ZrUG9pSVZpT2JPdU8rCld3OW9oODVFWmFBeFhnekdDTFNDbWlacEJyRnhsRE1XemZuQlBFSFFmRDg3Q0hLVlNhRFBVVU5obmtpaDIweTkKcFlScG43cEVZMUJCWXRpYU5HMnAvbkQxYmxldkJwR3FRS1BGRFdoV3V3WTNLZUpqTEdGMzM1N1JEV3ZVaUh5VgoxYnlDSU1YV0RyUmhweTBEVEpNQ0F3RUFBYU1qTUNFd0RnWURWUjBQQVFIL0JBUURBZ0trTUE4R0ExVWRFd0VCCi93UUZNQU1CQWY4d0RRWUpLb1pJaHZjTkFRRUxCUUFEZ2dFQkFIZkhPWHpqVmhSMU12QTFrNjYzOXplRFBGMmUKY2FnSEREc1RhSjJ5UStKNmt3RVh2Y3YrTit4K01qUW9aaW0vTFBlajF6UEJKd2xqQ0hKQmp4T2VRT0pxd0lkUApOVjY2Tmp3cUdOckFrMFdGcnhKaGdxdUJVcHFNemw1bGsrcm5VMmYyTjZiZ1ZxOEhEMEpwZVoxWHlYUjdScDYyClJwT1krQ1hwMEI2VHFTaU0wTVhJL2tBNnI4REFreUhNMHBidlF5VjU2RllQTnk2MmdNTDlyTjRlTEFSSTRMUEYKNHdYNzdzSllZNHU1TDZobkx4Sit3cGZkOGs5U2xZMUpTTmh5R0RGSGdFK2dxTENHNjFUUSsvbThCMmpzNUxSbgp5ZnRGcW1tdmRSenVrWUpRV3BnLy8zWmJMY0dKcFR5UlFaUER0cXhmM1Yvay92dnJpUDgxU0MzaFNIUT0KLS0tLS1FTkQgQ0VSVElGSUNBVEUtLS0tLQo=\n",
    "    server: https://196F2E96E3480B39865CA04FD3ABA680.gr7.eu-central-1.eks.amazonaws.com\n",
    "  name: arn:aws:eks:eu-central-1:641659091182:cluster/icta-plume\n",
    "contexts:\n",
    "- context:\n",
    "    cluster: arn:aws:eks:eu-central-1:641659091182:cluster/icta-plume\n",
    "    namespace: ${USER}\n",
    "    user: arn:aws:eks:eu-central-1:641659091182:cluster/icta-plume\n",
    "  name: arn:aws:eks:eu-central-1:641659091182:cluster/icta-plume\n",
    "current-context: arn:aws:eks:eu-central-1:641659091182:cluster/icta-plume\n",
    "kind: Config\n",
    "preferences: {}\n",
    "users:\n",
    "- name: arn:aws:eks:eu-central-1:641659091182:cluster/icta-plume\n",
    "  user:\n",
    "    exec:\n",
    "      apiVersion: client.authentication.k8s.io/v1alpha1\n",
    "      args:\n",
    "      - --region\n",
    "      - eu-central-1\n",
    "      - eks\n",
    "      - get-token\n",
    "      - --cluster-name\n",
    "      - icta-plume\n",
    "      - --role-arn\n",
    "      - arn:aws:iam::641659091182:role/eks-role-${USER}\n",
    "      command: aws\n",
    "      env: null\n",
    "\n",
    "EOL\n",
    "```"
   ]
  },
  {
   "cell_type": "code",
   "execution_count": null,
   "metadata": {},
   "outputs": [],
   "source": []
  },
  {
   "cell_type": "code",
   "execution_count": null,
   "metadata": {},
   "outputs": [],
   "source": []
  },
  {
   "cell_type": "code",
   "execution_count": null,
   "metadata": {},
   "outputs": [],
   "source": []
  },
  {
   "cell_type": "markdown",
   "metadata": {},
   "source": [
    "# Priprava Kubernetes za userje"
   ]
  },
  {
   "cell_type": "markdown",
   "metadata": {},
   "source": [
    "### Admin"
   ]
  },
  {
   "cell_type": "markdown",
   "metadata": {},
   "source": [
    "Pripravljeno po navodilih: https://aws.amazon.com/premiumsupport/knowledge-center/eks-iam-permissions-namespaces/"
   ]
  },
  {
   "cell_type": "markdown",
   "metadata": {},
   "source": [
    "- Ustvarimo uporabnika plume-01"
   ]
  },
  {
   "cell_type": "markdown",
   "metadata": {},
   "source": [
    "- Ustvarimo IAM role, kateremu damo pravico userja, ki želimo, da upravlja z njim"
   ]
  },
  {
   "cell_type": "markdown",
   "metadata": {},
   "source": [
    "    Pod trusted relationship:\n",
    "    \n",
    "    {\n",
    "      \"Version\": \"2012-10-17\",\n",
    "      \"Statement\": [\n",
    "        {\n",
    "          \"Effect\": \"Allow\",\n",
    "          \"Principal\": {\n",
    "            \"AWS\": \"arn:aws:iam::641659091182:user/plume-01\"\n",
    "          },\n",
    "          \"Action\": \"sts:AssumeRole\"\n",
    "        }\n",
    "      ]\n",
    "    }"
   ]
  },
  {
   "cell_type": "code",
   "execution_count": null,
   "metadata": {},
   "outputs": [],
   "source": []
  },
  {
   "cell_type": "markdown",
   "metadata": {},
   "source": [
    "    aws iam create-role --role-name Test-Role --assume-role-policy-document trusted_role_test.json --profile administrator"
   ]
  },
  {
   "cell_type": "markdown",
   "metadata": {},
   "source": [
    "https://docs.aws.amazon.com/eks/latest/userguide/create-kubeconfig.html"
   ]
  },
  {
   "cell_type": "code",
   "execution_count": null,
   "metadata": {},
   "outputs": [],
   "source": []
  },
  {
   "cell_type": "code",
   "execution_count": null,
   "metadata": {},
   "outputs": [],
   "source": []
  },
  {
   "cell_type": "code",
   "execution_count": null,
   "metadata": {},
   "outputs": [],
   "source": []
  },
  {
   "cell_type": "markdown",
   "metadata": {},
   "source": [
    "- Ustvarimo namespace: `kubectl create namespace plume-01`"
   ]
  },
  {
   "cell_type": "code",
   "execution_count": null,
   "metadata": {},
   "outputs": [],
   "source": []
  },
  {
   "cell_type": "code",
   "execution_count": null,
   "metadata": {},
   "outputs": [],
   "source": []
  },
  {
   "cell_type": "code",
   "execution_count": null,
   "metadata": {},
   "outputs": [],
   "source": []
  },
  {
   "cell_type": "code",
   "execution_count": null,
   "metadata": {},
   "outputs": [],
   "source": []
  },
  {
   "cell_type": "markdown",
   "metadata": {},
   "source": [
    "```bash\n",
    "#!/bin/bash\n",
    "\n",
    "#VARIABLES\n",
    "CLUSTER_NAME=icta-plume\n",
    "ACCOUNT=641659091182\n",
    "GROUP_NAME=PlumeUsers\n",
    "\n",
    "echo \"Enter username: \"\n",
    "read USER\n",
    "echo \"Strting script for user $USER\"\n",
    "\n",
    "# Creating user on AWS\n",
    "aws iam create-user --user-name ${USER} --profile administrator\n",
    "aws iam add-user-to-group --user-name ${USER} --group-name ${GROUP_NAME} --profile administrator\n",
    "aws iam create-access-key --user-name ${USER} --profile administrator > credentials-${USER}.json\n",
    "\n",
    "\n",
    "echo \"Creating AWS role\"\n",
    "cat > temp_role.json <<EOL\n",
    "{\"Version\":\"2012-10-17\",\"Statement\":[{\"Effect\":\"Allow\",\"Principal\":{\"AWS\":\"arn:aws:iam::641659091182:user/${USER}\"},\"Action\":\"sts:AssumeRole\"}]}\n",
    "EOL\n",
    "\n",
    "aws iam create-role --role-name eks-role-${USER} --assume-role-policy-document file://temp_role.json --profile administrator\n",
    "\n",
    "rm temp_role.json\n",
    "\n",
    "FILE_NAME_ROLE=role-$USER.yaml\n",
    "FILE_NAME_ROLEBINDING=rolebinding-$USER.yaml\n",
    "\n",
    "rm ${FILE_NAME_ROLE}\n",
    "rm ${FILE_NAME_ROLEBINDING}\n",
    "\n",
    "echo \"Creating namespace $USER\"\n",
    "kubectl create namespace ${USER}\n",
    "\n",
    "echo \"Creating role file\"\n",
    "cat > ${FILE_NAME_ROLE} <<EOL\n",
    "kind: Role\n",
    "apiVersion: rbac.authorization.k8s.io/v1beta1\n",
    "metadata:\n",
    "  name: k8s-${USER}-role\n",
    "  namespace: ${USER}\n",
    "rules:\n",
    "  - apiGroups:\n",
    "      - \"\"\n",
    "      - \"apps\"\n",
    "      - \"batch\"\n",
    "      - \"extensions\"\n",
    "    resources:\n",
    "      - \"configmaps\"\n",
    "      - \"cronjobs\"\n",
    "      - \"deployments\"\n",
    "      - \"events\"\n",
    "      - \"ingresses\"\n",
    "      - \"jobs\"\n",
    "      - \"pods\"\n",
    "      - \"pods/attach\"\n",
    "      - \"pods/exec\"\n",
    "      - \"pods/log\"\n",
    "      - \"pods/portforward\"\n",
    "      - \"secrets\"\n",
    "      - \"services\"\n",
    "      - \"replicationcontrollers\"\n",
    "      - \"replicationcontrollers/scale\"\n",
    "      - \"replicasets\"\n",
    "      - \"daemonsets\"\n",
    "      - \"endpoints\"\n",
    "      - \"statefulsets\"\n",
    "      - \"horizontalpodautoscalers\"\n",
    "      - \"lables\"\n",
    "      - \"annotations\"\n",
    "    verbs:\n",
    "      - \"create\"\n",
    "      - \"delete\"\n",
    "      - \"describe\"\n",
    "      - \"get\"\n",
    "      - \"list\"\n",
    "      - \"patch\"\n",
    "      - \"update\"\n",
    "\n",
    "EOL\n",
    "\n",
    "kubectl apply -f ${FILE_NAME_ROLE}\n",
    "\n",
    "\n",
    "echo \"Creating rolebinding file\"\n",
    "cat > ${FILE_NAME_ROLEBINDING} <<EOL\n",
    "kind: RoleBinding\n",
    "apiVersion: rbac.authorization.k8s.io/v1beta1\n",
    "metadata:\n",
    "  name: k8s-${USER}-rolebinding\n",
    "  namespace: ${USER}\n",
    "subjects:\n",
    "- kind: User\n",
    "  name: k8s-${USER}-user\n",
    "roleRef:\n",
    "  kind: Role\n",
    "  name: k8s-${USER}-role\n",
    "  apiGroup: rbac.authorization.k8s.io\n",
    "\n",
    "EOL\n",
    "\n",
    "kubectl apply -f ${FILE_NAME_ROLEBINDING}\n",
    "\n",
    "eksctl create iamidentitymapping --cluster ${CLUSTER_NAME} --arn arn:aws:iam::${ACCOUNT}:role/eks-role-${USER} --username  k8s-${USER}-user\n",
    "```"
   ]
  },
  {
   "cell_type": "code",
   "execution_count": null,
   "metadata": {},
   "outputs": [],
   "source": []
  },
  {
   "cell_type": "code",
   "execution_count": null,
   "metadata": {},
   "outputs": [],
   "source": []
  },
  {
   "cell_type": "markdown",
   "metadata": {},
   "source": [
    "Namestijo elk-cli"
   ]
  },
  {
   "cell_type": "markdown",
   "metadata": {},
   "source": [
    "    curl --silent --location \"https://github.com/weaveworks/eksctl/releases/latest/download/eksctl_$(uname -s)_amd64.tar.gz\" | tar xz -C /tmp\n",
    "    sudo mv /tmp/eksctl /usr/local/bin\n",
    "    eksctl version"
   ]
  },
  {
   "cell_type": "code",
   "execution_count": null,
   "metadata": {},
   "outputs": [],
   "source": []
  },
  {
   "cell_type": "markdown",
   "metadata": {},
   "source": [
    "### Userji"
   ]
  },
  {
   "cell_type": "code",
   "execution_count": null,
   "metadata": {},
   "outputs": [],
   "source": []
  },
  {
   "cell_type": "markdown",
   "metadata": {},
   "source": [
    "- Skopirajo kubeconfig file\n",
    "- V file vključijo\n",
    "\n",
    "      - --role-arn\n",
    "      - arn:aws:iam::641659091182:role/eks-role-plume-01"
   ]
  },
  {
   "cell_type": "markdown",
   "metadata": {},
   "source": [
    "    kubectl config set-context --current --namespace=plume-01"
   ]
  },
  {
   "cell_type": "code",
   "execution_count": null,
   "metadata": {},
   "outputs": [],
   "source": []
  },
  {
   "cell_type": "code",
   "execution_count": null,
   "metadata": {},
   "outputs": [],
   "source": []
  },
  {
   "cell_type": "code",
   "execution_count": null,
   "metadata": {},
   "outputs": [],
   "source": []
  },
  {
   "cell_type": "code",
   "execution_count": null,
   "metadata": {},
   "outputs": [],
   "source": []
  },
  {
   "cell_type": "code",
   "execution_count": null,
   "metadata": {},
   "outputs": [],
   "source": [
    "echo 'export KUBECONFIG=$KUBECONFIG:~/.kube/config-devel' >> ~/.bashrc"
   ]
  },
  {
   "cell_type": "code",
   "execution_count": null,
   "metadata": {},
   "outputs": [],
   "source": []
  },
  {
   "cell_type": "code",
   "execution_count": null,
   "metadata": {},
   "outputs": [],
   "source": []
  },
  {
   "cell_type": "code",
   "execution_count": null,
   "metadata": {},
   "outputs": [],
   "source": []
  },
  {
   "cell_type": "markdown",
   "metadata": {},
   "source": [
    "## Users"
   ]
  },
  {
   "cell_type": "markdown",
   "metadata": {},
   "source": [
    "     **root** |**Administrators**|**Instructors**\n",
    "\n",
    "    leon-ltfe |\n",
    "              | Administrator |\n",
    "                              | - instructor-leon\n",
    "                                - instructor-dejan\n"
   ]
  },
  {
   "cell_type": "markdown",
   "metadata": {},
   "source": [
    "### Dostop do CLI terminala"
   ]
  },
  {
   "cell_type": "markdown",
   "metadata": {},
   "source": [
    "### Ustvarimo plume uporabniške račune"
   ]
  },
  {
   "cell_type": "markdown",
   "metadata": {},
   "source": [
    "## Virtualka"
   ]
  },
  {
   "cell_type": "markdown",
   "metadata": {},
   "source": [
    "- Install the AWS CLI\n",
    "- Configure your AWS CLI credentials\n",
    "- Install and configure kubectl"
   ]
  },
  {
   "cell_type": "markdown",
   "metadata": {},
   "source": [
    "Virtualko uporabljajo kot dev okolje in v njo namestijo vse potrebno, tudi `kubectl`."
   ]
  },
  {
   "cell_type": "markdown",
   "metadata": {},
   "source": [
    "## Kubernetes"
   ]
  },
  {
   "cell_type": "markdown",
   "metadata": {},
   "source": [
    "### Create cluster"
   ]
  },
  {
   "cell_type": "markdown",
   "metadata": {},
   "source": [
    "https://docs.aws.amazon.com/eks/latest/userguide/getting-started-console.html"
   ]
  },
  {
   "cell_type": "markdown",
   "metadata": {},
   "source": [
    "- Create your Amazon EKS cluster IAM role\n",
    "- Create your Amazon EKS cluster\n",
    "- Create a kubeconfig file\n",
    "    - `aws eks --region eu-central-1 update-kubeconfig --name icta-plume`\n",
    "    - `kubectl get svc`"
   ]
  },
  {
   "cell_type": "markdown",
   "metadata": {},
   "source": [
    "- Create compute"
   ]
  },
  {
   "cell_type": "markdown",
   "metadata": {},
   "source": [
    "- `kubectl get nodes --watch`"
   ]
  },
  {
   "cell_type": "markdown",
   "metadata": {},
   "source": [
    "### Terminal "
   ]
  },
  {
   "cell_type": "markdown",
   "metadata": {},
   "source": [
    "### Mi"
   ]
  },
  {
   "cell_type": "markdown",
   "metadata": {},
   "source": [
    "https://docs.aws.amazon.com/eks/latest/userguide/add-user-role.html"
   ]
  },
  {
   "cell_type": "code",
   "execution_count": null,
   "metadata": {},
   "outputs": [],
   "source": []
  },
  {
   "cell_type": "code",
   "execution_count": null,
   "metadata": {},
   "outputs": [],
   "source": []
  },
  {
   "cell_type": "markdown",
   "metadata": {},
   "source": [
    "### Oni\n",
    "\n",
    "Konfiguracija CLI"
   ]
  },
  {
   "cell_type": "markdown",
   "metadata": {},
   "source": [
    "    aws configure"
   ]
  },
  {
   "cell_type": "code",
   "execution_count": null,
   "metadata": {},
   "outputs": [],
   "source": []
  },
  {
   "cell_type": "code",
   "execution_count": null,
   "metadata": {},
   "outputs": [],
   "source": []
  },
  {
   "cell_type": "code",
   "execution_count": null,
   "metadata": {},
   "outputs": [],
   "source": []
  },
  {
   "cell_type": "code",
   "execution_count": null,
   "metadata": {},
   "outputs": [],
   "source": []
  },
  {
   "cell_type": "code",
   "execution_count": null,
   "metadata": {},
   "outputs": [],
   "source": []
  },
  {
   "cell_type": "code",
   "execution_count": null,
   "metadata": {},
   "outputs": [],
   "source": []
  },
  {
   "cell_type": "code",
   "execution_count": null,
   "metadata": {},
   "outputs": [],
   "source": [
    "https://aws.amazon.com/premiumsupport/knowledge-center/eks-iam-permissions-namespaces/"
   ]
  }
 ],
 "metadata": {
  "kernelspec": {
   "display_name": "Python 3",
   "language": "python",
   "name": "python3"
  },
  "language_info": {
   "codemirror_mode": {
    "name": "ipython",
    "version": 3
   },
   "file_extension": ".py",
   "mimetype": "text/x-python",
   "name": "python",
   "nbconvert_exporter": "python",
   "pygments_lexer": "ipython3",
   "version": "3.8.5"
  }
 },
 "nbformat": 4,
 "nbformat_minor": 2
}
