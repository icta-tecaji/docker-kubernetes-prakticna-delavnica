{
 "cells": [
  {
   "cell_type": "markdown",
   "metadata": {},
   "source": [
    "## Setting up a Kubernetes cluster - Google Cloud"
   ]
  },
  {
   "cell_type": "markdown",
   "metadata": {},
   "source": [
    "Before you can set up a new Kubernetes cluster, you need to set up your GKE environment. Because the process may change, I’m not listing the exact instructions here. To get started, please follow the instructions at https://cloud.google.com/container-engine/docs/before-you-begin.\n",
    "\n",
    "Roughly, the whole procedure includes\n",
    "- Signing up for a Google account, in the unlikely case you don’t have one already.\n",
    "- Creating a project in the Google Cloud Platform Console.\n",
    "- Enabling billing. This does require your credit card info, but Google provides a 12-month free trial. And they’re nice enough to not start charging automatically after the free trial is over.)\n",
    "- Enabling the Kubernetes Engine API.\n",
    "- Downloading and installing Google Cloud SDK. (This includes the gcloud command-line tool, which you’ll need to create a Kubernetes cluster.)\n",
    "- Installing the kubectl command-line tool with gcloud components install kubectl."
   ]
  },
  {
   "cell_type": "markdown",
   "metadata": {},
   "source": [
    "- Nadzorna plošča -> Create cluster (zonal)\n",
    "- Izberemo pravilno regijo\n",
    "- Verzija: `1.16.13-gke.1`\n",
    "- Dodamo node\n",
    "- Zaženemo cluster"
   ]
  },
  {
   "cell_type": "markdown",
   "metadata": {},
   "source": [
    "### Configuring cluster access for kubectl"
   ]
  },
  {
   "cell_type": "markdown",
   "metadata": {},
   "source": [
    "Na remote virtualki (jo ustavimo):\n",
    "- EDIT -> Access scopes -> Allow full access to all Cloud APIs\n",
    "- SAVE -> prižgemo virtualko\n",
    "\n",
    "#### Install kubectl using native package management \n",
    "\n",
    "    sudo apt-get update && sudo apt-get install -y apt-transport-https gnupg2\n",
    "    curl -s https://packages.cloud.google.com/apt/doc/apt-key.gpg | sudo apt-key add -\n",
    "    echo \"deb https://apt.kubernetes.io/ kubernetes-xenial main\" | sudo tee -a /etc/apt/sources.list.d/kubernetes.list\n",
    "    sudo apt-get update\n",
    "    sudo apt-get install -y kubectl\n",
    "   \n",
    "- `gcloud compute ssh docker-icta`\n",
    "- `gcloud container clusters get-credentials icta2 --zone europe-west3-a`\n",
    "\n",
    "   "
   ]
  },
  {
   "cell_type": "markdown",
   "metadata": {},
   "source": [
    "\n"
   ]
  },
  {
   "cell_type": "markdown",
   "metadata": {},
   "source": [
    "#### Enable kubectl autocompletion"
   ]
  },
  {
   "cell_type": "markdown",
   "metadata": {},
   "source": [
    "    echo 'source <(kubectl completion bash)' >>~/.bashrc"
   ]
  },
  {
   "cell_type": "markdown",
   "metadata": {},
   "source": [
    "> Se odjavimo in ponovno prijavimo"
   ]
  },
  {
   "cell_type": "markdown",
   "metadata": {},
   "source": [
    "**Checking to see the cluster is up and kubectl can talk to it**"
   ]
  },
  {
   "cell_type": "markdown",
   "metadata": {},
   "source": [
    "**Getting an overview of your cluster**"
   ]
  },
  {
   "cell_type": "markdown",
   "metadata": {},
   "source": [
    "> TIP: You can log into one of the nodes with `gcloud compute ssh <node-name>` to explore what’s running on the node."
   ]
  },
  {
   "cell_type": "markdown",
   "metadata": {},
   "source": [
    "**Retrieving additional details of an object**"
   ]
  },
  {
   "cell_type": "markdown",
   "metadata": {},
   "source": [
    "To see more detailed information about an object, you can use the kubectl describe command, which shows much more:"
   ]
  },
  {
   "cell_type": "markdown",
   "metadata": {},
   "source": [
    "    kubectl describe node gke-kubia-85f6-node-0rrx"
   ]
  },
  {
   "cell_type": "markdown",
   "metadata": {},
   "source": [
    "I’m omitting the actual output of the describe command, because it’s fairly wide and would be completely unreadable here in the book. The output shows the node’s status, its CPU and memory data, system information, containers running on the node, and much more.\n",
    "\n",
    "In the previous kubectl describe example, you specified the name of the node explicitly, but you could also have performed a simple kubectl describe node without typing the node’s name and it would print out a detailed description of all the nodes."
   ]
  },
  {
   "cell_type": "markdown",
   "metadata": {},
   "source": [
    "> TIP: Running the describe and get commands without specifying the name of the object comes in handy when only one object of a given type exists, so you don’t waste time typing or copy/pasting the object’s name."
   ]
  },
  {
   "cell_type": "markdown",
   "metadata": {},
   "source": [
    "While we’re talking about reducing keystrokes, let me give you additional advice on how to make working with kubectl much easier, before we move on to running your first app in Kubernetes."
   ]
  },
  {
   "cell_type": "markdown",
   "metadata": {},
   "source": [
    "### Setting up an alias and command-line completion for kubectl"
   ]
  },
  {
   "cell_type": "markdown",
   "metadata": {},
   "source": [
    "You’ll use kubectl often. You’ll soon realize that having to type the full command every time is a real pain. Before you continue, take a minute to make your life easier by setting up an alias and tab completion for kubectl.\n",
    "\n",
    "**Creating an alias**\n",
    " \n",
    "Throughout the book, I’ll always be using the full name of the kubectl executable, but you may want to add a short alias such as k, so you won’t have to type kubectl every time. If you haven’t used aliases yet, here’s how you define one. Add the following line to your ~/.bashrc or equivalent file:"
   ]
  },
  {
   "cell_type": "markdown",
   "metadata": {},
   "source": [
    "    alias k=kubectl"
   ]
  },
  {
   "cell_type": "markdown",
   "metadata": {},
   "source": [
    "Autocompletition:\n",
    "    \n",
    "    source <(kubectl completion bash | sed s/kubectl/k/g)"
   ]
  }
 ],
 "metadata": {
  "kernelspec": {
   "display_name": "Python 3.9.0 64-bit ('3.9.0')",
   "language": "python",
   "name": "python3"
  },
  "language_info": {
   "codemirror_mode": {
    "name": "ipython",
    "version": 3
   },
   "file_extension": ".py",
   "mimetype": "text/x-python",
   "name": "python",
   "nbconvert_exporter": "python",
   "pygments_lexer": "ipython3",
   "version": "3.9.0"
  },
  "vscode": {
   "interpreter": {
    "hash": "49295d7be20e15a65a7ead1eee80289bbf09f3482fe4d303cdf9f84b66666c7d"
   }
  }
 },
 "nbformat": 4,
 "nbformat_minor": 2
}
